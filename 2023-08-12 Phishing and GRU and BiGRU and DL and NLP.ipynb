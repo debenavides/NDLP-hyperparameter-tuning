{
 "cells": [
  {
   "cell_type": "markdown",
   "metadata": {
    "colab_type": "text",
    "id": "view-in-github"
   },
   "source": [
    "<a href=\"https://colab.research.google.com/github/akritidu/Multi-label-Classification-in-the-Home-Improvement/blob/main/LSTM_Bi_LSTM_GRU_Bi_GRU.ipynb\" target=\"_parent\"><img src=\"https://colab.research.google.com/assets/colab-badge.svg\" alt=\"Open In Colab\"/></a>"
   ]
  },
  {
   "cell_type": "code",
   "execution_count": 1,
   "metadata": {
    "id": "jiThwmlfRC_w"
   },
   "outputs": [],
   "source": [
    "from numpy import array\n",
    "from tensorflow.keras import Sequential\n",
    "from tensorflow.keras.layers import Activation, Dropout, Dense\n",
    "from tensorflow.keras.layers import Flatten, LSTM, GRU, Bidirectional, GlobalAveragePooling1D\n",
    "from tensorflow.keras.layers import GlobalMaxPooling1D, SpatialDropout1D, GlobalMaxPool1D, BatchNormalization\n",
    "from tensorflow.keras.models import Model\n",
    "from tensorflow.keras.layers import Embedding\n",
    "from sklearn.model_selection import train_test_split\n",
    "from tensorflow.keras.preprocessing.text import Tokenizer\n",
    "from tensorflow.keras.layers import Input\n",
    "from tensorflow.keras.layers import Concatenate\n",
    "\n",
    "import pandas as pd\n",
    "import numpy as np\n",
    "import re\n",
    "\n",
    "import matplotlib.pyplot as plt"
   ]
  },
  {
   "cell_type": "code",
   "execution_count": 2,
   "metadata": {},
   "outputs": [],
   "source": [
    "df = pd.read_csv('Phishload3columnasV3sinNaN.csv') #actual\n"
   ]
  },
  {
   "cell_type": "code",
   "execution_count": 4,
   "metadata": {},
   "outputs": [
    {
     "data": {
      "text/plain": [
       "(10374, 3)"
      ]
     },
     "execution_count": 4,
     "metadata": {},
     "output_type": "execute_result"
    }
   ],
   "source": [
    "df.shape"
   ]
  },
  {
   "cell_type": "code",
   "execution_count": 4,
   "metadata": {
    "scrolled": true
   },
   "outputs": [],
   "source": [
    "train_df = df"
   ]
  },
  {
   "cell_type": "code",
   "execution_count": 5,
   "metadata": {
    "scrolled": false
   },
   "outputs": [
    {
     "data": {
      "text/html": [
       "<div>\n",
       "<style scoped>\n",
       "    .dataframe tbody tr th:only-of-type {\n",
       "        vertical-align: middle;\n",
       "    }\n",
       "\n",
       "    .dataframe tbody tr th {\n",
       "        vertical-align: top;\n",
       "    }\n",
       "\n",
       "    .dataframe thead th {\n",
       "        text-align: right;\n",
       "    }\n",
       "</style>\n",
       "<table border=\"1\" class=\"dataframe\">\n",
       "  <thead>\n",
       "    <tr style=\"text-align: right;\">\n",
       "      <th></th>\n",
       "      <th>contexts</th>\n",
       "      <th>ham</th>\n",
       "      <th>phishing</th>\n",
       "    </tr>\n",
       "  </thead>\n",
       "  <tbody>\n",
       "    <tr>\n",
       "      <th>0</th>\n",
       "      <td>&lt;!DOCTYPE html&gt;\\r\\n&lt;html xmlns=\"http://www.w3....</td>\n",
       "      <td>1</td>\n",
       "      <td>0</td>\n",
       "    </tr>\n",
       "    <tr>\n",
       "      <th>1</th>\n",
       "      <td>&lt;!DOCTYPE html&gt;\\r\\n&lt;html xmlns=\"http://www.w3....</td>\n",
       "      <td>1</td>\n",
       "      <td>0</td>\n",
       "    </tr>\n",
       "    <tr>\n",
       "      <th>2</th>\n",
       "      <td>&lt;!DOCTYPE html&gt;\\r\\n&lt;html xmlns=\"http://www.w3....</td>\n",
       "      <td>1</td>\n",
       "      <td>0</td>\n",
       "    </tr>\n",
       "    <tr>\n",
       "      <th>3</th>\n",
       "      <td>&lt;!DOCTYPE html&gt;\\r\\n&lt;html xmlns=\"http://www.w3....</td>\n",
       "      <td>1</td>\n",
       "      <td>0</td>\n",
       "    </tr>\n",
       "    <tr>\n",
       "      <th>4</th>\n",
       "      <td>&lt;!DOCTYPE html&gt;\\r\\n&lt;html xmlns=\"http://www.w3....</td>\n",
       "      <td>1</td>\n",
       "      <td>0</td>\n",
       "    </tr>\n",
       "    <tr>\n",
       "      <th>5</th>\n",
       "      <td>&lt;!DOCTYPE html&gt;\\r\\n&lt;!-- Sysops: Please do not ...</td>\n",
       "      <td>1</td>\n",
       "      <td>0</td>\n",
       "    </tr>\n",
       "    <tr>\n",
       "      <th>6</th>\n",
       "      <td>&lt;!-- ServerInfo: BAYIDSLGN1M58 2012.01.05.13.5...</td>\n",
       "      <td>1</td>\n",
       "      <td>0</td>\n",
       "    </tr>\n",
       "    <tr>\n",
       "      <th>7</th>\n",
       "      <td>&lt;!DOCTYPE html&gt;\\r\\n&lt;html xmlns=\"http://www.w3....</td>\n",
       "      <td>1</td>\n",
       "      <td>0</td>\n",
       "    </tr>\n",
       "    <tr>\n",
       "      <th>8</th>\n",
       "      <td>&lt;!DOCTYPE html&gt;\\r\\n&lt;html xmlns=\"http://www.w3....</td>\n",
       "      <td>1</td>\n",
       "      <td>0</td>\n",
       "    </tr>\n",
       "    <tr>\n",
       "      <th>9</th>\n",
       "      <td>&lt;!DOCTYPE html PUBLIC \"-//W3C//DTD XHTML 1.0 T...</td>\n",
       "      <td>1</td>\n",
       "      <td>0</td>\n",
       "    </tr>\n",
       "    <tr>\n",
       "      <th>10</th>\n",
       "      <td>&lt;!DOCTYPE html PUBLIC \"-//W3C//DTD HTML 4.01 T...</td>\n",
       "      <td>1</td>\n",
       "      <td>0</td>\n",
       "    </tr>\n",
       "    <tr>\n",
       "      <th>11</th>\n",
       "      <td>&lt;!DOCTYPE html&gt;\\r\\n&lt;html xmlns=\"http://www.w3....</td>\n",
       "      <td>1</td>\n",
       "      <td>0</td>\n",
       "    </tr>\n",
       "    <tr>\n",
       "      <th>12</th>\n",
       "      <td>&lt;!DOCTYPE html&gt;\\r\\n&lt;html xmlns=\"http://www.w3....</td>\n",
       "      <td>1</td>\n",
       "      <td>0</td>\n",
       "    </tr>\n",
       "    <tr>\n",
       "      <th>13</th>\n",
       "      <td>&lt;!DOCTYPE html PUBLIC \"-//W3C//DTD XHTML 1.0 S...</td>\n",
       "      <td>1</td>\n",
       "      <td>0</td>\n",
       "    </tr>\n",
       "    <tr>\n",
       "      <th>14</th>\n",
       "      <td>&lt;!DOCTYPE html&gt;\\r\\n&lt;html xmlns=\"http://www.w3....</td>\n",
       "      <td>1</td>\n",
       "      <td>0</td>\n",
       "    </tr>\n",
       "    <tr>\n",
       "      <th>15</th>\n",
       "      <td>&lt;!DOCTYPE html PUBLIC \"-//W3C//DTD HTML 4.01 T...</td>\n",
       "      <td>1</td>\n",
       "      <td>0</td>\n",
       "    </tr>\n",
       "    <tr>\n",
       "      <th>16</th>\n",
       "      <td>&lt;!DOCTYPE html PUBLIC \"-//W3C//DTD XHTML 1.0 T...</td>\n",
       "      <td>1</td>\n",
       "      <td>0</td>\n",
       "    </tr>\n",
       "    <tr>\n",
       "      <th>17</th>\n",
       "      <td>&lt;!DOCTYPE html PUBLIC \"-//W3C//DTD XHTML 1.0 T...</td>\n",
       "      <td>1</td>\n",
       "      <td>0</td>\n",
       "    </tr>\n",
       "    <tr>\n",
       "      <th>18</th>\n",
       "      <td>&lt;!DOCTYPE html&gt;\\r\\n&lt;html xmlns=\"http://www.w3....</td>\n",
       "      <td>1</td>\n",
       "      <td>0</td>\n",
       "    </tr>\n",
       "    <tr>\n",
       "      <th>19</th>\n",
       "      <td>&lt;!DOCTYPE html&gt;\\r\\n&lt;html xmlns=\"http://www.w3....</td>\n",
       "      <td>1</td>\n",
       "      <td>0</td>\n",
       "    </tr>\n",
       "    <tr>\n",
       "      <th>20</th>\n",
       "      <td>&lt;!DOCTYPE html PUBLIC \"-//W3C//DTD HTML 4.01 T...</td>\n",
       "      <td>1</td>\n",
       "      <td>0</td>\n",
       "    </tr>\n",
       "    <tr>\n",
       "      <th>21</th>\n",
       "      <td>&lt;!DOCTYPE html&gt;\\r\\n&lt;html xmlns=\"http://www.w3....</td>\n",
       "      <td>1</td>\n",
       "      <td>0</td>\n",
       "    </tr>\n",
       "    <tr>\n",
       "      <th>22</th>\n",
       "      <td>&lt;!DOCTYPE html PUBLIC \"-//W3C//DTD HTML 4.01 T...</td>\n",
       "      <td>1</td>\n",
       "      <td>0</td>\n",
       "    </tr>\n",
       "    <tr>\n",
       "      <th>23</th>\n",
       "      <td>&lt;!DOCTYPE html&gt;\\r\\n&lt;html xmlns=\"http://www.w3....</td>\n",
       "      <td>1</td>\n",
       "      <td>0</td>\n",
       "    </tr>\n",
       "    <tr>\n",
       "      <th>24</th>\n",
       "      <td>&lt;!DOCTYPE html PUBLIC \"-//W3C//DTD XHTML 1.0 T...</td>\n",
       "      <td>1</td>\n",
       "      <td>0</td>\n",
       "    </tr>\n",
       "    <tr>\n",
       "      <th>25</th>\n",
       "      <td>&lt;!DOCTYPE html&gt;\\r\\n&lt;html xmlns=\"http://www.w3....</td>\n",
       "      <td>1</td>\n",
       "      <td>0</td>\n",
       "    </tr>\n",
       "    <tr>\n",
       "      <th>26</th>\n",
       "      <td>&lt;!DOCTYPE html PUBLIC \"-//W3C//DTD XHTML 1.0 T...</td>\n",
       "      <td>1</td>\n",
       "      <td>0</td>\n",
       "    </tr>\n",
       "    <tr>\n",
       "      <th>27</th>\n",
       "      <td>&lt;!DOCTYPE html&gt;\\r\\n&lt;html xmlns=\"http://www.w3....</td>\n",
       "      <td>1</td>\n",
       "      <td>0</td>\n",
       "    </tr>\n",
       "    <tr>\n",
       "      <th>28</th>\n",
       "      <td>&lt;!DOCTYPE html PUBLIC \"-//W3C//DTD XHTML 1.1//...</td>\n",
       "      <td>1</td>\n",
       "      <td>0</td>\n",
       "    </tr>\n",
       "    <tr>\n",
       "      <th>29</th>\n",
       "      <td>&lt;!DOCTYPE html PUBLIC \"-//W3C//DTD XHTML 1.0 T...</td>\n",
       "      <td>1</td>\n",
       "      <td>0</td>\n",
       "    </tr>\n",
       "    <tr>\n",
       "      <th>...</th>\n",
       "      <td>...</td>\n",
       "      <td>...</td>\n",
       "      <td>...</td>\n",
       "    </tr>\n",
       "    <tr>\n",
       "      <th>10344</th>\n",
       "      <td>&lt;!DOCTYPE html PUBLIC \"-//W3C//DTD XHTML 1.0 T...</td>\n",
       "      <td>1</td>\n",
       "      <td>0</td>\n",
       "    </tr>\n",
       "    <tr>\n",
       "      <th>10345</th>\n",
       "      <td>&lt;!DOCTYPE html PUBLIC \"-//W3C//DTD XHTML 1.0 T...</td>\n",
       "      <td>1</td>\n",
       "      <td>0</td>\n",
       "    </tr>\n",
       "    <tr>\n",
       "      <th>10346</th>\n",
       "      <td>&lt;!DOCTYPE html PUBLIC \"-//W3C//DTD XHTML 1.0 T...</td>\n",
       "      <td>1</td>\n",
       "      <td>0</td>\n",
       "    </tr>\n",
       "    <tr>\n",
       "      <th>10347</th>\n",
       "      <td>&lt;!DOCTYPE html PUBLIC \"-//W3C//DTD XHTML 1.0 T...</td>\n",
       "      <td>1</td>\n",
       "      <td>0</td>\n",
       "    </tr>\n",
       "    <tr>\n",
       "      <th>10348</th>\n",
       "      <td>&lt;!DOCTYPE html PUBLIC \"-//W3C//DTD XHTML 1.0 S...</td>\n",
       "      <td>1</td>\n",
       "      <td>0</td>\n",
       "    </tr>\n",
       "    <tr>\n",
       "      <th>10349</th>\n",
       "      <td>\\r\\n\\r\\n&lt;!DOCTYPE html PUBLIC \"-//W3C//DTD XHT...</td>\n",
       "      <td>1</td>\n",
       "      <td>0</td>\n",
       "    </tr>\n",
       "    <tr>\n",
       "      <th>10350</th>\n",
       "      <td>\\r\\n&lt;HTML&gt;\\r\\n&lt;HEAD&gt;\\r\\n&lt;link rel=\"shortcut ic...</td>\n",
       "      <td>1</td>\n",
       "      <td>0</td>\n",
       "    </tr>\n",
       "    <tr>\n",
       "      <th>10351</th>\n",
       "      <td>&lt;!DOCTYPE html&gt;\\n\\t&lt;html xml:lang=\"en\" lang=\"e...</td>\n",
       "      <td>1</td>\n",
       "      <td>0</td>\n",
       "    </tr>\n",
       "    <tr>\n",
       "      <th>10352</th>\n",
       "      <td>\\n&lt;!DOCTYPE html PUBLIC \"-//W3C//DTD XHTML 1.0...</td>\n",
       "      <td>1</td>\n",
       "      <td>0</td>\n",
       "    </tr>\n",
       "    <tr>\n",
       "      <th>10353</th>\n",
       "      <td>&lt;!DOCTYPE html PUBLIC \"-//W3C//DTD XHTML 1.0 S...</td>\n",
       "      <td>1</td>\n",
       "      <td>0</td>\n",
       "    </tr>\n",
       "    <tr>\n",
       "      <th>10354</th>\n",
       "      <td>&lt;!DOCTYPE HTML PUBLIC \"-//W3C//DTD HTML 4.01 T...</td>\n",
       "      <td>1</td>\n",
       "      <td>0</td>\n",
       "    </tr>\n",
       "    <tr>\n",
       "      <th>10355</th>\n",
       "      <td>&lt;h1&gt;Bad Request (Invalid URL)&lt;/h1&gt;</td>\n",
       "      <td>1</td>\n",
       "      <td>0</td>\n",
       "    </tr>\n",
       "    <tr>\n",
       "      <th>10356</th>\n",
       "      <td>\\n\\n\\n\\n\\n&lt;html&gt;\\n\\t&lt;head&gt;\\n\\t\\t&lt;title&gt;Optimum...</td>\n",
       "      <td>1</td>\n",
       "      <td>0</td>\n",
       "    </tr>\n",
       "    <tr>\n",
       "      <th>10357</th>\n",
       "      <td>&lt;!DOCTYPE html PUBLIC \"-//W3C//DTD XHTML 1.0 T...</td>\n",
       "      <td>1</td>\n",
       "      <td>0</td>\n",
       "    </tr>\n",
       "    <tr>\n",
       "      <th>10358</th>\n",
       "      <td>&lt;!DOCTYPE html PUBLIC \"-//W3C//DTD HTML 4.01 T...</td>\n",
       "      <td>1</td>\n",
       "      <td>0</td>\n",
       "    </tr>\n",
       "    <tr>\n",
       "      <th>10359</th>\n",
       "      <td>\\n\\n\\n\\n&lt;!DOCTYPE html PUBLIC \\\"-//W3C//DTD XH...</td>\n",
       "      <td>1</td>\n",
       "      <td>0</td>\n",
       "    </tr>\n",
       "    <tr>\n",
       "      <th>10360</th>\n",
       "      <td>&lt;!DOCTYPE html PUBLIC \"-//W3C//DTD XHTML 1.0 T...</td>\n",
       "      <td>1</td>\n",
       "      <td>0</td>\n",
       "    </tr>\n",
       "    <tr>\n",
       "      <th>10361</th>\n",
       "      <td>&lt;!DOCTYPE HTML PUBLIC \"-//W3C//DTD HTML 4.01 T...</td>\n",
       "      <td>1</td>\n",
       "      <td>0</td>\n",
       "    </tr>\n",
       "    <tr>\n",
       "      <th>10362</th>\n",
       "      <td>\\r\\n\\r\\n\\r\\n\\r\\n\\r\\n\\r\\n\\n\\n&lt;!DOCTYPE HTML PUB...</td>\n",
       "      <td>1</td>\n",
       "      <td>0</td>\n",
       "    </tr>\n",
       "    <tr>\n",
       "      <th>10363</th>\n",
       "      <td>\\r\\n\\r\\n&lt;!--[if IE]&gt;&lt;![endif]--&gt;\\r\\n&lt;!doctype ...</td>\n",
       "      <td>1</td>\n",
       "      <td>0</td>\n",
       "    </tr>\n",
       "    <tr>\n",
       "      <th>10364</th>\n",
       "      <td>\\r\\n\\r\\n\\r\\n\\r\\n\\r\\n\\r\\n\\r\\n\\r\\n\\r\\n\\r\\n\\r\\n\\r...</td>\n",
       "      <td>1</td>\n",
       "      <td>0</td>\n",
       "    </tr>\n",
       "    <tr>\n",
       "      <th>10365</th>\n",
       "      <td>\\r\\n      \\r\\n&lt;!DOCTYPE HTML PUBLIC \"-//W3C//D...</td>\n",
       "      <td>1</td>\n",
       "      <td>0</td>\n",
       "    </tr>\n",
       "    <tr>\n",
       "      <th>10366</th>\n",
       "      <td>\\r\\n&lt;!DOCTYPE html PUBLIC \"-//W3C//DTD XHTML 1...</td>\n",
       "      <td>1</td>\n",
       "      <td>0</td>\n",
       "    </tr>\n",
       "    <tr>\n",
       "      <th>10367</th>\n",
       "      <td>&lt;!DOCTYPE html PUBLIC \"-//W3C//DTD XHT...</td>\n",
       "      <td>1</td>\n",
       "      <td>0</td>\n",
       "    </tr>\n",
       "    <tr>\n",
       "      <th>10368</th>\n",
       "      <td>\\r\\n&lt;!DOCTYPE HTML PUBLIC \"-//W3C//DTD HTML 4....</td>\n",
       "      <td>1</td>\n",
       "      <td>0</td>\n",
       "    </tr>\n",
       "    <tr>\n",
       "      <th>10369</th>\n",
       "      <td>\\r\\n\\r\\n&lt;!DOCTYPE html PUBLIC \"-//W3C//DTD XHT...</td>\n",
       "      <td>1</td>\n",
       "      <td>0</td>\n",
       "    </tr>\n",
       "    <tr>\n",
       "      <th>10370</th>\n",
       "      <td>\\r\\n\\r\\n&lt;!DOCTYPE HTML PUBLIC \"-//W3C//DTD HTM...</td>\n",
       "      <td>1</td>\n",
       "      <td>0</td>\n",
       "    </tr>\n",
       "    <tr>\n",
       "      <th>10371</th>\n",
       "      <td>\\r\\n\\r\\n&lt;!DOCTYPE html PUBLIC \"-//W3C//DTD XHT...</td>\n",
       "      <td>1</td>\n",
       "      <td>0</td>\n",
       "    </tr>\n",
       "    <tr>\n",
       "      <th>10372</th>\n",
       "      <td>\\r\\n&lt;!DOCTYPE HTML PUBLIC \"-//W3C//DTD HTML 4....</td>\n",
       "      <td>1</td>\n",
       "      <td>0</td>\n",
       "    </tr>\n",
       "    <tr>\n",
       "      <th>10373</th>\n",
       "      <td>&lt;!DOCTYPE html PUBLIC \"-//W3C//DTD XHTML 1.0 T...</td>\n",
       "      <td>1</td>\n",
       "      <td>0</td>\n",
       "    </tr>\n",
       "  </tbody>\n",
       "</table>\n",
       "<p>10374 rows × 3 columns</p>\n",
       "</div>"
      ],
      "text/plain": [
       "                                                contexts  ham  phishing\n",
       "0      <!DOCTYPE html>\\r\\n<html xmlns=\"http://www.w3....    1         0\n",
       "1      <!DOCTYPE html>\\r\\n<html xmlns=\"http://www.w3....    1         0\n",
       "2      <!DOCTYPE html>\\r\\n<html xmlns=\"http://www.w3....    1         0\n",
       "3      <!DOCTYPE html>\\r\\n<html xmlns=\"http://www.w3....    1         0\n",
       "4      <!DOCTYPE html>\\r\\n<html xmlns=\"http://www.w3....    1         0\n",
       "5      <!DOCTYPE html>\\r\\n<!-- Sysops: Please do not ...    1         0\n",
       "6      <!-- ServerInfo: BAYIDSLGN1M58 2012.01.05.13.5...    1         0\n",
       "7      <!DOCTYPE html>\\r\\n<html xmlns=\"http://www.w3....    1         0\n",
       "8      <!DOCTYPE html>\\r\\n<html xmlns=\"http://www.w3....    1         0\n",
       "9      <!DOCTYPE html PUBLIC \"-//W3C//DTD XHTML 1.0 T...    1         0\n",
       "10     <!DOCTYPE html PUBLIC \"-//W3C//DTD HTML 4.01 T...    1         0\n",
       "11     <!DOCTYPE html>\\r\\n<html xmlns=\"http://www.w3....    1         0\n",
       "12     <!DOCTYPE html>\\r\\n<html xmlns=\"http://www.w3....    1         0\n",
       "13     <!DOCTYPE html PUBLIC \"-//W3C//DTD XHTML 1.0 S...    1         0\n",
       "14     <!DOCTYPE html>\\r\\n<html xmlns=\"http://www.w3....    1         0\n",
       "15     <!DOCTYPE html PUBLIC \"-//W3C//DTD HTML 4.01 T...    1         0\n",
       "16     <!DOCTYPE html PUBLIC \"-//W3C//DTD XHTML 1.0 T...    1         0\n",
       "17     <!DOCTYPE html PUBLIC \"-//W3C//DTD XHTML 1.0 T...    1         0\n",
       "18     <!DOCTYPE html>\\r\\n<html xmlns=\"http://www.w3....    1         0\n",
       "19     <!DOCTYPE html>\\r\\n<html xmlns=\"http://www.w3....    1         0\n",
       "20     <!DOCTYPE html PUBLIC \"-//W3C//DTD HTML 4.01 T...    1         0\n",
       "21     <!DOCTYPE html>\\r\\n<html xmlns=\"http://www.w3....    1         0\n",
       "22     <!DOCTYPE html PUBLIC \"-//W3C//DTD HTML 4.01 T...    1         0\n",
       "23     <!DOCTYPE html>\\r\\n<html xmlns=\"http://www.w3....    1         0\n",
       "24     <!DOCTYPE html PUBLIC \"-//W3C//DTD XHTML 1.0 T...    1         0\n",
       "25     <!DOCTYPE html>\\r\\n<html xmlns=\"http://www.w3....    1         0\n",
       "26     <!DOCTYPE html PUBLIC \"-//W3C//DTD XHTML 1.0 T...    1         0\n",
       "27     <!DOCTYPE html>\\r\\n<html xmlns=\"http://www.w3....    1         0\n",
       "28     <!DOCTYPE html PUBLIC \"-//W3C//DTD XHTML 1.1//...    1         0\n",
       "29     <!DOCTYPE html PUBLIC \"-//W3C//DTD XHTML 1.0 T...    1         0\n",
       "...                                                  ...  ...       ...\n",
       "10344  <!DOCTYPE html PUBLIC \"-//W3C//DTD XHTML 1.0 T...    1         0\n",
       "10345  <!DOCTYPE html PUBLIC \"-//W3C//DTD XHTML 1.0 T...    1         0\n",
       "10346  <!DOCTYPE html PUBLIC \"-//W3C//DTD XHTML 1.0 T...    1         0\n",
       "10347  <!DOCTYPE html PUBLIC \"-//W3C//DTD XHTML 1.0 T...    1         0\n",
       "10348  <!DOCTYPE html PUBLIC \"-//W3C//DTD XHTML 1.0 S...    1         0\n",
       "10349  \\r\\n\\r\\n<!DOCTYPE html PUBLIC \"-//W3C//DTD XHT...    1         0\n",
       "10350  \\r\\n<HTML>\\r\\n<HEAD>\\r\\n<link rel=\"shortcut ic...    1         0\n",
       "10351  <!DOCTYPE html>\\n\\t<html xml:lang=\"en\" lang=\"e...    1         0\n",
       "10352  \\n<!DOCTYPE html PUBLIC \"-//W3C//DTD XHTML 1.0...    1         0\n",
       "10353  <!DOCTYPE html PUBLIC \"-//W3C//DTD XHTML 1.0 S...    1         0\n",
       "10354  <!DOCTYPE HTML PUBLIC \"-//W3C//DTD HTML 4.01 T...    1         0\n",
       "10355                 <h1>Bad Request (Invalid URL)</h1>    1         0\n",
       "10356  \\n\\n\\n\\n\\n<html>\\n\\t<head>\\n\\t\\t<title>Optimum...    1         0\n",
       "10357  <!DOCTYPE html PUBLIC \"-//W3C//DTD XHTML 1.0 T...    1         0\n",
       "10358  <!DOCTYPE html PUBLIC \"-//W3C//DTD HTML 4.01 T...    1         0\n",
       "10359  \\n\\n\\n\\n<!DOCTYPE html PUBLIC \\\"-//W3C//DTD XH...    1         0\n",
       "10360  <!DOCTYPE html PUBLIC \"-//W3C//DTD XHTML 1.0 T...    1         0\n",
       "10361  <!DOCTYPE HTML PUBLIC \"-//W3C//DTD HTML 4.01 T...    1         0\n",
       "10362  \\r\\n\\r\\n\\r\\n\\r\\n\\r\\n\\r\\n\\n\\n<!DOCTYPE HTML PUB...    1         0\n",
       "10363  \\r\\n\\r\\n<!--[if IE]><![endif]-->\\r\\n<!doctype ...    1         0\n",
       "10364  \\r\\n\\r\\n\\r\\n\\r\\n\\r\\n\\r\\n\\r\\n\\r\\n\\r\\n\\r\\n\\r\\n\\r...    1         0\n",
       "10365  \\r\\n      \\r\\n<!DOCTYPE HTML PUBLIC \"-//W3C//D...    1         0\n",
       "10366  \\r\\n<!DOCTYPE html PUBLIC \"-//W3C//DTD XHTML 1...    1         0\n",
       "10367          <!DOCTYPE html PUBLIC \"-//W3C//DTD XHT...    1         0\n",
       "10368  \\r\\n<!DOCTYPE HTML PUBLIC \"-//W3C//DTD HTML 4....    1         0\n",
       "10369  \\r\\n\\r\\n<!DOCTYPE html PUBLIC \"-//W3C//DTD XHT...    1         0\n",
       "10370  \\r\\n\\r\\n<!DOCTYPE HTML PUBLIC \"-//W3C//DTD HTM...    1         0\n",
       "10371  \\r\\n\\r\\n<!DOCTYPE html PUBLIC \"-//W3C//DTD XHT...    1         0\n",
       "10372  \\r\\n<!DOCTYPE HTML PUBLIC \"-//W3C//DTD HTML 4....    1         0\n",
       "10373  <!DOCTYPE html PUBLIC \"-//W3C//DTD XHTML 1.0 T...    1         0\n",
       "\n",
       "[10374 rows x 3 columns]"
      ]
     },
     "execution_count": 5,
     "metadata": {},
     "output_type": "execute_result"
    }
   ],
   "source": [
    "train_df"
   ]
  },
  {
   "cell_type": "code",
   "execution_count": 6,
   "metadata": {
    "scrolled": true
   },
   "outputs": [
    {
     "data": {
      "text/plain": [
       "contexts    object\n",
       "ham          int64\n",
       "phishing     int64\n",
       "dtype: object"
      ]
     },
     "execution_count": 6,
     "metadata": {},
     "output_type": "execute_result"
    }
   ],
   "source": [
    "train_df.dtypes"
   ]
  },
  {
   "cell_type": "code",
   "execution_count": 119,
   "metadata": {},
   "outputs": [
    {
     "name": "stdout",
     "output_type": "stream",
     "text": [
      "12155232\n",
      "10373\n",
      "1171.8145184613902\n"
     ]
    }
   ],
   "source": [
    "n1=0\n",
    "n2=0\n",
    "for i in train_df.index:\n",
    "    n1 = len((train_df.loc[i, 'contexts']).split())\n",
    "    train_df.loc[i, 'nwords'] = n1\n",
    "    n2 = n2 + n1\n",
    "print (n2)\n",
    "print (i)\n",
    "print (n2/i)"
   ]
  },
  {
   "cell_type": "code",
   "execution_count": 120,
   "metadata": {},
   "outputs": [
    {
     "name": "stdout",
     "output_type": "stream",
     "text": [
      "9972\n"
     ]
    }
   ],
   "source": [
    "n1=0\n",
    "n2=0\n",
    "for i in train_df.index:\n",
    "    if train_df.loc[i, 'nwords'] < 6000: \n",
    "#         print (i)\n",
    "        n1 = n1 + 1\n",
    "print (n1)\n"
   ]
  },
  {
   "cell_type": "code",
   "execution_count": 6,
   "metadata": {},
   "outputs": [
    {
     "data": {
      "text/plain": [
       "42.0"
      ]
     },
     "execution_count": 6,
     "metadata": {},
     "output_type": "execute_result"
    }
   ],
   "source": [
    "train_df.loc[5853, 'nwords']"
   ]
  },
  {
   "cell_type": "code",
   "execution_count": 7,
   "metadata": {},
   "outputs": [
    {
     "name": "stdout",
     "output_type": "stream",
     "text": [
      "1176\n"
     ]
    }
   ],
   "source": [
    "listSum = 0\n",
    "for i in range(len(train_df)):\n",
    "     if train_df.ham[i] == 1:\n",
    "        listSum += 1\n",
    "\n",
    "print(listSum)"
   ]
  },
  {
   "cell_type": "code",
   "execution_count": 10,
   "metadata": {},
   "outputs": [
    {
     "data": {
      "text/html": [
       "<div>\n",
       "<style scoped>\n",
       "    .dataframe tbody tr th:only-of-type {\n",
       "        vertical-align: middle;\n",
       "    }\n",
       "\n",
       "    .dataframe tbody tr th {\n",
       "        vertical-align: top;\n",
       "    }\n",
       "\n",
       "    .dataframe thead th {\n",
       "        text-align: right;\n",
       "    }\n",
       "</style>\n",
       "<table border=\"1\" class=\"dataframe\">\n",
       "  <thead>\n",
       "    <tr style=\"text-align: right;\">\n",
       "      <th></th>\n",
       "      <th>ham</th>\n",
       "      <th>phishing</th>\n",
       "    </tr>\n",
       "  </thead>\n",
       "  <tbody>\n",
       "    <tr>\n",
       "      <th>0</th>\n",
       "      <td>1</td>\n",
       "      <td>0</td>\n",
       "    </tr>\n",
       "    <tr>\n",
       "      <th>1</th>\n",
       "      <td>1</td>\n",
       "      <td>0</td>\n",
       "    </tr>\n",
       "    <tr>\n",
       "      <th>2</th>\n",
       "      <td>1</td>\n",
       "      <td>0</td>\n",
       "    </tr>\n",
       "    <tr>\n",
       "      <th>3</th>\n",
       "      <td>1</td>\n",
       "      <td>0</td>\n",
       "    </tr>\n",
       "    <tr>\n",
       "      <th>4</th>\n",
       "      <td>1</td>\n",
       "      <td>0</td>\n",
       "    </tr>\n",
       "  </tbody>\n",
       "</table>\n",
       "</div>"
      ],
      "text/plain": [
       "   ham  phishing\n",
       "0    1         0\n",
       "1    1         0\n",
       "2    1         0\n",
       "3    1         0\n",
       "4    1         0"
      ]
     },
     "execution_count": 10,
     "metadata": {},
     "output_type": "execute_result"
    }
   ],
   "source": [
    "categories = train_df[['ham', 'phishing']]\n",
    "categories.head()"
   ]
  },
  {
   "cell_type": "code",
   "execution_count": 7,
   "metadata": {
    "colab": {
     "base_uri": "https://localhost:8080/"
    },
    "id": "GhZvp8XY9aaB",
    "outputId": "a1f5b3f0-bd92-4c96-83a6-741594557c0f"
   },
   "outputs": [
    {
     "name": "stderr",
     "output_type": "stream",
     "text": [
      "[nltk_data] Downloading package stopwords to /root/nltk_data...\n",
      "[nltk_data]   Package stopwords is already up-to-date!\n",
      "[nltk_data] Downloading package wordnet to /root/nltk_data...\n",
      "[nltk_data]   Package wordnet is already up-to-date!\n",
      "[nltk_data] Downloading package punkt to /root/nltk_data...\n",
      "[nltk_data]   Package punkt is already up-to-date!\n",
      "[nltk_data] Downloading package averaged_perceptron_tagger to\n",
      "[nltk_data]     /root/nltk_data...\n",
      "[nltk_data]   Package averaged_perceptron_tagger is already up-to-\n",
      "[nltk_data]       date!\n"
     ]
    }
   ],
   "source": [
    "from nltk.stem.wordnet import WordNetLemmatizer\n",
    "from nltk import pos_tag\n",
    "from nltk.corpus import wordnet\n",
    "from nltk.corpus import stopwords\n",
    "from nltk.stem.wordnet import WordNetLemmatizer\n",
    "from tensorflow.keras.preprocessing.text import Tokenizer\n",
    "from tensorflow.keras.preprocessing.sequence import pad_sequences\n",
    "import nltk\n",
    "nltk.download('stopwords')\n",
    "nltk.download('wordnet')\n",
    "nltk.download('punkt')\n",
    "nltk.download('averaged_perceptron_tagger')\n",
    "\n",
    "#Lemmatize Words\n",
    "\n",
    "def fetch_pos_tag(tag):\n",
    "    if tag.startswith('J'):\n",
    "        return wordnet.ADJ\n",
    "    elif tag.startswith('V'):\n",
    "        return wordnet.VERB\n",
    "    elif tag.startswith('N'):\n",
    "        return wordnet.NOUN\n",
    "    elif tag.startswith('R'):\n",
    "        return wordnet.ADV\n",
    "    else:\n",
    "        # As default pos in lemmatization is Noun\n",
    "        return wordnet.NOUN\n",
    "\n",
    "lemmatizer = WordNetLemmatizer()\n",
    "\n",
    "#cleaning the data now \n",
    "\n",
    "regex = [\n",
    "    r'<[^>]+>', #HTML tags\n",
    "    r'@(\\w+)', # @-mentions\n",
    "    r\"#(\\w+)\", # hashtags\n",
    "    r'http[s]?://(?:[a-z]|[0-9]|[$-_@.&+]|[!*\\(\\),]|(?:%[0-9a-f][0-9a-f]))+', # URLs\n",
    "    r'[^0-9a-z #+_\\\\r\\\\n\\\\t]', #BAD SYMBOLS\n",
    "]\n",
    "\n",
    "REPLACE_URLS = re.compile(r'http[s]?://(?:[a-z]|[0-9]|[$-_@.&+]|[!*\\(\\),]|(?:%[0-9a-f][0-9a-f]))+')\n",
    "REPLACE_HASH = re.compile(r'#(\\w+)')\n",
    "REPLACE_AT = re.compile(r'@(\\w+)')\n",
    "REPLACE_HTML_TAGS = re.compile(r'<[^>]+>')\n",
    "REPLACE_DIGITS = re.compile(r'\\d+')\n",
    "#REPLACE_BY = re.compile(r\"[/(){}\\[\\]\\|,;.:?\\-\\'\\\"$]\")\n",
    "REPLACE_BY = re.compile(r\"[^a-z0-9\\-]\")\n",
    "\n",
    "STOPWORDS = set(stopwords.words('english'))\n",
    "\n",
    "#tokens_re = re.compile(r'('+'|'.join(regex)+')', re.VERBOSE | re.IGNORECASE)\n",
    "\n",
    "# sentences = [] #for Word2Vec model\n",
    "\n",
    "def clean_text(text):\n",
    "    text = text.lower()\n",
    "    text = REPLACE_HTML_TAGS.sub(' ', text)\n",
    "    text = REPLACE_URLS.sub('', text)\n",
    "    text = REPLACE_HASH.sub('', text)\n",
    "    text = REPLACE_AT.sub('', text)\n",
    "    text = REPLACE_DIGITS.sub(' ', text)\n",
    "    text = REPLACE_BY.sub(' ', text)\n",
    "    \n",
    "    \n",
    "    text = \" \".join(lemmatizer.lemmatize(word.strip(), fetch_pos_tag(pos_tag([word.strip()])[0][1])) for word in text.split() if word not in STOPWORDS and len(word)>3)\n",
    "    \n",
    "    #sentences.append(text.split())\n",
    "    return text\n",
    "\n"
   ]
  },
  {
   "cell_type": "code",
   "execution_count": 8,
   "metadata": {
    "id": "MoFYZG2J-Wh8"
   },
   "outputs": [],
   "source": [
    "train_df['contexts'] = train_df['contexts'].apply(clean_text)"
   ]
  },
  {
   "cell_type": "code",
   "execution_count": 11,
   "metadata": {
    "id": "XhWQqug7A-ER"
   },
   "outputs": [],
   "source": [
    "## for single output layer\n",
    "X  = train_df['contexts'] \n",
    "y = categories.values"
   ]
  },
  {
   "cell_type": "code",
   "execution_count": 12,
   "metadata": {},
   "outputs": [
    {
     "data": {
      "text/plain": [
       "0        google window google bypjtqaxxnab getei functi...\n",
       "1        function envflush function window require requ...\n",
       "2        timing timing timing tick function label time ...\n",
       "3        yahoo deutschland roundtrip rttop number date ...\n",
       "4        html overflow-y auto body font arial text-alig...\n",
       "5        wikipedia unicode-bidi embed white-space nowra...\n",
       "6        dtfirstbyte date meta http-equiv refresh conte...\n",
       "7        blogger erstellen kostenloses blog html body t...\n",
       "8        twitter document domain twitter copy twttr app...\n",
       "9        body margin pad font-size line-height font-fam...\n",
       "10       date image image pkpdm atvpdkikx uedata gatewa...\n",
       "11       window window global webtrack object timing in...\n",
       "12       google window google frjlt dopztiz getei funct...\n",
       "13       deutschland hotmail skype messenger sowie nach...\n",
       "14       window config appid monitor date body font-fam...\n",
       "15       yahoo japan body form fieldset input button bl...\n",
       "16       function padurl location href indexof return i...\n",
       "17       wordpress free blog -page loggedin width displ...\n",
       "18       google window google lljlt ej-ga getei functio...\n",
       "19       google window google hyhs-gay sibda getei func...\n",
       "20       pagehasrtmplacements true ff-left display none...\n",
       "21       google window google rbjlt iznpgg-abd getei fu...\n",
       "22       document documentelement document compatmode c...\n",
       "23       google window google vljlt fjmxsoeoz getei fun...\n",
       "24       cdata date cdata date de-de false eventid serp...\n",
       "25       google window google yrjlt id-wa getei functio...\n",
       "26       config lang severtime token product miniblog p...\n",
       "27       error found margin pad html code font arial sa...\n",
       "28       twitter margin pad border body background colo...\n",
       "29       microsoft corporation software smartphones onl...\n",
       "                               ...                        \n",
       "10344    payment processing transaction merchant servic...\n",
       "10345    online christian date christian single christi...\n",
       "10346                        welcome intercontinental bank\n",
       "10347    wind runcontent runcontent function tclear def...\n",
       "10348                     maybank online financial service\n",
       "10349    contain left background image dian no-repeat l...\n",
       "10350    welcome metrobankdirect document layer documen...\n",
       "10351    rune legacy runescape private server table tab...\n",
       "10352    preleads home home solution testimonial get st...\n",
       "10353                         login access personal detail\n",
       "10354    bank islam internet banking function checkurl ...\n",
       "10355                                      request invalid\n",
       "10356    optimum online sign body font-family verdana a...\n",
       "10357    home recentcomments display inline important p...\n",
       "10358    kijiji sign jsonly display none collapsewithjs...\n",
       "10359    ueinit document backdetect document backdetect...\n",
       "10360    small balance home nbsp nbsp nbsp login user n...\n",
       "10361    wcta welcome parent frame length location repl...\n",
       "10362    haben passwort vergessen width width width dis...\n",
       "10363    enom domain name site host email registration ...\n",
       "10364    bossini reporting system nbsp nbsp nbsp login ...\n",
       "10365    national bank page load window onload function...\n",
       "10366    online document write string fromcharcode scri...\n",
       "10367    sparkasse produkte service ihrer sparkasse pus...\n",
       "10368    comprovante situa cadastral registra input pos...\n",
       "10369    crefisa function abrepopup janela window open ...\n",
       "10370    welcome atbonline business page upgraded produ...\n",
       "10371    window document location href internet browser...\n",
       "10372                                           scam alert\n",
       "10373    portail banque postale popupwidth popupheight ...\n",
       "Name: contexts, Length: 10374, dtype: object"
      ]
     },
     "execution_count": 12,
     "metadata": {},
     "output_type": "execute_result"
    }
   ],
   "source": [
    "X"
   ]
  },
  {
   "cell_type": "code",
   "execution_count": 13,
   "metadata": {},
   "outputs": [
    {
     "data": {
      "text/plain": [
       "array([[1, 0],\n",
       "       [1, 0],\n",
       "       [1, 0],\n",
       "       ...,\n",
       "       [1, 0],\n",
       "       [1, 0],\n",
       "       [1, 0]])"
      ]
     },
     "execution_count": 13,
     "metadata": {},
     "output_type": "execute_result"
    }
   ],
   "source": [
    "y"
   ]
  },
  {
   "cell_type": "code",
   "execution_count": 14,
   "metadata": {
    "id": "QyRxZ2fkWGWY"
   },
   "outputs": [],
   "source": [
    "X_train, X_test, y_train, y_test = train_test_split(X, y, test_size=0.20, random_state=42)\n"
   ]
  },
  {
   "cell_type": "code",
   "execution_count": 15,
   "metadata": {
    "id": "eCmxshAyWHed"
   },
   "outputs": [],
   "source": [
    "\n",
    "tokenizer = Tokenizer(num_words=3000)\n",
    "tokenizer.fit_on_texts(X_train)\n",
    "\n",
    "X_train = tokenizer.texts_to_sequences(X_train)\n",
    "X_test = tokenizer.texts_to_sequences(X_test)\n",
    "\n",
    "vocab_size = len(tokenizer.word_index) + 1\n",
    "\n",
    "maxlen = 200\n",
    "\n",
    "X_train = pad_sequences(X_train, padding='post', maxlen=maxlen)\n",
    "X_test = pad_sequences(X_test, padding='post', maxlen=maxlen)"
   ]
  },
  {
   "cell_type": "code",
   "execution_count": 16,
   "metadata": {
    "id": "DJKa4uVrWLA9"
   },
   "outputs": [],
   "source": [
    "from numpy import array\n",
    "from numpy import asarray\n",
    "from numpy import zeros\n",
    "\n",
    "\n",
    "embeddings_dictionary = dict()\n",
    "\n",
    "glove_file = open(\"../Datasets/glove.6B.100d.txt\", encoding=\"utf-8\")\n",
    "# open(\"glove.6B.50d.txt\", 'r', encoding=\"utf-8\") como f:\n",
    "\n",
    "for line in glove_file:\n",
    "    records = line.split()\n",
    "    word = records[0]\n",
    "    vector_dimensions = asarray(records[1:], dtype='float32')\n",
    "    embeddings_dictionary[word] = vector_dimensions\n",
    "glove_file.close()\n",
    "\n",
    "embedding_matrix = zeros((vocab_size, 100))\n",
    "for word, index in tokenizer.word_index.items():\n",
    "    embedding_vector = embeddings_dictionary.get(word)\n",
    "    if embedding_vector is not None:\n",
    "        embedding_matrix[index] = embedding_vector"
   ]
  },
  {
   "cell_type": "markdown",
   "metadata": {
    "id": "5OE0DxVDCXjh"
   },
   "source": [
    "# **GRU**"
   ]
  },
  {
   "cell_type": "code",
   "execution_count": 17,
   "metadata": {
    "id": "uz1VfljhPQaV"
   },
   "outputs": [],
   "source": [
    "import tensorflow as tf\n",
    "from tensorflow.keras import initializers, regularizers, constraints, optimizers, layers, callbacks\n",
    "from tensorflow.keras.callbacks import EarlyStopping,ModelCheckpoint\n",
    "from tensorflow.keras.preprocessing.text import Tokenizer\n",
    "from tensorflow.keras.preprocessing.sequence import pad_sequences\n",
    "from tensorflow.keras.preprocessing import text, sequence\n",
    "from tensorflow.keras import initializers, regularizers, constraints, optimizers, layers\n",
    "from tensorflow.keras import Model, Input, Sequential\n",
    "from tensorflow.keras.layers import Dense, Input, LSTM, SimpleRNN, Embedding, Dropout, SpatialDropout1D, Activation, Conv1D,GRU\n",
    "from tensorflow.keras.layers import Conv1D, Bidirectional, GlobalMaxPool1D, MaxPooling1D, BatchNormalization, Add, Flatten\n",
    "from tensorflow.keras.layers import GlobalMaxPooling1D, GlobalAveragePooling1D, concatenate, SpatialDropout1D\n",
    "\n"
   ]
  },
  {
   "cell_type": "code",
   "execution_count": 18,
   "metadata": {
    "colab": {
     "base_uri": "https://localhost:8080/"
    },
    "id": "r9lECDd2JT3W",
    "outputId": "45de67ea-7645-49e9-de23-2cfe540bb8bc"
   },
   "outputs": [],
   "source": [
    "deep_inputs = Input(shape=(maxlen,))\n",
    "embedding_layer = Embedding(vocab_size, 100, weights=[embedding_matrix], trainable=False)(deep_inputs )\n",
    "model = SpatialDropout1D(0.2)(embedding_layer)\n",
    "model = GRU(128, return_sequences=True,dropout=0.1,recurrent_dropout=0.1)(model)\n",
    "model = Conv1D(64, kernel_size = 3, padding = \"valid\", kernel_initializer = \"glorot_uniform\")(model)\n",
    "avg_pool = GlobalAveragePooling1D()(model)\n",
    "max_pool = GlobalMaxPooling1D()(model)\n",
    "model = concatenate([avg_pool, max_pool])\n",
    "dense_layer1 = Dense(2, activation=\"sigmoid\")(model)\n",
    "GRU_glove = Model(deep_inputs , dense_layer1)\n",
    "GRU_glove.compile(loss='binary_crossentropy',optimizer='adam',metrics=[tf.keras.metrics.AUC()])"
   ]
  },
  {
   "cell_type": "code",
   "execution_count": 33,
   "metadata": {},
   "outputs": [],
   "source": [
    "deep_inputs = Input(shape=(maxlen,))\n",
    "embedding_layer = Embedding(vocab_size, 100, weights=[embedding_matrix], trainable=False)(deep_inputs )\n",
    "model = SpatialDropout1D(0.2)(embedding_layer)\n",
    "model = GRU(64, return_sequences=True,dropout=0.1,recurrent_dropout=0.1)(model)\n",
    "model = Conv1D(32, kernel_size = 3, padding = \"valid\", kernel_initializer = \"glorot_uniform\")(model)\n",
    "avg_pool = GlobalAveragePooling1D()(model)\n",
    "max_pool = GlobalMaxPooling1D()(model)\n",
    "model = concatenate([avg_pool, max_pool])\n",
    "dense_layer1 = Dense(2, activation=\"sigmoid\")(model)\n",
    "GRU_64 = Model(deep_inputs , dense_layer1)\n",
    "GRU_64.compile(loss='binary_crossentropy',optimizer='adam',metrics=[tf.keras.metrics.AUC()])"
   ]
  },
  {
   "cell_type": "code",
   "execution_count": 34,
   "metadata": {},
   "outputs": [
    {
     "name": "stdout",
     "output_type": "stream",
     "text": [
      "Model: \"functional_1\"\n",
      "__________________________________________________________________________________________________\n",
      "Layer (type)                    Output Shape         Param #     Connected to                     \n",
      "==================================================================================================\n",
      "input_1 (InputLayer)            [(None, 200)]        0                                            \n",
      "__________________________________________________________________________________________________\n",
      "embedding (Embedding)           (None, 200, 100)     14423600    input_1[0][0]                    \n",
      "__________________________________________________________________________________________________\n",
      "spatial_dropout1d (SpatialDropo (None, 200, 100)     0           embedding[0][0]                  \n",
      "__________________________________________________________________________________________________\n",
      "gru (GRU)                       (None, 200, 128)     88320       spatial_dropout1d[0][0]          \n",
      "__________________________________________________________________________________________________\n",
      "conv1d (Conv1D)                 (None, 198, 64)      24640       gru[0][0]                        \n",
      "__________________________________________________________________________________________________\n",
      "global_average_pooling1d (Globa (None, 64)           0           conv1d[0][0]                     \n",
      "__________________________________________________________________________________________________\n",
      "global_max_pooling1d (GlobalMax (None, 64)           0           conv1d[0][0]                     \n",
      "__________________________________________________________________________________________________\n",
      "concatenate (Concatenate)       (None, 128)          0           global_average_pooling1d[0][0]   \n",
      "                                                                 global_max_pooling1d[0][0]       \n",
      "__________________________________________________________________________________________________\n",
      "dense (Dense)                   (None, 2)            258         concatenate[0][0]                \n",
      "==================================================================================================\n",
      "Total params: 14,536,818\n",
      "Trainable params: 113,218\n",
      "Non-trainable params: 14,423,600\n",
      "__________________________________________________________________________________________________\n"
     ]
    }
   ],
   "source": [
    "GRU_glove.summary()"
   ]
  },
  {
   "cell_type": "code",
   "execution_count": 40,
   "metadata": {},
   "outputs": [
    {
     "name": "stdout",
     "output_type": "stream",
     "text": [
      "Epoch 1/20\n",
      "104/104 [==============================] - 22s 214ms/step - loss: 0.0562 - auc_1: 0.9975 - val_loss: 0.1888 - val_auc_1: 0.9819\n",
      "Epoch 2/20\n",
      "104/104 [==============================] - 22s 213ms/step - loss: 0.0565 - auc_1: 0.9975 - val_loss: 0.1743 - val_auc_1: 0.9828\n",
      "Epoch 3/20\n",
      "104/104 [==============================] - 22s 213ms/step - loss: 0.0564 - auc_1: 0.9975 - val_loss: 0.1873 - val_auc_1: 0.9825\n",
      "Epoch 4/20\n",
      "104/104 [==============================] - 22s 213ms/step - loss: 0.0520 - auc_1: 0.9980 - val_loss: 0.1798 - val_auc_1: 0.9836\n",
      "Epoch 5/20\n",
      "104/104 [==============================] - 22s 213ms/step - loss: 0.0457 - auc_1: 0.9985 - val_loss: 0.1875 - val_auc_1: 0.9825\n",
      "Epoch 6/20\n",
      "104/104 [==============================] - 22s 213ms/step - loss: 0.0456 - auc_1: 0.9984 - val_loss: 0.1858 - val_auc_1: 0.9838\n",
      "Epoch 7/20\n",
      "104/104 [==============================] - 22s 213ms/step - loss: 0.0504 - auc_1: 0.9982 - val_loss: 0.2042 - val_auc_1: 0.9768\n",
      "Epoch 8/20\n",
      "104/104 [==============================] - 22s 208ms/step - loss: 0.0495 - auc_1: 0.9982 - val_loss: 0.1735 - val_auc_1: 0.9841\n",
      "Epoch 9/20\n",
      "104/104 [==============================] - 22s 208ms/step - loss: 0.0392 - auc_1: 0.9989 - val_loss: 0.1891 - val_auc_1: 0.9833\n",
      "Epoch 10/20\n",
      "104/104 [==============================] - 22s 209ms/step - loss: 0.0447 - auc_1: 0.9985 - val_loss: 0.1856 - val_auc_1: 0.9819\n",
      "Epoch 11/20\n",
      "104/104 [==============================] - 22s 209ms/step - loss: 0.0396 - auc_1: 0.9987 - val_loss: 0.1910 - val_auc_1: 0.9817\n",
      "Epoch 12/20\n",
      "104/104 [==============================] - 22s 209ms/step - loss: 0.0426 - auc_1: 0.9988 - val_loss: 0.2053 - val_auc_1: 0.9793\n",
      "Epoch 13/20\n",
      "104/104 [==============================] - 22s 208ms/step - loss: 0.0403 - auc_1: 0.9987 - val_loss: 0.1908 - val_auc_1: 0.9817\n",
      "Epoch 14/20\n",
      "104/104 [==============================] - 22s 208ms/step - loss: 0.0389 - auc_1: 0.9987 - val_loss: 0.2181 - val_auc_1: 0.9766\n",
      "Epoch 15/20\n",
      "104/104 [==============================] - 22s 209ms/step - loss: 0.0364 - auc_1: 0.9990 - val_loss: 0.2033 - val_auc_1: 0.9796\n",
      "Epoch 16/20\n",
      "104/104 [==============================] - 22s 209ms/step - loss: 0.0376 - auc_1: 0.9990 - val_loss: 0.2524 - val_auc_1: 0.9746\n",
      "Epoch 17/20\n",
      "104/104 [==============================] - 22s 209ms/step - loss: 0.0372 - auc_1: 0.9985 - val_loss: 0.2031 - val_auc_1: 0.9803\n",
      "Epoch 18/20\n",
      "104/104 [==============================] - 22s 208ms/step - loss: 0.0328 - auc_1: 0.9987 - val_loss: 0.2169 - val_auc_1: 0.9788\n",
      "Epoch 19/20\n",
      "104/104 [==============================] - 22s 209ms/step - loss: 0.0356 - auc_1: 0.9989 - val_loss: 0.2180 - val_auc_1: 0.9791\n",
      "Epoch 20/20\n",
      "104/104 [==============================] - 22s 209ms/step - loss: 0.0398 - auc_1: 0.9986 - val_loss: 0.2782 - val_auc_1: 0.9693\n"
     ]
    }
   ],
   "source": [
    "history_1 = GRU_64.fit(X_train, y_train, batch_size=64, epochs=20, verbose=1, validation_split=0.2)"
   ]
  },
  {
   "cell_type": "code",
   "execution_count": 41,
   "metadata": {},
   "outputs": [
    {
     "name": "stdout",
     "output_type": "stream",
     "text": [
      "260/260 [==============================] - 8s 29ms/step - loss: 0.0784 - auc_1: 0.9937\n",
      "Train Score: 0.07836896181106567\n",
      "Train Accuracy: 0.9936935305595398\n"
     ]
    }
   ],
   "source": [
    "score = GRU_64.evaluate(X_train, y_train, verbose=1)\n",
    "\n",
    "print(\"Train Score:\", score[0])\n",
    "print(\"Train Accuracy:\", score[1])"
   ]
  },
  {
   "cell_type": "code",
   "execution_count": 42,
   "metadata": {},
   "outputs": [
    {
     "name": "stdout",
     "output_type": "stream",
     "text": [
      "65/65 [==============================] - 2s 29ms/step - loss: 0.2989 - auc_1: 0.9693\n",
      "Test Score: 0.2988620400428772\n",
      "Test Accuracy: 0.9692881107330322\n"
     ]
    }
   ],
   "source": [
    "score = GRU_64.evaluate(X_test, y_test, verbose=1)\n",
    "\n",
    "print(\"Test Score:\", score[0])\n",
    "print(\"Test Accuracy:\", score[1])"
   ]
  },
  {
   "cell_type": "code",
   "execution_count": 37,
   "metadata": {},
   "outputs": [
    {
     "name": "stdout",
     "output_type": "stream",
     "text": [
      "260/260 [==============================] - 8s 30ms/step - loss: 0.0884 - auc_1: 0.9942\n",
      "Train Score: 0.08843891322612762\n",
      "Train Accuracy: 0.9941525459289551\n"
     ]
    }
   ],
   "source": [
    "score = GRU_64.evaluate(X_train, y_train, verbose=1)\n",
    "\n",
    "print(\"Train Score:\", score[0])\n",
    "print(\"Train Accuracy:\", score[1])"
   ]
  },
  {
   "cell_type": "code",
   "execution_count": 36,
   "metadata": {},
   "outputs": [
    {
     "name": "stdout",
     "output_type": "stream",
     "text": [
      "65/65 [==============================] - 2s 29ms/step - loss: 0.1715 - auc_1: 0.9829\n",
      "Test Score: 0.171489879488945\n",
      "Test Accuracy: 0.9828838109970093\n"
     ]
    }
   ],
   "source": [
    "score = GRU_64.evaluate(X_test, y_test, verbose=1)\n",
    "\n",
    "print(\"Test Score:\", score[0])\n",
    "print(\"Test Accuracy:\", score[1])"
   ]
  },
  {
   "cell_type": "code",
   "execution_count": 38,
   "metadata": {
    "scrolled": true
   },
   "outputs": [
    {
     "name": "stdout",
     "output_type": "stream",
     "text": [
      "Epoch 1/20\n",
      "52/52 [==============================] - 11s 214ms/step - loss: 0.0902 - auc_1: 0.9944 - val_loss: 0.1749 - val_auc_1: 0.9831\n",
      "Epoch 2/20\n",
      "52/52 [==============================] - 11s 214ms/step - loss: 0.0831 - auc_1: 0.9951 - val_loss: 0.1522 - val_auc_1: 0.9854\n",
      "Epoch 3/20\n",
      "52/52 [==============================] - 11s 214ms/step - loss: 0.0826 - auc_1: 0.9952 - val_loss: 0.1746 - val_auc_1: 0.9822\n",
      "Epoch 4/20\n",
      "52/52 [==============================] - 11s 214ms/step - loss: 0.0801 - auc_1: 0.9955 - val_loss: 0.1611 - val_auc_1: 0.9844\n",
      "Epoch 5/20\n",
      "52/52 [==============================] - 11s 214ms/step - loss: 0.0752 - auc_1: 0.9957 - val_loss: 0.1626 - val_auc_1: 0.9846\n",
      "Epoch 6/20\n",
      "52/52 [==============================] - 11s 214ms/step - loss: 0.0729 - auc_1: 0.9962 - val_loss: 0.1605 - val_auc_1: 0.9848\n",
      "Epoch 7/20\n",
      "52/52 [==============================] - 11s 213ms/step - loss: 0.0730 - auc_1: 0.9962 - val_loss: 0.1605 - val_auc_1: 0.9844\n",
      "Epoch 8/20\n",
      "52/52 [==============================] - 11s 214ms/step - loss: 0.0693 - auc_1: 0.9965 - val_loss: 0.1658 - val_auc_1: 0.9847\n",
      "Epoch 9/20\n",
      "52/52 [==============================] - 11s 213ms/step - loss: 0.0672 - auc_1: 0.9968 - val_loss: 0.1733 - val_auc_1: 0.9842\n",
      "Epoch 10/20\n",
      "52/52 [==============================] - 11s 214ms/step - loss: 0.0686 - auc_1: 0.9965 - val_loss: 0.1620 - val_auc_1: 0.9835\n",
      "Epoch 11/20\n",
      "52/52 [==============================] - 11s 213ms/step - loss: 0.0604 - auc_1: 0.9973 - val_loss: 0.1943 - val_auc_1: 0.9810\n",
      "Epoch 12/20\n",
      "52/52 [==============================] - 11s 214ms/step - loss: 0.0670 - auc_1: 0.9969 - val_loss: 0.1619 - val_auc_1: 0.9841\n",
      "Epoch 13/20\n",
      "52/52 [==============================] - 11s 213ms/step - loss: 0.0603 - auc_1: 0.9970 - val_loss: 0.1795 - val_auc_1: 0.9822\n",
      "Epoch 14/20\n",
      "52/52 [==============================] - 11s 214ms/step - loss: 0.0603 - auc_1: 0.9974 - val_loss: 0.1644 - val_auc_1: 0.9842\n",
      "Epoch 15/20\n",
      "52/52 [==============================] - 11s 214ms/step - loss: 0.0592 - auc_1: 0.9975 - val_loss: 0.1676 - val_auc_1: 0.9835\n",
      "Epoch 16/20\n",
      "52/52 [==============================] - 11s 214ms/step - loss: 0.0515 - auc_1: 0.9980 - val_loss: 0.1797 - val_auc_1: 0.9826\n",
      "Epoch 17/20\n",
      "52/52 [==============================] - 11s 214ms/step - loss: 0.0562 - auc_1: 0.9978 - val_loss: 0.1726 - val_auc_1: 0.9840\n",
      "Epoch 18/20\n",
      "52/52 [==============================] - 11s 213ms/step - loss: 0.0535 - auc_1: 0.9979 - val_loss: 0.1775 - val_auc_1: 0.9829\n",
      "Epoch 19/20\n",
      "52/52 [==============================] - 11s 214ms/step - loss: 0.0515 - auc_1: 0.9982 - val_loss: 0.1770 - val_auc_1: 0.9833\n",
      "Epoch 20/20\n",
      "52/52 [==============================] - 11s 214ms/step - loss: 0.0513 - auc_1: 0.9981 - val_loss: 0.1942 - val_auc_1: 0.9805\n"
     ]
    }
   ],
   "source": [
    "history_1 = GRU_64.fit(X_train, y_train, batch_size=128, epochs=20, verbose=1, validation_split=0.2)"
   ]
  },
  {
   "cell_type": "code",
   "execution_count": null,
   "metadata": {},
   "outputs": [],
   "source": []
  },
  {
   "cell_type": "code",
   "execution_count": 39,
   "metadata": {},
   "outputs": [
    {
     "name": "stdout",
     "output_type": "stream",
     "text": [
      "260/260 [==============================] - 7s 28ms/step - loss: 0.0639 - auc_1: 0.9959\n",
      "Train Score: 0.06390243768692017\n",
      "Train Accuracy: 0.9958562254905701\n"
     ]
    }
   ],
   "source": [
    "score = GRU_64.evaluate(X_train, y_train, verbose=1)\n",
    "\n",
    "print(\"Train Score:\", score[0])\n",
    "print(\"Train Accuracy:\", score[1])"
   ]
  },
  {
   "cell_type": "code",
   "execution_count": 36,
   "metadata": {},
   "outputs": [
    {
     "name": "stdout",
     "output_type": "stream",
     "text": [
      "65/65 [==============================] - 2s 29ms/step - loss: 0.1715 - auc_1: 0.9829\n",
      "Test Score: 0.171489879488945\n",
      "Test Accuracy: 0.9828838109970093\n"
     ]
    }
   ],
   "source": [
    "score = GRU_64.evaluate(X_test, y_test, verbose=1)\n",
    "\n",
    "print(\"Test Score:\", score[0])\n",
    "print(\"Test Accuracy:\", score[1])"
   ]
  },
  {
   "cell_type": "code",
   "execution_count": null,
   "metadata": {},
   "outputs": [],
   "source": [
    "history_1 = GRU_64.fit(X_train, y_train, batch_size=128, epochs=20, verbose=1, validation_split=0.2)"
   ]
  },
  {
   "cell_type": "code",
   "execution_count": null,
   "metadata": {},
   "outputs": [],
   "source": [
    "score = GRU_64.evaluate(X_train, y_train, verbose=1)\n",
    "\n",
    "print(\"Train Score:\", score[0])\n",
    "print(\"Train Accuracy:\", score[1])"
   ]
  },
  {
   "cell_type": "code",
   "execution_count": null,
   "metadata": {},
   "outputs": [],
   "source": [
    "score = GRU_64.evaluate(X_test, y_test, verbose=1)\n",
    "\n",
    "print(\"Test Score:\", score[0])\n",
    "print(\"Test Accuracy:\", score[1])"
   ]
  },
  {
   "cell_type": "code",
   "execution_count": 20,
   "metadata": {},
   "outputs": [
    {
     "name": "stdout",
     "output_type": "stream",
     "text": [
      "Epoch 1/20\n",
      "67/67 [==============================] - 19s 277ms/step - auc: 0.9427 - loss: 0.3031 - val_loss: 0.2243 - val_auc: 0.9694\n",
      "Epoch 2/20\n",
      "67/67 [==============================] - 18s 271ms/step - auc: 0.9740 - loss: 0.2014 - val_loss: 0.1963 - val_auc: 0.9750\n",
      "Epoch 3/20\n",
      "67/67 [==============================] - 18s 270ms/step - auc: 0.9784 - loss: 0.1808 - val_loss: 0.1836 - val_auc: 0.9778\n",
      "Epoch 4/20\n",
      "67/67 [==============================] - 18s 271ms/step - auc: 0.9806 - loss: 0.1702 - val_loss: 0.1776 - val_auc: 0.9789\n",
      "Epoch 5/20\n",
      "67/67 [==============================] - 18s 271ms/step - auc: 0.9836 - loss: 0.1565 - val_loss: 0.1758 - val_auc: 0.9800\n",
      "Epoch 6/20\n",
      "67/67 [==============================] - 18s 270ms/step - auc: 0.9856 - loss: 0.1466 - val_loss: 0.1692 - val_auc: 0.9818\n",
      "Epoch 7/20\n",
      "67/67 [==============================] - 18s 270ms/step - auc: 0.9875 - loss: 0.1353 - val_loss: 0.1607 - val_auc: 0.9833\n",
      "Epoch 8/20\n",
      "67/67 [==============================] - 18s 271ms/step - auc: 0.9888 - loss: 0.1283 - val_loss: 0.1548 - val_auc: 0.9847\n",
      "Epoch 9/20\n",
      "67/67 [==============================] - 18s 271ms/step - auc: 0.9896 - loss: 0.1253 - val_loss: 0.1566 - val_auc: 0.9848\n",
      "Epoch 10/20\n",
      "67/67 [==============================] - 18s 271ms/step - auc: 0.9912 - loss: 0.1129 - val_loss: 0.1589 - val_auc: 0.9846\n",
      "Epoch 11/20\n",
      "67/67 [==============================] - 18s 271ms/step - auc: 0.9923 - loss: 0.1080 - val_loss: 0.1682 - val_auc: 0.9841\n",
      "Epoch 12/20\n",
      "67/67 [==============================] - 18s 270ms/step - auc: 0.9931 - loss: 0.1007 - val_loss: 0.1534 - val_auc: 0.9859\n",
      "Epoch 13/20\n",
      "67/67 [==============================] - 18s 270ms/step - auc: 0.9940 - loss: 0.0943 - val_loss: 0.1620 - val_auc: 0.9848\n",
      "Epoch 14/20\n",
      "67/67 [==============================] - 18s 263ms/step - auc: 0.9951 - loss: 0.0860 - val_loss: 0.1550 - val_auc: 0.9862\n",
      "Epoch 15/20\n",
      "67/67 [==============================] - 18s 263ms/step - auc: 0.9953 - loss: 0.0860 - val_loss: 0.1570 - val_auc: 0.9857\n",
      "Epoch 16/20\n",
      "67/67 [==============================] - 18s 263ms/step - auc: 0.9960 - loss: 0.0744 - val_loss: 0.1625 - val_auc: 0.9862\n",
      "Epoch 17/20\n",
      "67/67 [==============================] - 18s 263ms/step - auc: 0.9969 - loss: 0.0673 - val_loss: 0.1794 - val_auc: 0.9844\n",
      "Epoch 18/20\n",
      "67/67 [==============================] - 18s 263ms/step - auc: 0.9971 - loss: 0.0666 - val_loss: 0.1619 - val_auc: 0.9852\n",
      "Epoch 19/20\n",
      "67/67 [==============================] - 18s 263ms/step - auc: 0.9971 - loss: 0.0658 - val_loss: 0.1654 - val_auc: 0.9847\n",
      "Epoch 20/20\n",
      "67/67 [==============================] - 18s 263ms/step - auc: 0.9977 - loss: 0.0568 - val_loss: 0.1652 - val_auc: 0.9843\n"
     ]
    }
   ],
   "source": [
    "history_1 = GRU_glove.fit(X_train, y_train, batch_size=100, epochs=20, verbose=1, validation_split=0.2)"
   ]
  },
  {
   "cell_type": "code",
   "execution_count": 21,
   "metadata": {
    "colab": {
     "base_uri": "https://localhost:8080/"
    },
    "id": "_yRKc0sFKKIv",
    "outputId": "8f763deb-8ba4-4eac-a730-e302907949ed"
   },
   "outputs": [
    {
     "name": "stdout",
     "output_type": "stream",
     "text": [
      "65/65 [==============================] - 2s 33ms/step - auc: 0.9825 - loss: 0.1754\n",
      "Test Score: 0.17544160783290863\n",
      "Test Accuracy: 0.9824717044830322\n"
     ]
    }
   ],
   "source": [
    "score = GRU_glove.evaluate(X_test, y_test, verbose=1)\n",
    "\n",
    "print(\"Test Score:\", score[0])\n",
    "print(\"Test Accuracy:\", score[1])"
   ]
  },
  {
   "cell_type": "code",
   "execution_count": 22,
   "metadata": {
    "colab": {
     "base_uri": "https://localhost:8080/"
    },
    "id": "85e2rHtaVvEf",
    "outputId": "94dab111-84ee-40e0-f3b8-86c71d67f730"
   },
   "outputs": [
    {
     "name": "stdout",
     "output_type": "stream",
     "text": [
      "260/260 [==============================] - 9s 34ms/step - auc: 0.9966 - loss: 0.0619\n",
      "Train Score: 0.06193938106298447\n",
      "Train Accuracy: 0.996640145778656\n"
     ]
    }
   ],
   "source": [
    "score = GRU_glove.evaluate(X_train, y_train, verbose=1)\n",
    "\n",
    "print(\"Train Score:\", score[0])\n",
    "print(\"Train Accuracy:\", score[1])"
   ]
  },
  {
   "cell_type": "code",
   "execution_count": 23,
   "metadata": {
    "colab": {
     "base_uri": "https://localhost:8080/"
    },
    "id": "NoHCKSAnyzW7",
    "outputId": "8f666ef7-5c28-4bb4-c3c1-d02bb5d59dec"
   },
   "outputs": [
    {
     "name": "stdout",
     "output_type": "stream",
     "text": [
      "Epoch 1/20\n",
      "26/26 [==============================] - 12s 458ms/step - auc: 0.9982 - loss: 0.0518 - val_loss: 0.1788 - val_auc: 0.9834\n",
      "Epoch 2/20\n",
      "26/26 [==============================] - 12s 459ms/step - auc: 0.9983 - loss: 0.0488 - val_loss: 0.1695 - val_auc: 0.9850\n",
      "Epoch 3/20\n",
      "26/26 [==============================] - 12s 457ms/step - auc: 0.9983 - loss: 0.0465 - val_loss: 0.1810 - val_auc: 0.9839\n",
      "Epoch 4/20\n",
      "26/26 [==============================] - 12s 458ms/step - auc: 0.9986 - loss: 0.0441 - val_loss: 0.1764 - val_auc: 0.9840\n",
      "Epoch 5/20\n",
      "26/26 [==============================] - 12s 458ms/step - auc: 0.9985 - loss: 0.0433 - val_loss: 0.1752 - val_auc: 0.9840\n",
      "Epoch 6/20\n",
      "26/26 [==============================] - 12s 458ms/step - auc: 0.9988 - loss: 0.0405 - val_loss: 0.1807 - val_auc: 0.9836\n",
      "Epoch 7/20\n",
      "26/26 [==============================] - 12s 457ms/step - auc: 0.9989 - loss: 0.0392 - val_loss: 0.1791 - val_auc: 0.9840\n",
      "Epoch 8/20\n",
      "26/26 [==============================] - 12s 458ms/step - auc: 0.9988 - loss: 0.0396 - val_loss: 0.2076 - val_auc: 0.9798\n",
      "Epoch 9/20\n",
      "26/26 [==============================] - 12s 459ms/step - auc: 0.9989 - loss: 0.0385 - val_loss: 0.1939 - val_auc: 0.9816\n",
      "Epoch 10/20\n",
      "26/26 [==============================] - 12s 458ms/step - auc: 0.9988 - loss: 0.0402 - val_loss: 0.1833 - val_auc: 0.9834\n",
      "Epoch 11/20\n",
      "26/26 [==============================] - 12s 458ms/step - auc: 0.9989 - loss: 0.0379 - val_loss: 0.1902 - val_auc: 0.9821\n",
      "Epoch 12/20\n",
      "26/26 [==============================] - 12s 458ms/step - auc: 0.9989 - loss: 0.0371 - val_loss: 0.1909 - val_auc: 0.9831\n",
      "Epoch 13/20\n",
      "26/26 [==============================] - 12s 458ms/step - auc: 0.9990 - loss: 0.0356 - val_loss: 0.1950 - val_auc: 0.9818\n",
      "Epoch 14/20\n",
      "26/26 [==============================] - 12s 459ms/step - auc: 0.9989 - loss: 0.0368 - val_loss: 0.1916 - val_auc: 0.9821\n",
      "Epoch 15/20\n",
      "26/26 [==============================] - 12s 458ms/step - auc: 0.9990 - loss: 0.0354 - val_loss: 0.1934 - val_auc: 0.9809\n",
      "Epoch 16/20\n",
      "26/26 [==============================] - 12s 458ms/step - auc: 0.9990 - loss: 0.0371 - val_loss: 0.2172 - val_auc: 0.9777\n",
      "Epoch 17/20\n",
      "26/26 [==============================] - 12s 458ms/step - auc: 0.9989 - loss: 0.0360 - val_loss: 0.2014 - val_auc: 0.9802\n",
      "Epoch 18/20\n",
      "26/26 [==============================] - 12s 456ms/step - auc: 0.9991 - loss: 0.0319 - val_loss: 0.1971 - val_auc: 0.9814\n",
      "Epoch 19/20\n",
      "26/26 [==============================] - 12s 458ms/step - auc: 0.9993 - loss: 0.0305 - val_loss: 0.1978 - val_auc: 0.9814\n",
      "Epoch 20/20\n",
      "26/26 [==============================] - 12s 459ms/step - auc: 0.9992 - loss: 0.0319 - val_loss: 0.2033 - val_auc: 0.9807\n"
     ]
    }
   ],
   "source": [
    "history_2 = GRU_glove.fit(X_train, y_train, batch_size=256, epochs=20, verbose=1, validation_split=0.2)"
   ]
  },
  {
   "cell_type": "code",
   "execution_count": 24,
   "metadata": {},
   "outputs": [
    {
     "name": "stdout",
     "output_type": "stream",
     "text": [
      "260/260 [==============================] - 9s 34ms/step - auc: 0.9966 - loss: 0.0556\n",
      "Test Score: 0.05559137463569641\n",
      "Test Accuracy: 0.9965543150901794\n"
     ]
    }
   ],
   "source": [
    "score2 = GRU_glove.evaluate(X_train, y_train, verbose=1)\n",
    "print(\"Train Score:\", score2[0])\n",
    "print(\"Train Accuracy:\", score2[1])"
   ]
  },
  {
   "cell_type": "code",
   "execution_count": 26,
   "metadata": {},
   "outputs": [
    {
     "name": "stdout",
     "output_type": "stream",
     "text": [
      "65/65 [==============================] - 2s 33ms/step - auc: 0.9799 - loss: 0.2030\n",
      "Test Score: 0.20301580429077148\n",
      "Test Accuracy: 0.9799331426620483\n"
     ]
    }
   ],
   "source": [
    "score3 = GRU_glove.evaluate(X_test, y_test, verbose=1)\n",
    "print(\"Test Score:\", score3[0])\n",
    "print(\"Test Accuracy:\", score3[1])"
   ]
  },
  {
   "cell_type": "code",
   "execution_count": 43,
   "metadata": {},
   "outputs": [
    {
     "name": "stdout",
     "output_type": "stream",
     "text": [
      "Epoch 1/20\n",
      "104/104 [==============================] - 23s 222ms/step - auc: 0.9994 - loss: 0.0238 - val_loss: 0.2670 - val_auc: 0.9729\n",
      "Epoch 2/20\n",
      "104/104 [==============================] - 23s 222ms/step - auc: 0.9989 - loss: 0.0280 - val_loss: 0.2538 - val_auc: 0.9732\n",
      "Epoch 3/20\n",
      "104/104 [==============================] - 23s 222ms/step - auc: 0.9995 - loss: 0.0248 - val_loss: 0.2673 - val_auc: 0.9716\n",
      "Epoch 4/20\n",
      "104/104 [==============================] - 23s 222ms/step - auc: 0.9989 - loss: 0.0294 - val_loss: 0.2576 - val_auc: 0.9725\n",
      "Epoch 5/20\n",
      "104/104 [==============================] - 23s 222ms/step - auc: 0.9994 - loss: 0.0232 - val_loss: 0.2452 - val_auc: 0.9750\n",
      "Epoch 6/20\n",
      "104/104 [==============================] - 23s 222ms/step - auc: 0.9991 - loss: 0.0217 - val_loss: 0.2703 - val_auc: 0.9705\n",
      "Epoch 7/20\n",
      "104/104 [==============================] - 23s 222ms/step - auc: 0.9992 - loss: 0.0254 - val_loss: 0.2782 - val_auc: 0.9709\n",
      "Epoch 8/20\n",
      "104/104 [==============================] - 23s 222ms/step - auc: 0.9992 - loss: 0.0287 - val_loss: 0.2488 - val_auc: 0.9735\n",
      "Epoch 9/20\n",
      "104/104 [==============================] - 23s 222ms/step - auc: 0.9994 - loss: 0.0221 - val_loss: 0.2436 - val_auc: 0.9723\n",
      "Epoch 10/20\n",
      "104/104 [==============================] - 23s 222ms/step - auc: 0.9995 - loss: 0.0233 - val_loss: 0.2514 - val_auc: 0.9726\n",
      "Epoch 11/20\n",
      "104/104 [==============================] - 23s 222ms/step - auc: 0.9994 - loss: 0.0242 - val_loss: 0.2701 - val_auc: 0.9717\n",
      "Epoch 12/20\n",
      "104/104 [==============================] - 23s 221ms/step - auc: 0.9994 - loss: 0.0240 - val_loss: 0.2764 - val_auc: 0.9703\n",
      "Epoch 13/20\n",
      "104/104 [==============================] - 23s 222ms/step - auc: 0.9996 - loss: 0.0235 - val_loss: 0.2591 - val_auc: 0.9715\n",
      "Epoch 14/20\n",
      "104/104 [==============================] - 23s 222ms/step - auc: 0.9994 - loss: 0.0221 - val_loss: 0.2670 - val_auc: 0.9700\n",
      "Epoch 15/20\n",
      "104/104 [==============================] - 23s 222ms/step - auc: 0.9993 - loss: 0.0259 - val_loss: 0.2785 - val_auc: 0.9706\n",
      "Epoch 16/20\n",
      "104/104 [==============================] - 23s 222ms/step - auc: 0.9993 - loss: 0.0222 - val_loss: 0.2676 - val_auc: 0.9714\n",
      "Epoch 17/20\n",
      "104/104 [==============================] - 23s 222ms/step - auc: 0.9995 - loss: 0.0248 - val_loss: 0.2470 - val_auc: 0.9737\n",
      "Epoch 18/20\n",
      "104/104 [==============================] - 23s 222ms/step - auc: 0.9996 - loss: 0.0205 - val_loss: 0.3091 - val_auc: 0.9689\n",
      "Epoch 19/20\n",
      "104/104 [==============================] - 23s 222ms/step - auc: 0.9986 - loss: 0.0295 - val_loss: 0.2473 - val_auc: 0.9750\n",
      "Epoch 20/20\n",
      "104/104 [==============================] - 23s 222ms/step - auc: 0.9991 - loss: 0.0269 - val_loss: 0.2539 - val_auc: 0.9709\n"
     ]
    }
   ],
   "source": [
    "history_3 = GRU_glove.fit(X_train, y_train, batch_size=64, epochs=20, verbose=1, validation_split=0.2)"
   ]
  },
  {
   "cell_type": "code",
   "execution_count": 47,
   "metadata": {},
   "outputs": [
    {
     "name": "stdout",
     "output_type": "stream",
     "text": [
      "260/260 [==============================] - 9s 33ms/step - auc: 0.9944 - loss: 0.0657\n",
      "Train Score: 0.06573950499296188\n",
      "Train Accuracy: 0.9944066405296326\n"
     ]
    }
   ],
   "source": [
    "score4 = GRU_glove.evaluate(X_train, y_train, verbose=1)\n",
    "print(\"Train Score:\", score4[0])\n",
    "print(\"Train Accuracy:\", score4[1])"
   ]
  },
  {
   "cell_type": "code",
   "execution_count": 71,
   "metadata": {},
   "outputs": [
    {
     "name": "stdout",
     "output_type": "stream",
     "text": [
      "65/65 [==============================] - 2s 33ms/step - auc: 0.9718 - loss: 0.2724\n",
      "Test Score: 0.272390216588974\n",
      "Test Accuracy: 0.9717639088630676\n"
     ]
    }
   ],
   "source": [
    "score5 = GRU_glove.evaluate(X_test, y_test, verbose=1)\n",
    "print(\"Test Score:\", score5[0])\n",
    "print(\"Test Accuracy:\", score5[1])"
   ]
  },
  {
   "cell_type": "code",
   "execution_count": 48,
   "metadata": {},
   "outputs": [],
   "source": [
    "GRU_glove.save('2023_08_12_GRU_model.h5')"
   ]
  },
  {
   "cell_type": "code",
   "execution_count": 30,
   "metadata": {},
   "outputs": [
    {
     "name": "stdout",
     "output_type": "stream",
     "text": [
      "Epoch 1/20\n",
      "14/14 [==============================] - 10s 731ms/step - auc: 0.9988 - loss: 0.0282 - val_loss: 0.2386 - val_auc: 0.9757\n",
      "Epoch 2/20\n",
      "14/14 [==============================] - 10s 729ms/step - auc: 0.9996 - loss: 0.0232 - val_loss: 0.2440 - val_auc: 0.9749\n",
      "Epoch 3/20\n",
      "14/14 [==============================] - 10s 730ms/step - auc: 0.9995 - loss: 0.0214 - val_loss: 0.2368 - val_auc: 0.9760\n",
      "Epoch 4/20\n",
      "14/14 [==============================] - 10s 726ms/step - auc: 0.9997 - loss: 0.0194 - val_loss: 0.2341 - val_auc: 0.9764\n",
      "Epoch 5/20\n",
      "14/14 [==============================] - 10s 730ms/step - auc: 0.9997 - loss: 0.0182 - val_loss: 0.2412 - val_auc: 0.9754\n",
      "Epoch 6/20\n",
      "14/14 [==============================] - 10s 733ms/step - auc: 0.9997 - loss: 0.0201 - val_loss: 0.2395 - val_auc: 0.9757\n",
      "Epoch 7/20\n",
      "14/14 [==============================] - 10s 724ms/step - auc: 0.9997 - loss: 0.0183 - val_loss: 0.2368 - val_auc: 0.9769\n",
      "Epoch 8/20\n",
      "14/14 [==============================] - 10s 732ms/step - auc: 0.9997 - loss: 0.0219 - val_loss: 0.2411 - val_auc: 0.9755\n",
      "Epoch 9/20\n",
      "14/14 [==============================] - 10s 731ms/step - auc: 0.9997 - loss: 0.0193 - val_loss: 0.2389 - val_auc: 0.9761\n",
      "Epoch 10/20\n",
      "14/14 [==============================] - 10s 732ms/step - auc: 0.9997 - loss: 0.0186 - val_loss: 0.2375 - val_auc: 0.9767\n",
      "Epoch 11/20\n",
      "14/14 [==============================] - 10s 728ms/step - auc: 0.9997 - loss: 0.0171 - val_loss: 0.2411 - val_auc: 0.9758\n",
      "Epoch 12/20\n",
      "14/14 [==============================] - 10s 734ms/step - auc: 0.9995 - loss: 0.0201 - val_loss: 0.2404 - val_auc: 0.9757\n",
      "Epoch 13/20\n",
      "14/14 [==============================] - 10s 731ms/step - auc: 0.9997 - loss: 0.0187 - val_loss: 0.2438 - val_auc: 0.9749\n",
      "Epoch 14/20\n",
      "14/14 [==============================] - 10s 733ms/step - auc: 0.9997 - loss: 0.0187 - val_loss: 0.2426 - val_auc: 0.9752\n",
      "Epoch 15/20\n",
      "14/14 [==============================] - 10s 733ms/step - auc: 0.9997 - loss: 0.0178 - val_loss: 0.2410 - val_auc: 0.9760\n",
      "Epoch 16/20\n",
      "14/14 [==============================] - 10s 718ms/step - auc: 0.9997 - loss: 0.0203 - val_loss: 0.2484 - val_auc: 0.9747\n",
      "Epoch 17/20\n",
      "14/14 [==============================] - 10s 720ms/step - auc: 0.9997 - loss: 0.0174 - val_loss: 0.2468 - val_auc: 0.9743\n",
      "Epoch 18/20\n",
      "14/14 [==============================] - 10s 729ms/step - auc: 0.9997 - loss: 0.0173 - val_loss: 0.2473 - val_auc: 0.9743\n",
      "Epoch 19/20\n",
      "14/14 [==============================] - 10s 732ms/step - auc: 0.9997 - loss: 0.0195 - val_loss: 0.2387 - val_auc: 0.9766\n",
      "Epoch 20/20\n",
      "14/14 [==============================] - 10s 734ms/step - auc: 0.9997 - loss: 0.0168 - val_loss: 0.2468 - val_auc: 0.9749\n"
     ]
    }
   ],
   "source": [
    "history_4 = GRU_glove.fit(X_train, y_train, batch_size=500, epochs=20, verbose=1, validation_split=0.2)"
   ]
  },
  {
   "cell_type": "code",
   "execution_count": 31,
   "metadata": {},
   "outputs": [
    {
     "name": "stdout",
     "output_type": "stream",
     "text": [
      "260/260 [==============================] - 9s 33ms/step - auc: 0.9955 - loss: 0.0596\n",
      "Train Score: 0.059550024569034576\n",
      "Train Accuracy: 0.9954867959022522\n",
      "Test Score: 0.059550024569034576\n",
      "Test Accuracy: 0.9954867959022522\n"
     ]
    }
   ],
   "source": [
    "score5 = GRU_glove.evaluate(X_train, y_train, verbose=1)\n",
    "print(\"Train Score:\", score5[0])\n",
    "print(\"Train Accuracy:\", score5[1])\n"
   ]
  },
  {
   "cell_type": "code",
   "execution_count": 32,
   "metadata": {},
   "outputs": [
    {
     "name": "stdout",
     "output_type": "stream",
     "text": [
      "65/65 [==============================] - 2s 33ms/step - auc: 0.9729 - loss: 0.2563\n",
      "Test Score: 0.2563445568084717\n",
      "Test Accuracy: 0.9729334712028503\n"
     ]
    }
   ],
   "source": [
    "score6 = GRU_glove.evaluate(X_test, y_test, verbose=1)\n",
    "print(\"Test Score:\", score6[0])\n",
    "print(\"Test Accuracy:\", score6[1])"
   ]
  },
  {
   "cell_type": "code",
   "execution_count": 69,
   "metadata": {
    "colab": {
     "base_uri": "https://localhost:8080/",
     "height": 295
    },
    "id": "oFP3_e9a8Ep2",
    "outputId": "1f2848a6-8afb-4267-f8e6-32409bb5a1e8"
   },
   "outputs": [
    {
     "data": {
      "image/png": "[encoded data removed]",
      "text/plain": [
       "<Figure size 1080x504 with 1 Axes>"
      ]
     },
     "metadata": {
      "needs_background": "light"
     },
     "output_type": "display_data"
    }
   ],
   "source": [
    "import matplotlib.pyplot as plt\n",
    "\n",
    "plt.plot(history_2.history['auc_2'])\n",
    "plt.plot(history_2.history['val_auc_2'])\n",
    "\n",
    "plt.title('GRU Model Accuracy')\n",
    "plt.ylabel('accuracy')\n",
    "plt.xlabel('epoch')\n",
    "plt.legend(['Training Accuracy', 'Validation Accuracy'], loc='lower right')\n",
    "plt.savefig(\"acc_gru15nov22.png\", format=\"png\", bbox_inches='tight', dpi=600) # specify filetype explicitly\n",
    "plt.show()\n",
    "\n",
    "plt.close()"
   ]
  },
  {
   "cell_type": "code",
   "execution_count": 70,
   "metadata": {
    "colab": {
     "base_uri": "https://localhost:8080/",
     "height": 295
    },
    "id": "fHtONwFz8E16",
    "outputId": "258ca599-500d-4519-8330-1c7e1ce7560a"
   },
   "outputs": [
    {
     "data": {
      "image/png": "[encoded data removed]",
      "text/plain": [
       "<Figure size 1080x504 with 1 Axes>"
      ]
     },
     "metadata": {
      "needs_background": "light"
     },
     "output_type": "display_data"
    }
   ],
   "source": [
    "plt.plot(history_2.history['loss'])\n",
    "plt.plot(history_2.history['val_loss'])\n",
    "\n",
    "plt.title('GRU Model Loss')\n",
    "plt.ylabel('loss')\n",
    "plt.xlabel('epoch')\n",
    "plt.legend(['Training Loss', 'Validation Loss'], loc='upper right')\n",
    "plt.savefig(\"loss_gru15nov22.png\", format=\"png\", bbox_inches='tight', dpi=600) # specify filetype explicitly\n",
    "plt.show()\n",
    "\n",
    "plt.close()"
   ]
  },
  {
   "cell_type": "code",
   "execution_count": 189,
   "metadata": {
    "id": "3lGaCJeryNBa"
   },
   "outputs": [
    {
     "data": {
      "text/plain": [
       "array([[1.5917420e-04, 9.9973172e-01],\n",
       "       [6.9310367e-03, 9.9285704e-01],\n",
       "       [5.7166462e-06, 9.9999321e-01],\n",
       "       ...,\n",
       "       [5.4523887e-05, 9.9994200e-01],\n",
       "       [8.8438064e-05, 9.9994516e-01],\n",
       "       [6.7878038e-02, 9.3905377e-01]], dtype=float32)"
      ]
     },
     "execution_count": 189,
     "metadata": {},
     "output_type": "execute_result"
    }
   ],
   "source": [
    "pred_prob = GRU_glove.predict_on_batch(X_test)\n",
    "pred_prob"
   ]
  },
  {
   "cell_type": "code",
   "execution_count": 72,
   "metadata": {
    "id": "IaStVWMpxKR5"
   },
   "outputs": [],
   "source": [
    "import numpy as np\n",
    "import matplotlib.pyplot as plt\n",
    "from itertools import cycle\n",
    "\n",
    "from sklearn.metrics import roc_curve, auc\n",
    "from numpy import interp\n",
    "\n"
   ]
  },
  {
   "cell_type": "code",
   "execution_count": 73,
   "metadata": {
    "id": "77NqiZUNxgm-"
   },
   "outputs": [],
   "source": [
    "import matplotlib\n",
    "n_classes = y.shape[1]\n",
    "matplotlib.rc('figure', figsize=(15, 7))\n",
    "\n",
    "\n",
    "# Compute ROC curve and ROC area for each class\n",
    "fpr = dict()\n",
    "tpr = dict()\n",
    "roc_auc = dict()\n",
    "for i in range(n_classes):\n",
    "    fpr[i], tpr[i], _ = roc_curve(y_test[:, i], pred_prob[:, i])\n",
    "    roc_auc[i] = auc(fpr[i], tpr[i])\n",
    "\n",
    "# Compute micro-average ROC curve and ROC area\n",
    "fpr[\"micro\"], tpr[\"micro\"], _ = roc_curve(y_test.ravel(), pred_prob.ravel())\n",
    "roc_auc[\"micro\"] = auc(fpr[\"micro\"], tpr[\"micro\"])"
   ]
  },
  {
   "cell_type": "code",
   "execution_count": 74,
   "metadata": {
    "colab": {
     "base_uri": "https://localhost:8080/",
     "height": 498
    },
    "id": "8Gx7qfx0xtq_",
    "outputId": "d0ec66b2-0a4e-481b-f7d7-cc4f0c8cc8f6"
   },
   "outputs": [
    {
     "data": {
      "image/png": "[encoded data removed]",
      "text/plain": [
       "<Figure size 1080x504 with 1 Axes>"
      ]
     },
     "metadata": {
      "needs_background": "light"
     },
     "output_type": "display_data"
    }
   ],
   "source": [
    "# First aggregate all false positive rates\n",
    "all_fpr = np.unique(np.concatenate([fpr[i] for i in range(n_classes)]))\n",
    "lw = 2\n",
    "# Then interpolate all ROC curves at this points\n",
    "mean_tpr = np.zeros_like(all_fpr)\n",
    "for i in range(n_classes):\n",
    "    mean_tpr += interp(all_fpr, fpr[i], tpr[i])\n",
    "\n",
    "# Finally average it and compute AUC\n",
    "mean_tpr /= n_classes\n",
    "\n",
    "fpr[\"macro\"] = all_fpr\n",
    "tpr[\"macro\"] = mean_tpr\n",
    "roc_auc[\"macro\"] = auc(fpr[\"macro\"], tpr[\"macro\"])\n",
    "\n",
    "# Plot all ROC curves\n",
    "plt.figure()\n",
    "plt.plot(fpr[\"micro\"], tpr[\"micro\"],\n",
    "         label='micro-average ROC curve (area = {0:0.2f})'\n",
    "               ''.format(roc_auc[\"micro\"]),\n",
    "         color='rosybrown', linestyle=':', linewidth=4)\n",
    "\n",
    "plt.plot(fpr[\"macro\"], tpr[\"macro\"],\n",
    "         label='macro-average ROC curve (area = {0:0.2f})'\n",
    "               ''.format(roc_auc[\"macro\"]),\n",
    "         color='lightcoral', linestyle=':', linewidth=4)\n",
    "\n",
    "colors = cycle(['aqua', 'darkorange', 'cornflowerblue', 'blue', 'green', 'red', 'darkcyan', 'magenta', 'yellow', 'lime', 'pink', 'gray', 'brown', 'olive'])\n",
    "for i, color in zip(range(n_classes), colors):\n",
    "    plt.plot(fpr[i], tpr[i], color=color, lw=lw,\n",
    "             label='ROC curve of class {0} (area = {1:0.2f})'\n",
    "             ''.format(i, roc_auc[i]))\n",
    "\n",
    "\n",
    "plt.plot([0, 1], [0, 1], 'k--', lw=lw)\n",
    "plt.xlim([0.0, 1.0])\n",
    "plt.ylim([0.0, 1.05])\n",
    "plt.xlabel('False Positive Rate')\n",
    "plt.ylabel('True Positive Rate')\n",
    "##plt.title('Some extension of Receiver operating characteristic to multi-class')\n",
    "plt.legend(loc=\"lower right\")\n",
    "\n",
    "plt.savefig(\"aucroc_gru15nov22.png\", format=\"png\", bbox_inches='tight', dpi=600) # specify filetype explicitly\n",
    "plt.show()\n",
    "\n",
    "plt.close()\n",
    "plt.show()"
   ]
  },
  {
   "cell_type": "code",
   "execution_count": 190,
   "metadata": {
    "colab": {
     "base_uri": "https://localhost:8080/"
    },
    "id": "-0oG-3zqx3iF",
    "outputId": "24d28fa1-d6f4-4498-847c-f03be021095b"
   },
   "outputs": [
    {
     "name": "stdout",
     "output_type": "stream",
     "text": [
      "micro: 0.99\n",
      "macro: 0.90 \n",
      "weighted: 0.97 \n",
      "sample: 0.97 \n"
     ]
    }
   ],
   "source": [
    "from sklearn.metrics import average_precision_score\n",
    "y_pred = GRU_glove.predict(X_test)\n",
    "\n",
    "from sklearn import metrics\n",
    "from sklearn.metrics import average_precision_score\n",
    "print(\"micro: {:.2f}\".format(metrics.average_precision_score(y_test, y_pred, average='micro')))\n",
    "print(\"macro: {:.2f} \".format( metrics.average_precision_score(y_test, y_pred, average='macro')))\n",
    "print(\"weighted: {:.2f} \".format( metrics.average_precision_score(y_test, y_pred, average='weighted')))\n",
    "print(\"sample: {:.2f} \".format( metrics.average_precision_score(y_test, y_pred, average='samples')))  "
   ]
  },
  {
   "cell_type": "code",
   "execution_count": 191,
   "metadata": {},
   "outputs": [
    {
     "name": "stdout",
     "output_type": "stream",
     "text": [
      "[0 1 0 ... 1 0 1]\n",
      "[1.5917420e-04 9.9973172e-01 6.9310367e-03 ... 9.9994516e-01 6.7878038e-02\n",
      " 9.3905377e-01]\n"
     ]
    },
    {
     "data": {
      "text/plain": [
       "dtype('bool')"
      ]
     },
     "execution_count": 191,
     "metadata": {},
     "output_type": "execute_result"
    }
   ],
   "source": [
    "y_test_flattened = y_test.reshape(-1)\n",
    "print(y_test_flattened)\n",
    "y_pred_flattened = y_pred.reshape(-1)\n",
    "print(y_pred_flattened)\n",
    "y_pred_flattened = (y_pred_flattened>0.5)\n",
    "y_pred_flattened\n",
    "y_test_flattened = (y_test_flattened > 0.5)\n",
    "y_test_flattened\n",
    "y_test_flattened.dtype"
   ]
  },
  {
   "cell_type": "code",
   "execution_count": 192,
   "metadata": {},
   "outputs": [
    {
     "name": "stdout",
     "output_type": "stream",
     "text": [
      "[[1955  120]\n",
      " [ 125 1950]]\n",
      "True positives (TP): 1950\n",
      "False positives (FP): 120\n",
      "True negatives (TN): 1955\n",
      "False negatives (FN): 125\n"
     ]
    }
   ],
   "source": [
    "cm = confusion_matrix(y_test_flattened, y_pred_flattened)\n",
    "print (cm)\n",
    "tnf, fpf, fnf, tpf = confusion_matrix(y_test_flattened, y_pred_flattened).ravel()\n",
    "print(\"True positives (TP):\", tpf)\n",
    "print(\"False positives (FP):\", fpf)\n",
    "print(\"True negatives (TN):\", tnf)\n",
    "print(\"False negatives (FN):\", fnf)"
   ]
  },
  {
   "cell_type": "code",
   "execution_count": 193,
   "metadata": {},
   "outputs": [
    {
     "name": "stdout",
     "output_type": "stream",
     "text": [
      "Medidas con Phishing\n",
      "Recall: 0.9397590361445783\n",
      "F1 Score: 0.9408926417370326\n",
      "Precision: 0.9420289855072463\n"
     ]
    }
   ],
   "source": [
    "from sklearn.metrics import f1_score\n",
    "from sklearn.metrics import precision_score\n",
    "\n",
    "print(\"Medidas con Phishing\")\n",
    "\n",
    "recall = tpf / (tpf + fnf)\n",
    "print(\"Recall:\", recall)\n",
    "\n",
    "f1 = f1_score(y_test_flattened, y_pred_flattened)\n",
    "print(\"F1 Score:\", f1)\n",
    "\n",
    "precision = precision_score(y_test_flattened, y_pred_flattened)\n",
    "print(\"Precision:\", precision)"
   ]
  },
  {
   "cell_type": "code",
   "execution_count": null,
   "metadata": {},
   "outputs": [],
   "source": []
  },
  {
   "cell_type": "code",
   "execution_count": 94,
   "metadata": {},
   "outputs": [],
   "source": [
    "y_truep = y_test[:, 0]\n",
    "y_truep = (y_truep>0.5)\n",
    "y_predp = y_pred[:, 0]\n",
    "y_predp = (y_predp>0.5)\n",
    "\n",
    "y_trueh = y_test[:, 1]\n",
    "y_trueh = (y_trueh>0.5)\n",
    "y_predh = y_pred[:, 1]\n",
    "y_predh = (y_predh>0.5)\n"
   ]
  },
  {
   "cell_type": "code",
   "execution_count": 95,
   "metadata": {},
   "outputs": [
    {
     "name": "stdout",
     "output_type": "stream",
     "text": [
      "[[1811   21]\n",
      " [  99  144]]\n",
      "True positives (TP): 144\n",
      "False positives (FP): 21\n",
      "True negatives (TN): 1811\n",
      "False negatives (FN): 99\n"
     ]
    }
   ],
   "source": [
    "cm = confusion_matrix(y_truep, y_predp)\n",
    "print (cm)\n",
    "tnp, fpp, fnp, tpp = confusion_matrix(y_truep, y_predp).ravel()\n",
    "print(\"True positives (TP):\", tpp)\n",
    "print(\"False positives (FP):\", fpp)\n",
    "print(\"True negatives (TN):\", tnp)\n",
    "print(\"False negatives (FN):\", fnp)"
   ]
  },
  {
   "cell_type": "code",
   "execution_count": 96,
   "metadata": {},
   "outputs": [
    {
     "name": "stdout",
     "output_type": "stream",
     "text": [
      "[[ 140  103]\n",
      " [  21 1811]]\n",
      "True positives (TP): 1811\n",
      "False positives (FP): 103\n",
      "True negatives (TN): 140\n",
      "False negatives (FN): 21\n"
     ]
    }
   ],
   "source": [
    "cm = confusion_matrix(y_trueh, y_predh)\n",
    "print (cm)\n",
    "tnh, fph, fnh, tph = confusion_matrix(y_trueh, y_predh).ravel()\n",
    "print(\"True positives (TP):\", tph)\n",
    "print(\"False positives (FP):\", fph)\n",
    "print(\"True negatives (TN):\", tnh)\n",
    "print(\"False negatives (FN):\", fnh)"
   ]
  },
  {
   "cell_type": "code",
   "execution_count": 98,
   "metadata": {},
   "outputs": [
    {
     "name": "stdout",
     "output_type": "stream",
     "text": [
      "Medidas con Phishing\n",
      "Recall: 0.5925925925925926\n",
      "F1 Score: 0.7058823529411765\n",
      "Precision: 0.8727272727272727\n",
      "Medidas con Ham\n",
      "Recall: 0.9885371179039302\n",
      "F1 Score: 0.9668980245595302\n",
      "Precision: 0.9461859979101358\n"
     ]
    }
   ],
   "source": [
    "from sklearn.metrics import f1_score\n",
    "from sklearn.metrics import precision_score\n",
    "\n",
    "print(\"Medidas con Phishing\")\n",
    "\n",
    "recall = tpp / (tpp + fnp)\n",
    "print(\"Recall:\", recall)\n",
    "\n",
    "f1 = f1_score(y_truep, y_predp)\n",
    "print(\"F1 Score:\", f1)\n",
    "\n",
    "precision = precision_score(y_truep, y_predp)\n",
    "print(\"Precision:\", precision)\n",
    "\n",
    "print(\"Medidas con Ham\")\n",
    "\n",
    "recall = tph / (tph + fnh)\n",
    "print(\"Recall:\", recall)\n",
    "\n",
    "f1 = f1_score(y_trueh, y_predh)\n",
    "print(\"F1 Score:\", f1)\n",
    "\n",
    "precision = precision_score(y_trueh, y_predh)\n",
    "print(\"Precision:\", precision)"
   ]
  },
  {
   "cell_type": "markdown",
   "metadata": {},
   "source": [
    "# **BI-GRU**"
   ]
  },
  {
   "cell_type": "code",
   "execution_count": 81,
   "metadata": {},
   "outputs": [],
   "source": [
    "# from sklearn.metrics import roc_curve, auc, roc_auc_score\n",
    "import tensorflow as tf\n",
    "# from tensorflow.keras.layers import Conv1D, Bidirectional, GlobalMaxPool1D, MaxPooling1D, BatchNormalization, Add, Flatten\n",
    "\n",
    "\n",
    "# Copiado de GRU ************\n",
    "\n",
    "from tensorflow.keras import initializers, regularizers, constraints, optimizers, layers, callbacks\n",
    "from tensorflow.keras.callbacks import EarlyStopping,ModelCheckpoint\n",
    "from tensorflow.keras.preprocessing.text import Tokenizer\n",
    "from tensorflow.keras.preprocessing.sequence import pad_sequences\n",
    "from tensorflow.keras.preprocessing import text, sequence\n",
    "from tensorflow.keras import initializers, regularizers, constraints, optimizers, layers\n",
    "from tensorflow.keras import Model, Input, Sequential\n",
    "from tensorflow.keras.layers import Dense, Input, LSTM, SimpleRNN, Embedding, Dropout, SpatialDropout1D, Activation, Conv1D,GRU\n",
    "from tensorflow.keras.layers import Conv1D, Bidirectional, GlobalMaxPool1D, MaxPooling1D, BatchNormalization, Add, Flatten\n",
    "from tensorflow.keras.layers import GlobalMaxPooling1D, GlobalAveragePooling1D, concatenate, SpatialDropout1D\n",
    "from tensorflow.keras.layers import Embedding\n",
    "from sklearn.model_selection import KFold\n",
    "\n",
    "# **********\n",
    "\n"
   ]
  },
  {
   "cell_type": "code",
   "execution_count": 63,
   "metadata": {},
   "outputs": [],
   "source": [
    "deep_inputs = Input(shape=(maxlen,))\n",
    "embedding_layer = Embedding(vocab_size, 100, weights=[embedding_matrix], trainable=False)(deep_inputs)\n",
    "model = SpatialDropout1D(0.2)(embedding_layer)\n",
    "model = Bidirectional(GRU(128,return_sequences=True,dropout=0.1,recurrent_dropout=0.1 ))(model)\n",
    "model = Conv1D(64, kernel_size = 3, padding = \"valid\", kernel_initializer = \"glorot_uniform\")(model)\n",
    "avg_pool = GlobalAveragePooling1D()(model)\n",
    "max_pool = GlobalMaxPooling1D()(model)\n",
    "model = concatenate([avg_pool, max_pool])\n",
    "dense_layer1 = Dense(2, activation=\"sigmoid\")(model)\n",
    "Bi_GRU_128 = Model(deep_inputs, dense_layer1)\n",
    "Bi_GRU_128.compile(loss='binary_crossentropy',optimizer='adam',metrics=[tf.keras.metrics.AUC()])"
   ]
  },
  {
   "cell_type": "code",
   "execution_count": 65,
   "metadata": {},
   "outputs": [
    {
     "name": "stdout",
     "output_type": "stream",
     "text": [
      "Model: \"functional_8\"\n",
      "__________________________________________________________________________________________________\n",
      "Layer (type)                    Output Shape         Param #     Connected to                     \n",
      "==================================================================================================\n",
      "input_12 (InputLayer)           [(None, 200)]        0                                            \n",
      "__________________________________________________________________________________________________\n",
      "embedding_3 (Embedding)         (None, 200, 100)     14423600    input_12[0][0]                   \n",
      "__________________________________________________________________________________________________\n",
      "spatial_dropout1d_4 (SpatialDro (None, 200, 100)     0           embedding_3[0][0]                \n",
      "__________________________________________________________________________________________________\n",
      "bidirectional_2 (Bidirectional) (None, 200, 256)     176640      spatial_dropout1d_4[0][0]        \n",
      "__________________________________________________________________________________________________\n",
      "conv1d_4 (Conv1D)               (None, 198, 64)      49216       bidirectional_2[0][0]            \n",
      "__________________________________________________________________________________________________\n",
      "global_average_pooling1d_4 (Glo (None, 64)           0           conv1d_4[0][0]                   \n",
      "__________________________________________________________________________________________________\n",
      "global_max_pooling1d_4 (GlobalM (None, 64)           0           conv1d_4[0][0]                   \n",
      "__________________________________________________________________________________________________\n",
      "concatenate_4 (Concatenate)     (None, 128)          0           global_average_pooling1d_4[0][0] \n",
      "                                                                 global_max_pooling1d_4[0][0]     \n",
      "__________________________________________________________________________________________________\n",
      "dense_4 (Dense)                 (None, 2)            258         concatenate_4[0][0]              \n",
      "==================================================================================================\n",
      "Total params: 14,649,714\n",
      "Trainable params: 226,114\n",
      "Non-trainable params: 14,423,600\n",
      "__________________________________________________________________________________________________\n"
     ]
    }
   ],
   "source": [
    "Bi_GRU_128.summary()"
   ]
  },
  {
   "cell_type": "code",
   "execution_count": 73,
   "metadata": {},
   "outputs": [
    {
     "name": "stdout",
     "output_type": "stream",
     "text": [
      "Epoch 1/20\n",
      "52/52 [==============================] - 21s 401ms/step - loss: 0.0196 - auc_3: 0.9997 - val_loss: 0.2429 - val_auc_3: 0.9789\n",
      "Epoch 2/20\n",
      "52/52 [==============================] - 21s 400ms/step - loss: 0.0206 - auc_3: 0.9997 - val_loss: 0.2509 - val_auc_3: 0.9772\n",
      "Epoch 3/20\n",
      "52/52 [==============================] - 21s 400ms/step - loss: 0.0180 - auc_3: 0.9995 - val_loss: 0.2688 - val_auc_3: 0.9750\n",
      "Epoch 4/20\n",
      "52/52 [==============================] - 21s 400ms/step - loss: 0.0189 - auc_3: 0.9996 - val_loss: 0.2578 - val_auc_3: 0.9769\n",
      "Epoch 5/20\n",
      "52/52 [==============================] - 21s 400ms/step - loss: 0.0189 - auc_3: 0.9997 - val_loss: 0.2550 - val_auc_3: 0.9762\n",
      "Epoch 6/20\n",
      "52/52 [==============================] - 21s 401ms/step - loss: 0.0209 - auc_3: 0.9993 - val_loss: 0.2513 - val_auc_3: 0.9753\n",
      "Epoch 7/20\n",
      "52/52 [==============================] - 21s 399ms/step - loss: 0.0206 - auc_3: 0.9996 - val_loss: 0.2502 - val_auc_3: 0.9774\n",
      "Epoch 8/20\n",
      "52/52 [==============================] - 21s 399ms/step - loss: 0.0203 - auc_3: 0.9993 - val_loss: 0.2836 - val_auc_3: 0.9741\n",
      "Epoch 9/20\n",
      "52/52 [==============================] - 21s 400ms/step - loss: 0.0182 - auc_3: 0.9995 - val_loss: 0.2607 - val_auc_3: 0.9772\n",
      "Epoch 10/20\n",
      "52/52 [==============================] - 21s 401ms/step - loss: 0.0203 - auc_3: 0.9994 - val_loss: 0.2464 - val_auc_3: 0.9761\n",
      "Epoch 11/20\n",
      "52/52 [==============================] - 21s 400ms/step - loss: 0.0200 - auc_3: 0.9997 - val_loss: 0.2720 - val_auc_3: 0.9744\n",
      "Epoch 12/20\n",
      "52/52 [==============================] - 21s 400ms/step - loss: 0.0198 - auc_3: 0.9997 - val_loss: 0.2512 - val_auc_3: 0.9766\n",
      "Epoch 13/20\n",
      "52/52 [==============================] - 21s 400ms/step - loss: 0.0214 - auc_3: 0.9995 - val_loss: 0.2729 - val_auc_3: 0.9744\n",
      "Epoch 14/20\n",
      "52/52 [==============================] - 21s 400ms/step - loss: 0.0224 - auc_3: 0.9996 - val_loss: 0.2736 - val_auc_3: 0.9740\n",
      "Epoch 15/20\n",
      "52/52 [==============================] - 21s 399ms/step - loss: 0.0184 - auc_3: 0.9995 - val_loss: 0.2601 - val_auc_3: 0.9755\n",
      "Epoch 16/20\n",
      "52/52 [==============================] - 21s 400ms/step - loss: 0.0197 - auc_3: 0.9994 - val_loss: 0.2538 - val_auc_3: 0.9740\n",
      "Epoch 17/20\n",
      "52/52 [==============================] - 21s 399ms/step - loss: 0.0182 - auc_3: 0.9996 - val_loss: 0.2381 - val_auc_3: 0.9763\n",
      "Epoch 18/20\n",
      "52/52 [==============================] - 21s 401ms/step - loss: 0.0187 - auc_3: 0.9997 - val_loss: 0.2596 - val_auc_3: 0.9756\n",
      "Epoch 19/20\n",
      "52/52 [==============================] - 21s 399ms/step - loss: 0.0195 - auc_3: 0.9993 - val_loss: 0.2618 - val_auc_3: 0.9756\n",
      "Epoch 20/20\n",
      "52/52 [==============================] - 21s 397ms/step - loss: 0.0185 - auc_3: 0.9997 - val_loss: 0.2607 - val_auc_3: 0.9765\n"
     ]
    }
   ],
   "source": [
    "history_3 = Bi_GRU_128.fit(X_train, y_train, batch_size=128, epochs=20, verbose=1, validation_split=0.2)"
   ]
  },
  {
   "cell_type": "code",
   "execution_count": 74,
   "metadata": {},
   "outputs": [
    {
     "name": "stdout",
     "output_type": "stream",
     "text": [
      "260/260 [==============================] - 13s 50ms/step - loss: 0.0625 - auc_3: 0.9959\n",
      "Train Score: 0.0624808706343174\n",
      "Train Accuracy: 0.9959343075752258\n"
     ]
    }
   ],
   "source": [
    "score_bigru_train = Bi_GRU_128.evaluate(X_train, y_train, verbose=1)\n",
    "print(\"Train Score:\", score_bigru_train[0])\n",
    "print(\"Train Accuracy:\", score_bigru_train[1])"
   ]
  },
  {
   "cell_type": "code",
   "execution_count": 75,
   "metadata": {},
   "outputs": [
    {
     "name": "stdout",
     "output_type": "stream",
     "text": [
      "65/65 [==============================] - 3s 49ms/step - loss: 0.2865 - auc_3: 0.9715\n",
      "Train Score: 0.2864611744880676\n",
      "Train Accuracy: 0.9714999198913574\n"
     ]
    }
   ],
   "source": [
    "score_bigru_test = Bi_GRU_128.evaluate(X_test, y_test, verbose=1)\n",
    "print(\"Train Score:\", score_bigru_test[0])\n",
    "print(\"Train Accuracy:\", score_bigru_test[1])"
   ]
  },
  {
   "cell_type": "code",
   "execution_count": null,
   "metadata": {},
   "outputs": [],
   "source": [
    "from tensorflow.keras.models import load_model\n",
    "\n",
    "# Guardar el modelo en un archivo\n",
    "Bi_GRU_glove.save('Bi_GRU_model.h5')"
   ]
  },
  {
   "cell_type": "code",
   "execution_count": 83,
   "metadata": {},
   "outputs": [
    {
     "name": "stdout",
     "output_type": "stream",
     "text": [
      "WARNING:tensorflow:Model was constructed with shape (None, 200) for input Tensor(\"input_12:0\", shape=(None, 200), dtype=float32), but it was called on an input with incompatible shape (None, 1).\n"
     ]
    },
    {
     "ename": "ValueError",
     "evalue": "in user code:\n\n    /usr/local/lib/python3.5/dist-packages/tensorflow/python/keras/engine/training.py:806 train_function  *\n        return step_function(self, iterator)\n    /usr/local/lib/python3.5/dist-packages/tensorflow/python/keras/engine/training.py:796 step_function  **\n        outputs = model.distribute_strategy.run(run_step, args=(data,))\n    /usr/local/lib/python3.5/dist-packages/tensorflow/python/distribute/distribute_lib.py:1211 run\n        return self._extended.call_for_each_replica(fn, args=args, kwargs=kwargs)\n    /usr/local/lib/python3.5/dist-packages/tensorflow/python/distribute/distribute_lib.py:2585 call_for_each_replica\n        return self._call_for_each_replica(fn, args, kwargs)\n    /usr/local/lib/python3.5/dist-packages/tensorflow/python/distribute/distribute_lib.py:2945 _call_for_each_replica\n        return fn(*args, **kwargs)\n    /usr/local/lib/python3.5/dist-packages/tensorflow/python/keras/engine/training.py:789 run_step  **\n        outputs = model.train_step(data)\n    /usr/local/lib/python3.5/dist-packages/tensorflow/python/keras/engine/training.py:747 train_step\n        y_pred = self(x, training=True)\n    /usr/local/lib/python3.5/dist-packages/tensorflow/python/keras/engine/base_layer.py:985 __call__\n        outputs = call_fn(inputs, *args, **kwargs)\n    /usr/local/lib/python3.5/dist-packages/tensorflow/python/keras/engine/functional.py:386 call\n        inputs, training=training, mask=mask)\n    /usr/local/lib/python3.5/dist-packages/tensorflow/python/keras/engine/functional.py:508 _run_internal_graph\n        outputs = node.layer(*args, **kwargs)\n    /usr/local/lib/python3.5/dist-packages/tensorflow/python/keras/engine/base_layer.py:985 __call__\n        outputs = call_fn(inputs, *args, **kwargs)\n    /usr/local/lib/python3.5/dist-packages/tensorflow/python/keras/layers/convolutional.py:247 call\n        outputs = self._convolution_op(inputs, self.kernel)\n    /usr/local/lib/python3.5/dist-packages/tensorflow/python/util/dispatch.py:201 wrapper\n        return target(*args, **kwargs)\n    /usr/local/lib/python3.5/dist-packages/tensorflow/python/ops/nn_ops.py:1017 convolution_v2\n        name=name)\n    /usr/local/lib/python3.5/dist-packages/tensorflow/python/ops/nn_ops.py:1147 convolution_internal\n        name=name)\n    /usr/local/lib/python3.5/dist-packages/tensorflow/python/util/dispatch.py:201 wrapper\n        return target(*args, **kwargs)\n    /usr/local/lib/python3.5/dist-packages/tensorflow/python/util/deprecation.py:574 new_func\n        return func(*args, **kwargs)\n    /usr/local/lib/python3.5/dist-packages/tensorflow/python/util/deprecation.py:574 new_func\n        return func(*args, **kwargs)\n    /usr/local/lib/python3.5/dist-packages/tensorflow/python/ops/nn_ops.py:1888 conv1d\n        name=name)\n    /usr/local/lib/python3.5/dist-packages/tensorflow/python/ops/gen_nn_ops.py:979 conv2d\n        data_format=data_format, dilations=dilations, name=name)\n    /usr/local/lib/python3.5/dist-packages/tensorflow/python/framework/op_def_library.py:744 _apply_op_helper\n        attrs=attr_protos, op_def=op_def)\n    /usr/local/lib/python3.5/dist-packages/tensorflow/python/framework/func_graph.py:593 _create_op_internal\n        compute_device)\n    /usr/local/lib/python3.5/dist-packages/tensorflow/python/framework/ops.py:3485 _create_op_internal\n        op_def=op_def)\n    /usr/local/lib/python3.5/dist-packages/tensorflow/python/framework/ops.py:1975 __init__\n        control_input_ops, op_def)\n    /usr/local/lib/python3.5/dist-packages/tensorflow/python/framework/ops.py:1815 _create_c_op\n        raise ValueError(str(e))\n\n    ValueError: Negative dimension size caused by subtracting 3 from 1 for '{{node functional_8/conv1d_4/conv1d}} = Conv2D[T=DT_FLOAT, data_format=\"NHWC\", dilations=[1, 1, 1, 1], explicit_paddings=[], padding=\"VALID\", strides=[1, 1, 1, 1], use_cudnn_on_gpu=true](functional_8/conv1d_4/conv1d/ExpandDims, functional_8/conv1d_4/conv1d/ExpandDims_1)' with input shapes: [?,1,1,256], [1,3,256,64].\n",
     "output_type": "error",
     "traceback": [
      "\u001b[0;31m---------------------------------------------------------------------------\u001b[0m",
      "\u001b[0;31mValueError\u001b[0m                                Traceback (most recent call last)",
      "\u001b[0;32m<ipython-input-83-2de059d4588f>\u001b[0m in \u001b[0;36m<module>\u001b[0;34m\u001b[0m\n\u001b[1;32m      8\u001b[0m     \u001b[0mX_train\u001b[0m\u001b[0;34m,\u001b[0m \u001b[0mX_test\u001b[0m \u001b[0;34m=\u001b[0m \u001b[0mX\u001b[0m\u001b[0;34m[\u001b[0m\u001b[0mtrain_index\u001b[0m\u001b[0;34m]\u001b[0m\u001b[0;34m,\u001b[0m \u001b[0mX\u001b[0m\u001b[0;34m[\u001b[0m\u001b[0mtest_index\u001b[0m\u001b[0;34m]\u001b[0m\u001b[0;34m\u001b[0m\u001b[0m\n\u001b[1;32m      9\u001b[0m     \u001b[0my_train\u001b[0m\u001b[0;34m,\u001b[0m \u001b[0my_test\u001b[0m \u001b[0;34m=\u001b[0m \u001b[0my\u001b[0m\u001b[0;34m[\u001b[0m\u001b[0mtrain_index\u001b[0m\u001b[0;34m]\u001b[0m\u001b[0;34m,\u001b[0m \u001b[0my\u001b[0m\u001b[0;34m[\u001b[0m\u001b[0mtest_index\u001b[0m\u001b[0;34m]\u001b[0m\u001b[0;34m\u001b[0m\u001b[0m\n\u001b[0;32m---> 10\u001b[0;31m     \u001b[0mBi_GRU_128\u001b[0m\u001b[0;34m.\u001b[0m\u001b[0mfit\u001b[0m\u001b[0;34m(\u001b[0m\u001b[0mX_train\u001b[0m\u001b[0;34m,\u001b[0m \u001b[0my_train\u001b[0m\u001b[0;34m,\u001b[0m \u001b[0mepochs\u001b[0m\u001b[0;34m=\u001b[0m\u001b[0;36m10\u001b[0m\u001b[0;34m,\u001b[0m \u001b[0mbatch_size\u001b[0m\u001b[0;34m=\u001b[0m\u001b[0;36m64\u001b[0m\u001b[0;34m,\u001b[0m \u001b[0mverbose\u001b[0m\u001b[0;34m=\u001b[0m\u001b[0;36m0\u001b[0m\u001b[0;34m)\u001b[0m\u001b[0;34m\u001b[0m\u001b[0m\n\u001b[0m\u001b[1;32m     11\u001b[0m     \u001b[0my_pred\u001b[0m \u001b[0;34m=\u001b[0m \u001b[0mnp\u001b[0m\u001b[0;34m.\u001b[0m\u001b[0margmax\u001b[0m\u001b[0;34m(\u001b[0m\u001b[0mBi_GRU_128\u001b[0m\u001b[0;34m.\u001b[0m\u001b[0mpredict\u001b[0m\u001b[0;34m(\u001b[0m\u001b[0mX_test\u001b[0m\u001b[0;34m)\u001b[0m\u001b[0;34m,\u001b[0m \u001b[0maxis\u001b[0m\u001b[0;34m=\u001b[0m\u001b[0;34m-\u001b[0m\u001b[0;36m1\u001b[0m\u001b[0;34m)\u001b[0m\u001b[0;34m\u001b[0m\u001b[0m\n\u001b[1;32m     12\u001b[0m     \u001b[0maccuracy\u001b[0m \u001b[0;34m=\u001b[0m \u001b[0maccuracy_score\u001b[0m\u001b[0;34m(\u001b[0m\u001b[0mnp\u001b[0m\u001b[0;34m.\u001b[0m\u001b[0margmax\u001b[0m\u001b[0;34m(\u001b[0m\u001b[0my_test\u001b[0m\u001b[0;34m,\u001b[0m \u001b[0maxis\u001b[0m\u001b[0;34m=\u001b[0m\u001b[0;34m-\u001b[0m\u001b[0;36m1\u001b[0m\u001b[0;34m)\u001b[0m\u001b[0;34m,\u001b[0m \u001b[0my_pred\u001b[0m\u001b[0;34m)\u001b[0m\u001b[0;34m\u001b[0m\u001b[0m\n",
      "\u001b[0;32m/usr/local/lib/python3.5/dist-packages/tensorflow/python/keras/engine/training.py\u001b[0m in \u001b[0;36m_method_wrapper\u001b[0;34m(self, *args, **kwargs)\u001b[0m\n\u001b[1;32m    106\u001b[0m   \u001b[0;32mdef\u001b[0m \u001b[0m_method_wrapper\u001b[0m\u001b[0;34m(\u001b[0m\u001b[0mself\u001b[0m\u001b[0;34m,\u001b[0m \u001b[0;34m*\u001b[0m\u001b[0margs\u001b[0m\u001b[0;34m,\u001b[0m \u001b[0;34m**\u001b[0m\u001b[0mkwargs\u001b[0m\u001b[0;34m)\u001b[0m\u001b[0;34m:\u001b[0m\u001b[0;34m\u001b[0m\u001b[0m\n\u001b[1;32m    107\u001b[0m     \u001b[0;32mif\u001b[0m \u001b[0;32mnot\u001b[0m \u001b[0mself\u001b[0m\u001b[0;34m.\u001b[0m\u001b[0m_in_multi_worker_mode\u001b[0m\u001b[0;34m(\u001b[0m\u001b[0;34m)\u001b[0m\u001b[0;34m:\u001b[0m  \u001b[0;31m# pylint: disable=protected-access\u001b[0m\u001b[0;34m\u001b[0m\u001b[0m\n\u001b[0;32m--> 108\u001b[0;31m       \u001b[0;32mreturn\u001b[0m \u001b[0mmethod\u001b[0m\u001b[0;34m(\u001b[0m\u001b[0mself\u001b[0m\u001b[0;34m,\u001b[0m \u001b[0;34m*\u001b[0m\u001b[0margs\u001b[0m\u001b[0;34m,\u001b[0m \u001b[0;34m**\u001b[0m\u001b[0mkwargs\u001b[0m\u001b[0;34m)\u001b[0m\u001b[0;34m\u001b[0m\u001b[0m\n\u001b[0m\u001b[1;32m    109\u001b[0m \u001b[0;34m\u001b[0m\u001b[0m\n\u001b[1;32m    110\u001b[0m     \u001b[0;31m# Running inside `run_distribute_coordinator` already.\u001b[0m\u001b[0;34m\u001b[0m\u001b[0;34m\u001b[0m\u001b[0m\n",
      "\u001b[0;32m/usr/local/lib/python3.5/dist-packages/tensorflow/python/keras/engine/training.py\u001b[0m in \u001b[0;36mfit\u001b[0;34m(self, x, y, batch_size, epochs, verbose, callbacks, validation_split, validation_data, shuffle, class_weight, sample_weight, initial_epoch, steps_per_epoch, validation_steps, validation_batch_size, validation_freq, max_queue_size, workers, use_multiprocessing)\u001b[0m\n\u001b[1;32m   1096\u001b[0m                 batch_size=batch_size):\n\u001b[1;32m   1097\u001b[0m               \u001b[0mcallbacks\u001b[0m\u001b[0;34m.\u001b[0m\u001b[0mon_train_batch_begin\u001b[0m\u001b[0;34m(\u001b[0m\u001b[0mstep\u001b[0m\u001b[0;34m)\u001b[0m\u001b[0;34m\u001b[0m\u001b[0m\n\u001b[0;32m-> 1098\u001b[0;31m               \u001b[0mtmp_logs\u001b[0m \u001b[0;34m=\u001b[0m \u001b[0mtrain_function\u001b[0m\u001b[0;34m(\u001b[0m\u001b[0miterator\u001b[0m\u001b[0;34m)\u001b[0m\u001b[0;34m\u001b[0m\u001b[0m\n\u001b[0m\u001b[1;32m   1099\u001b[0m               \u001b[0;32mif\u001b[0m \u001b[0mdata_handler\u001b[0m\u001b[0;34m.\u001b[0m\u001b[0mshould_sync\u001b[0m\u001b[0;34m:\u001b[0m\u001b[0;34m\u001b[0m\u001b[0m\n\u001b[1;32m   1100\u001b[0m                 \u001b[0mcontext\u001b[0m\u001b[0;34m.\u001b[0m\u001b[0masync_wait\u001b[0m\u001b[0;34m(\u001b[0m\u001b[0;34m)\u001b[0m\u001b[0;34m\u001b[0m\u001b[0m\n",
      "\u001b[0;32m/usr/local/lib/python3.5/dist-packages/tensorflow/python/eager/def_function.py\u001b[0m in \u001b[0;36m__call__\u001b[0;34m(self, *args, **kwds)\u001b[0m\n\u001b[1;32m    778\u001b[0m       \u001b[0;32melse\u001b[0m\u001b[0;34m:\u001b[0m\u001b[0;34m\u001b[0m\u001b[0m\n\u001b[1;32m    779\u001b[0m         \u001b[0mcompiler\u001b[0m \u001b[0;34m=\u001b[0m \u001b[0;34m\"nonXla\"\u001b[0m\u001b[0;34m\u001b[0m\u001b[0m\n\u001b[0;32m--> 780\u001b[0;31m         \u001b[0mresult\u001b[0m \u001b[0;34m=\u001b[0m \u001b[0mself\u001b[0m\u001b[0;34m.\u001b[0m\u001b[0m_call\u001b[0m\u001b[0;34m(\u001b[0m\u001b[0;34m*\u001b[0m\u001b[0margs\u001b[0m\u001b[0;34m,\u001b[0m \u001b[0;34m**\u001b[0m\u001b[0mkwds\u001b[0m\u001b[0;34m)\u001b[0m\u001b[0;34m\u001b[0m\u001b[0m\n\u001b[0m\u001b[1;32m    781\u001b[0m \u001b[0;34m\u001b[0m\u001b[0m\n\u001b[1;32m    782\u001b[0m       \u001b[0mnew_tracing_count\u001b[0m \u001b[0;34m=\u001b[0m \u001b[0mself\u001b[0m\u001b[0;34m.\u001b[0m\u001b[0m_get_tracing_count\u001b[0m\u001b[0;34m(\u001b[0m\u001b[0;34m)\u001b[0m\u001b[0;34m\u001b[0m\u001b[0m\n",
      "\u001b[0;32m/usr/local/lib/python3.5/dist-packages/tensorflow/python/eager/def_function.py\u001b[0m in \u001b[0;36m_call\u001b[0;34m(self, *args, **kwds)\u001b[0m\n\u001b[1;32m    805\u001b[0m       \u001b[0;31m# In this case we have created variables on the first call, so we run the\u001b[0m\u001b[0;34m\u001b[0m\u001b[0;34m\u001b[0m\u001b[0m\n\u001b[1;32m    806\u001b[0m       \u001b[0;31m# defunned version which is guaranteed to never create variables.\u001b[0m\u001b[0;34m\u001b[0m\u001b[0;34m\u001b[0m\u001b[0m\n\u001b[0;32m--> 807\u001b[0;31m       \u001b[0;32mreturn\u001b[0m \u001b[0mself\u001b[0m\u001b[0;34m.\u001b[0m\u001b[0m_stateless_fn\u001b[0m\u001b[0;34m(\u001b[0m\u001b[0;34m*\u001b[0m\u001b[0margs\u001b[0m\u001b[0;34m,\u001b[0m \u001b[0;34m**\u001b[0m\u001b[0mkwds\u001b[0m\u001b[0;34m)\u001b[0m  \u001b[0;31m# pylint: disable=not-callable\u001b[0m\u001b[0;34m\u001b[0m\u001b[0m\n\u001b[0m\u001b[1;32m    808\u001b[0m     \u001b[0;32melif\u001b[0m \u001b[0mself\u001b[0m\u001b[0;34m.\u001b[0m\u001b[0m_stateful_fn\u001b[0m \u001b[0;32mis\u001b[0m \u001b[0;32mnot\u001b[0m \u001b[0;32mNone\u001b[0m\u001b[0;34m:\u001b[0m\u001b[0;34m\u001b[0m\u001b[0m\n\u001b[1;32m    809\u001b[0m       \u001b[0;31m# Release the lock early so that multiple threads can perform the call\u001b[0m\u001b[0;34m\u001b[0m\u001b[0;34m\u001b[0m\u001b[0m\n",
      "\u001b[0;32m/usr/local/lib/python3.5/dist-packages/tensorflow/python/eager/function.py\u001b[0m in \u001b[0;36m__call__\u001b[0;34m(self, *args, **kwargs)\u001b[0m\n\u001b[1;32m   2826\u001b[0m     \u001b[0;34m\"\"\"Calls a graph function specialized to the inputs.\"\"\"\u001b[0m\u001b[0;34m\u001b[0m\u001b[0m\n\u001b[1;32m   2827\u001b[0m     \u001b[0;32mwith\u001b[0m \u001b[0mself\u001b[0m\u001b[0;34m.\u001b[0m\u001b[0m_lock\u001b[0m\u001b[0;34m:\u001b[0m\u001b[0;34m\u001b[0m\u001b[0m\n\u001b[0;32m-> 2828\u001b[0;31m       \u001b[0mgraph_function\u001b[0m\u001b[0;34m,\u001b[0m \u001b[0margs\u001b[0m\u001b[0;34m,\u001b[0m \u001b[0mkwargs\u001b[0m \u001b[0;34m=\u001b[0m \u001b[0mself\u001b[0m\u001b[0;34m.\u001b[0m\u001b[0m_maybe_define_function\u001b[0m\u001b[0;34m(\u001b[0m\u001b[0margs\u001b[0m\u001b[0;34m,\u001b[0m \u001b[0mkwargs\u001b[0m\u001b[0;34m)\u001b[0m\u001b[0;34m\u001b[0m\u001b[0m\n\u001b[0m\u001b[1;32m   2829\u001b[0m     \u001b[0;32mreturn\u001b[0m \u001b[0mgraph_function\u001b[0m\u001b[0;34m.\u001b[0m\u001b[0m_filtered_call\u001b[0m\u001b[0;34m(\u001b[0m\u001b[0margs\u001b[0m\u001b[0;34m,\u001b[0m \u001b[0mkwargs\u001b[0m\u001b[0;34m)\u001b[0m  \u001b[0;31m# pylint: disable=protected-access\u001b[0m\u001b[0;34m\u001b[0m\u001b[0m\n\u001b[1;32m   2830\u001b[0m \u001b[0;34m\u001b[0m\u001b[0m\n",
      "\u001b[0;32m/usr/local/lib/python3.5/dist-packages/tensorflow/python/eager/function.py\u001b[0m in \u001b[0;36m_maybe_define_function\u001b[0;34m(self, args, kwargs)\u001b[0m\n\u001b[1;32m   3208\u001b[0m           \u001b[0;32mand\u001b[0m \u001b[0mself\u001b[0m\u001b[0;34m.\u001b[0m\u001b[0minput_signature\u001b[0m \u001b[0;32mis\u001b[0m \u001b[0;32mNone\u001b[0m\u001b[0;34m\u001b[0m\u001b[0m\n\u001b[1;32m   3209\u001b[0m           and call_context_key in self._function_cache.missed):\n\u001b[0;32m-> 3210\u001b[0;31m         \u001b[0;32mreturn\u001b[0m \u001b[0mself\u001b[0m\u001b[0;34m.\u001b[0m\u001b[0m_define_function_with_shape_relaxation\u001b[0m\u001b[0;34m(\u001b[0m\u001b[0margs\u001b[0m\u001b[0;34m,\u001b[0m \u001b[0mkwargs\u001b[0m\u001b[0;34m)\u001b[0m\u001b[0;34m\u001b[0m\u001b[0m\n\u001b[0m\u001b[1;32m   3211\u001b[0m \u001b[0;34m\u001b[0m\u001b[0m\n\u001b[1;32m   3212\u001b[0m       \u001b[0mself\u001b[0m\u001b[0;34m.\u001b[0m\u001b[0m_function_cache\u001b[0m\u001b[0;34m.\u001b[0m\u001b[0mmissed\u001b[0m\u001b[0;34m.\u001b[0m\u001b[0madd\u001b[0m\u001b[0;34m(\u001b[0m\u001b[0mcall_context_key\u001b[0m\u001b[0;34m)\u001b[0m\u001b[0;34m\u001b[0m\u001b[0m\n",
      "\u001b[0;32m/usr/local/lib/python3.5/dist-packages/tensorflow/python/eager/function.py\u001b[0m in \u001b[0;36m_define_function_with_shape_relaxation\u001b[0;34m(self, args, kwargs)\u001b[0m\n\u001b[1;32m   3140\u001b[0m \u001b[0;34m\u001b[0m\u001b[0m\n\u001b[1;32m   3141\u001b[0m     graph_function = self._create_graph_function(\n\u001b[0;32m-> 3142\u001b[0;31m         args, kwargs, override_flat_arg_shapes=relaxed_arg_shapes)\n\u001b[0m\u001b[1;32m   3143\u001b[0m     \u001b[0mself\u001b[0m\u001b[0;34m.\u001b[0m\u001b[0m_function_cache\u001b[0m\u001b[0;34m.\u001b[0m\u001b[0marg_relaxed\u001b[0m\u001b[0;34m[\u001b[0m\u001b[0mrank_only_cache_key\u001b[0m\u001b[0;34m]\u001b[0m \u001b[0;34m=\u001b[0m \u001b[0mgraph_function\u001b[0m\u001b[0;34m\u001b[0m\u001b[0m\n\u001b[1;32m   3144\u001b[0m \u001b[0;34m\u001b[0m\u001b[0m\n",
      "\u001b[0;32m/usr/local/lib/python3.5/dist-packages/tensorflow/python/eager/function.py\u001b[0m in \u001b[0;36m_create_graph_function\u001b[0;34m(self, args, kwargs, override_flat_arg_shapes)\u001b[0m\n\u001b[1;32m   3073\u001b[0m             \u001b[0marg_names\u001b[0m\u001b[0;34m=\u001b[0m\u001b[0marg_names\u001b[0m\u001b[0;34m,\u001b[0m\u001b[0;34m\u001b[0m\u001b[0m\n\u001b[1;32m   3074\u001b[0m             \u001b[0moverride_flat_arg_shapes\u001b[0m\u001b[0;34m=\u001b[0m\u001b[0moverride_flat_arg_shapes\u001b[0m\u001b[0;34m,\u001b[0m\u001b[0;34m\u001b[0m\u001b[0m\n\u001b[0;32m-> 3075\u001b[0;31m             capture_by_value=self._capture_by_value),\n\u001b[0m\u001b[1;32m   3076\u001b[0m         \u001b[0mself\u001b[0m\u001b[0;34m.\u001b[0m\u001b[0m_function_attributes\u001b[0m\u001b[0;34m,\u001b[0m\u001b[0;34m\u001b[0m\u001b[0m\n\u001b[1;32m   3077\u001b[0m         \u001b[0mfunction_spec\u001b[0m\u001b[0;34m=\u001b[0m\u001b[0mself\u001b[0m\u001b[0;34m.\u001b[0m\u001b[0mfunction_spec\u001b[0m\u001b[0;34m,\u001b[0m\u001b[0;34m\u001b[0m\u001b[0m\n",
      "\u001b[0;32m/usr/local/lib/python3.5/dist-packages/tensorflow/python/framework/func_graph.py\u001b[0m in \u001b[0;36mfunc_graph_from_py_func\u001b[0;34m(name, python_func, args, kwargs, signature, func_graph, autograph, autograph_options, add_control_dependencies, arg_names, op_return_value, collections, capture_by_value, override_flat_arg_shapes)\u001b[0m\n\u001b[1;32m    984\u001b[0m         \u001b[0m_\u001b[0m\u001b[0;34m,\u001b[0m \u001b[0moriginal_func\u001b[0m \u001b[0;34m=\u001b[0m \u001b[0mtf_decorator\u001b[0m\u001b[0;34m.\u001b[0m\u001b[0munwrap\u001b[0m\u001b[0;34m(\u001b[0m\u001b[0mpython_func\u001b[0m\u001b[0;34m)\u001b[0m\u001b[0;34m\u001b[0m\u001b[0m\n\u001b[1;32m    985\u001b[0m \u001b[0;34m\u001b[0m\u001b[0m\n\u001b[0;32m--> 986\u001b[0;31m       \u001b[0mfunc_outputs\u001b[0m \u001b[0;34m=\u001b[0m \u001b[0mpython_func\u001b[0m\u001b[0;34m(\u001b[0m\u001b[0;34m*\u001b[0m\u001b[0mfunc_args\u001b[0m\u001b[0;34m,\u001b[0m \u001b[0;34m**\u001b[0m\u001b[0mfunc_kwargs\u001b[0m\u001b[0;34m)\u001b[0m\u001b[0;34m\u001b[0m\u001b[0m\n\u001b[0m\u001b[1;32m    987\u001b[0m \u001b[0;34m\u001b[0m\u001b[0m\n\u001b[1;32m    988\u001b[0m       \u001b[0;31m# invariant: `func_outputs` contains only Tensors, CompositeTensors,\u001b[0m\u001b[0;34m\u001b[0m\u001b[0;34m\u001b[0m\u001b[0m\n",
      "\u001b[0;32m/usr/local/lib/python3.5/dist-packages/tensorflow/python/eager/def_function.py\u001b[0m in \u001b[0;36mwrapped_fn\u001b[0;34m(*args, **kwds)\u001b[0m\n\u001b[1;32m    598\u001b[0m         \u001b[0;31m# __wrapped__ allows AutoGraph to swap in a converted function. We give\u001b[0m\u001b[0;34m\u001b[0m\u001b[0;34m\u001b[0m\u001b[0m\n\u001b[1;32m    599\u001b[0m         \u001b[0;31m# the function a weak reference to itself to avoid a reference cycle.\u001b[0m\u001b[0;34m\u001b[0m\u001b[0;34m\u001b[0m\u001b[0m\n\u001b[0;32m--> 600\u001b[0;31m         \u001b[0;32mreturn\u001b[0m \u001b[0mweak_wrapped_fn\u001b[0m\u001b[0;34m(\u001b[0m\u001b[0;34m)\u001b[0m\u001b[0;34m.\u001b[0m\u001b[0m__wrapped__\u001b[0m\u001b[0;34m(\u001b[0m\u001b[0;34m*\u001b[0m\u001b[0margs\u001b[0m\u001b[0;34m,\u001b[0m \u001b[0;34m**\u001b[0m\u001b[0mkwds\u001b[0m\u001b[0;34m)\u001b[0m\u001b[0;34m\u001b[0m\u001b[0m\n\u001b[0m\u001b[1;32m    601\u001b[0m     \u001b[0mweak_wrapped_fn\u001b[0m \u001b[0;34m=\u001b[0m \u001b[0mweakref\u001b[0m\u001b[0;34m.\u001b[0m\u001b[0mref\u001b[0m\u001b[0;34m(\u001b[0m\u001b[0mwrapped_fn\u001b[0m\u001b[0;34m)\u001b[0m\u001b[0;34m\u001b[0m\u001b[0m\n\u001b[1;32m    602\u001b[0m \u001b[0;34m\u001b[0m\u001b[0m\n",
      "\u001b[0;32m/usr/local/lib/python3.5/dist-packages/tensorflow/python/framework/func_graph.py\u001b[0m in \u001b[0;36mwrapper\u001b[0;34m(*args, **kwargs)\u001b[0m\n\u001b[1;32m    971\u001b[0m           \u001b[0;32mexcept\u001b[0m \u001b[0mException\u001b[0m \u001b[0;32mas\u001b[0m \u001b[0me\u001b[0m\u001b[0;34m:\u001b[0m  \u001b[0;31m# pylint:disable=broad-except\u001b[0m\u001b[0;34m\u001b[0m\u001b[0m\n\u001b[1;32m    972\u001b[0m             \u001b[0;32mif\u001b[0m \u001b[0mhasattr\u001b[0m\u001b[0;34m(\u001b[0m\u001b[0me\u001b[0m\u001b[0;34m,\u001b[0m \u001b[0;34m\"ag_error_metadata\"\u001b[0m\u001b[0;34m)\u001b[0m\u001b[0;34m:\u001b[0m\u001b[0;34m\u001b[0m\u001b[0m\n\u001b[0;32m--> 973\u001b[0;31m               \u001b[0;32mraise\u001b[0m \u001b[0me\u001b[0m\u001b[0;34m.\u001b[0m\u001b[0mag_error_metadata\u001b[0m\u001b[0;34m.\u001b[0m\u001b[0mto_exception\u001b[0m\u001b[0;34m(\u001b[0m\u001b[0me\u001b[0m\u001b[0;34m)\u001b[0m\u001b[0;34m\u001b[0m\u001b[0m\n\u001b[0m\u001b[1;32m    974\u001b[0m             \u001b[0;32melse\u001b[0m\u001b[0;34m:\u001b[0m\u001b[0;34m\u001b[0m\u001b[0m\n\u001b[1;32m    975\u001b[0m               \u001b[0;32mraise\u001b[0m\u001b[0;34m\u001b[0m\u001b[0m\n",
      "\u001b[0;31mValueError\u001b[0m: in user code:\n\n    /usr/local/lib/python3.5/dist-packages/tensorflow/python/keras/engine/training.py:806 train_function  *\n        return step_function(self, iterator)\n    /usr/local/lib/python3.5/dist-packages/tensorflow/python/keras/engine/training.py:796 step_function  **\n        outputs = model.distribute_strategy.run(run_step, args=(data,))\n    /usr/local/lib/python3.5/dist-packages/tensorflow/python/distribute/distribute_lib.py:1211 run\n        return self._extended.call_for_each_replica(fn, args=args, kwargs=kwargs)\n    /usr/local/lib/python3.5/dist-packages/tensorflow/python/distribute/distribute_lib.py:2585 call_for_each_replica\n        return self._call_for_each_replica(fn, args, kwargs)\n    /usr/local/lib/python3.5/dist-packages/tensorflow/python/distribute/distribute_lib.py:2945 _call_for_each_replica\n        return fn(*args, **kwargs)\n    /usr/local/lib/python3.5/dist-packages/tensorflow/python/keras/engine/training.py:789 run_step  **\n        outputs = model.train_step(data)\n    /usr/local/lib/python3.5/dist-packages/tensorflow/python/keras/engine/training.py:747 train_step\n        y_pred = self(x, training=True)\n    /usr/local/lib/python3.5/dist-packages/tensorflow/python/keras/engine/base_layer.py:985 __call__\n        outputs = call_fn(inputs, *args, **kwargs)\n    /usr/local/lib/python3.5/dist-packages/tensorflow/python/keras/engine/functional.py:386 call\n        inputs, training=training, mask=mask)\n    /usr/local/lib/python3.5/dist-packages/tensorflow/python/keras/engine/functional.py:508 _run_internal_graph\n        outputs = node.layer(*args, **kwargs)\n    /usr/local/lib/python3.5/dist-packages/tensorflow/python/keras/engine/base_layer.py:985 __call__\n        outputs = call_fn(inputs, *args, **kwargs)\n    /usr/local/lib/python3.5/dist-packages/tensorflow/python/keras/layers/convolutional.py:247 call\n        outputs = self._convolution_op(inputs, self.kernel)\n    /usr/local/lib/python3.5/dist-packages/tensorflow/python/util/dispatch.py:201 wrapper\n        return target(*args, **kwargs)\n    /usr/local/lib/python3.5/dist-packages/tensorflow/python/ops/nn_ops.py:1017 convolution_v2\n        name=name)\n    /usr/local/lib/python3.5/dist-packages/tensorflow/python/ops/nn_ops.py:1147 convolution_internal\n        name=name)\n    /usr/local/lib/python3.5/dist-packages/tensorflow/python/util/dispatch.py:201 wrapper\n        return target(*args, **kwargs)\n    /usr/local/lib/python3.5/dist-packages/tensorflow/python/util/deprecation.py:574 new_func\n        return func(*args, **kwargs)\n    /usr/local/lib/python3.5/dist-packages/tensorflow/python/util/deprecation.py:574 new_func\n        return func(*args, **kwargs)\n    /usr/local/lib/python3.5/dist-packages/tensorflow/python/ops/nn_ops.py:1888 conv1d\n        name=name)\n    /usr/local/lib/python3.5/dist-packages/tensorflow/python/ops/gen_nn_ops.py:979 conv2d\n        data_format=data_format, dilations=dilations, name=name)\n    /usr/local/lib/python3.5/dist-packages/tensorflow/python/framework/op_def_library.py:744 _apply_op_helper\n        attrs=attr_protos, op_def=op_def)\n    /usr/local/lib/python3.5/dist-packages/tensorflow/python/framework/func_graph.py:593 _create_op_internal\n        compute_device)\n    /usr/local/lib/python3.5/dist-packages/tensorflow/python/framework/ops.py:3485 _create_op_internal\n        op_def=op_def)\n    /usr/local/lib/python3.5/dist-packages/tensorflow/python/framework/ops.py:1975 __init__\n        control_input_ops, op_def)\n    /usr/local/lib/python3.5/dist-packages/tensorflow/python/framework/ops.py:1815 _create_c_op\n        raise ValueError(str(e))\n\n    ValueError: Negative dimension size caused by subtracting 3 from 1 for '{{node functional_8/conv1d_4/conv1d}} = Conv2D[T=DT_FLOAT, data_format=\"NHWC\", dilations=[1, 1, 1, 1], explicit_paddings=[], padding=\"VALID\", strides=[1, 1, 1, 1], use_cudnn_on_gpu=true](functional_8/conv1d_4/conv1d/ExpandDims, functional_8/conv1d_4/conv1d/ExpandDims_1)' with input shapes: [?,1,1,256], [1,3,256,64].\n"
     ]
    }
   ],
   "source": [
    "# Crear una instancia de kfolds con n=5\n",
    "kf = KFold(n_splits=5, shuffle=True)\n",
    "\n",
    "# Lista para almacenar los resultados de precisión\n",
    "accuracy_scores = []\n",
    "\n",
    "for train_index, test_index in kf.split(X):\n",
    "    X_train, X_test = X[train_index], X[test_index]\n",
    "    Bi_GRU_128.fit(X_train, y_train, epochs=10, batch_size=64, verbose=0)\n",
    "    y_pred = np.argmax(Bi_GRU_128.predict(X_test), axis=-1)\n",
    "    accuracy = accuracy_score(np.argmax(y_test, axis=-1), y_pred)\n",
    "#     print()\n",
    "    print(accuracy)\n",
    "    accuracy_scores.append(accuracy)\n",
    "    \n",
    "\n",
    "# Calcular la precisión media en todos los folds\n",
    "mean_accuracy = np.mean(accuracy_scores)\n",
    "print('Mean Accuracy over K-flod = 5:', mean_accuracy)"
   ]
  },
  {
   "cell_type": "code",
   "execution_count": null,
   "metadata": {},
   "outputs": [],
   "source": [
    "from tensorflow.keras.models import load_model\n",
    "\n",
    "# Cargar el modelo desde el archivo\n",
    "model1 = load_model('Bi_GRU_model.h5')"
   ]
  }
 ],
 "metadata": {
  "accelerator": "GPU",
  "colab": {
   "collapsed_sections": [],
   "include_colab_link": true,
   "name": "LSTM_Bi-LSTM_GRU_Bi-GRU.ipynb",
   "provenance": []
  },
  "kernelspec": {
   "display_name": "Python 3",
   "language": "python",
   "name": "python3"
  },
  "language_info": {
   "codemirror_mode": {
    "name": "ipython",
    "version": 3
   },
   "file_extension": ".py",
   "mimetype": "text/x-python",
   "name": "python",
   "nbconvert_exporter": "python",
   "pygments_lexer": "ipython3",
   "version": "3.5.2"
  }
 },
 "nbformat": 4,
 "nbformat_minor": 1
}
