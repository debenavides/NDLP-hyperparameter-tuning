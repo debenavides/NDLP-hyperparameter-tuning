{
 "cells": [
  {
   "cell_type": "markdown",
   "metadata": {
    "colab_type": "text",
    "id": "view-in-github"
   },
   "source": [
    "<a href=\"https://colab.research.google.com/github/akritidu/Multi-label-Classification-in-the-Home-Improvement/blob/main/LSTM_Bi_LSTM_GRU_Bi_GRU.ipynb\" target=\"_parent\"><img src=\"https://colab.research.google.com/assets/colab-badge.svg\" alt=\"Open In Colab\"/></a>"
   ]
  },
  {
   "cell_type": "markdown",
   "metadata": {},
   "source": [
    "# **Load and clean parameter**"
   ]
  },
  {
   "cell_type": "code",
   "execution_count": 3,
   "metadata": {},
   "outputs": [],
   "source": [
    "from numpy import array\n",
    "from tensorflow.keras import Sequential\n",
    "from tensorflow.keras.layers import Activation, Dropout, Dense\n",
    "from tensorflow.keras.layers import Flatten, LSTM, GRU, Bidirectional, GlobalAveragePooling1D\n",
    "from tensorflow.keras.layers import GlobalMaxPooling1D, SpatialDropout1D, GlobalMaxPool1D, BatchNormalization\n",
    "from tensorflow.keras.models import Model\n",
    "from tensorflow.keras.layers import Embedding\n",
    "# from sklearn.model_selection import train_test_split\n",
    "from tensorflow.keras.preprocessing.text import Tokenizer\n",
    "from tensorflow.keras.layers import Input\n",
    "from tensorflow.keras.layers import Concatenate\n",
    "\n",
    "import pandas as pd\n",
    "import numpy as np\n",
    "import re\n"
   ]
  },
  {
   "cell_type": "code",
   "execution_count": 28,
   "metadata": {},
   "outputs": [],
   "source": [
    "df = pd.read_csv('Phishload3columnasV3sinNaN.csv') #actual\n"
   ]
  },
  {
   "cell_type": "code",
   "execution_count": 29,
   "metadata": {},
   "outputs": [
    {
     "data": {
      "text/html": [
       "<div>\n",
       "<style scoped>\n",
       "    .dataframe tbody tr th:only-of-type {\n",
       "        vertical-align: middle;\n",
       "    }\n",
       "\n",
       "    .dataframe tbody tr th {\n",
       "        vertical-align: top;\n",
       "    }\n",
       "\n",
       "    .dataframe thead th {\n",
       "        text-align: right;\n",
       "    }\n",
       "</style>\n",
       "<table border=\"1\" class=\"dataframe\">\n",
       "  <thead>\n",
       "    <tr style=\"text-align: right;\">\n",
       "      <th></th>\n",
       "      <th>contexts</th>\n",
       "      <th>ham</th>\n",
       "      <th>phishing</th>\n",
       "    </tr>\n",
       "  </thead>\n",
       "  <tbody>\n",
       "    <tr>\n",
       "      <th>0</th>\n",
       "      <td>&lt;!DOCTYPE html&gt;\\r\\n&lt;html xmlns=\"http://www.w3....</td>\n",
       "      <td>1</td>\n",
       "      <td>0</td>\n",
       "    </tr>\n",
       "    <tr>\n",
       "      <th>1</th>\n",
       "      <td>&lt;!DOCTYPE html&gt;\\r\\n&lt;html xmlns=\"http://www.w3....</td>\n",
       "      <td>1</td>\n",
       "      <td>0</td>\n",
       "    </tr>\n",
       "    <tr>\n",
       "      <th>2</th>\n",
       "      <td>&lt;!DOCTYPE html&gt;\\r\\n&lt;html xmlns=\"http://www.w3....</td>\n",
       "      <td>1</td>\n",
       "      <td>0</td>\n",
       "    </tr>\n",
       "    <tr>\n",
       "      <th>3</th>\n",
       "      <td>&lt;!DOCTYPE html&gt;\\r\\n&lt;html xmlns=\"http://www.w3....</td>\n",
       "      <td>1</td>\n",
       "      <td>0</td>\n",
       "    </tr>\n",
       "    <tr>\n",
       "      <th>4</th>\n",
       "      <td>&lt;!DOCTYPE html&gt;\\r\\n&lt;html xmlns=\"http://www.w3....</td>\n",
       "      <td>1</td>\n",
       "      <td>0</td>\n",
       "    </tr>\n",
       "    <tr>\n",
       "      <th>5</th>\n",
       "      <td>&lt;!DOCTYPE html&gt;\\r\\n&lt;!-- Sysops: Please do not ...</td>\n",
       "      <td>1</td>\n",
       "      <td>0</td>\n",
       "    </tr>\n",
       "    <tr>\n",
       "      <th>6</th>\n",
       "      <td>&lt;!-- ServerInfo: BAYIDSLGN1M58 2012.01.05.13.5...</td>\n",
       "      <td>1</td>\n",
       "      <td>0</td>\n",
       "    </tr>\n",
       "    <tr>\n",
       "      <th>7</th>\n",
       "      <td>&lt;!DOCTYPE html&gt;\\r\\n&lt;html xmlns=\"http://www.w3....</td>\n",
       "      <td>1</td>\n",
       "      <td>0</td>\n",
       "    </tr>\n",
       "    <tr>\n",
       "      <th>8</th>\n",
       "      <td>&lt;!DOCTYPE html&gt;\\r\\n&lt;html xmlns=\"http://www.w3....</td>\n",
       "      <td>1</td>\n",
       "      <td>0</td>\n",
       "    </tr>\n",
       "    <tr>\n",
       "      <th>9</th>\n",
       "      <td>&lt;!DOCTYPE html PUBLIC \"-//W3C//DTD XHTML 1.0 T...</td>\n",
       "      <td>1</td>\n",
       "      <td>0</td>\n",
       "    </tr>\n",
       "    <tr>\n",
       "      <th>10</th>\n",
       "      <td>&lt;!DOCTYPE html PUBLIC \"-//W3C//DTD HTML 4.01 T...</td>\n",
       "      <td>1</td>\n",
       "      <td>0</td>\n",
       "    </tr>\n",
       "    <tr>\n",
       "      <th>11</th>\n",
       "      <td>&lt;!DOCTYPE html&gt;\\r\\n&lt;html xmlns=\"http://www.w3....</td>\n",
       "      <td>1</td>\n",
       "      <td>0</td>\n",
       "    </tr>\n",
       "    <tr>\n",
       "      <th>12</th>\n",
       "      <td>&lt;!DOCTYPE html&gt;\\r\\n&lt;html xmlns=\"http://www.w3....</td>\n",
       "      <td>1</td>\n",
       "      <td>0</td>\n",
       "    </tr>\n",
       "    <tr>\n",
       "      <th>13</th>\n",
       "      <td>&lt;!DOCTYPE html PUBLIC \"-//W3C//DTD XHTML 1.0 S...</td>\n",
       "      <td>1</td>\n",
       "      <td>0</td>\n",
       "    </tr>\n",
       "    <tr>\n",
       "      <th>14</th>\n",
       "      <td>&lt;!DOCTYPE html&gt;\\r\\n&lt;html xmlns=\"http://www.w3....</td>\n",
       "      <td>1</td>\n",
       "      <td>0</td>\n",
       "    </tr>\n",
       "    <tr>\n",
       "      <th>15</th>\n",
       "      <td>&lt;!DOCTYPE html PUBLIC \"-//W3C//DTD HTML 4.01 T...</td>\n",
       "      <td>1</td>\n",
       "      <td>0</td>\n",
       "    </tr>\n",
       "    <tr>\n",
       "      <th>16</th>\n",
       "      <td>&lt;!DOCTYPE html PUBLIC \"-//W3C//DTD XHTML 1.0 T...</td>\n",
       "      <td>1</td>\n",
       "      <td>0</td>\n",
       "    </tr>\n",
       "    <tr>\n",
       "      <th>17</th>\n",
       "      <td>&lt;!DOCTYPE html PUBLIC \"-//W3C//DTD XHTML 1.0 T...</td>\n",
       "      <td>1</td>\n",
       "      <td>0</td>\n",
       "    </tr>\n",
       "    <tr>\n",
       "      <th>18</th>\n",
       "      <td>&lt;!DOCTYPE html&gt;\\r\\n&lt;html xmlns=\"http://www.w3....</td>\n",
       "      <td>1</td>\n",
       "      <td>0</td>\n",
       "    </tr>\n",
       "    <tr>\n",
       "      <th>19</th>\n",
       "      <td>&lt;!DOCTYPE html&gt;\\r\\n&lt;html xmlns=\"http://www.w3....</td>\n",
       "      <td>1</td>\n",
       "      <td>0</td>\n",
       "    </tr>\n",
       "    <tr>\n",
       "      <th>20</th>\n",
       "      <td>&lt;!DOCTYPE html PUBLIC \"-//W3C//DTD HTML 4.01 T...</td>\n",
       "      <td>1</td>\n",
       "      <td>0</td>\n",
       "    </tr>\n",
       "    <tr>\n",
       "      <th>21</th>\n",
       "      <td>&lt;!DOCTYPE html&gt;\\r\\n&lt;html xmlns=\"http://www.w3....</td>\n",
       "      <td>1</td>\n",
       "      <td>0</td>\n",
       "    </tr>\n",
       "    <tr>\n",
       "      <th>22</th>\n",
       "      <td>&lt;!DOCTYPE html PUBLIC \"-//W3C//DTD HTML 4.01 T...</td>\n",
       "      <td>1</td>\n",
       "      <td>0</td>\n",
       "    </tr>\n",
       "    <tr>\n",
       "      <th>23</th>\n",
       "      <td>&lt;!DOCTYPE html&gt;\\r\\n&lt;html xmlns=\"http://www.w3....</td>\n",
       "      <td>1</td>\n",
       "      <td>0</td>\n",
       "    </tr>\n",
       "    <tr>\n",
       "      <th>24</th>\n",
       "      <td>&lt;!DOCTYPE html PUBLIC \"-//W3C//DTD XHTML 1.0 T...</td>\n",
       "      <td>1</td>\n",
       "      <td>0</td>\n",
       "    </tr>\n",
       "    <tr>\n",
       "      <th>25</th>\n",
       "      <td>&lt;!DOCTYPE html&gt;\\r\\n&lt;html xmlns=\"http://www.w3....</td>\n",
       "      <td>1</td>\n",
       "      <td>0</td>\n",
       "    </tr>\n",
       "    <tr>\n",
       "      <th>26</th>\n",
       "      <td>&lt;!DOCTYPE html PUBLIC \"-//W3C//DTD XHTML 1.0 T...</td>\n",
       "      <td>1</td>\n",
       "      <td>0</td>\n",
       "    </tr>\n",
       "    <tr>\n",
       "      <th>27</th>\n",
       "      <td>&lt;!DOCTYPE html&gt;\\r\\n&lt;html xmlns=\"http://www.w3....</td>\n",
       "      <td>1</td>\n",
       "      <td>0</td>\n",
       "    </tr>\n",
       "    <tr>\n",
       "      <th>28</th>\n",
       "      <td>&lt;!DOCTYPE html PUBLIC \"-//W3C//DTD XHTML 1.1//...</td>\n",
       "      <td>1</td>\n",
       "      <td>0</td>\n",
       "    </tr>\n",
       "    <tr>\n",
       "      <th>29</th>\n",
       "      <td>&lt;!DOCTYPE html PUBLIC \"-//W3C//DTD XHTML 1.0 T...</td>\n",
       "      <td>1</td>\n",
       "      <td>0</td>\n",
       "    </tr>\n",
       "    <tr>\n",
       "      <th>...</th>\n",
       "      <td>...</td>\n",
       "      <td>...</td>\n",
       "      <td>...</td>\n",
       "    </tr>\n",
       "    <tr>\n",
       "      <th>10344</th>\n",
       "      <td>&lt;!DOCTYPE html PUBLIC \"-//W3C//DTD XHTML 1.0 T...</td>\n",
       "      <td>1</td>\n",
       "      <td>0</td>\n",
       "    </tr>\n",
       "    <tr>\n",
       "      <th>10345</th>\n",
       "      <td>&lt;!DOCTYPE html PUBLIC \"-//W3C//DTD XHTML 1.0 T...</td>\n",
       "      <td>1</td>\n",
       "      <td>0</td>\n",
       "    </tr>\n",
       "    <tr>\n",
       "      <th>10346</th>\n",
       "      <td>&lt;!DOCTYPE html PUBLIC \"-//W3C//DTD XHTML 1.0 T...</td>\n",
       "      <td>1</td>\n",
       "      <td>0</td>\n",
       "    </tr>\n",
       "    <tr>\n",
       "      <th>10347</th>\n",
       "      <td>&lt;!DOCTYPE html PUBLIC \"-//W3C//DTD XHTML 1.0 T...</td>\n",
       "      <td>1</td>\n",
       "      <td>0</td>\n",
       "    </tr>\n",
       "    <tr>\n",
       "      <th>10348</th>\n",
       "      <td>&lt;!DOCTYPE html PUBLIC \"-//W3C//DTD XHTML 1.0 S...</td>\n",
       "      <td>1</td>\n",
       "      <td>0</td>\n",
       "    </tr>\n",
       "    <tr>\n",
       "      <th>10349</th>\n",
       "      <td>\\r\\n\\r\\n&lt;!DOCTYPE html PUBLIC \"-//W3C//DTD XHT...</td>\n",
       "      <td>1</td>\n",
       "      <td>0</td>\n",
       "    </tr>\n",
       "    <tr>\n",
       "      <th>10350</th>\n",
       "      <td>\\r\\n&lt;HTML&gt;\\r\\n&lt;HEAD&gt;\\r\\n&lt;link rel=\"shortcut ic...</td>\n",
       "      <td>1</td>\n",
       "      <td>0</td>\n",
       "    </tr>\n",
       "    <tr>\n",
       "      <th>10351</th>\n",
       "      <td>&lt;!DOCTYPE html&gt;\\n\\t&lt;html xml:lang=\"en\" lang=\"e...</td>\n",
       "      <td>1</td>\n",
       "      <td>0</td>\n",
       "    </tr>\n",
       "    <tr>\n",
       "      <th>10352</th>\n",
       "      <td>\\n&lt;!DOCTYPE html PUBLIC \"-//W3C//DTD XHTML 1.0...</td>\n",
       "      <td>1</td>\n",
       "      <td>0</td>\n",
       "    </tr>\n",
       "    <tr>\n",
       "      <th>10353</th>\n",
       "      <td>&lt;!DOCTYPE html PUBLIC \"-//W3C//DTD XHTML 1.0 S...</td>\n",
       "      <td>1</td>\n",
       "      <td>0</td>\n",
       "    </tr>\n",
       "    <tr>\n",
       "      <th>10354</th>\n",
       "      <td>&lt;!DOCTYPE HTML PUBLIC \"-//W3C//DTD HTML 4.01 T...</td>\n",
       "      <td>1</td>\n",
       "      <td>0</td>\n",
       "    </tr>\n",
       "    <tr>\n",
       "      <th>10355</th>\n",
       "      <td>&lt;h1&gt;Bad Request (Invalid URL)&lt;/h1&gt;</td>\n",
       "      <td>1</td>\n",
       "      <td>0</td>\n",
       "    </tr>\n",
       "    <tr>\n",
       "      <th>10356</th>\n",
       "      <td>\\n\\n\\n\\n\\n&lt;html&gt;\\n\\t&lt;head&gt;\\n\\t\\t&lt;title&gt;Optimum...</td>\n",
       "      <td>1</td>\n",
       "      <td>0</td>\n",
       "    </tr>\n",
       "    <tr>\n",
       "      <th>10357</th>\n",
       "      <td>&lt;!DOCTYPE html PUBLIC \"-//W3C//DTD XHTML 1.0 T...</td>\n",
       "      <td>1</td>\n",
       "      <td>0</td>\n",
       "    </tr>\n",
       "    <tr>\n",
       "      <th>10358</th>\n",
       "      <td>&lt;!DOCTYPE html PUBLIC \"-//W3C//DTD HTML 4.01 T...</td>\n",
       "      <td>1</td>\n",
       "      <td>0</td>\n",
       "    </tr>\n",
       "    <tr>\n",
       "      <th>10359</th>\n",
       "      <td>\\n\\n\\n\\n&lt;!DOCTYPE html PUBLIC \\\"-//W3C//DTD XH...</td>\n",
       "      <td>1</td>\n",
       "      <td>0</td>\n",
       "    </tr>\n",
       "    <tr>\n",
       "      <th>10360</th>\n",
       "      <td>&lt;!DOCTYPE html PUBLIC \"-//W3C//DTD XHTML 1.0 T...</td>\n",
       "      <td>1</td>\n",
       "      <td>0</td>\n",
       "    </tr>\n",
       "    <tr>\n",
       "      <th>10361</th>\n",
       "      <td>&lt;!DOCTYPE HTML PUBLIC \"-//W3C//DTD HTML 4.01 T...</td>\n",
       "      <td>1</td>\n",
       "      <td>0</td>\n",
       "    </tr>\n",
       "    <tr>\n",
       "      <th>10362</th>\n",
       "      <td>\\r\\n\\r\\n\\r\\n\\r\\n\\r\\n\\r\\n\\n\\n&lt;!DOCTYPE HTML PUB...</td>\n",
       "      <td>1</td>\n",
       "      <td>0</td>\n",
       "    </tr>\n",
       "    <tr>\n",
       "      <th>10363</th>\n",
       "      <td>\\r\\n\\r\\n&lt;!--[if IE]&gt;&lt;![endif]--&gt;\\r\\n&lt;!doctype ...</td>\n",
       "      <td>1</td>\n",
       "      <td>0</td>\n",
       "    </tr>\n",
       "    <tr>\n",
       "      <th>10364</th>\n",
       "      <td>\\r\\n\\r\\n\\r\\n\\r\\n\\r\\n\\r\\n\\r\\n\\r\\n\\r\\n\\r\\n\\r\\n\\r...</td>\n",
       "      <td>1</td>\n",
       "      <td>0</td>\n",
       "    </tr>\n",
       "    <tr>\n",
       "      <th>10365</th>\n",
       "      <td>\\r\\n      \\r\\n&lt;!DOCTYPE HTML PUBLIC \"-//W3C//D...</td>\n",
       "      <td>1</td>\n",
       "      <td>0</td>\n",
       "    </tr>\n",
       "    <tr>\n",
       "      <th>10366</th>\n",
       "      <td>\\r\\n&lt;!DOCTYPE html PUBLIC \"-//W3C//DTD XHTML 1...</td>\n",
       "      <td>1</td>\n",
       "      <td>0</td>\n",
       "    </tr>\n",
       "    <tr>\n",
       "      <th>10367</th>\n",
       "      <td>&lt;!DOCTYPE html PUBLIC \"-//W3C//DTD XHT...</td>\n",
       "      <td>1</td>\n",
       "      <td>0</td>\n",
       "    </tr>\n",
       "    <tr>\n",
       "      <th>10368</th>\n",
       "      <td>\\r\\n&lt;!DOCTYPE HTML PUBLIC \"-//W3C//DTD HTML 4....</td>\n",
       "      <td>1</td>\n",
       "      <td>0</td>\n",
       "    </tr>\n",
       "    <tr>\n",
       "      <th>10369</th>\n",
       "      <td>\\r\\n\\r\\n&lt;!DOCTYPE html PUBLIC \"-//W3C//DTD XHT...</td>\n",
       "      <td>1</td>\n",
       "      <td>0</td>\n",
       "    </tr>\n",
       "    <tr>\n",
       "      <th>10370</th>\n",
       "      <td>\\r\\n\\r\\n&lt;!DOCTYPE HTML PUBLIC \"-//W3C//DTD HTM...</td>\n",
       "      <td>1</td>\n",
       "      <td>0</td>\n",
       "    </tr>\n",
       "    <tr>\n",
       "      <th>10371</th>\n",
       "      <td>\\r\\n\\r\\n&lt;!DOCTYPE html PUBLIC \"-//W3C//DTD XHT...</td>\n",
       "      <td>1</td>\n",
       "      <td>0</td>\n",
       "    </tr>\n",
       "    <tr>\n",
       "      <th>10372</th>\n",
       "      <td>\\r\\n&lt;!DOCTYPE HTML PUBLIC \"-//W3C//DTD HTML 4....</td>\n",
       "      <td>1</td>\n",
       "      <td>0</td>\n",
       "    </tr>\n",
       "    <tr>\n",
       "      <th>10373</th>\n",
       "      <td>&lt;!DOCTYPE html PUBLIC \"-//W3C//DTD XHTML 1.0 T...</td>\n",
       "      <td>1</td>\n",
       "      <td>0</td>\n",
       "    </tr>\n",
       "  </tbody>\n",
       "</table>\n",
       "<p>10374 rows × 3 columns</p>\n",
       "</div>"
      ],
      "text/plain": [
       "                                                contexts  ham  phishing\n",
       "0      <!DOCTYPE html>\\r\\n<html xmlns=\"http://www.w3....    1         0\n",
       "1      <!DOCTYPE html>\\r\\n<html xmlns=\"http://www.w3....    1         0\n",
       "2      <!DOCTYPE html>\\r\\n<html xmlns=\"http://www.w3....    1         0\n",
       "3      <!DOCTYPE html>\\r\\n<html xmlns=\"http://www.w3....    1         0\n",
       "4      <!DOCTYPE html>\\r\\n<html xmlns=\"http://www.w3....    1         0\n",
       "5      <!DOCTYPE html>\\r\\n<!-- Sysops: Please do not ...    1         0\n",
       "6      <!-- ServerInfo: BAYIDSLGN1M58 2012.01.05.13.5...    1         0\n",
       "7      <!DOCTYPE html>\\r\\n<html xmlns=\"http://www.w3....    1         0\n",
       "8      <!DOCTYPE html>\\r\\n<html xmlns=\"http://www.w3....    1         0\n",
       "9      <!DOCTYPE html PUBLIC \"-//W3C//DTD XHTML 1.0 T...    1         0\n",
       "10     <!DOCTYPE html PUBLIC \"-//W3C//DTD HTML 4.01 T...    1         0\n",
       "11     <!DOCTYPE html>\\r\\n<html xmlns=\"http://www.w3....    1         0\n",
       "12     <!DOCTYPE html>\\r\\n<html xmlns=\"http://www.w3....    1         0\n",
       "13     <!DOCTYPE html PUBLIC \"-//W3C//DTD XHTML 1.0 S...    1         0\n",
       "14     <!DOCTYPE html>\\r\\n<html xmlns=\"http://www.w3....    1         0\n",
       "15     <!DOCTYPE html PUBLIC \"-//W3C//DTD HTML 4.01 T...    1         0\n",
       "16     <!DOCTYPE html PUBLIC \"-//W3C//DTD XHTML 1.0 T...    1         0\n",
       "17     <!DOCTYPE html PUBLIC \"-//W3C//DTD XHTML 1.0 T...    1         0\n",
       "18     <!DOCTYPE html>\\r\\n<html xmlns=\"http://www.w3....    1         0\n",
       "19     <!DOCTYPE html>\\r\\n<html xmlns=\"http://www.w3....    1         0\n",
       "20     <!DOCTYPE html PUBLIC \"-//W3C//DTD HTML 4.01 T...    1         0\n",
       "21     <!DOCTYPE html>\\r\\n<html xmlns=\"http://www.w3....    1         0\n",
       "22     <!DOCTYPE html PUBLIC \"-//W3C//DTD HTML 4.01 T...    1         0\n",
       "23     <!DOCTYPE html>\\r\\n<html xmlns=\"http://www.w3....    1         0\n",
       "24     <!DOCTYPE html PUBLIC \"-//W3C//DTD XHTML 1.0 T...    1         0\n",
       "25     <!DOCTYPE html>\\r\\n<html xmlns=\"http://www.w3....    1         0\n",
       "26     <!DOCTYPE html PUBLIC \"-//W3C//DTD XHTML 1.0 T...    1         0\n",
       "27     <!DOCTYPE html>\\r\\n<html xmlns=\"http://www.w3....    1         0\n",
       "28     <!DOCTYPE html PUBLIC \"-//W3C//DTD XHTML 1.1//...    1         0\n",
       "29     <!DOCTYPE html PUBLIC \"-//W3C//DTD XHTML 1.0 T...    1         0\n",
       "...                                                  ...  ...       ...\n",
       "10344  <!DOCTYPE html PUBLIC \"-//W3C//DTD XHTML 1.0 T...    1         0\n",
       "10345  <!DOCTYPE html PUBLIC \"-//W3C//DTD XHTML 1.0 T...    1         0\n",
       "10346  <!DOCTYPE html PUBLIC \"-//W3C//DTD XHTML 1.0 T...    1         0\n",
       "10347  <!DOCTYPE html PUBLIC \"-//W3C//DTD XHTML 1.0 T...    1         0\n",
       "10348  <!DOCTYPE html PUBLIC \"-//W3C//DTD XHTML 1.0 S...    1         0\n",
       "10349  \\r\\n\\r\\n<!DOCTYPE html PUBLIC \"-//W3C//DTD XHT...    1         0\n",
       "10350  \\r\\n<HTML>\\r\\n<HEAD>\\r\\n<link rel=\"shortcut ic...    1         0\n",
       "10351  <!DOCTYPE html>\\n\\t<html xml:lang=\"en\" lang=\"e...    1         0\n",
       "10352  \\n<!DOCTYPE html PUBLIC \"-//W3C//DTD XHTML 1.0...    1         0\n",
       "10353  <!DOCTYPE html PUBLIC \"-//W3C//DTD XHTML 1.0 S...    1         0\n",
       "10354  <!DOCTYPE HTML PUBLIC \"-//W3C//DTD HTML 4.01 T...    1         0\n",
       "10355                 <h1>Bad Request (Invalid URL)</h1>    1         0\n",
       "10356  \\n\\n\\n\\n\\n<html>\\n\\t<head>\\n\\t\\t<title>Optimum...    1         0\n",
       "10357  <!DOCTYPE html PUBLIC \"-//W3C//DTD XHTML 1.0 T...    1         0\n",
       "10358  <!DOCTYPE html PUBLIC \"-//W3C//DTD HTML 4.01 T...    1         0\n",
       "10359  \\n\\n\\n\\n<!DOCTYPE html PUBLIC \\\"-//W3C//DTD XH...    1         0\n",
       "10360  <!DOCTYPE html PUBLIC \"-//W3C//DTD XHTML 1.0 T...    1         0\n",
       "10361  <!DOCTYPE HTML PUBLIC \"-//W3C//DTD HTML 4.01 T...    1         0\n",
       "10362  \\r\\n\\r\\n\\r\\n\\r\\n\\r\\n\\r\\n\\n\\n<!DOCTYPE HTML PUB...    1         0\n",
       "10363  \\r\\n\\r\\n<!--[if IE]><![endif]-->\\r\\n<!doctype ...    1         0\n",
       "10364  \\r\\n\\r\\n\\r\\n\\r\\n\\r\\n\\r\\n\\r\\n\\r\\n\\r\\n\\r\\n\\r\\n\\r...    1         0\n",
       "10365  \\r\\n      \\r\\n<!DOCTYPE HTML PUBLIC \"-//W3C//D...    1         0\n",
       "10366  \\r\\n<!DOCTYPE html PUBLIC \"-//W3C//DTD XHTML 1...    1         0\n",
       "10367          <!DOCTYPE html PUBLIC \"-//W3C//DTD XHT...    1         0\n",
       "10368  \\r\\n<!DOCTYPE HTML PUBLIC \"-//W3C//DTD HTML 4....    1         0\n",
       "10369  \\r\\n\\r\\n<!DOCTYPE html PUBLIC \"-//W3C//DTD XHT...    1         0\n",
       "10370  \\r\\n\\r\\n<!DOCTYPE HTML PUBLIC \"-//W3C//DTD HTM...    1         0\n",
       "10371  \\r\\n\\r\\n<!DOCTYPE html PUBLIC \"-//W3C//DTD XHT...    1         0\n",
       "10372  \\r\\n<!DOCTYPE HTML PUBLIC \"-//W3C//DTD HTML 4....    1         0\n",
       "10373  <!DOCTYPE html PUBLIC \"-//W3C//DTD XHTML 1.0 T...    1         0\n",
       "\n",
       "[10374 rows x 3 columns]"
      ]
     },
     "execution_count": 29,
     "metadata": {},
     "output_type": "execute_result"
    }
   ],
   "source": [
    "df"
   ]
  },
  {
   "cell_type": "code",
   "execution_count": 41,
   "metadata": {},
   "outputs": [
    {
     "name": "stdout",
     "output_type": "stream",
     "text": [
      "                                                contexts  ham  phishing\n",
      "997    <html xmlns=\"http://www.w3.org/1999/xhtml\"><he...    0         1\n",
      "998    <!DOCTYPE html PUBLIC \"-//W3C//DTD XHTML 1.1//...    0         1\n",
      "999    <?xml version=\"1.0\" encoding=\"UTF-8\"?>\\r\\n<!DO...    0         1\n",
      "1000   <!DOCTYPE html PUBLIC \"-//IETF//DTD HTML 2.0//...    0         1\n",
      "1001   <!DOCTYPE html PUBLIC \"-//W3C//DTD HTML 4.01//...    0         1\n",
      "1002   <!DOCTYPE html PUBLIC \"-//W3C//DTD HTML 4.01 T...    0         1\n",
      "1003   <!DOCTYPE html PUBLIC \"-//IETF//DTD HTML 2.0//...    0         1\n",
      "1004   <!DOCTYPE html PUBLIC \"-//W3C//DTD XHTML 1.0 S...    0         1\n",
      "1005   <!DOCTYPE html PUBLIC \"-//W3C//DTD HTML 4.01//...    0         1\n",
      "1006   <!DOCTYPE html PUBLIC \"-//W3C//DTD XHTML 1.0 T...    0         1\n",
      "1007   <!DOCTYPE html PUBLIC \"-//IETF//DTD HTML 2.0//...    0         1\n",
      "1008   <!DOCTYPE html PUBLIC \"-//W3C//DTD XHTML 1.0 T...    0         1\n",
      "1009   <html lang=\"en-GB\" xmlns=\"http://www.w3.org/19...    0         1\n",
      "1010   <!DOCTYPE html PUBLIC \"-//W3C//DTD XHTML 1.0 T...    0         1\n",
      "1011   <!DOCTYPE html PUBLIC \"-//IETF//DTD HTML 2.0//...    0         1\n",
      "1012   <!DOCTYPE html PUBLIC \"-//IETF//DTD HTML 2.0//...    0         1\n",
      "1013   <!DOCTYPE html PUBLIC \"-//W3C//DTD HTML 4.01 T...    0         1\n",
      "1014   <!DOCTYPE html PUBLIC \"-//W3C//DTD HTML 4.0 Tr...    0         1\n",
      "1015   <html xmlns=\"http://www.w3.org/1999/xhtml\"><he...    0         1\n",
      "1016   <!DOCTYPE html PUBLIC \"-//W3C//DTD HTML 4.01 T...    0         1\n",
      "1017   <!DOCTYPE html PUBLIC \"-//W3C//DTD HTML 4.01 T...    0         1\n",
      "1018   <html xmlns=\"http://www.w3.org/1999/xhtml\"><he...    0         1\n",
      "1019   <!DOCTYPE html PUBLIC \"-//W3C//DTD HTML 4.01 T...    0         1\n",
      "1020   <html xmlns=\"http://www.w3.org/1999/xhtml\"><he...    0         1\n",
      "1021   <html xmlns=\"http://www.w3.org/1999/xhtml\"><he...    0         1\n",
      "1022   <!DOCTYPE html PUBLIC \"-//IETF//DTD HTML 2.0//...    0         1\n",
      "1023   <!DOCTYPE html>\\r\\n<html xmlns=\"http://www.w3....    0         1\n",
      "1024   <!DOCTYPE html>\\r\\n<html xmlns=\"http://www.w3....    0         1\n",
      "1025   <!DOCTYPE html PUBLIC \"-//W3C//DTD XHTML 1.0 T...    0         1\n",
      "1026   <!DOCTYPE html PUBLIC \"-//W3C//DTD XHTML 1.0 T...    0         1\n",
      "...                                                  ...  ...       ...\n",
      "10299  <!DOCTYPE html PUBLIC \"-//W3C//DTD XHTML 1.0 T...    0         1\n",
      "10300  <HTML>\\r\\n<head>\\r\\n<style type=\"text/css\">\\r\\...    0         1\n",
      "10301  <!DOCTYPE html PUBLIC \"-//W3C//DTD XHTML 1.0 T...    0         1\n",
      "10302  <!DOCTYPE HTML PUBLIC \"-//W3C//DTD HTML 4.01 T...    0         1\n",
      "10303  <!DOCTYPE HTML PUBLIC \"-//W3C//DTD HTML 4.01 T...    0         1\n",
      "10304  <html><head><title>Phishing</title></head>\\r\\n...    0         1\n",
      "10305  ?<!DOCTYPE HTML PUBLIC \"-//W3C//DTD HTML 4.01 ...    0         1\n",
      "10306  <html><head><title>Phishing</title></head>\\r\\n...    0         1\n",
      "10307  ?<!DOCTYPE html PUBLIC \"-//W3C//DTD HTML 4.01/...    0         1\n",
      "10308  <!DOCTYPE html PUBLIC \"-//W3C//DTD XHTML 1.0 T...    0         1\n",
      "10309  <!DOCTYPE HTML PUBLIC \"-//IETF//DTD HTML 2.0//...    0         1\n",
      "10310  <!DOCTYPE html PUBLIC \"-//W3C//DTD XHTML 1.0 T...    0         1\n",
      "10311  <!DOCTYPE HTML PUBLIC \"-//W3C//DTD HTML 4.01 T...    0         1\n",
      "10312  <!DOCTYPE HTML PUBLIC \"-//W3C//DTD HTML 4.01//...    0         1\n",
      "10313   <!-- saved from url=(0040)http://sweetdreamsp...    0         1\n",
      "10314  <!DOCTYPE html PUBLIC \"-//W3C//DTD XHTML 1.0 T...    0         1\n",
      "10315  <!DOCTYPE html PUBLIC \"-//W3C//DTD XHTML 1.0 T...    0         1\n",
      "10316  <!DOCTYPE html PUBLIC \"-//W3C//DTD XHTML 1.0 T...    0         1\n",
      "10317  \\n<!-- saved from url=(0040)http://sweetdreams...    0         1\n",
      "10318  <!DOCTYPE html PUBLIC \"-//W3C//DTD XHTML 1.0 T...    0         1\n",
      "10319  <!DOCTYPE html PUBLIC \"-//W3C//DTD XHTML 1.0 T...    0         1\n",
      "10320  <!DOCTYPE html PUBLIC \"-//W3C//DTD XHTML 1.0 S...    0         1\n",
      "10321  <!DOCTYPE HTML PUBLIC \"-//W3C//DTD HTML 4.01//...    0         1\n",
      "10322  <!DOCTYPE HTML PUBLIC \"-//W3C//DTD HTML 4.01//...    0         1\n",
      "10323  <!DOCTYPE HTML PUBLIC \"-//W3C//DTD HTML 4.01//...    0         1\n",
      "10324  <!DOCTYPE HTML PUBLIC \"-//W3C//DTD HTML 3.2 Fi...    0         1\n",
      "10325  <!-- SHTML Wrapper - 404 Not Found -->\\n<html>...    0         1\n",
      "10326  <!-- SHTML Wrapper - 404 Not Found -->\\n<html>...    0         1\n",
      "10327  ?\\n<!DOCTYPE html PUBLIC \"-//W3C//DTD XHTML 1....    0         1\n",
      "10328  <!--\\r\\n\\ttop.location=\"http://searchmagnified...    0         1\n",
      "\n",
      "[9198 rows x 3 columns]\n"
     ]
    }
   ],
   "source": [
    "# juan = empleados.loc[empleados['Nombre'] == 'Juan']\n",
    "# print(juan)\n",
    "df3 = df.loc[df['phishing'] == 1]\n",
    "print(df3)"
   ]
  },
  {
   "cell_type": "code",
   "execution_count": 81,
   "metadata": {},
   "outputs": [],
   "source": [
    "webpage_html = df['contexts'][15]"
   ]
  },
  {
   "cell_type": "code",
   "execution_count": 67,
   "metadata": {},
   "outputs": [],
   "source": [
    "# webpage_html = '<!DOCTYPE html>\\r\\n<html xmlns=\"http://www.w3.org/1999/xhtml\"><head><meta content=\"text/html;charset=gb2312\" http-equiv=\"Content-Type\" /><title>?????????      </title><style>html{overflow-y:auto}body{font:12px arial;text-align:center;background:#fff}body,p,form,ul,li{margin:0;padding:0;list-style:none}body,form,#fm{position:relative}td{text-align:left}img{border:0}a{color:#00c}a:active{color:#f60}#u{color:#999;padding:4px 10px 5px 0;text-align:right}#u a{margin:0 5px}#u .reg{margin:0}#m{width:680px;margin:0 auto;}#nv a,#nv b,.btn,#lk{font-size:14px}#fm{padding-left:90px;text-align:left}input{border:0;padding:0}#nv{height:19px;font-size:16px;margin:0 0 4px;text-align:left;text-indent:117px}.s_ipt_wr{width:418px;height:30px;display:inline-block;margin-right:5px;background:url(http://www.baidu.com/img/i-1.0.0.png) no-repeat -304px 0;border:1px solid #b6b6b6;border-color:#9a9a9a #cdcdcd #cdcdcd #9a9a9a;vertical-align:top}.s_ipt{width:405px;height:22px;font:16px/22px arial;margin:5px 0 0 7px;background:#fff;outline:none;-webkit-appearance:none}.s_btn{width:95px;height:32px;padding-top:2px\\\\9;font-size:14px;background:#ddd url(http://www.baidu.com/img/i-1.0.0.png);cursor:pointer}.s_btn_h{background-position:-100px 0}.s_btn_wr{width:97px;height:34px;display:inline-block;background:url(http://www.baidu.com/img/i-1.0.0.png) no-repeat -202px 0;*position:relative;z-index:0;vertical-align:top}#lg img{vertical-align:top;margin-bottom:3px}#lk{margin:33px 0}#lk span{font:14px \"??\"}#lm{height:60px}#lh{margin:16px 0 5px;word-spacing:3px}.tools{position:absolute;top:-4px;*top:10px;right:-13px;}#mHolder{width:62px;position:relative;z-index:296;display:none}#mCon{height:18px;line-height:18px;position:absolute;cursor:pointer;padding:0 18px 0 0;background:url(http://www.baidu.com/img/bg-1.0.0.gif) no-repeat right -134px;background-position:right -136px\\\\9}#mCon span{color:#00c;cursor:default;display:block}#mCon .hw{text-decoration:underline;cursor:pointer}#mMenu a{width:100%;height:100%;display:block;line-height:22px;text-indent:6px;text-decoration:none;filter:none\\\\9}#mMenu,#user ul{box-shadow:1px 1px 2px #ccc;-moz-box-shadow:1px 1px 2px #ccc;-webkit-box-shadow:1px 1px 2px #ccc;filter: progid:DXImageTransform.Microsoft.Shadow(Strength=2, Direction=135, Color=\"#cccccc\")\\\\9;}#mMenu{width:56px;border:1px solid #9b9b9b;list-style:none;position:absolute;right:7px;top:28px;display:none;background:#fff}#mMenu a:hover{background:#ebebeb}#mMenu .ln{height:1px;background:#ebebeb;overflow:hidden;font-size:1px;line-height:1px;margin-top:-1px}#cp,#cp a{color:#77c}#seth{display:none;behavior:url(#default#homepage)}#setf{display:none}</style>\\n<script type=\"text/javascript\">function h(obj){obj.style.behavior=\\'url(#default#homepage)\\';var a = obj.setHomePage(\\'http://www.baidu.com/\\');}</script></head>\\n\\n<body><div id=\"u\"><a name=\"tj_setting\" href=\"http://www.baidu.com/gaoji/preferences.html\">????</a>|<a name=\"tj_login\" href=\"http://passport.baidu.com/?login&amp;tpl=mn\">??</a><a class=\"reg\" name=\"tj_reg\" href=\"https://passport.baidu.com/?reg&amp;tpl=mn\">??</a></div>\\n<div id=\"m\"><p id=\"lg\"><img height=\"129\" width=\"270\" usemap=\"#mp\" src=\"http://www.baidu.com/img/baidu_sylogo1.gif\" /><map name=\"mp\"><area title=\"???? ?????\" target=\"_blank\" href=\"http://hi.baidu.com/baidu/\" coords=\"40,25,230,95\" shape=\"rect\" /></map></p><p id=\"nv\"><a href=\"http://news.baidu.com\" name=\"tj_news\">?Â\\xa0?</a>?<b>?Â\\xa0?</b>?<a href=\"http://tieba.baidu.com\" name=\"tj_tieba\">?Â\\xa0?</a>?<a href=\"http://zhidao.baidu.com\" name=\"tj_zhidao\">?Â\\xa0?</a>?<a href=\"http://mp3.baidu.com\" name=\"tj_mp3\">MP3</a>?<a href=\"http://image.baidu.com\" name=\"tj_img\">?Â\\xa0?</a>?<a href=\"http://video.baidu.com\" name=\"tj_video\">?Â\\xa0?</a>?<a href=\"http://map.baidu.com\" name=\"tj_map\">?Â\\xa0?</a></p><div id=\"fm\"><form action=\"/s\" name=\"f\"><span class=\"s_ipt_wr\"><input type=\"text\" class=\"s_ipt\" maxlength=\"100\" id=\"kw\" name=\"wd\" autocomplete=\"off\" /></span><input type=\"hidden\" value=\"0\" name=\"rsv_bp\" /><input type=\"hidden\" value=\"3\" name=\"rsv_spt\" /><span class=\"s_btn_wr\"><input type=\"submit\" onmouseout=\"this.className=\\'s_btn\\'\" onmousedown=\"this.className=\\'s_btn s_btn_h\\'\" class=\"s_btn\" id=\"su\" value=\"????\" /></span><div id=\"sd_1330360745032\" style=\"display: none;\"></div></form><span class=\"tools\"><span id=\"mHolder\"><div id=\"mCon\"><span>???</span></div></span></span><ul id=\"mMenu\"><li><a name=\"ime_hw\" href=\"#\">??</a></li><li><a name=\"ime_py\" href=\"#\">??</a></li><li class=\"ln\"></li><li><a name=\"ime_cl\" href=\"#\">??</a></li></ul></div>\\n<p id=\"lk\"><a href=\"http://hi.baidu.com\" name=\"tj_hi\">??</a>?<a href=\"http://baike.baidu.com\" name=\"tj_baike\">??</a>?<a href=\"http://www.hao123.com\" name=\"tj_hao123\">hao123</a><span> | <a href=\"/more/\" name=\"tj_more\">??&gt;&gt;</a></span></p><p id=\"lm\"></p><p><a onmousedown=\"return ns_c({\\'fm\\':\\'behs\\',\\'tab\\':\\'homepage\\',\\'pos\\':0})\" href=\"http://utility.baidu.com/traf/click.php?id=215&amp;url=http://www.baidu.com\" onclick=\"h(this)\" id=\"seth\">???????</a><a onmousedown=\"return ns_c({\\'fm\\':\\'behs\\',\\'tab\\':\\'favorites\\',\\'pos\\':0})\" href=\"javascript:void(0)\" onclick=\"fa(this)\" id=\"setf\" style=\"display: inline;\">???????</a></p>\\n<p id=\"lh\"><a href=\"http://e.baidu.com/?refer=888\">??????</a> | <a href=\"http://top.baidu.com\">?????</a> | <a href=\"http://home.baidu.com\">????</a> | <a href=\"http://ir.baidu.com\">About Baidu</a></p><p id=\"cp\">Â©2012 Baidu <a href=\"/duty/\">???????</a> <a target=\"_blank\" href=\"http://www.miibeian.gov.cn\">?ICP?030173?</a> <img src=\"http://gimg.baidu.com/img/gs.gif\" /></p></div>\\n\\n<script>var bdUser = null;var w=window,d=document,n=navigator,k=d.f.wd,a=d.getElementById(\"nv\").getElementsByTagName(\"a\"),isIE=n.userAgent.indexOf(\"MSIE\")!=-1&amp;&amp;!window.opera;for(var i=0;i&lt;a.length;i++){a[i].onclick=function(){if(k.value.length&gt;0){var o=this,h=o.href,q=encodeURIComponent(k.value);if(h.indexOf(\"q=\")!=-1){o.href=h.replace(/q=[^&amp;\\\\x24]*/,\"q=\"+q)}else{this.href+=\"?q=\"+q}}}};(function(){if(/q=([^&amp;]+)/.test(location.search)){k.value=decodeURIComponent(RegExp[\"\\\\x241\"])}})();if(n.cookieEnabled&amp;&amp;!/sug?=0/.test(d.cookie)){d.write(\\'&lt;script src=http://www.baidu.com/cache/sug/js/bdsug-1.1.js&gt;&lt;\\\\/script&gt;\\')};function addEV(o, e, f){if(w.attachEvent){o.attachEvent(\"on\" + e, f);}else if(w.addEventListener){ o.addEventListener(e, f, false);}}function G(id){return d.getElementById(id);}function ns_c(q){var p = encodeURIComponent(window.document.location.href), sQ = \\'\\', sV = \\'\\', mu=\\'\\', img = window[\"BD_PS_C\" + (new Date()).getTime()] = new Image();for (v in q) {sV = q[v];sQ += v + \"=\" + sV + \"&amp;\";} mu= \"&amp;mu=\" + p ;img.src = \"http://nsclick.baidu.com/v.gif?pid=201&amp;pj=www&amp;\" + sQ + \"path=\"+p+\"&amp;t=\"+new Date().getTime();return true;}if(/\\\\bbdime=[12]/.test(d.cookie)){document.write(\\'&lt;script src=http://www.baidu.com/cache/ime/js/openime-1.0.0.js&gt;&lt;\\\\/script&gt;\\');}(function(){var user = G(\"user\"), userMenu = G(\"userMenu\");if(user &amp;&amp; userMenu){user.onmouseover = function(){userMenu.style.display = \"block\"};user.onmouseout = function(){userMenu.style.display = \"none\"};}})();(function(){var u = G(\"u\").getElementsByTagName(\"a\"), nv = G(\"nv\").getElementsByTagName(\"a\"), lk = G(\"lk\").getElementsByTagName(\"a\"), un = \"\";var tj_nv = [\"news\",\"tieba\",\"zhidao\",\"mp3\",\"img\",\"video\",\"map\"];var tj_lk = [\"hi\",\"baike\",\"hao123\",\"more\"];un = bdUser == null ? \"\" : bdUser;function _addTJ(obj){addEV(obj, \"mousedown\", function(e){var e = e || window.event;var target = e.target || e.srcElement;ns_c({\\'fm\\':\\'behs\\',\\'tab\\':target.name||\\'tj_user\\',\\'un\\':encodeURIComponent(un)});});}for(var i = 0; i &lt; u.length; i++){_addTJ(u[i]);}for(var i = 0; i &lt; nv.length; i++){nv[i].name = \\'tj_\\' + tj_nv[i];_addTJ(nv[i]);}for(var i = 0; i &lt; lk.length; i++){lk[i].name = \\'tj_\\' + tj_lk[i];_addTJ(lk[i]);}})();addEV(w,\"load\",function(){k.focus()});w.onunload=function(){};</script><script src=\"http://www.baidu.com/cache/sug/js/bdsug-1.1.js\"></script>\\n\\n\\n\\n\\n\\n<script src=\"http://www.baidu.com/cache/hps/js/hps-1.4.js\" type=\"text/javascript\"></script>\\n\\n<!--d01a5ab4c0f73034--></body></html>'"
   ]
  },
  {
   "cell_type": "code",
   "execution_count": 82,
   "metadata": {
    "scrolled": true
   },
   "outputs": [
    {
     "data": {
      "text/plain": [
       "'<!DOCTYPE html PUBLIC \"-//W3C//DTD HTML 4.01 Transitional//EN\" \"http://www.w3.org/TR/html4/loose.dtd\">\\r\\n<html xmlns=\"http://www.w3.org/1999/xhtml\" lang=\"ja\"><head>\\n<meta content=\"text/html; charset=utf-8\" http-equiv=\"content-type\" />\\n<meta content=\"text/css\" http-equiv=\"content-style-type\" />\\n<meta content=\"text/javascript\" http-equiv=\"content-script-type\" />\\n<meta content=\"?????????????????????????????????????????????????80?????????????????????????????????????????????\" name=\"description\" />\\n<title>Yahoo! JAPAN</title>\\n<base href=\"http://www.yahoo.co.jp/_ylh=X3oDMTB0NWxnaGxsBF9TAzIwNzcyOTYyNjUEdGlkAzEyBHRtcGwDZ2Ex/\" />\\n<style type=\"text/css\">&lt;!--\\nbody,div,dl,dt,dd,ul,ol,li,h1,h2,h3,h4,h5,h6,pre,form,fieldset,input,button,p,blockquote{margin:0;padding:0;}fieldset,img{border:0;}table{border-collapse:collapse;border-spacing:0;}address,caption,cite,code,dfn,em,th,var{font-style:normal;font-weight:normal;}ol,ul{list-style:none;}.separate,.floatingw,legend{display:none;}button{cursor:pointer;}body{font-family:\"MS PGothic\",\"Osaka\",Arial,sans-serif;line-height:1.22;font-size:75%;text-align:center;word-wrap:break-word;}table{font-size:inherit;font:100%;}pre,code,kbd,samp,tt{font-family:monospace;line-height:99%;}h1,h2,h3,h4,h5{font-size:100%;}.contentbox2nd h2,#spotlight h2{font-size:131%;}#emg table{font-size:115%;}span.assist,#topicsboxbd em,#topicsboxbd cite,#vdobd em,#olymEdit cite{font-size:85%;}#navi .hd h2,#local h2 span,#personalbox h3{font-weight:normal;}a,ul.tab a:visited{color:#1d3994;text-decoration:none;}a:visited{color:#941d55;}a:hover{text-decoration:underline;}button{cursor:pointer;}#wrapper{position:relative;min-width:950px;width:74.2em;*width:71.2em;margin:0 auto;}#header{position:relative;z-index:10;padding-bottom:4px;*zoom:1;}#header:after{content:\"\";display:block;clear:both;}#contents{text-align:left;}#navi{float:left;position:relative;z-index:8;width:17.5%;min-width:170px;}#division{float:right;position:relative;z-index:2;min-width:770px;width:81%;}#main{float:left;min-width:410px;width:53%;}#sub{float:right;min-width:350px;width:45.45%;}.bgD,.item li,.emphasis li,.connect li,.ranking li,.pldwn,.plup,.prev,.next,.iconNew,.iconPhoto,.iconVideo,.iconNotice,.close a,.ulmwindow .ulmbg,.ulmwindow .ulmwindowsearch button,.vdotmp2,.changeBtn,.changeBtn a,#centralPosition dl,#srchAssistOnOff dd,#pblogininfo li a,#yahooservice ul li a,#pbalert p a,#pbsocial p a,#pbsocialInfo,#pbsocial dd a,#topicsbox .tab li span,#yjidbox h2 a,#pbproperty .shortcut li a,#pbproperty .connect #mailicon,#srchSwitch dd,#contentbox .hd .cbbtn a{background-image:url(http://k.yimg.jp/images/top/sp2/cmn/pic_all-120118.png);background-repeat:no-repeat;}.bx li{margin:7px 0;}.bx,.bxEx{position:relative;margin-bottom:10px;background-color:#fff;border:1px solid;}.bxEx{margin-top:-11px;}.bxNa{margin-bottom:10px;text-align:center;}.bxSl{*zoom:1;padding:7px 7px 3px;}.bxSl h2{margin-bottom:5px;float:left;clear:left;}.bxSl ul{margin-bottom:5px;overflow:hidden;*zoom:1;}.bxSl li{float:left;margin:0;padding-left:0.8em;}.bxSl .more{float:right;}.bxSl p{padding-bottom:4px;}.bxPos{text-align:center;}.bxSl dl{margin-top:-1px;}.bxSl dt{float:left;margin-bottom:3px;}.bxSl dd{margin-left:57px;*zoom:1;}.bxSl dd p{padding:2px 0 5px;}.bxSl dd ul{padding-top:7px;margin-left:-0.8em;}.bxShp{overflow:hidden;padding-bottom:9px;}.bxShp img{float:left;margin:9px 9px 0;}.bxShp .item{margin:14px 0 0 66px;}.bxShp .item li{margin-top:8px;}.bg1{background-position:0 100%;}.bg2{background-position:0 -930px;}.bg3{background-position:0 -2850px;}.bg4{background-position:0 -4220px;}.hd{border-bottom:1px solid;background-color:#fff;background-position:0 -200px;overflow:hidden;*zoom:1;}.hd h2{padding:3px 7px 2px;border:1px solid #fff;border-width:0 1px;}.hd h3{position:absolute;right:10px;top:3px;font-weight:normal;}.bgC{clear:both;padding:4px 5px 4px 10px;border:1px solid;}.bgC li{display:inline;margin-left:1em;}.bgC .first{margin-left:0;}.bgD{background-position:0 -2700px;background-repeat:repeat-x;}.bgI{background-color:#fefbc4;border:1px solid #ffcc01;}.close a{padding-right:20px;background-position:100% -1750px;color:#fff;cursor:pointer;text-decoration:underline;}.srchbtn{border:1px solid;background-position:0 -801px;font-weight:bold;}.clfix{*zoom:1;}.clfix:after{content:\"\";display:block;clear:both;}.item li{padding-left:13px;background-position:0 -1447px;}.emphasis li{padding-left:13px;background-position:0 -1487px;}.connect li{display:inline;padding-left:13px;background-position:0 -1531px;}.connect .first{padding-left:0;background:none;}.symbol a{display:inline-block;min-height:11px;padding-left:12px;background-repeat:no-repeat;background-position:0 -871px;}.ranking li{padding-left:18px;}.ranking .rnk1{background-position:0 -1050px;}.ranking .rnk2{background-position:0 -1090px;}.ranking .rnk3{background-position:0 -1130px;}.ranking .rnk4{background-position:0 -1170px;}.ranking .rnk5{background-position:0 -1210px;}.ranking .rnk6{background-position:0 -1250px;}.ranking .rnk7{background-position:0 -1290px;}.ranking .rnk8{background-position:0 -1330px;}.ranking .rnk9{background-position:0 -1370px;}.ranking .rnk10{background-position:0 -1410px;}.pldwn,.plup{margin-right:2px;padding-right:13px;background-position:100% -1570px;background-repeat:no-repeat;color:#000;display:inline-block;min-height:13px;}.plup{background-position:100% -1610px;}.pldwn:visited,.plup:visited{color:#000;}.prev,.next{display:inline-block;*zoom:1;width:8px;height:12px;background-position:-19px -80px;text-indent:-9999px;*text-indent:0;*font-size:0.1;overflow:hidden;}.next{background-position:-38px -80px;}.tab:after{content:\"\";display:block;clear:both;}.tab .on{font-weight:bold;}.tab .first{border-left:0;}.tab li a{outline:none;}.tab .on a,.tab .on a:visited{color:#000;text-decoration:none;}.assist a,.assist a:hover,.assist a:visited{display:block;padding:0 2px;text-decoration:none;}.assist{display:inline-block;border-style:solid;border-width:0 1px 1px 0;}.assist a,.assist a:visited{border:1px solid #9baab1;background:#fff;color:#000;}.assist a:hover{background-color:#ffeb7d;}.imgfilter{display:block;background:no-repeat 0 0;text-indent:-9999px;overflow:hidden;}.bkNum{padding:6px 10px 4px;}.bkNum h3{display:none;float:left;margin:0;}.bkNum dl{float:right;}.bkNum dt,.bkNum dd{float:left;line-height:1;margin-left:3px;}.bkNum dt{padding-top:2px;}.bkNum dd a{display:block;background-color:#fff;padding:2px 4px 1px 5px;outline:none;}.bkNum dd a:hover{text-decoration:none;background-color:#1d3994;color:#fff;}.bkNum dd a.on{background-color:#eee;color:#000;font-weight:bold;cursor:default;}.bkNum dd a.on:hover{background-color:#eee;color:#000;}.overlay{position:absolute;z-index:9;background:#000;filter:alpha(opacity=10);-ms-filter:\"alpha(opacity=10)\";opacity:0.1;}.iconNew,.iconPhoto,.iconVideo,#contentbox ul li .iconNotice{display:inline-block;margin-left:2px;text-indent:-9999px;outline:none;*vertical-align:middle;}.iconNew{height:11px;width:25px;background-position:0 -57px;}.iconPhoto{height:12px;width:12px;margin:0 2px;background-position:-37px -63px;}.iconVideo{height:12px;width:12px;margin:0 2px;background-position:-1px -80px;}#contentbox ul li .iconNotice{background-position:0 -1913px;padding:0;width:16px;height:14px;}.loading{background:url(http://k.yimg.jp/images/top/sp2/cmn/loading.gif) no-repeat 50% 50%;}.boxImg{float:left;}.boxImg a{outline:none;}.boxImg a img{border:1px solid #ccc;margin:10px;}.imgItem{margin:13px 10px 10px;}.imgItem a{line-height:1.8em;}.imgItem li{margin:0;}#hdBar{position:absolute;z-index:9;top:-1.5em;margin-top:-1px;left:0;width:100%;}#masthead{position:relative;z-index:1;margin-top:1.6em;*margin-top:1.4em;*zoom:1;}h1{position:relative;z-index:5;width:950px;margin:0 auto;padding-top:1px;text-align:center;height:80px;}h1 img{margin:10px 1px 0 0;}h1 .deco{margin:0;}#mhicon{position:absolute;left:50%;top:0;z-index:6;}#mhicon li{position:absolute;}#mhi1st{left:-365px;}#mhi2nd{left:-284px;}#mhi3rd{left:-203px;}#mhi4th{left:149px;}#mhi5th{left:230px;}#mhi6th{left:311px;}#mhicon li a{width:54px;height:54px;margin-top:15px;display:block;text-indent:-9999px;overflow:hidden;}#mhi1st a{background-position:0 -3372px;}#mhi2nd a{background-position:0 -3426px;}#mhi3rd a{background-position:0 -3480px;}#mhi4th a{background-position:0 -3534px;}#mhi5th a{background-position:0 -3588px;}#mhi6th a{background-position:0 -3642px;}#siteinfo{position:absolute;z-index:7;top:12px;right:10px;text-align:left;}#siteinfo li{padding-bottom:2px;}.changeBtn{position:absolute;left:0;z-index:5;border:1px solid #b4bdc3;background-color:#e5eaeb;background-position:0 -2110px;background-repeat:repeat-x;}#changeModeOf{bottom:13px;}#changeModeEx{top:15px;}.changeBtn a{display:inline-block;min-height:14px;padding:4px 9px 1px 28px;min-width:52px;background-position:0 -2151px;border-bottom:1px solid #fff;}#emergency{margin:5px 0 10px;text-align:center;}#emergency .alert{color:#f00;}#emg{margin:0 auto;text-align:center;line-height:1.2;}#emg table{margin:0 auto 10px;}#emg table table{margin-bottom:0;}#emg br{display:none;}#searchbox{background-position:0 -1540px;}#searchbox form{background-position:0 -1650px;background-repeat:no-repeat;}#searchbox fieldset{background-position:100% -1760px;background-repeat:no-repeat;}#srchbd{position:relative;width:51.8%;min-height:43px;margin:0 auto;padding:13px 0 20px;text-align:left;}#srchbd .tab{position:relative;z-index:9;margin-bottom:5px;min-height:14px;overflow:inherit;}#srchbd .tab li{display:inline;padding:0 5px;border-right:1px solid #ccc;}#srchbd .tab li.first{padding-left:0;}#srchbd ul.tab li#srchMore{position:absolute;vertical-align:top;border-right:0;}#srchbd ul.tab li#srchMore .plup,#srchbd ul.tab li#srchMore .pldwn{color:#1D3994;}#srchMorefw{position:absolute;top:1.15em;right:6px;z-index:9;padding:0 1px 2px 0;background:#cccccc;}#srchbd ul.tab li ul{padding:6px 0;background:#fff;border:1px solid #9aaabc;}#searchbox #srchbd ul.tab li ul li{white-space:nowrap;display:block;padding:0 1px;border-right:0;}#srchbd ul.tab li ul li a{display:block;padding:3px 8px;}#srchbd ul.tab li ul li a:hover{background-color:#1d3994;color:#fff;text-decoration:none;}#srchbd ul.tab li ul li.last{margin-top:3px;border-top:1px solid #cccccc;}#srchbd ul.tab li ul li.last a{margin-top:3px;}#srchbd p{clear:both;overflow:hidden;}#srchtxtBg{line-height:0;width:72.5%;min-width:360px;display:block;float:left;border:solid #7c7c7c;border-width:1px 0 0 1px;}#srchtxt{float:left;min-height:23px;width:100%;padding:3px 5px 2px;border:1px solid #c3c3c3;background-color:#fff;line-height:1.29;box-sizing:border-box;-moz-box-sizing:border-box;}#srchbtn{float:left;width:26.5%;padding:3px 0 2px;line-height:1.29;min-height:24px;letter-spacing:0.5em;cursor:pointer;}#srchAssist{clear:left;width:72.6%;min-width:361px;position:absolute;}#srchAssistBd{border:solid #7c7c7c;border-width:1px 2px 0 1px;background-color:#fff;}#srchAssist li{line-height:1;}#srchAssist li a{color:#000;padding:4px 6px 5px;display:block;cursor:pointer;}#srchAssist li .on{background-color:#1d3994;color:#fff;}#srchAssistTxt{padding:3px 5px 3px 5px;}#srchAssistOnOff{padding:3px 8px 1px 0;white-space:nowrap;color:#555;font-size:85%;text-align:right;line-height:0;}#srchAssistOnOff dt{display:inline;line-height:1;}#srchAssistOnOff dd{display:inline;line-height:1;padding-left:13px;background-position:0 -1533px;font-weight:bold;color:#000;}#srchAssistOnOff dd a{font-weight:normal;}#srchAssistOnOff dd.first{background:none;}#srchAssistClose,#srchacb,#srchAssistClose span{display:block;height:11px;background-repeat:no-repeat;cursor:pointer;overflow:hidden;line-height:0;text-indent:-9999px;}#srchAssistClose{background-position:100% -3348px;}#srchacb{background-position:0 -3300px;}#srchAssistClose span{margin:0 2px 0 45px;background-repeat:repeat-x;background-position:100% -3324px;}#srchAssistClose.on{background-position:100% -3360px;}.on #srchacb{background-position:0 -3312px;}#srchAssistClose.on span{background-position:100% -3336px;}#warning{margin:7px 110px;padding:14px;}#warning p.ex{text-align:left;}#warning a{font-weight:bold;}#uhd{position:relative;min-height:18px;height:1.5em;border:1px solid;text-align:center;}#uhdsetstart{position:absolute;left:5px;padding-top:2px;}#uhdassist{position:absolute;right:5px;}#clr{float:left;margin-top:3px;border-right:1px solid #ccc;}#clr li{float:left;margin-right:5px;border-style:solid;border-width:1px;line-height:0;}#clr li a{display:block;*float:left;width:6px;height:6px;border-style:solid;border-width:2px;overflow:hidden;text-indent:-9999px;}#clr1{border-color:#a2b6d8;}#clr1 a{background-color:#c8d2e7;border-color:#c8d2e7;}#clr2{border-color:#d49fc9;}#clr2 a{background-color:#fbcaf0;border-color:#fbcaf0;}#clr3{border-color:#ffbc6d;}#clr3 a{background-color:#ffdaa4;border-color:#ffdaa4;}#clr4{border-color:#4ec346;}#clr4 a{background-color:#95da75;border-color:#95da75;}#clr5{border-color:#bdbdbd;}#clr5 a{background-color:#d6d6d6;border-color:#d6d6d6;}#clr6{border-color:#c4defa;}#clr6 a{background-color:#edf4f8;border-color:#edf4f8;}#clr1 .on,#clr1 a:hover{background-color:#6179a0;}#clr2 .on,#clr2 a:hover{background-color:#ef64c8;}#clr3 .on,#clr3 a:hover{background-color:#ff882b;}#clr4 .on,#clr4 a:hover{background-color:#1e880b;}#clr5 .on,#clr5 a:hover{background-color:#737373;}#clr6 .on,#clr6 a:hover{background-color:#c8d2e7;}#uhdassist .help{float:left;margin-top:3px;}#uhdassist .help a{padding-left:5px;line-height:1em;}#toptxt{position:relative;z-index:7;margin:0 0 8px -1.8em;text-align:center;}#toptxt li{display:inline;margin-left:1.8em;}#navi #contentbox{border-top:0;}#contentbox .hd{border-top:1px solid;position:static;}#contentbox .hd .cbbtn{float:left;margin:1px 0;padding:1px;border-right:1px solid;}#contentbox .hd .cbbtn span{border-right:1px solid #fff;}#contentbox .hd .cbbtn a{display:block;width:10px;height:9px;padding:4px 4px 3px;text-indent:-9999px;overflow:hidden;}#cbbtntop{background-position:0 -110px;}#cbbtnbtm{background-position:-20px -110px;}#contentbox .changepos h2{padding-left:25px;}#contentbox .hd span.assist{float:right;margin-top:2px;margin-right:1px;}#contentbox ul{padding:2px 3px 0;}#contentbox ul li{margin:0;padding:2px 0 0px;}#contentbox ul li a{display:inline-block;min-height:14px;padding:2px 0 3px 20px;background-repeat:no-repeat;vertical-align:middle;}.cbysC1{background-position:0 -251px;}.cbysC2{background-position:0 -290px;}.cbysC5{background-position:0 -331px;}.cbysC12{background-position:0 -371px;}.cbysC13{background-position:0 -412px;}.cbysC14{background-position:0 -452px;}.cbysC15{background-position:0 -492px;}.cbysC25{background-position:0 -533px;}.cbysC26{background-position:0 -211px;}.cbysC33{background-position:0 -572px;}.cbysC34{background-position:0 -612px;}.cbysC41{background-position:0 -651px;}.cbysC73{background-position:0 -690px;}.cbysC48{background-position:0 -730px;}.cbysC37{background-position:0 -769px;}.cbysC53{background-position:0 -812px;}.cbysC57{background-position:0 -852px;}.cbysC46{background-position:0 -892px;}.cbysC44{background-position:0 -930px;}.cbysC87{background-position:0 -970px;}.cbysC97{background-position:0 -1010px;}.cbysC32{background-position:-38px -190px;}#favoriteservice ul li a{background-position:0 50%;}#cb2bgcx{position:absolute;left:0;*left:-2px;top:-1px;z-index:1;border:0;overflow:hidden;}#cb2bg{position:absolute;top:0;right:0;min-width:590px;width:46em;border:2px solid #ccc;border-width:0 2px 2px 0;background-color:#fff;}#checknumber,.cb2moreservice{width:100%;}.cb2ndhd{min-height:4em;_height:3.7em;}#checknumber .checkmax,.cb2moreservice .changemode{float:left;padding-left:10px;}#checknumber .checknow,.cb2moreservice .more{float:right;padding-right:10px;}.cb2moreservice{height:2.7em;*background-color:#fff;}.cb2moreservice .changemode{font-weight:bold;}.contentbox2nd{border:1px solid;color:#fff;background-position:0 -2050px;background-color:#fff;}.contentbox2nd h2{padding:5px 10px;color:#fff;}.contentbox2nd strong{color:#f00;}.contentbox2nd .cb2detail{margin:0 10px;border:1px solid #ccc;background:#fff;color:#000;}.cb2allservice{position:relative;z-index:2;padding:0 2px 5px 2px;background:#f0f3fa;overflow:hidden;*zoom:1;}#cb2yjedit .cb2allservice{background:#fffddb;}.contentbox2nd h3{clear:both;padding:4px 0 3px;}.cb2allservice ul li,#cb2worldservice ul li{position:relative;z-index:1;display:inline;float:left;width:20%;margin-bottom:3px;}#cb2yjedit .cb2allservice ul{*margin-top:-3px;*margin-bottom:4px;margin-bottom:3px;}#cb2yjedit .cb2allservice ul li{*margin-bottom:-3px;}.cb2allservice ul li a,.cb2allservice ul li input,.cb2allservice ul li label{vertical-align:middle;}.cb2allservice ul li.on{color:#f00;font-weight:bold;letter-spacing:-1px;}.cb2allservice ul li.off{color:#999;}.cb2allservice ul li.off input{visibility:hidden;}.cb2etc{padding:0 2px;}.cb2moreservice{clear:both;}.contentbox2nd span.close a{position:absolute;top:5px;right:8px;color:#fff;}#cb2yjservice .cb2detail ul li a{margin-left:15px;}#cb2worldservice{_height:71px;min-height:71px;}#cb2yjedit input{width:15px;}#cb2selectarea{position:relative;min-height:61px;_height:71px;padding-top:10px;}#cb2selectarea li{margin-bottom:5px;}#cb2selectarea button{width:7.8em;margin:0;padding:1px 0;*padding:0;border:0;border-top:1px solid #fff;font-weight:bold;text-align:center;}#cb2selectarea p{position:absolute;bottom:10px;right:10px;}#cb2selectarea span{display:block;float:left;}#cb2cancelbg{position:relative;right:5px;}#cb2selectarea span#cb2cancelbg,#cb2selectarea button#cb2cancel{background:#ccc;}#cb2selectarea span#cb2cancelbg{border:1px solid #666;}#cb2selectarea span#cb2setupbg,#cb2selectarea button#cb2setup{background:#fc3;}#cb2selectarea span#cb2setupbg{border:1px solid #ce8800;}#cb2bg .off #cb2selectarea span#cb2setupbg{border-color:#d1d1d1;}#cb2bg .off #cb2selectarea span#cb2setupbg,#cb2bg .off #cb2selectarea span#cb2setupbg button{background:#ddd;color:#999;cursor:default;}#navi #cb2popup{position:absolute;z-index:9;padding-bottom:3px;border:0;background:transparent;width:12em;margin:-6.7em 0 0 -1.05em;letter-spacing:-1px;}#cb2popup p{padding:4px 0 4px 2px;border:3px solid #b9c6d3;background:#fff;color:#000;font-weight:normal;}#cb2popup p strong{color:#e72e00;font-weight:bold;}#cb2popup p span,#cb2popup .cb2pbg2{background:url(http://k.yimg.jp/images/top/sp2/cb/cb2p_bg-090407.gif) no-repeat 0 0;}#cb2popup p span{position:absolute;right:2px;*right:1px;top:-6px;display:block;width:17px;height:13px;text-indent:-9999px;cursor:pointer;}#cb2popup .cb2pbg{margin:0 2px -3px 0;}#cb2popup .cb2pbg2{padding-bottom:9px;background-position:-20px 100%;}#companybox{padding:0 2px;}#companybox div{border-top:1px solid;}#companybox h2{padding:5px 5px 0;border-top:1px solid #fff;}#companybox ul,#companybox p{margin:0 0 0 4px;overflow:hidden;*zoom:1;}#companybox div.first,#companybox div.first h2{border-top:0;}#cmprikunabi ul{margin-top:7px;margin-bottom:7px;}#cmprikunabi ul li{display:inline;margin-left:0.5em;}#cmprikunabi ul li.first{margin-left:0;}#cmprikunabi p{margin-bottom:7px;}#composite ul{background:no-repeat 50% 0;}#composite ul.ieDisp{background:no-repeat 50% 50px;position:relative;padding-top:50px;}#composite .cmpIE{position:absolute;top:0;width:100%;background-repeat:no-repeat;background-position:50% 0;}#composite li a{display:block;width:170px;height:40px;margin:0 auto 10px;overflow:hidden;text-indent:-9999px;}#topicsbox{border-top:none;}#topicsbox .hd{margin:0 -1px;border-bottom:0;}#topicsbox h2{display:none;}#topicsbox .tab{position:relative;z-index:1;padding-bottom:1px;border:1px solid;background-position:0 -100px;}#topicsbox .tab li{position:relative;float:left;width:20%;margin:-1px 0 -2px;border-bottom:1px solid;border-top:1px solid;background-position:0 -100px;text-align:center;}#topicsbox .tab li span{display:block;position:relative;z-index:9;margin-bottom:-1px;border-right:1px solid;background-position:100% 0;}#topicsbox .tab li span a{display:block;position:relative;margin-right:-2px;padding:1px 2px 2px 0;border:1px solid #fff;}#topicsbox .on1 .tab0 span a,#topicsbox .on2 .tab1 span a,#topicsbox .on3 .tab2 span a,#topicsbox .on4 .tab3 span a,#topicsbox .tab .on span a,#topicsbox .tab .last span a{margin-right:0;padding-right:0;}#topicsbox .on4{border-bottom-color:#fff;border-right-color:#9baab1;background-position:0 -300px;background-color:#fff;padding-bottom:2px;}#topicsbox .tab .on{z-index:9;padding:0;margin-bottom:-2px;background-position:0 -300px;background-color:#fff;}#topicsbox .tab .on span{border-right:1px solid;border-bottom:1px solid #fff;}#topicsbox .tab .off span{border-right:1px solid;}#topicsbox .tab .last{border-bottom:0;}#topicsbox .tab .last span,#topicsbox .tab .last span a{border-right:0;}#topicsbox .on4 .on span{border-right:0;}#topicsboxbd{padding-right:10px;overflow:hidden;min-height:217px;}#topicsboxbd div{display:none;}#topicsboxbd div div,#topicsboxbd .current{display:block;}.topicsindex{float:left;width:63.5%;}.topicsindex em{margin:6px 0 0 8px;}.topicsindex .emphasis{margin:6px 0 0 5px;}.topicsindex .emphasis li,#othersfb .detail li{margin:5.5px 0 5px;}.topicsindex .emphasis li,#othersfb .detail li, x:-moz-any-link{max-height:1.23em;}.topicsindex .emphasis li img{margin-left:2px;}.topicsindex .more{margin:11px 15px;}.topicsindex .more li{display:inline;padding-right:1em;}.topicscatch{float:right;width:35.2%;padding-top:9px;}#topicsbox .topicsdetail{padding:3px 5px 3px 9px;margin:-1px 0 0;}#topicsboxbd .topicsdetail{border:1px solid;}.topicsimg{margin:6px 0 0 -4px;padding-bottom:2px;text-align:center;}#tpcsimgfilter{margin:auto;}.topicscatch h3,.topicscatch ul li{margin:2px -3px 0 0;padding-bottom:2px;}.topicscatch p{margin-bottom:2px;padding:2px 0;}#topicsbox em,#topicsbox .topicsdetail cite{display:block;color:#666;}#topicsbox .topicsdetail cite{margin-bottom:5px;}.topicscatch .item{padding:1px 0 2px;margin-left:-5px;}.topicscatch .mds{margin-bottom:5px;}.tpcdtlinfo{position:relative;padding-bottom:4px;}.tpcdtlinfo dt,.tpcdtlinfo dd{line-height:1.1em;}.tpcdtlinfo dt{margin-top:4px;}.tpcdtlinfo dd{text-align:right;margin-right:4px;}.tpcdtlinfo dt.ex,.tpcdtlinfo dt.last{position:absolute;left:0;}.tpcdtlinfo dd.ex,.tpcdtlinfo dd.last{margin-top:4px;margin-left:3em;}.tpcdtlinfo dd.low{color:#f00;}#othersfb{padding:5px 0 0 10px;}#othersfb .detail{float:left;width:50%;}#othersdetail3{clear:both;padding-top:10px;overflow:hidden;}#othersdetail3 h3{float:left;padding-right:14px;}#othersdetail3 h4{margin-right:-10px;font-weight:normal;}#topicsbox .notfound{min-height:1em;}.notfound #topicsfb p{color:#666;line-height:1.7em;margin:20px 16px 20px;}.notfound #topicsfb p strong{margin-left:-6px;}.notfound #topicsfb p a{text-decoration:underline;}#topicsInfo dt a{display:block;width:46px;height:46px;background-position:0 -200px;text-indent:-9999px;overflow:hidden;line-height:0;}#spotlight{padding:10px 10px 0;background-position:0 -300px;*zoom:1;}#splsentence{float:left;width:61%;}.spltmp3 #splsentence{margin-bottom:2em;}.spltmp3 #splsentence h2{margin-bottom:0.5em;}#spotlight .nonImg{width:auto;}#splsentence p{margin:10px 4px;line-height:1.5;*line-height:1.4;}#splimg{float:right;width:142px;padding-bottom:5px;text-align:center;}#splimgfilter{width:142px;height:100px;}#spotlight ul{clear:both;margin:0 9px 9px;overflow:hidden;*zoom:1;}#spotlight ul li{float:left;width:50%;margin:3px -1px 3px 0;}#spotlight ul li.ex{width:auto;}#spotlight .mds{margin:0 12px 2px;}#spldetail{clear:both;margin-bottom:10px;padding:3px 5px;text-align:center;}#splBkNum{margin:0 -10px;}#eventPromo{padding:11px 8px;overflow:hidden;*zoom:1;}#eventPromo .img{float:left;padding-right:8px;}#eventPromo p{margin:4px 0 0 178px;line-height:1.4em;}#selectionR #slcbd{position:relative;min-height:120px;overflow:hidden;}#selectionR .slcImg{padding:5px;}#selectionR li{margin:0 0 7px;*zoom:1;}#selectionR #slcbd,#selectionR h4{padding:4px 4px 4px 5px;}#selectionR p{margin:4px 5px;}#selectionR h4,#selectionR ul{margin-bottom:4px;padding-right:0;}#selectionR h5{padding-top:5px;font-weight:normal;}#selectionR h5.f2b a{padding:2px 0 2px 18px;background-repeat:no-repeat;background-position:0 50%;}#selectionR .slctmpR2 h4,#selectionR .slctmpR12 h4{padding-bottom:0;}#selectionR .slctmpR11{margin-left:4px;}#selectionR .slctmpR12{padding-right:0;}#selectionR .slctmpR12 p{margin-top:0;}#selectionR .slctmpR13 h4{padding-right:5px;}#selectionR .slctmpR13 ul{clear:left;}#selectionR .slctmpR15 .slcImg{padding:5px 0;text-align:center;}.al{float:left;padding-right:10px;}.ar{float:right;}.ac{text-align:center;}.pa{position:absolute;left:5px;}.c2{width:50%;*width:49.9%;float:left;}.c2b{width:50%;*width:39.5%;float:left;}.c3{float:left;width:33.33%;*width:33%;}.c3b{width:33.33%;*width:25%;float:left;}.c4{width:25%;*width:24.9%;float:left;}.f1{margin-left:83px;}.f2b{margin-left:129px;}#vdobd{overflow:hidden;}#vdobd .imgfilter{width:120px;height:90px;}#vdobd em{color:#666;line-height:1.22;}.vdotmp1b{position:relative;padding:2px 10px 6px;min-height:106px;}.vdotmp1b em{float:left;display:block;margin-top:105px;width:120px;}.vdotmp1b em span{vertical-align:bottom;}.vdotmp1b .img{position:absolute;top:10px;left:10px;border:1px solid #666;padding:1px;}.vdotmp1b .symbol{padding:0 0 1.5em 130px;*margin:10px 0 0 -3px;}.vdotmp1b .more{position:absolute;right:10px;bottom:7px;line-height:1.1;}.vdotmp1b .vdosentence{margin-left:134px;line-height:1.5;}.vdotmp1b .vdosentence h3{margin:9px 0 5px;}.vdotmp2{padding:4px 0 4px 11px;background-position:0 -2440px;background-repeat:repeat-x;}.vdotmp2 ul{*zoom:1;*margin-right:-2px;}.vdotmp2 ul li{float:left;width:33.3%;margin-bottom:0;}.vdotmp2 ul li .imgfilter{margin:0 auto 22px;}.vdotmp2 ul li .img,.vdotmp2 ul li p,.vdotmp2 ul li em{padding-right:10px;}#cgmboxR #cgmbd{padding:9px 8px 0;overflow:hidden;*zoom:1;}#cgmboxR h3{margin:0 -4px 8px 0;}#cgmboxR p{padding-bottom:10px;line-height:1.5em;}#cgmboxR img{float:left;}.cgmtmpR2b ul{margin:-7px 0 0 127px;}.cgmtmpR3 ol,.cgmtmpR4 ul,.cgmtmpR10 ul,.cgmtmpR13 ol{float:left;width:50%;*width:49.8%;margin:-7px 0 1px;overflow:hidden;*zoom:1;}#cgmboxR .cgmtmpR5 li p,#cgmboxR .cgmtmpR6 li p{margin:2px 12px 0;padding-bottom:0;line-height:1.2em;*line-height:1.1em;}.cgmtmpR6 img{margin-bottom:9px;}.cgmtmpR6 ul{margin-left:108px;}.cgmtmpR7 img,.cgmtmpR11 img{clear:both;}.cgmtmpR7 h4,.cgmtmpR11 h4{margin-bottom:10px;font-weight:normal;}.cgmtmpR7 .detail,.cgmtmpR11 .detail{_height:84px;min-height:84px;margin-left:110px;}.cgmtmpR12 p{margin-bottom:-5px;}.cgmtmpR13 ol{*padding-bottom:2px;}#announce .item{margin:8px 0 0 3px;}#sub #brandpanel{position:relative;z-index:9;border:0;background-color:transparent;text-align:center;}#sub .yzq_x{left:-9999px;}#disaster .hd,#disaster h2{background-image:url(http://k.yimg.jp/images/top/sp2/emg/disaster_ttl2.png) !important;}#disaster{border-color:#b9b9b9 !important;}#disaster .hd{border-bottom-color:#737373 !important;background-color:#e9e9e9 !important;background-repeat:repeat-x;background-position:0 -40px;}#disaster h2{padding:2px 7px 2px 28px;border:1px solid #fff;background-repeat:no-repeat;background-position:9px 4px;}#disaster ul{margin-top:5px;padding:0 0 0 3px;}#disaster li{float:left;width:46.2%;line-height:1.25;margin:0 0 6px 0;}#disaster ul.ex li{width:auto;margin-right:0.7em;}#disaster li.ex{clear:left;float:none;width:auto;}#personalbox{z-index:2;padding:5px 5px 0;*zoom:1;}#personalbox h2{display:none;}#pbproperty .connect,#personalbox h3 span,#personalbox #pbdata{font-weight:bold;}#pbidinfo,#pbproperty{position:relative;*zoom:1;}#pbidinfo li{margin:3px 0 0;}#pbidinfo .loginout{position:absolute;top:2px;}#pbidinfo .info{position:absolute;right:0;top:0.5em;}#pbidinfo .info span{position:absolute;right:0;width:5em;top:-0.3em;text-align:center;}#pbproperty{margin-top:2.2em;border:1px solid;background:#fff;*zoom:1;}#pbproperty .connect{padding:4px 0;margin:0 0 0 4px;}#pbproperty .connect #mailicon{position:absolute;display:block;width:36px;height:27px;float:left;margin-top:-7px;text-indent:-9999px;overflow:hidden;background-position:0 -130px;}#pbproperty .connect #mailicon.on{background-position:0 -160px;}#pbproperty .connect .txt{padding-left:40px;}#pbproperty .shortcut{position:absolute;top:50%;right:5px;margin-top:-8px}#pbproperty .shortcut li{float:left;padding-left:8px;margin:0;}#pbproperty .shortcut li a{display:block;overflow:hidden;text-indent:-9999px;width:16px;height:16px;background-position:0 -94px;}#pbproperty .shortcut li a.second{background-position:-19px -94px;}#pbproperty .shortcut li a.third{background-position:-37px -94px;}#pbindex{position:relative;z-index:2;*zoom:1;}#pbindex li{margin:0;}#pbindex .high{color:#f00;}#pbindex .low{color:#00f;}#pbindexbg{position:relative;z-index:2;margin-top:2px;}#pbtoday{position:relative;margin-right:44.5%;*margin-right:45%;_margin-right:40%;padding:2px;*zoom:1;*height:152px;background-color:#fff;border-style:solid;border-width:1px;}#pbtoday:after{content:\"\";display:block;clear:both;}#pbweather,#pbplan,#pbfortune{padding:3px 2px;border-top:1px solid;*zoom:1;clear:left;}h3#pbdata{background-position:0 -601px;padding:3px 0;text-align:center;}#pbweather{position:relative;z-index:9;}#pbweather.grayout{*zoom:1;line-height:1.3;}#pbweather .img{position:absolute;display:block;width:175px;height:48px;top:0;margin-top:-5px;*margin-top:-3px;text-indent:-9999px;background-position:-250px -250px;}#pbweather.grayout #pbwlocation{padding-top:4px;*padding-top:1px;}#pbweather h3{float:left;}#pbwarea{text-indent:10px;}#pbwicon{clear:left;float:left;}#pbwicon a{display:block;width:33px;height:20px;}#pbindex #pbwtemperature{float:right;margin-top:4px;padding-left:2em;border-left:1px solid #999999;line-height:1;}#pbwrprobability{margin-bottom:3px;padding:3px 15px 0 0;text-align:center;}#pbtoday .grayout h3{float:none;}#pbwlocation{clear:left;text-align:right;}#pbplan h3,#pbfortune h3{position:absolute;}#pbpnumber,#pbfconstellation{float:left;padding:0 0 3px 5.8em;}#pbfpoint{float:right;}#pbfortune{z-index:5;}#pbfortune .floatingw{position:absolute;left:-1px;z-index:9;width:15em;margin-top:1em;padding:5px 2px 1px 5px;border:1px solid #ccc;background:#fffac6;zoom:1;}#pbfortune .floatingw li{float:left;width:4.8em;padding:0 0.2em 0.4em 0;position:relative;}#pbfortune .floatingw li.ex{width:auto;}#pbfortune .floatingw li a{padding-left:17px;background-image:url(http://k.yimg.jp/images/top/sp2/pb/fotune_icon-101026.png);background-repeat:no-repeat;}#aries{background-position:0 0;}#taurus{background-position:0 -40px;}#gemini{background-position:0 -80px;}#cancer{background-position:0 -120px;}#leo{background-position:0 -160px;}#virgo{background-position:0 -200px;}#libra{background-position:0 -240px;}#scorpio{background-position:0 -280px;}#sagittarius{background-position:0 -320px;}#capricorn{background-position:0 -360px;}#aquarius{background-position:0 -400px;}#pisces{background-position:0 -440px;}#nofortune{background-position:0 -480px;}#pbcalendar{position:relative;float:right;width:43%;margin-bottom:-3px;background-color:#fff;border-style:solid;border-width:1px;}#pbcbg{overflow:hidden;zoom:1;}#pbcbg.load td a{visibility:hidden;}#pbcbg .load{display:none;position:absolute;top:45%;left:0;width:100%;text-align:center;color:#666;}#pbcbg.load .load{display:block;}#pbcalendar .loading{padding:0 0 4px 19px;display:inline-block;background-position:0 0;}#pbcalendar table{width:99%;}#pbcalendar table th{text-align:center;padding:3px 5px;}#pbcalendar table th ul li{float:left;}#pbcalendar table th ul li a{position:absolute;}#pbcPrev{left:0;margin-left:3.2em;}#pbcNext{right:0;margin-right:3.2em;}#pbcMonth{font-weight:bold;margin:0 10px;*zoom:1;}#pbcYear{position:absolute;margin-top:3px;right:3px;font-size:85%;color:#666;}#pbcalendar table td{text-align:right;}#pbcalendar table td a{display:block;padding:1px 0 0;min-width:16px;white-space:nowrap;border:1px solid #fff;}#personalbox table td .e{color:#999;}#personalbox table td .h{color:#f00;}#personalbox table td .b{font-weight:bold;letter-spacing:-1px;*padding:1px 1px 1px 0;}#personalbox table td .c{border-color:#1d3994;}#pbcalendar table td.t a{color:#fff;}#pbalert{margin-top:5px;padding:4px 8px;background:#fff;border:1px solid;overflow:hidden;*zoom:1;}#pbalert p a{background-position:0 -971px;display:block;float:left;margin:-1px 0;padding:2px 0 2px 20px;min-height:13px;}#pbsocial{margin-top:5px;padding:4px 8px;*padding:3px 8px 5px;background:#fff;border:1px solid;overflow:hidden;*zoom:1;}#pbsocial p a{background-position:0 -1832px;display:block;float:left;margin:-1px 0;padding:2px 0 2px 20px;min-height:13px;}#pbsocial dl{margin:0 -5px;}#pbsocialInfo{float:left;width:56%;padding-top:2px;background-position:0 -1873px;}#pbsocial dt a{padding-left:16px;}#pbsocial dd{float:right;background-image:url(http://k.yimg.jp/images/top/sp2/pb/vitality_bg-111003.png);background-repeat:no-repeat;}#pbsocial dd{padding-left:5px;}#pbsocialNotice{border-left:1px solid #999;}#pbsocial dd.level0{background-position:5px 2px;}#pbsocial dd.level1{background-position:5px -38px;}#pbsocial dd.level2{background-position:5px -78px;}#pbsocial dd.level3{background-position:5px -118px;}#pbsocial dd.level4{background-position:5px -158px;}#pbsocial dd.level4x{background-position:5px -198px;}#pbsocial dd a{display:block;width:65px;text-indent:-9999px;overflow:hidden;}#pbsocialNotice a{background-position:6px -1913px;}#pbsocialMsg a{background-position:6px -1953px;}#pblogininfo{margin:5px -4px 0;border-top:1px solid;*zoom:1;}#pblogininfo ul{padding-left:12px;border-top:1px solid #fff;}#pblogininfo ul li{margin:3px 0;}#pblogininfo li a{padding:2px 0 2px 20px;background-repeat:no-repeat;min-height:13px;display:inline-block;}#pblogininfo .point{float:left;width:54%;*width:52.8%;border-right:1px solid #999;}#pblogininfo .star{float:right;width:43%;}#pblogininfo .point a{background-position:0 -1652px;}#pblogininfo .star a{background-position:0 -1992px;}#pblogininfo .login a{background-position:0 -1692px;}#pbdplan li,#pbdBd3 li,#pbdClose{background-image:url(http://k.yimg.jp/images/top/sp2/pb/calendar_icon-100310.png);background-repeat:no-repeat;}#pbdetailbg{display:none;position:absolute;top:-1px;left:-1px;right:0;z-index:9999;width:101%;_width:104%;border-style:solid;border-width:0 1px 1px 0;border-color:#ccc;}#pbdetail{background-color:#fff;border-style:solid;border-width:1px;*zoom:1;}#pbdHd,.pbdHr{margin:0 4px;padding:5px 0 3px;*padding:5px 0 6px;}.pbdHr{border-top-style:solid;border-top-width:1px;}#pbdHd h3{font-weight:bold;text-align:center;}#pbdHd ul li{*float:left;}#pbdHd ul li a{position:absolute;top:6px;}#pbdHd ul li a.prev{left:7px;}#pbdHd ul li a.next{right:7px;}#pbdBd1 dt{display:none;}#pbdBd1 dd{display:inline-block;margin-right:7px;vertical-align:middle;}#pbdweather{margin-top:-4px;}#pbdplan li{padding:0 0 5px 15px;}#pbdBd2{min-height:115px;_height:115px;}#pbdBd2 .dtl{margin:8px 15px 0;color:#666;line-height:1.5;}#pbdBd2 .more{padding-top:2px;text-align:right;}#pbdBd3 li{background-position:0 -50px;padding:0 0 0 15px;}#pbdFt{padding:3px 4px;text-align:center;}#pbdClose{background-position:100% -100px;padding:0 20px 1px 0;}#yjidbox{position:relative;*zoom:1;}#yjidbox{min-height:68px;padding:5px 10px;}#yjidbox h2{float:left;margin-right:1.2em;}#yjidbox h2 a{background-position:0 -1793px;padding:2px 0 2px 20px;*zoom:1;}#yjidbox .more{text-align:right;}#yjidbox img{position:absolute;left:10px;margin-top:5px;}#yjidbox ul{margin:10px 0 12px 60px;}#sub #yjidboxB{border:none;background:none;text-align:center;}#everywhere{overflow:hidden;}#everywhere .item{margin:8px 0 0 3px;}#everywherePromo{margin:10px;text-align:center;}#notice ul{padding:0 10px;}#rightbox{overflow:hidden;*zoom:1;}#rightbox #rbdtl3{margin:8px 0 0 3px;}#rightbox #rbdtl3 li{*zoom:1;}#rightbox #rbimg{float:left;}#rightbox #rbimg a{outline:none;}#rightbox #rbimg a img{border:1px solid #ccc;}#rightbox #rbimg img,#rightbox #rbimg2 img{margin:10px;}#rightbox #rbimg img{*margin-bottom:0;}#rightbox #rbdtl{margin:5px 10px;}#rightbox #rbdtl2{margin:13px 10px;}#rightbox #rbdtl a,#rightbox #rbdtl2 a{line-height:1.8em;*line-height:1.6em;}#sub #rightbox2{border-top:0;margin-top:-10px;padding:7px 10px;}#local{z-index:1;*zoom:1;}#localbd{overflow:hidden;*zoom:1;}#localbd .item{margin:8px 0 0 3px;}#localbd dl{clear:both;*zoom:1;margin:0 10px 5px;padding-top:5px;}#localbd dt{display:inline;padding:1px 2px;background-color:#ff7301;color:#fff;font-size:85%;}#localbd dd{display:inline;margin-left:1em;}#localbd .error{padding:7px 16px;color:#666;}#localbd .more{clear:both;*zoom:1;text-align:right;padding:4px 10px;}#partner .item{margin:8px 0 0 3px;}#footer{padding:5px 0;margin-bottom:0;}#footer ul,#footer address{margin:5px auto;}.ulmwindow .ulmStart0 .ulmwindowbd{overflow:hidden;}.ulmwindow .ulmStart0 .ulmwindowsearch{float:right;}.ulmwindow .ulmStart0 .ulmwindowCth{float:left;}.ulmwindow .ulmStart0 .ulmwindowmds{clear:left;margin:0;width:75%;}.ulmwindow{position:absolute;left:-9px;z-index:9;display:block;min-width:328px;width:24.6em;margin-top:-2px;padding:10px;border:1px solid #6990b4;background:#fffac6;color:#666;}.ulmwindow form{position:relative;*zoom:1;}body .ulmwindow .alert{color:#f00;}.ulmwindowttl{margin:10px 0 -6px;}.ulmwindowdtl{height:100px;margin-top:11px;padding:1px 0;border:1px solid #ccc;background:#fff;overflow:auto;}ul.ulmwindowdtl li{margin:3px 0;}ul.ulmwindowdtl li a{display:block;margin:0 1px;padding:1px 0 1px 0.5em;}.ulmwindow .ulmwindowbd{padding:8px 9px;border:1px solid #ccc;background:#fffac6;}.ulmwindow label{display:block;}.ulmwindow .ulmwindowCth{margin-bottom:4px;color:#000;line-height:1.5;}.ulmwindow .ulmwindowmds{margin-bottom:7px;color:#666;}.ulmwindow .ulmStart .ulmwindowmds{margin-bottom:2px;}.ulmwindowmds span{display:block;margin:3px 0 0 1em;}.ulmwindow .ulmwindowarea{position:relative;}.ulmwindow .ulmwindowsearch{vertical-align:middle;padding-bottom:3px;}.ulmwindow .ulmwindowsearch input{width:77%;min-height:16px;margin-right:3px;padding:1px 3px;border:1px solid #7f9db9;vertical-align:middle;}.ulmwindow .ulmwindowsearch button{padding:0 10px;border:1px solid;background-repeat:repeat-x;background-position:0 -2070px;vertical-align:middle;}.ulmwindow .ulmwindowsearch .ulmwindowsrchbtn0{border-color:#666767;background-color:#ccc;}.ulmwindow .ulmwindowsearch .ulmwindowsrchbtn{border-color:#57718f;background-color:#57718f;background-position:0 -2030px;color:#fff;}.ulmwindow .ulmwindowevery{margin:6px 0 0 4em;}.ulmwindow .ulmwindowevery input{margin-right:1em;}.ulmwindowoption{margin:7px 0 -4px;text-align:right;}#localfw{top:1.6em;left:-1px;}#localfw2{position:relative;z-index:10;left:0;width:auto;margin:0;border-width:0 0 1px;border-bottom-color:#ccc;}.ulmwindow .ulmbg{position:absolute;z-index:10;left:10px;bottom:0;display:block;height:9px;width:31px;margin:10px 0 -9px;background-repeat:no-repeat;background-position:0 -190px;}#centralPosition{margin-top:-20px;border-top:0;}#centralPosition h2{padding:2px 2px 7px;}#centralPosition ul{margin:-7px 4px -8px 59px;*margin-bottom:-4px;padding-top:9px;overflow:visible;}#centralPosition li{margin-left:-30px;position:relative;z-index:9;overflow:hidden;}#centralPosition dl{margin:0 9px 0 67px;padding:9px 0 7px 0;background-repeat:repeat-x;background-position:0 -2700px;}#centralPosition dt{position:absolute;left:9px;font-weight:bold;}#centralPosition dd{margin-left:-67px;padding-left:3.8em;}\\n--&gt;</style>\\n<script type=\"text/javascript\">&lt;!--\\n  \\n  var ver=\"ga3_fx\";\\n  \\nif(typeof YAHOO==\"undefined\"||!YAHOO){var YAHOO={}}YAHOO.namespace=function(){var a=arguments,b=null,d,e,c;for(d=0;d&lt;a.length;d=d+1){c=(\"\"+a[d]).split(\".\");b=YAHOO;for(e=(c[0]==\"YAHOO\")?1:0;e&lt;c.length;e=e+1){b[c[e]]=b[c[e]]||{};b=b[c[e]]}}return b};YAHOO.log=function(b,a,c){var d=YAHOO.widget.Logger;if(d&amp;&amp;d.log){return d.log(b,a,c)}else{return false}};YAHOO.register=function(d,i,a){var e=YAHOO.env.modules,c,f,g,h,b;if(!e[d]){e[d]={versions:[],builds:[]}}c=e[d];f=a.version;g=a.build;h=YAHOO.env.listeners;c.name=d;c.version=f;c.build=g;c.versions.push(f);c.builds.push(g);c.mainClass=i;for(b=0;b&lt;h.length;b=b+1){h[b](c)}if(i){i.VERSION=f;i.BUILD=g}else{YAHOO.log(\"mainClass is undefined for module \"+d,\"warn\")}};YAHOO.env=YAHOO.env||{modules:[],listeners:[]};YAHOO.env.getVersion=function(a){return YAHOO.env.modules[a]||null};YAHOO.env.ua=function(){var e=function(i){var h=0;return parseFloat(i.replace(/\\\\./g,function(){return(h++==1)?\"\":\".\"}))},b=navigator,c={ie:0,opera:0,gecko:0,webkit:0,mobile:null,air:0,caja:b.cajaVersion,secure:false,os:null},f=navigator&amp;&amp;navigator.userAgent,d=window&amp;&amp;window.location,g=d&amp;&amp;d.href,a;c.secure=g&amp;&amp;(g.toLowerCase().indexOf(\"https\")===0);if(f){if((/windows|win32/i).test(f)){c.os=\"windows\"}else{if((/macintosh/i).test(f)){c.os=\"macintosh\"}}if((/KHTML/).test(f)){c.webkit=1}a=f.match(/AppleWebKit\\\\/([^\\\\s]*)/);if(a&amp;&amp;a[1]){c.webkit=e(a[1]);if(/ Mobile\\\\//.test(f)){c.mobile=\"Apple\"}else{a=f.match(/NokiaN[^\\\\/]*/);if(a){c.mobile=a[0]}}a=f.match(/AdobeAIR\\\\/([^\\\\s]*)/);if(a){c.air=a[0]}}if(!c.webkit){a=f.match(/Opera[\\\\s\\\\/]([^\\\\s]*)/);if(a&amp;&amp;a[1]){c.opera=e(a[1]);a=f.match(/Opera Mini[^;]*/);if(a){c.mobile=a[0]}}else{a=f.match(/MSIE\\\\s([^;]*)/);if(a&amp;&amp;a[1]){c.ie=e(a[1])}else{a=f.match(/Gecko\\\\/([^\\\\s]*)/);if(a){c.gecko=1;a=f.match(/rv:([^\\\\s\\\\)]*)/);if(a&amp;&amp;a[1]){c.gecko=e(a[1])}}}}}}return c}();(function(){YAHOO.namespace(\"util\",\"widget\",\"example\");if(\"undefined\"!==typeof YAHOO_config){var d=YAHOO_config.listener,a=YAHOO.env.listeners,b=true,c;if(d){for(c=0;c&lt;a.length;c++){if(a[c]==d){b=false;break}}if(b){a.push(d)}}}})();YAHOO.lang=YAHOO.lang||{};(function(){var h=YAHOO.lang,a=Object.prototype,b=\"[object Array]\",g=\"[object Function]\",c=\"[object Object]\",e=[],d=[\"toString\",\"valueOf\"],f={isArray:function(i){return a.toString.apply(i)===b},isBoolean:function(i){return typeof i===\"boolean\"},isFunction:function(i){return(typeof i===\"function\")||a.toString.apply(i)===g},isNull:function(i){return i===null},isNumber:function(i){return typeof i===\"number\"&amp;&amp;isFinite(i)},isObject:function(i){return(i&amp;&amp;(typeof i===\"object\"||h.isFunction(i)))||false},isString:function(i){return typeof i===\"string\"},isUndefined:function(i){return typeof i===\"undefined\"},_IEEnumFix:(YAHOO.env.ua.ie)?function(j,k){var l,m,i;for(l=0;l&lt;d.length;l=l+1){m=d[l];i=k[m];if(h.isFunction(i)&amp;&amp;i!=a[m]){j[m]=i}}}:function(){},extend:function(i,m,j){if(!m||!i){throw new Error(\"extend failed, please check that all dependencies are included.\")}var k=function(){},l;k.prototype=m.prototype;i.prototype=new k();i.prototype.constructor=i;i.superclass=m.prototype;if(m.prototype.constructor==a.constructor){m.prototype.constructor=m}if(j){for(l in j){if(h.hasOwnProperty(j,l)){i.prototype[l]=j[l]}}h._IEEnumFix(i.prototype,j)}},augmentObject:function(n,i){if(!i||!n){throw new Error(\"Absorb failed, verify dependencies.\")}var l=arguments,j,m,k=l[2];if(k&amp;&amp;k!==true){for(j=2;j&lt;l.length;j=j+1){n[l[j]]=i[l[j]]}}else{for(m in i){if(k||!(m in n)){n[m]=i[m]}}h._IEEnumFix(n,i)}},augmentProto:function(i,j){if(!j||!i){throw new Error(\"Augment failed, verify dependencies.\")}var l=[i.prototype,j.prototype],k;for(k=2;k&lt;arguments.length;k=k+1){l.push(arguments[k])}h.augmentObject.apply(this,l)},dump:function(q,l){var o,m,j=[],i=\"{...}\",p=\"f(){...}\",k=\", \",n=\" =&gt; \";if(!h.isObject(q)){return q+\"\"}else{if(q instanceof Date||(\"nodeType\" in q&amp;&amp;\"tagName\" in q)){return q}else{if(h.isFunction(q)){return p}}}l=(h.isNumber(l))?l:3;if(h.isArray(q)){j.push(\"[\");for(o=0,m=q.length;o&lt;m;o=o+1){if(h.isObject(q[o])){j.push((l&gt;0)?h.dump(q[o],l-1):i)}else{j.push(q[o])}j.push(k)}if(j.length&gt;1){j.pop()}j.push(\"]\")}else{j.push(\"{\");for(o in q){if(h.hasOwnProperty(q,o)){j.push(o+n);if(h.isObject(q[o])){j.push((l&gt;0)?h.dump(q[o],l-1):i)}else{j.push(q[o])}j.push(k)}}if(j.length&gt;1){j.pop()}j.push(\"}\")}return j.join(\"\")},substitute:function(i,x,p){var t,u,v,m,l,j,n=[],w,s=\"dump\",o=\" \",y=\"{\",k=\"}\",q,r;for(;;){t=i.lastIndexOf(y);if(t&lt;0){break}u=i.indexOf(k,t);if(t+1&gt;=u){break}w=i.substring(t+1,u);m=w;j=null;v=m.indexOf(o);if(v&gt;-1){j=m.substring(v+1);m=m.substring(0,v)}l=x[m];if(p){l=p(m,l,j)}if(h.isObject(l)){if(h.isArray(l)){l=h.dump(l,parseInt(j,10))}else{j=j||\"\";q=j.indexOf(s);if(q&gt;-1){j=j.substring(4)}r=l.toString();if(r===c||q&gt;-1){l=h.dump(l,parseInt(j,10))}else{l=r}}}else{if(!h.isString(l)&amp;&amp;!h.isNumber(l)){l=\"~-\"+n.length+\"-~\";n[n.length]=w}}i=i.substring(0,t)+l+i.substring(u+1)}for(t=n.length-1;t&gt;=0;t=t-1){i=i.replace(new RegExp(\"~-\"+t+\"-~\"),\"{\"+n[t]+\"}\",\"g\")}return i},trim:function(j){try{return j.replace(/^\\\\s+|\\\\s+$/g,\"\")}catch(i){return j}},merge:function(){var i={},k=arguments,l=k.length,j;for(j=0;j&lt;l;j=j+1){h.augmentObject(i,k[j],true)}return i},later:function(j,p,i,n,m){j=j||0;p=p||{};var o=i,k=n,l,q;if(h.isString(i)){o=p[i]}if(!o){throw new TypeError(\"method undefined\")}if(k&amp;&amp;!h.isArray(k)){k=[n]}l=function(){o.apply(p,k||e)};q=(m)?setInterval(l,j):setTimeout(l,j);return{interval:m,cancel:function(){if(this.interval){clearInterval(q)}else{clearTimeout(q)}}}},isValue:function(i){return(h.isObject(i)||h.isString(i)||h.isNumber(i)||h.isBoolean(i))}};h.hasOwnProperty=(a.hasOwnProperty)?function(j,i){return j&amp;&amp;j.hasOwnProperty(i)}:function(j,i){return !h.isUndefined(j[i])&amp;&amp;j.constructor.prototype[i]!==j[i]};f.augmentObject(h,f,true);YAHOO.util.Lang=h;h.augment=h.augmentProto;YAHOO.augment=h.augmentProto;YAHOO.extend=h.extend})();YAHOO.register(\"yahoo\",YAHOO,{version:\"2.8.2int\",build:\"5\"});function err(f,e,h){var g=new Image;g.src=\"http://b.www.yahoo.co.jp/p.gif?ver=\"+ver+\"&amp;error=\"+escape(f)+\",\"+escape(e)+\",\"+escape(h);return true}window.onerror=err;String.prototype.rot13=function(){return this.replace(/[a-zA-Z]/g,function(a){return String.fromCharCode((a&lt;=\"Z\"?90:122)&gt;=(a=a.charCodeAt(0)+13)?a:a-26)})};YAHOO.namespace(\"Fp\");YAHOO.namespace(\"Fd\");YAHOO.Fp.beacon=function(a){var b=new Image();b.src=\"http://b.www.yahoo.co.jp/p.gif?t=\"+new Date().getTime()+\"&amp;\"+a;setTimeout(function(){b=null},10000)};YAHOO.Fd.stripChunk=function(a){var b=a.lastIndexOf(\"!--\");if(b&lt;0){return a}return a.substring(0,(b-1))};var d=document;var $=function(a){return(typeof(a)==\"string\")?d.getElementById(a):false};\\nYAHOO.Fp._ie=YAHOO.Fp._ie8=YAHOO.Fp._ie7=YAHOO.Fp._ie55=0;\\nYAHOO.Fp._ff=1;\\nYAHOO.Fp._ffv=parseFloat(\"10.0.\",10);\\nYAHOO.Fp._ns=0;\\nYAHOO.Fp._nsv=parseFloat(\"0\",10);\\nYAHOO.Fp._sf=0;\\nYAHOO.Fp._sfv=parseFloat(\"0\",10);\\nYAHOO.Fp._op=0;\\nYAHOO.Fp._mac=0;\\nYAHOO.Fp._hostname=location.hostname;\\nYAHOO.Fp._basetag=document.getElementsByTagName(\\'base\\')[0].href;\\nYAHOO.Fp._bcrumb=\"\";\\nYAHOO.Fp._plcookie=0;\\nYAHOO.Fp._jis=\"\";\\nYAHOO.Fp._jpadmin1=\"\";\\nYAHOO.Fp._jpadmin2=\"\";\\nYAHOO.Fp._jpadmin3=\"\";\\nYAHOO.Fp._jpadmin4=\"\";\\nYAHOO.Fp._jpadmin5=\"\";\\nYAHOO.Fp._weatherjis=\"\";\\nYAHOO.Fp._firstblock=\"\";\\nYAHOO.Fp._ulmCrumb=\"c96e2470c50048396ed7ef55767fca14,1330360926\";\\nYAHOO.Fp._crumb=\"d41d8cd98f00b204e9800998ecf8427e\";\\nYAHOO.Fp._hp=false ;\\nYAHOO.Fp._srchOldQ = \\'\\' ;\\n\\t\\nYAHOO.Fp._earth=false;\\n\\t\\nYAHOO.Fp._emg=false;\\nYAHOO.Fp._fortune_json=\\'{aries:76,taurus:52,gemini:89,cancer:65,leo:85,virgo:61,libra:97,scorpio:73,sagittarius:80,capricorn:56,aquarius:92,pisces:68,nofortune:\"--\"}\\';\\n//--&gt;</script>\\n  \\n<script src=\"/javascript/fp_base_bd_ga_5.0.22.js\" type=\"text/javascript\"></script>\\n<link type=\"text/css\" rel=\"stylesheet\" href=\"http://k.yimg.jp/images/top/sp2/clr/1/clr-111206.css\" id=\"themeCSS\" /></head>\\n<body>\\n<div id=\"wrapper\">\\n<div id=\"header\">\\n<div id=\"masthead\">\\n<h1><a href=\"r/mlg\"><img height=\"59\" width=\"221\" alt=\"Yahoo! JAPAN\" src=\"http://k.yimg.jp/images/top/sp/logo.gif\" /></a></h1>\\n<ul id=\"mhicon\">\\n<li id=\"mhi1st\"><a href=\"r/mbb\" title=\"Yahoo! BB\">Yahoo! BB</a></li>\\n<li id=\"mhi2nd\"><a href=\"r/mauc\" title=\"??????\">??????</a></li>\\n<li id=\"mhi3rd\"><a href=\"r/mmy\" title=\"My Yahoo!\">My Yahoo!</a></li>\\n<li id=\"mhi4th\"><a href=\"r/mtb\" title=\"?????\">?????</a></li>\\n<li id=\"mhi5th\"><a href=\"r/mshp\" title=\"??????\">??????</a></li>\\n<li id=\"mhi6th\"><a href=\"r/mkid\" title=\"Yahoo! ???\">Yahoo! ???</a></li>\\n</ul>\\n<ul id=\"siteinfo\">\\n<li><a href=\"r/mcfp\">??????</a></li>\\n<li><a href=\"r/msb\">??????</a></li>\\n<li><a href=\"r/myid\">??ID??</a></li>\\n</ul>\\n<ul id=\"changeMode\">\\n<li class=\"changeBtn\" id=\"changeModeOf\"><a title=\"?????\" href=\"edit.html?copt4=1&amp;\">?????</a></li>\\n</ul>\\n</div>\\n<div id=\"emg\">\\n<!-- SpaceID=2077296265 loc=EMG3 noad-spid -->\\n<!-- SpaceID=2077296265 loc=EMG2 noad-spid -->\\n<!-- SpaceID=2077296265 loc=EMG noad -->\\n</div>\\n<div id=\"searchbox\"><div id=\"srchb\">\\n<form method=\"get\" name=\"sf1\" action=\"http://search.yahoo.co.jp/search\">\\n<fieldset>\\n<legend>Yahoo!??</legend>\\n<div id=\"srchbd\">\\n<ul class=\"tab\"><li class=\"tab0 first on\"><span><a hidefocus=\"true\" id=\"search\" href=\"r/swes\">???</a></span></li><li class=\"tab1\"><span><a hidefocus=\"true\" id=\"isearch\" href=\"r/sims\">??</a></span></li><li class=\"tab2\"><span><a hidefocus=\"true\" id=\"msearch\" href=\"r/svis\">??</a></span></li><li class=\"tab3\"><span><a hidefocus=\"true\" id=\"dsearch\" href=\"r/sdics\">??</a></span></li><li class=\"tab4\"><span><a hidefocus=\"true\" id=\"ksearch\" href=\"r/schs\">???</a></span></li><li class=\"tab5\"><span><a hidefocus=\"true\" id=\"csearch\" href=\"r/smas\">??</a></span></li><li class=\"tab6\"><span><a hidefocus=\"true\" id=\"rtsearch\" href=\"r/srts\">??????</a></span></li><li id=\"srchMore\" class=\"tab7\"><span><a href=\"r/llst\" id=\"srchMorebtn\" hidefocus=\"true\" class=\"pldwn\">??</a></span><div id=\"srchMorefw\" class=\"floatingw\"><ul><li class=\"first\"><a href=\"r/sbls\" id=\"bsearch\" hidefocus=\"true\">???</a></li><li><a href=\"r/lhe\" id=\"nsearch\" hidefocus=\"true\">????</a></li><li><a href=\"r/lsh\" id=\"shsearch\" hidefocus=\"true\">??????</a></li><li><a href=\"r/lac\" id=\"ausearch\" hidefocus=\"true\">??????</a></li><li><a href=\"r/stlnts\" id=\"tlntsearch\" hidefocus=\"true\">????</a></li><li><a href=\"r/seclps\" id=\"encsearch\" hidefocus=\"true\">????</a></li><li><a href=\"r/srbs\" id=\"rbnsearch\" hidefocus=\"true\">??</a></li><li><a hidefocus=\"true\" id=\"appsearch\" href=\"r/saps\">???</a></li><li><a hidefocus=\"true\" id=\"kkrsearch\" href=\"r/skkrs\">???</a></li><li><a hidefocus=\"true\" id=\"rsearch\" href=\"r/srcps\">???</a></li><li class=\"last\"><a href=\"r/llst\" id=\"service\" hidefocus=\"true\">??????</a></li></ul></div></li></ul>\\n<p><label id=\"srchtxtBg\"><input type=\"text\" value=\"\" id=\"srchtxt\" name=\"p\" autocomplete=\"off\" /></label><input type=\"submit\" value=\"??\" class=\"srchbtn\" id=\"srchbtn\" /></p>\\n<div id=\"srchAssist\">\\n<div style=\"display:none;\" id=\"srchAssistBd\">\\n<p id=\"srchAssistTxt\">????????????????</p>\\n<dl id=\"srchAssistOnOff\" class=\"bgC3\"><dt>?????????</dt><dd class=\"first\">ON</dd><dd><a href=\"edit.html?copt2=1&amp;\">OFF</a></dd></dl>\\n</div>\\n<div title=\"????????????\" id=\"srchAssistClose\"><div id=\"srchacb\"><span>????????????</span></div></div>\\n</div>\\n</div>\\n<script type=\"text/javascript\">&lt;!--\\nYUE.addListener( document,  \"keydown\", YAHOO.Fp.KeyAction );\\nYUE.addListener( \\'srchtxt\\', \"keydown\", function(e){if(e.keyCode == 38 || e.keyCode == 40 ) YAHOO.Fp.SearchAssist(e);} );\\nsetInterval(function(e) {\\n        if(YAHOO.Fp._srchOldQ != $(\\'srchtxt\\').value) {\\n                YAHOO.Fp._srchOldQ = $(\\'srchtxt\\').value ;\\n                YAHOO.Fp.SearchAssist(e) ;\\n        } } , 100) ;\\nYUE.addListener( \\'srchAssistClose\\', \"click\", function(e){YAHOO.Fp.fToggleSearchAssist(e);} );\\n$(\\'srchtxt\\').setAttribute(\"autocomplete\", \"off\");\\n//--&gt;</script>\\n<input type=\"hidden\" value=\"1\" id=\"search.x\" name=\"search.x\" /><input type=\"hidden\" value=\"top_ga1_sa\" id=\"fr\" name=\"fr\" /><input type=\"hidden\" value=\"top_ga1_sa\" id=\"tid\" name=\"tid\" /><input type=\"hidden\" value=\"UTF-8\" id=\"ei\" name=\"ei\" /><input type=\"hidden\" value=\"\" id=\"aq\" name=\"aq\" /><input type=\"hidden\" value=\"\" id=\"oq\" name=\"oq\" />\\n</fieldset>\\n</form>\\n</div></div>\\n<div id=\"hdBar\">\\n<div id=\"uhd\">\\n<div id=\"uhdsetstart\"><a id=\"uhdsetstartPromo\" title=\"?????????Yahoo!???????\" href=\"r/esah\">?????????Yahoo!???????</a></div>\\n<script type=\"text/javascript\">&lt;!--\\nYAHOO.Fp.hm=document.getElementById(\\'uhdsetstart\\');\\n//--&gt;</script>\\n<script type=\"text/javascript\">&lt;!--\\nif(YAHOO.Fp._ff) {\\n\\tif(!YAHOO.cookie.get(\\'CP\\') &amp;&amp; (YAHOO.Fp._ffv &gt;=2) &amp;&amp; (YAHOO.Fp._ffv &lt; 10)){\\n\\t\\tYAHOO.Fp.hm.innerHTML = \\'&lt;a href=\"r/header/toolbarpromo/*-http://rd.yahoo.co.jp/toppage/header/evt=78646/?http://toolbar.yahoo.co.jp/\" title=\"????????????????\" id=\"uhdsetstartPromo\"&gt;????????????????&lt;/a&gt;\\';\\n\\t} else {\\n\\t\\tYAHOO.Fp.hm.innerHTML = \\'&lt;a href=\"r/esah\" title=\"?????????Yahoo!???????\" id=\"uhdsetstartPromo\"&gt;?????????Yahoo!???????&lt;/a&gt;\\';\\n\\t}\\n}\\n//--&gt;</script>\\n<div id=\"uhdassist\">\\n<ul id=\"clr\">\\n<li id=\"clr1\"><a href=\"r/header/color/1/*-http://www.yahoo.co.jp/edit.html?color=1&amp;\" class=\"on\">???</a></li>\\n<li id=\"clr2\"><a href=\"r/header/color/2/*-http://www.yahoo.co.jp/edit.html?color=2&amp;\">???</a></li>\\n<li id=\"clr3\"><a href=\"r/header/color/3/*-http://www.yahoo.co.jp/edit.html?color=3&amp;\">????</a></li>\\n<li id=\"clr4\"><a href=\"r/header/color/4/*-http://www.yahoo.co.jp/edit.html?color=4&amp;\">????</a></li>\\n<li id=\"clr5\"><a href=\"r/header/color/5/*-http://www.yahoo.co.jp/edit.html?color=5&amp;\">????</a></li>\\n<li id=\"clr6\"><a href=\"r/header/color/6/*-http://www.yahoo.co.jp/edit.html?color=6&amp;\">?????</a></li>\\n</ul><p class=\"help\"><a href=\"r/mht\">???</a></p></div>\\n</div>\\n</div>\\n</div>\\n<hr class=\"separate\" />\\n<div class=\"clfix\" id=\"contents\">\\n\\n<div id=\"toptxt\">\\n<ul class=\"symbol\">\\n<li class=\"first\" id=\"toptxt1\"><a href=\"s/115019\">????????????????????</a></li>\\n<li id=\"toptxt2\"><a href=\"s/111358\">????????? ?????????</a></li>\\n<li id=\"toptxt3\"><a href=\"s/115020\">â€œ???â€\\x9d????????????????</a></li>\\n</ul>\\n</div>\\n\\n<div id=\"navi\">\\n<div class=\"bx bg1\" id=\"contentbox\">\\n<div class=\"changepos\" id=\"yahooservice\">\\n<div class=\"hd\">\\n<div class=\"cbbtn\">\\n<a href=\"edit.html?copt1=1&amp;\" id=\"cbbtntop\" class=\"cbimg\" title=\"????\">????</a>\\n</div>\\n<span class=\"assist\" id=\"cbassistall\"><a href=\"r/lst\">??</a></span>\\n<h2><a href=\"r/lst\">Yahoo!????</a></h2></div><ul><li><a class=\"cbysC1\" href=\"r/c1\">??????</a></li><li><a class=\"cbysC2\" href=\"r/c2\">??????</a></li><li><a class=\"cbysC5\" href=\"r/c5\">?????</a></li><li><a class=\"cbysC12\" href=\"r/c12\">????</a></li><li><a class=\"cbysC13\" href=\"r/c13\">??</a></li><li><a class=\"cbysC14\" href=\"r/c14\">????</a></li><li><a class=\"cbysC15\" href=\"r/c15\">??????</a></li><li><a class=\"cbysC25\" href=\"r/c25\">???</a></li><li><a class=\"cbysC26\" href=\"r/c26\">GyaO!</a><span title=\"NEW\" class=\"iconNew\">NEW</span></li><li><a class=\"cbysC97\" href=\"r/c97\">Y!????</a></li><li><a class=\"cbysC32\" href=\"r/c32\">??</a></li><li><a class=\"cbysC33\" href=\"r/c33\">??</a></li><li><a class=\"cbysC34\" href=\"r/c34\">??</a></li><li><a class=\"cbysC41\" href=\"r/c41\">???</a></li><li><a class=\"cbysC73\" href=\"r/c73\">????????</a></li><li><a class=\"cbysC48\" href=\"r/c48\">???</a></li><li><a class=\"cbysC37\" href=\"r/c37\">???</a></li><li><a class=\"cbysC53\" href=\"r/c53\">???</a></li><li><a class=\"cbysC57\" href=\"r/c57\">???</a></li><li><a class=\"cbysC46\" href=\"r/c46\">??????</a></li><li><a class=\"cbysC44\" href=\"r/c44\">???</a></li></ul></div><div class=\"changepos\" id=\"favoriteservice\">\\n<div class=\"hd\">\\n<div class=\"cbbtn\">\\n<a href=\"edit.html?copt1=1&amp;\" id=\"cbbtnbtm\" class=\"cbimg\" title=\"????\">????</a>\\n</div>\\n<span class=\"assist\" id=\"cbassistedit\"><a href=\"r/lst\">??</a></span>\\n<h2>?????</h2></div><ul><li><a style=\"background-image:url(http://k.yimg.jp/images/sicons/bookstore16.gif);\" href=\"r/cf3\">????</a></li><li><a style=\"background-image:url(http://k.yimg.jp/images/sicons/movie16.gif);\" href=\"r/cf17\">??</a></li><li><a style=\"background-image:url(http://k.yimg.jp/images/sicons/music16.gif);\" href=\"r/cf18\">??</a></li><li><a style=\"background-image:url(http://k.yimg.jp/images/sicons/game16.gif);\" href=\"r/cf20\">???</a></li><li><a style=\"background-image:url(http://k.yimg.jp/images/sicons/fortune16.gif);\" href=\"r/cf21\">??</a></li></ul></div><div id=\"pickupservice\"><div class=\"hd\"><h2>??????</h2></div><ul><li><a href=\"r/cp51\" style=\"background-image: url(http://k.yimg.jp/images/sicons/stepup16.gif);\">??</a><span title=\"NEW\" class=\"iconNew\">NEW</span></li></ul></div></div>\\n<div class=\"bx bg2\" id=\"companybox\">\\n<div class=\"first\" id=\"cmprikunabi\">\\n<h2><a href=\"r/lrn\">??</a></h2>\\n<ul>\\n<li class=\"first\"><a href=\"r/lnxt\">??</a></li>\\n<li><a href=\"r/labt\">?????</a></li>\\n<li><a href=\"r/lhkn\">??</a></li>\\n</ul>\\n<p><a href=\"s/114422\">?????????</a></p>\\n<p><a href=\"s/114423\">????????????</a></p>\\n<p><a href=\"s/114424\">???????????</a></p>\\n</div>\\n\\n<div id=\"cmpbb\">\\n<h2><a href=\"r/lbb\">Yahoo! BB</a></h2>\\n<ul><li><a href=\"s/115033\">12M??1,327?</a></li><li><a href=\"s/115034\">???40,000????</a></li></ul>\\n</div>\\n<div class=\"last\" id=\"cmpbiz\">\\n<h2><a href=\"r/lbz\">???????????</a></h2>\\n<ul><li><a href=\"s/114324\">?????? 3,000???</a></li><li><a href=\"s/58148\">?????????</a></li><li><a href=\"s/104434\">???Yahoo!?????</a></li><li><a href=\"s/113935\">Yahoo!??????</a></li></ul>\\n</div>\\n</div>\\n<div id=\"composite\">\\n<ul style=\"background-image:url(http://k.yimg.jp/images/top/sp2/cmp/comp_all-120203.png);\" class=\"ieDisp\">\\n<li id=\"cmp1st\"><a title=\"????????? ??????????????\" href=\"s/112890\">????????? ??????????????</a></li>\\n<li id=\"cmp2nd\"><a title=\"????????????????\" href=\"s/112891\">????????????????</a></li>\\n<li style=\"background-image:url(http://k.yimg.jp/images/top/sp2/cmp/comp_ie9-110405.png);\" class=\"cmpIE\"><a title=\"Windows Internet Explorer9 NEW for Yahoo! JAPAN\" href=\"r/lie9\">Windows Internet Explorer9 NEW for Yahoo! JAPAN</a></li></ul>\\n</div>\\n</div>\\n<hr class=\"separate\" />\\n<div id=\"division\">\\n<div id=\"main\">\\n<div class=\"bx\" id=\"topicsbox\">\\n<div class=\"hd\">\\n<ul class=\"tab on0\">\\n<li class=\"tab0 on\"><span><a hidefocus=\"true\" href=\"r/ttp\" id=\"topics\">?????</a></span></li>\\n<li class=\"tab1\"><span><a hidefocus=\"true\" href=\"r/teco\" id=\"economy\">??</a></span></li>\\n<li class=\"tab2\"><span><a hidefocus=\"true\" href=\"r/tent\" id=\"entertainment\">????</a></span></li>\\n<li class=\"tab3\"><span><a hidefocus=\"true\" href=\"r/tspo\" id=\"sports\">????</a></span></li>\\n<li class=\"tab4 last\"><span><a hidefocus=\"true\" href=\"r/toth\" id=\"others\">???</a></span></li>\\n</ul>\\n</div>\\n<div id=\"topicsboxbd\">\\n<div class=\"current\" id=\"topicsfb\"><div class=\"topicsindex\"><em>0?33???</em><ul class=\"emphasis\"><li><a href=\"f/topics/top/1/*-http://dailynews.yahoo.co.jp/fc/economy/elpida/?1330350525\">????? ????????</a><span title=\"??\" class=\"iconPhoto\">??</span></li><li><a href=\"f/topics/top/2/*-http://dailynews.yahoo.co.jp/fc/domestic/child_allowance/?1330353186\">?????? ???????</a></li><li><a href=\"f/topics/top/3/*-http://dailynews.yahoo.co.jp/fc/domestic/fukushima_nuclear_plant/?1330351736\">????? ???????</a></li><li><a href=\"f/topics/top/4/*-http://dailynews.yahoo.co.jp/fc/domestic/food_with_suspicious_substance/?1330350113\">?????????? ??</a></li><li><a href=\"f/topics/top/5/*-http://dailynews.yahoo.co.jp/fc/world/wikileaks/?1330356834\">WikiLeaks ??CIA?????</a><span title=\"NEW\" class=\"iconNew\">NEW</span></li><li><a href=\"f/topics/top/6/*-http://dailynews.yahoo.co.jp/fc/sports/nadeshiko_japan/?1330351736\">?????????????</a><span title=\"??\" class=\"iconPhoto\">??</span></li><li><a href=\"f/topics/top/7/*-http://dailynews.yahoo.co.jp/fc/local/tokyo_marathon/?1330347113\">?????????????</a><span title=\"??\" class=\"iconPhoto\">??</span></li><li><a href=\"f/topics/top/8/*-http://dailynews.yahoo.co.jp/fc/entertainment/entertainer_blog/?1330342646\">????????????</a><span title=\"??\" class=\"iconPhoto\">??</span></li></ul><ul class=\"more\"><li class=\"first\"><a href=\"f/topics/top/11/*-http://backnumber.dailynews.yahoo.co.jp/?t=d&amp;d=20120227&amp;c=top\">??????73??</a></li><li><a href=\"r/ttl\">??</a></li></ul></div><div class=\"topicscatch\"><div class=\"topicsdetail\"><div class=\"topicsimg\"><a title=\"120???????\" style=\"background-image:url(http://news.c.yimg.jp/images/topics/20120227-00000081-jijp-000-thumb.jpg);width:120px;height:83px;\" class=\"imgfilter\" id=\"tpcsimgfilter\" href=\"f/topics/top/9/*-http://dailynews.yahoo.co.jp/photograph/pickup/?1330349453\">120???????</a></div><p> <a href=\"f/topics/top/10/*-http://dailynews.yahoo.co.jp/photograph/pickup/?1330349453\">120???????</a></p><em>2?27?21?23???</em><cite>????</cite></div></div></div>\\n<div id=\"economyfb\"></div>\\n<div id=\"entertainmentfb\"></div>\\n<div id=\"sportsfb\"></div>\\n<div id=\"othersfb\"></div>\\n</div>\\n</div>\\n<script type=\"text/javascript\">&lt;!--\\nvar topicsTabs=new YAHOO.Fp.tabs(\"topicsbox\");topicsTabs.changeAction(YAHOO.Fp.loadPanel,{type:\"tabs\",module:\"topicsbox\",load:\"story\"});topicsTabs.setupTabs();YAHOO.Fp.selectTab=function(b,a){b=b.rot13();b=YAHOO.cookie.getsub(cookie_tab,b);if(b!=\"\"){setTimeout(function(){a.tabAction(0,a,d.getElementById(b.rot13()))},10)}};if(YAHOO.cookie.get(cookie_tab).indexOf(YAHOO.Fp._crumb)!==-1){YAHOO.Fp.selectTab(\"topicsbox\",topicsTabs)};\\n--&gt;</script><!-- SpaceID=2077296265 loc=TCBX noad -->\\n<script language=\"javascript\">\\nif(window.yzq_d==null)window.yzq_d=new Object();\\nwindow.yzq_d[\\'.oWJAHxT6Aw-\\']=\\'&amp;U=1282fbv1p%2fN%3d.oWJAHxT6Aw-%2fC%3d-1%2fD%3dTCBX%2fB%3d-1\\';\\n</script><noscript>&lt;div style=\"position:absolute;\"&gt;&lt;img width=1 height=1 alt=\"\" src=\"http://b3.yahoo.co.jp/b?P=hxxU4HxT68zS0DJ4EoohDUNejVQIO09Lsl4ADuoR&amp;T=143d6nnn0%2fX%3d1330360926%2fE%3d2077296265%2fR%3djp_toppage%2fK%3d5%2fV%3d2.1%2fW%3dH%2fY%3djp%2fF%3d2738417773%2fQ%3d-1%2fS%3d1%2fJ%3dD5EA537C&amp;U=1282fbv1p%2fN%3d.oWJAHxT6Aw-%2fC%3d-1%2fD%3dTCBX%2fB%3d-1\"&gt;&lt;/div&gt;</noscript><!-- SpaceID=2077296265 loc=TCBX2 noad-spid -->\\n<script language=\"javascript\">\\nif(window.yzq_d==null)window.yzq_d=new Object();\\nwindow.yzq_d[\\'_IWJAHxT6Aw-\\']=\\'&amp;U=1291k1gdm%2fN%3d_IWJAHxT6Aw-%2fC%3d-2%2fD%3dTCBX2%2fB%3d-2\\';\\n</script><noscript>&lt;div style=\"position:absolute;\"&gt;&lt;img width=1 height=1 alt=\"\" src=\"http://b3.yahoo.co.jp/b?P=hxxU4HxT68zS0DJ4EoohDUNejVQIO09Lsl4ADuoR&amp;T=143f8c7vt%2fX%3d1330360926%2fE%3d2077296265%2fR%3djp_toppage%2fK%3d5%2fV%3d2.1%2fW%3dH%2fY%3djp%2fF%3d2462523219%2fQ%3d-1%2fS%3d1%2fJ%3dD5EA537C&amp;U=1291k1gdm%2fN%3d_IWJAHxT6Aw-%2fC%3d-2%2fD%3dTCBX2%2fB%3d-2\"&gt;&lt;/div&gt;</noscript><div class=\"bx bxShp\" id=\"commerce\">\\n<a href=\"s/115036\"><img height=\"50\" width=\"50\" alt=\"???????2\" src=\"http://i.yimg.jp/images/gyao/img/outlink/anime_ashitano-joe2_50x50.jpg\" /></a>\\n<ul class=\"item\">\\n<li><a href=\"s/115037\">?????????????????????2?</a></li>\\n<li><a href=\"s/115038\">â€œ?????â€\\x9d??????????????</a></li>\\n</ul>\\n</div>\\n<div class=\"bx\" id=\"spotlight\">\\n<div id=\"spotlightct\">\\n<div id=\"spotlight_mainfb\" style=\"display: block;\">\\n<div id=\"splsentence\">\\n<h2>??????????<br />?????????????</h2>\\n<p class=\"lead\">????????????????????????????????????????????????</p>\\n</div>\\n<div id=\"splimg\"><a href=\"t/7069m0\" id=\"splimgfilter\" class=\"imgfilter\" style=\"background-image: url(http://k.yimg.jp/images/video-topics/rec/1202/23_e02.jpg);\">????</a>\\n<p><a href=\"t/7069m9\">???????</a></p></div>\\n<ul class=\"symbol\">\\n<li class=\"first\"><a href=\"t/7069m1\">â€œ???â€\\x9d????????</a></li>\\n<li><a href=\"t/7069m2\">?????????????</a></li>\\n<li><a href=\"t/7069m3\">????????????</a></li>\\n<li><a href=\"t/7069m4\">????????????</a></li>\\n<li><a href=\"t/7069m5\">?????????????</a></li>\\n<li><a href=\"t/7069m6\">?????????????</a></li>\\n<li><a href=\"t/7069m7\">?????????????</a></li>\\n<li><a href=\"t/7069m8\">?????????????</a></li>\\n</ul></div>\\n<div style=\"display: none;\" id=\"spotlight_bn1fb\"></div>\\n<div style=\"display: none;\" id=\"spotlight_bn2fb\"></div>\\n<div style=\"display: none;\" id=\"spotlight_bn3fb\"></div>\\n<div style=\"display: none;\" id=\"spotlight_bn4fb\"></div>\\n<div style=\"display: none;\" id=\"spotlight_bn5fb\"></div>\\n</div>\\n<div class=\"bkNum clfix\" id=\"splBkNum\">\\n<h3 style=\"display: none;\"><a id=\"spotlight_main\" href=\"#\">?????????</a></h3>\\n<dl class=\"on\"><dt>?????</dt><dd class=\"tab\"><a hidefocus=\"true\" id=\"spotlight_bn1\" href=\"#\">1</a></dd><dd class=\"tab\"><a hidefocus=\"true\" id=\"spotlight_bn2\" href=\"#\">2</a></dd><dd class=\"tab\"><a hidefocus=\"true\" id=\"spotlight_bn3\" href=\"#\">3</a></dd><dd class=\"tab\"><a hidefocus=\"true\" id=\"spotlight_bn4\" href=\"#\">4</a></dd><dd class=\"tab\"><a hidefocus=\"true\" id=\"spotlight_bn5\" href=\"#\">5</a></dd></dl>\\n</div>\\n</div>\\n<div class=\"bx bxSl\" id=\"event\">\\n<h2>??</h2>\\n<ul><li><a href=\"f/eventbox/13303548002/*-http://ramen.yahoo.co.jp/\">????????????????????</a></li><li class=\"more\"><a href=\"r/rev\">??</a></li></ul>\\n</div><!-- SpaceID=2077296265 loc=TPM noad -->\\n<script language=\"javascript\">\\nif(window.yzq_d==null)window.yzq_d=new Object();\\nwindow.yzq_d[\\'84WJAHxT6Aw-\\']=\\'&amp;U=127rruuh8%2fN%3d84WJAHxT6Aw-%2fC%3d-1%2fD%3dTPM%2fB%3d-1\\';\\n</script><noscript>&lt;div style=\"position:absolute;\"&gt;&lt;img width=1 height=1 alt=\"\" src=\"http://b3.yahoo.co.jp/b?P=hxxU4HxT68zS0DJ4EoohDUNejVQIO09Lsl4ADuoR&amp;T=142j99q73%2fX%3d1330360926%2fE%3d2077296265%2fR%3djp_toppage%2fK%3d5%2fV%3d2.1%2fW%3dH%2fY%3djp%2fF%3d638907897%2fQ%3d-1%2fS%3d1%2fJ%3dD5EA537C&amp;U=127rruuh8%2fN%3d84WJAHxT6Aw-%2fC%3d-1%2fD%3dTPM%2fB%3d-1\"&gt;&lt;/div&gt;</noscript><div class=\"bx bxSl\" id=\"tct\">\\n<h2>[PR]</h2>\\n<ul><li><a href=\"http://ard.yahoo.co.jp/SIG=159j5rbhu/M=300662897.301488049.302983615.301811783/D=jp_toppage/S=2077296265:TCT/Y=jp/EXP=1330368126/L=hxxU4HxT68zS0DJ4EoohDUNejVQIO09Lsl4ADuoR/B=7IWJAHxT6Aw-/J=1330360926983629/SIG=11qmgmama/A=301529243/R=0/*http://promotion.yahoo.co.jp/a6_avant/c/\">??????????????????????????</a></li></ul>\\n</div><script language=\"javascript\">\\nif(window.yzq_d==null)window.yzq_d=new Object();\\nwindow.yzq_d[\\'7IWJAHxT6Aw-\\']=\\'&amp;U=13jvmp9r7%2fN%3d7IWJAHxT6Aw-%2fC%3d300662897.301488049.302983615.301811783%2fD%3dTCT%2fB%3d301529243\\';\\n</script><noscript>&lt;div style=\"position:absolute;\"&gt;&lt;img width=1 height=1 alt=\"\" src=\"http://b3.yahoo.co.jp/b?P=hxxU4HxT68zS0DJ4EoohDUNejVQIO09Lsl4ADuoR&amp;T=1431sbrpb%2fX%3d1330360926%2fE%3d2077296265%2fR%3djp_toppage%2fK%3d5%2fV%3d2.1%2fW%3dH%2fY%3djp%2fF%3d1296133929%2fQ%3d-1%2fS%3d1%2fJ%3dD5EA537C&amp;U=13jvmp9r7%2fN%3d7IWJAHxT6Aw-%2fC%3d300662897.301488049.302983615.301811783%2fD%3dTCT%2fB%3d301529243\"&gt;&lt;/div&gt;</noscript><div class=\"bx\" id=\"selectionR\">\\n<div class=\"hd\">\\n<h2>??????????</h2>\\n<h3><a href=\"z/5174_1\">Yahoo!????</a></h3>\\n</div>\\n<div class=\"slctmpR11\" id=\"slcbd\">\\n<div class=\"c4\">\\n<div class=\"slcImg\"><a href=\"z/5174_2\">\\n<img height=\"84\" width=\"84\" alt=\"??\" src=\"http://k.yimg.jp/images/games/2.0/images/recommend/2011/1027_05.gif\" /></a></div>\\n<p><a href=\"z/5174_3\">???????????</a></p>\\n</div>\\n<div class=\"c4\">\\n<div class=\"slcImg\"><a href=\"z/5174_4\">\\n<img height=\"84\" width=\"84\" alt=\"????\" src=\"http://k.yimg.jp/images/games/2.0/images/recommend/2011/1027_01.gif\" /></a></div>\\n<p><a href=\"z/5174_5\">?????????</a></p>\\n</div>\\n<div class=\"c4\">\\n<div class=\"slcImg\"><a href=\"z/5174_6\">\\n<img height=\"84\" width=\"84\" alt=\"??\" src=\"http://k.yimg.jp/images/games/2.0/images/recommend/2011/1027_03.gif\" /></a></div>\\n<p><a href=\"z/5174_7\">????????????</a></p>\\n</div>\\n<div class=\"c4\">\\n<div class=\"slcImg\"><a href=\"z/5174_8\">\\n<img height=\"84\" width=\"84\" alt=\"????????\" src=\"http://k.yimg.jp/images/games/2.0/images/recommend/2012/0220_02.gif\" /></a></div>\\n<p><a href=\"z/5174_9\">????????????</a></p>\\n</div>\\n</div>\\n</div><div class=\"bx\" id=\"video\">\\n<div class=\"hd\">\\n<h2>???????</h2>\\n</div>\\n<div class=\"vdotmp1b\" id=\"vdobd\">\\n<div class=\"img\">\\n<a href=\"s/115012\" id=\"vdoimgfilter\" class=\"imgfilter\" style=\"background-image: url(http://k.yimg.jp/images/video-topics/rec/1202/27_e01.jpg);\">???????????????</a></div>\\n<em><span class=\"iconVideo\" title=\"??\">??</span>YouTube</em>\\n<ul class=\"symbol\">\\n<li><a href=\"s/115012\">???????????????</a></li>\\n<li><a href=\"s/115013\">AKB??CM???????????</a></li>\\n<li><a href=\"s/115014\">??????????????????</a></li>\\n<li><a href=\"s/115015\">??????????????????</a></li>\\n<li><a href=\"s/115016\">????????????????</a></li>\\n</ul>\\n<p class=\"more\"><a href=\"s/115017\">???????</a></p>\\n</div>\\n</div>\\n<div class=\"bx\" id=\"cgmboxR\">\\n<div class=\"hd\">\\n<h2>????????</h2>\\n</div>\\n<div class=\"cgmtmpR10\" id=\"cgmbd\">\\n<h3>????????????!?</h3>\\n<p>??????????????????????????????????????????????????????????</p>\\n<ul class=\"symbol\">\\n<li><a href=\"s/115039\">?????????????</a></li>\\n<li><a href=\"s/115040\">????????????</a></li>\\n<li><a href=\"s/115041\">?????????â€¦â€¦</a></li>\\n</ul>\\n<ul class=\"symbol\">\\n<li><a href=\"s/115042\">????????????</a></li>\\n<li><a href=\"s/115043\">????????????</a></li>\\n<li><a href=\"s/115044\">???????????</a></li>\\n</ul>\\n</div>\\n</div>\\n<div class=\"bx\" id=\"announce\">\\n<div class=\"hd\">\\n<h2>Yahoo! JAPAN???????</h2>\\n</div>\\n<ul class=\"item\">\\n<li><a href=\"s/115021\">??????????????????????????</a></li>\\n<li><a href=\"s/115022\">???????????????3??????????</a></li>\\n</ul>\\n</div>\\n</div>\\n<hr class=\"separate\" />\\n<div id=\"sub\">\\n<div class=\"bx\" id=\"brandpanel\">\\n<script language=\"JavaScript\">\\nvar YFAtr_id = \"301529417&amp;jtime=1330360926\";\\nvar YFAcheckImgSize = \"44.04#193\";\\nvar YFAtarget=\"_top\";\\nvar YFAlink = \"http://ard.yahoo.co.jp/SIG=159tvokf2/M=300665912.301491349.302983704.301426957/D=jp_toppage/S=2077296265:TBP/Y=jp/EXP=1330368126/L=hxxU4HxT68zS0DJ4EoohDUNejVQIO09Lsl4ADuoR/B=64WJAHxT6Aw-/J=1330360926983629/SIG=12ps0j8oo/A=301529417/R=0/*http://r.advg.jp/adptg_count/r?adptg_aid=5154&amp;adptg_mid=369&amp;adptg_lid=1\";\\nvar YFAaltlink = \"http://ard.yahoo.co.jp/SIG=159tvokf2/M=300665912.301491349.302983704.301426957/D=jp_toppage/S=2077296265:TBP/Y=jp/EXP=1330368126/L=hxxU4HxT68zS0DJ4EoohDUNejVQIO09Lsl4ADuoR/B=64WJAHxT6Aw-/J=1330360926983629/SIG=12p5rg2o3/A=301529417/R=1/*http://r.advg.jp/adptg_count/r?adptg_aid=5154&amp;adptg_mid=369&amp;adptg_lid=1\";\\nif(YFAlink.indexOf(\"ace%\")!=-1&amp;&amp;window.location.href.indexOf(\"http\")!=-1) {YFAlink=\"\";YFAtarget=\"\";}\\nif(YFAlink!=\"\"){YFAlink=escape(YFAlink);YFAtarget=escape(YFAtarget);}\\nvar YFAdate = new Date();\\nvar YFAimgParam = YFAdate.getFullYear()+ \\'.\\' + YFAdate.getMonth() + \\'.\\' + YFAdate.getDate() + \\'.\\' + YFAdate.getHours() + \\'.\\' + YFAdate.getMinutes() + \\'.\\' + YFAdate.getSeconds()+ \\'.\\' + YFAdate.getMilliseconds();\\nvar YFAvflash = \"http://ai.yimg.jp/bdv/6177/1028866/20120227/jtg5vdrfw3z9vg1wighv-c.swf\";\\nvar YFAmflash = \"http://ai.yimg.jp/bdv/6177/1028866/20120227/jtg5vdrfw3z9vg1wighv-b.swf\";\\nvar YFAaltimg = \"http://ai.yimg.jp/bdv/6177/1028866/20120227/jtg5vdrfw3z9vg1wighv-a.jpg\";\\nvar YFAwidth = 350;\\nvar YFAheight = 160;\\n</script>\\n<script src=\"http://ai.yimg.jp/bdv/yahoo/javascript/yfa_visual4_v8_tbp.js\" language=\"JavaScript\">\\n</script><div style=\"visibility: visible; width: 350px; height: 160px;\" id=\"ADframe0.3526458887423861\"><object classid=\"clsid:D27CDB6E-AE6D-11cf-96B8-444553540000\" style=\"width:350px;height:160px\" id=\"altfla\"><param name=\"FlashVars\" value=\"clickTAG=http%3A//ard.yahoo.co.jp/SIG%3D159tvokf2/M%3D300665912.301491349.302983704.301426957/D%3Djp_toppage/S%3D2077296265%3ATBP/Y%3Djp/EXP%3D1330368126/L%3DhxxU4HxT68zS0DJ4EoohDUNejVQIO09Lsl4ADuoR/B%3D64WJAHxT6Aw-/J%3D1330360926983629/SIG%3D12ps0j8oo/A%3D301529417/R%3D0/*http%3A//r.advg.jp/adptg_count/r%3Fadptg_aid%3D5154%26adptg_mid%3D369%26adptg_lid%3D1&amp;targetTAG=_top\" /><param name=\"movie\" value=\"http://ai.yimg.jp/bdv/6177/1028866/20120227/jtg5vdrfw3z9vg1wighv-b.swf\" /><param name=\"loop\" value=\"true\" /><param name=\"quality\" value=\"high\" /><param name=\"allowScriptAccess\" value=\"always\" /><param name=\"wmode\" value=\"transparent\" /><embed name=\"altfla\" src=\"http://ai.yimg.jp/bdv/6177/1028866/20120227/jtg5vdrfw3z9vg1wighv-b.swf\" loop=\"true\" quality=\"high\" swliveconnect=\"false\" allowscriptaccess=\"always\" wmode=\"transparent\" style=\"width:350px;height:160px\" type=\"application/x-shockwave-flash\" flashvars=\"clickTAG=http%3A//ard.yahoo.co.jp/SIG%3D159tvokf2/M%3D300665912.301491349.302983704.301426957/D%3Djp_toppage/S%3D2077296265%3ATBP/Y%3Djp/EXP%3D1330368126/L%3DhxxU4HxT68zS0DJ4EoohDUNejVQIO09Lsl4ADuoR/B%3D64WJAHxT6Aw-/J%3D1330360926983629/SIG%3D12ps0j8oo/A%3D301529417/R%3D0/*http%3A//r.advg.jp/adptg_count/r%3Fadptg_aid%3D5154%26adptg_mid%3D369%26adptg_lid%3D1&amp;targetTAG=_top\" /></object></div>\\n<noscript>\\n&lt;a href=\"http://ard.yahoo.co.jp/SIG=159tvokf2/M=300665912.301491349.302983704.301426957/D=jp_toppage/S=2077296265:TBP/Y=jp/EXP=1330368126/L=hxxU4HxT68zS0DJ4EoohDUNejVQIO09Lsl4ADuoR/B=64WJAHxT6Aw-/J=1330360926983629/SIG=12pdv12t2/A=301529417/R=2/*http://r.advg.jp/adptg_count/r?adptg_aid=5154&amp;adptg_mid=369&amp;adptg_lid=1\" target=\"_top\"&gt;\\n&lt;img src=\"http://ai.yimg.jp/bdv/6177/1028866/20120227/jtg5vdrfw3z9vg1wighv-a.jpg\" width=\"350\" height=\"160\" border=\"0\"&gt;\\n&lt;/a&gt;\\n</noscript>\\n</div><!-- /#brandpanel --><script language=\"javascript\">\\nif(window.yzq_d==null)window.yzq_d=new Object();\\nwindow.yzq_d[\\'64WJAHxT6Aw-\\']=\\'&amp;U=13jlg6uri%2fN%3d64WJAHxT6Aw-%2fC%3d300665912.301491349.302983704.301426957%2fD%3dTBP%2fB%3d301529417\\';\\n</script><noscript>&lt;div style=\"position:absolute;\"&gt;&lt;img width=1 height=1 alt=\"\" src=\"http://b3.yahoo.co.jp/b?P=hxxU4HxT68zS0DJ4EoohDUNejVQIO09Lsl4ADuoR&amp;T=143mupden%2fX%3d1330360926%2fE%3d2077296265%2fR%3djp_toppage%2fK%3d5%2fV%3d2.1%2fW%3dH%2fY%3djp%2fF%3d3925479124%2fQ%3d-1%2fS%3d1%2fJ%3dD5EA537C&amp;U=13jlg6uri%2fN%3d64WJAHxT6Aw-%2fC%3d300665912.301491349.302983704.301426957%2fD%3dTBP%2fB%3d301529417\"&gt;&lt;/div&gt;</noscript><div class=\"bx\" id=\"disaster\"><div class=\"hd\"><h2><a href=\"r/sai0\">???????????</a></h2></div><ul class=\"item clfix ex\"><li><a href=\"s/115045\">??????</a></li><li><a href=\"s/115046\">?????</a></li><li><a href=\"s/115047\">??????????</a></li><li class=\"ex\"><a href=\"s/115048\">????????????????????</a></li></ul></div>\\n<div class=\"bx bg3\" id=\"personalbox\">\\n<h3 id=\"pbhello\"><span><a href=\"r/pl1\">????</a></span></h3><ul id=\"pbidinfo\"><li class=\"loginout\">ID???????[ <a href=\"r/pnr\">????</a> ]</li>\\n<li class=\"info\"><span class=\"assist\"><a href=\"r/pet\">????</a></span></li></ul>\\n<div id=\"pbproperty\">\\n<ul class=\"connect\"><li class=\"pbmail first\"><a href=\"r/pmllo\"><span title=\"Yahoo!???\" id=\"mailicon\">Yahoo!???</span><span class=\"txt\">???</span></a></li><li class=\"pbmailinfo\"><a href=\"r/ppml\">??????????</a></li></ul><ul class=\"shortcut\"><li><a href=\"r/pbk\" class=\"first\" title=\"Yahoo!??????\">Yahoo!??????</a></li><li><a href=\"r/pnp\" class=\"second\" title=\"Yahoo!??????\">Yahoo!??????</a></li><li><a href=\"r/pbx\" class=\"third\" title=\"Yahoo!????\">Yahoo!????</a></li></ul>\\n</div>\\n<div id=\"pbindexbg\"><div id=\"pbindex\">\\n<div id=\"pbcalendar\"><div id=\"pbcbg\">\\n<table summary=\"?????\">\\n<thead><tr> \\n<th colspan=\"7\"><ul><li><a href=\"#\" class=\"prev\" id=\"pbcPrev\">??</a></li><li><a href=\"#\" class=\"next\" id=\"pbcNext\">??</a></li></ul><a href=\"f/pbox/clndr/month/*-http://calendar.yahoo.co.jp/?v=2\" id=\"pbcMonth\">2?</a><em id=\"pbcYear\">2012</em></th></tr>\\n<tr>\\n<td><span class=\"h\">?</span></td>\\n<td>?</td>\\n<td>?</td>\\n<td>?</td>\\n<td>?</td>\\n<td>?</td>\\n<td>?</td>\\n</tr>\\n</thead> \\n<tbody>\\n<tr>\\n<td><a id=\"dt20120129\" class=\"e\" href=\"f/pbox/clndr/day/*-http://calendar.yahoo.co.jp/?v=0&amp;t=1327849200\">29</a></td>\\n<td><a id=\"dt20120130\" class=\"e\" href=\"f/pbox/clndr/day/*-http://calendar.yahoo.co.jp/?v=0&amp;t=1327935600\">30</a></td>\\n<td><a id=\"dt20120131\" class=\"e\" href=\"f/pbox/clndr/day/*-http://calendar.yahoo.co.jp/?v=0&amp;t=1328022000\">31</a></td>\\n<td><a id=\"dt20120201\" href=\"f/pbox/clndr/day/*-http://calendar.yahoo.co.jp/?v=0&amp;t=1328108400\">1</a></td>\\n<td><a id=\"dt20120202\" href=\"f/pbox/clndr/day/*-http://calendar.yahoo.co.jp/?v=0&amp;t=1328194800\">2</a></td>\\n<td><a id=\"dt20120203\" href=\"f/pbox/clndr/day/*-http://calendar.yahoo.co.jp/?v=0&amp;t=1328281200\">3</a></td>\\n<td><a id=\"dt20120204\" href=\"f/pbox/clndr/day/*-http://calendar.yahoo.co.jp/?v=0&amp;t=1328367600\">4</a></td>\\n</tr>\\n<tr>\\n<td><a id=\"dt20120205\" class=\"h\" href=\"f/pbox/clndr/day/*-http://calendar.yahoo.co.jp/?v=0&amp;t=1328454000\">5</a></td>\\n<td><a id=\"dt20120206\" href=\"f/pbox/clndr/day/*-http://calendar.yahoo.co.jp/?v=0&amp;t=1328540400\">6</a></td>\\n<td><a id=\"dt20120207\" href=\"f/pbox/clndr/day/*-http://calendar.yahoo.co.jp/?v=0&amp;t=1328626800\">7</a></td>\\n<td><a id=\"dt20120208\" href=\"f/pbox/clndr/day/*-http://calendar.yahoo.co.jp/?v=0&amp;t=1328713200\">8</a></td>\\n<td><a id=\"dt20120209\" href=\"f/pbox/clndr/day/*-http://calendar.yahoo.co.jp/?v=0&amp;t=1328799600\">9</a></td>\\n<td><a id=\"dt20120210\" href=\"f/pbox/clndr/day/*-http://calendar.yahoo.co.jp/?v=0&amp;t=1328886000\">10</a></td>\\n<td><a id=\"dt20120211\" class=\"h\" href=\"f/pbox/clndr/day/*-http://calendar.yahoo.co.jp/?v=0&amp;t=1328972400\">11</a></td>\\n</tr>\\n<tr>\\n<td><a id=\"dt20120212\" class=\"h\" href=\"f/pbox/clndr/day/*-http://calendar.yahoo.co.jp/?v=0&amp;t=1329058800\">12</a></td>\\n<td><a id=\"dt20120213\" href=\"f/pbox/clndr/day/*-http://calendar.yahoo.co.jp/?v=0&amp;t=1329145200\">13</a></td>\\n<td><a id=\"dt20120214\" href=\"f/pbox/clndr/day/*-http://calendar.yahoo.co.jp/?v=0&amp;t=1329231600\">14</a></td>\\n<td><a id=\"dt20120215\" href=\"f/pbox/clndr/day/*-http://calendar.yahoo.co.jp/?v=0&amp;t=1329318000\">15</a></td>\\n<td><a id=\"dt20120216\" href=\"f/pbox/clndr/day/*-http://calendar.yahoo.co.jp/?v=0&amp;t=1329404400\">16</a></td>\\n<td><a id=\"dt20120217\" href=\"f/pbox/clndr/day/*-http://calendar.yahoo.co.jp/?v=0&amp;t=1329490800\">17</a></td>\\n<td><a id=\"dt20120218\" href=\"f/pbox/clndr/day/*-http://calendar.yahoo.co.jp/?v=0&amp;t=1329577200\">18</a></td>\\n</tr>\\n<tr>\\n<td><a id=\"dt20120219\" class=\"h\" href=\"f/pbox/clndr/day/*-http://calendar.yahoo.co.jp/?v=0&amp;t=1329663600\">19</a></td>\\n<td><a id=\"dt20120220\" href=\"f/pbox/clndr/day/*-http://calendar.yahoo.co.jp/?v=0&amp;t=1329750000\">20</a></td>\\n<td><a id=\"dt20120221\" href=\"f/pbox/clndr/day/*-http://calendar.yahoo.co.jp/?v=0&amp;t=1329836400\">21</a></td>\\n<td><a id=\"dt20120222\" href=\"f/pbox/clndr/day/*-http://calendar.yahoo.co.jp/?v=0&amp;t=1329922800\">22</a></td>\\n<td><a id=\"dt20120223\" href=\"f/pbox/clndr/day/*-http://calendar.yahoo.co.jp/?v=0&amp;t=1330009200\">23</a></td>\\n<td><a id=\"dt20120224\" href=\"f/pbox/clndr/day/*-http://calendar.yahoo.co.jp/?v=0&amp;t=1330095600\">24</a></td>\\n<td><a id=\"dt20120225\" href=\"f/pbox/clndr/day/*-http://calendar.yahoo.co.jp/?v=0&amp;t=1330182000\">25</a></td>\\n</tr>\\n<tr>\\n<td><a id=\"dt20120226\" class=\"h\" href=\"f/pbox/clndr/day/*-http://calendar.yahoo.co.jp/?v=0&amp;t=1330268400\">26</a></td>\\n<td><a id=\"dt20120227\" href=\"f/pbox/clndr/day/*-http://calendar.yahoo.co.jp/?v=0&amp;t=1330354800\">27</a></td>\\n<td class=\"t\"><a id=\"dt20120228\" href=\"f/pbox/clndr/day/*-http://calendar.yahoo.co.jp/?v=0&amp;t=1330441200\">28</a></td>\\n<td><a id=\"dt20120229\" href=\"f/pbox/clndr/day/*-http://calendar.yahoo.co.jp/?v=0&amp;t=1330527600\">29</a></td>\\n<td><a id=\"dt20120301\" class=\"e\" href=\"f/pbox/clndr/day/*-http://calendar.yahoo.co.jp/?v=0&amp;t=1330614000\">1</a></td>\\n<td><a id=\"dt20120302\" class=\"e\" href=\"f/pbox/clndr/day/*-http://calendar.yahoo.co.jp/?v=0&amp;t=1330700400\">2</a></td>\\n<td><a id=\"dt20120303\" class=\"e\" href=\"f/pbox/clndr/day/*-http://calendar.yahoo.co.jp/?v=0&amp;t=1330786800\">3</a></td>\\n</tr>\\n<tr>\\n<td><a id=\"dt20120304\" class=\"e\" href=\"f/pbox/clndr/day/*-http://calendar.yahoo.co.jp/?v=0&amp;t=1330873200\">4</a></td>\\n<td><a id=\"dt20120305\" class=\"e\" href=\"f/pbox/clndr/day/*-http://calendar.yahoo.co.jp/?v=0&amp;t=1330959600\">5</a></td>\\n<td><a id=\"dt20120306\" class=\"e\" href=\"f/pbox/clndr/day/*-http://calendar.yahoo.co.jp/?v=0&amp;t=1331046000\">6</a></td>\\n<td><a id=\"dt20120307\" class=\"e\" href=\"f/pbox/clndr/day/*-http://calendar.yahoo.co.jp/?v=0&amp;t=1331132400\">7</a></td>\\n<td><a id=\"dt20120308\" class=\"e\" href=\"f/pbox/clndr/day/*-http://calendar.yahoo.co.jp/?v=0&amp;t=1331218800\">8</a></td>\\n<td><a id=\"dt20120309\" class=\"e\" href=\"f/pbox/clndr/day/*-http://calendar.yahoo.co.jp/?v=0&amp;t=1331305200\">9</a></td>\\n<td><a id=\"dt20120310\" class=\"e\" href=\"f/pbox/clndr/day/*-http://calendar.yahoo.co.jp/?v=0&amp;t=1331391600\">10</a></td>\\n</tr>\\n</tbody>\\n</table>\\n</div></div><div id=\"pbtoday\">\\n<div id=\"pbdetailbg\"></div>\\n<h3 id=\"pbdata\">\\n2012?2?28????</h3>\\n<div id=\"pbweather\" class=\"grayout\">\\n<h3><a href=\"f/pbox/weather/title/off/*-http://weather.yahoo.co.jp/\">?????</a></h3>\\n<ul>\\n<li id=\"pbwicon\"><a href=\"f/pbox/weather/icon/off/*-http://weather.yahoo.co.jp/\"><img height=\"20\" width=\"33\" src=\"http://k.yimg.jp/images/top/sp/pbw_gray_icon.gif\" title=\"?????????????\" alt=\"?????????????\" /></a></li>\\n<li id=\"pbwtemperature\"><span class=\"high\">--?</span>/<span class=\"low\">--?</span></li>\\n<li id=\"pbwrprobability\">--%</li>\\n<li id=\"pbwlocation\"><a title=\"?????????\" class=\"pldwn\" id=\"pbweatherbtn\" href=\"f/pbox/weather/select/off/*-http://weather.yahoo.co.jp/\">?????????</a></li>\\n</ul>\\n</div><div id=\"pbplan\"><h3><a href=\"f/pcl/*-http://calendar.yahoo.co.jp/?v=0&amp;time=1330393326\">?????</a></h3><ul><li id=\"pbpnumber\"><a href=\"r/pclplo\">????????</a></li></ul></div><div id=\"pbfortune\"><h3><a href=\"r/pbox/fortune/today/*-http://rd.yahoo.co.jp/toppage/pbox/fortune/aries/evt=82409/*http://fortune.yahoo.co.jp/fortune/12astro/20120228/aries.html\">?????</a></h3>\\n<ul><li id=\"pbfconstellation\"><a class=\"pldwn\" id=\"pbfortunebtn\" href=\"r/pbox/fortune/today/*-http://rd.yahoo.co.jp/toppage/pbox/fortune/aries/evt=82409/*http://fortune.yahoo.co.jp/fortune/12astro/20120228/aries.html\">???</a></li><li id=\"pbfpoint\"><a href=\"r/pbox/fortune/today/*-http://rd.yahoo.co.jp/toppage/pbox/fortune/aries/evt=82409/*http://fortune.yahoo.co.jp/fortune/12astro/20120228/aries.html\">76?</a></li></ul><ul class=\"floatingw\" id=\"pbfortunefw\"><li><a title=\"???\" id=\"aries\" href=\"r/pbox/fortune/today/*-http://rd.yahoo.co.jp/toppage/pbox/fortune/aries/evt=82409/*http://fortune.yahoo.co.jp/fortune/12astro/20120228/aries.html\">???</a></li><li><a title=\"???\" id=\"taurus\" href=\"r/pbox/fortune/today/*-http://rd.yahoo.co.jp/toppage/pbox/fortune/taurus/evt=82409/*http://fortune.yahoo.co.jp/fortune/12astro/20120228/taurus.html\">???</a></li><li><a title=\"???\" id=\"gemini\" href=\"r/pbox/fortune/today/*-http://rd.yahoo.co.jp/toppage/pbox/fortune/gemini/evt=82409/*http://fortune.yahoo.co.jp/fortune/12astro/20120228/gemini.html\">???</a></li><li><a title=\"??\" id=\"cancer\" href=\"r/pbox/fortune/today/*-http://rd.yahoo.co.jp/toppage/pbox/fortune/cancer/evt=82409/*http://fortune.yahoo.co.jp/fortune/12astro/20120228/cancer.html\">??</a></li><li><a title=\"???\" id=\"leo\" href=\"r/pbox/fortune/today/*-http://rd.yahoo.co.jp/toppage/pbox/fortune/leo/evt=82409/*http://fortune.yahoo.co.jp/fortune/12astro/20120228/leo.html\">???</a></li><li><a title=\"???\" id=\"virgo\" href=\"r/pbox/fortune/today/*-http://rd.yahoo.co.jp/toppage/pbox/fortune/virgo/evt=82409/*http://fortune.yahoo.co.jp/fortune/12astro/20120228/virgo.html\">???</a></li><li><a title=\"???\" id=\"libra\" href=\"r/pbox/fortune/today/*-http://rd.yahoo.co.jp/toppage/pbox/fortune/libra/evt=82409/*http://fortune.yahoo.co.jp/fortune/12astro/20120228/libra.html\">???</a></li><li><a title=\"??\" id=\"scorpio\" href=\"r/pbox/fortune/today/*-http://rd.yahoo.co.jp/toppage/pbox/fortune/scorpio/evt=82409/*http://fortune.yahoo.co.jp/fortune/12astro/20120228/scorpio.html\">??</a></li><li><a title=\"???\" id=\"sagittarius\" href=\"r/pbox/fortune/today/*-http://rd.yahoo.co.jp/toppage/pbox/fortune/sagittarius/evt=82409/*http://fortune.yahoo.co.jp/fortune/12astro/20120228/sagittarius.html\">???</a></li><li><a title=\"???\" id=\"capricorn\" href=\"r/pbox/fortune/today/*-http://rd.yahoo.co.jp/toppage/pbox/fortune/capricorn/evt=82409/*http://fortune.yahoo.co.jp/fortune/12astro/20120228/capricorn.html\">???</a></li><li><a title=\"???\" id=\"aquarius\" href=\"r/pbox/fortune/today/*-http://rd.yahoo.co.jp/toppage/pbox/fortune/aquarius/evt=82409/*http://fortune.yahoo.co.jp/fortune/12astro/20120228/aquarius.html\">???</a></li><li><a title=\"??\" id=\"pisces\" href=\"r/pbox/fortune/today/*-http://rd.yahoo.co.jp/toppage/pbox/fortune/pisces/evt=82409/*http://fortune.yahoo.co.jp/fortune/12astro/20120228/pisces.html\">??</a></li><li class=\"ex\"><a href=\"#\" id=\"nofortune\" title=\"?????\">?????</a></li></ul>\\n</div></div>\\n</div></div>\\n<div id=\"pbalert\"><p><a href=\"r/psai\">???????????????????</a></p></div><div id=\"pbsocial\"><p><a href=\"r/psg\">ID???????????????</a></p></div><div id=\"pblogininfo\">\\n<ul>\\n<li class=\"point\"><a title=\"???????\" href=\"r/plpb\">???????</a></li>\\n<li class=\"star\"><a title=\"??????\" href=\"r/pstc\">??????</a></li>\\n<li class=\"login\"><a title=\"?????????\" href=\"r/plh1\">?????????</a></li>\\n</ul>\\n</div>\\n</div>\\n<div class=\"bx bg2\" id=\"yjidbox\">\\n<h2><a href=\"r/rpro\">Yahoo!?????</a></h2>\\n<p class=\"more\"><a href=\"s/115027\">???2500??????</a></p>\\n<p><a href=\"s/115028\"><img alt=\"Yahoo!??????\" src=\"http://k.yimg.jp/images/auct/lead_pic/50/2012/01/23_005.jpg\" /></a></p>\\n<ul><li><a href=\"s/115029\">????????????????????</a></li><li><a href=\"s/115030\">????????????????????</a></li></ul>\\n</div>\\n<div class=\"bx\" id=\"local\">\\n<div class=\"hd\">\\n<h2 class=\"json\" id=\"localhd\">?????????</h2>\\n<noscript>\\n&lt;h2&gt;&lt;a id=\"localbtn\" class=\"pldwn\" href=\"http://loco.yahoo.co.jp/\"&gt;????&lt;/a&gt;&lt;span&gt;?????&lt;/span&gt;&lt;/h2&gt;\\n</noscript>\\n</div>\\n<div id=\"localfw2\" class=\"ulmwindow\">\\n<form class=\"ulmStart\" id=\"ulm-form2\" name=\"ulm-form2\" method=\"get\">\\n<fieldset>\\n<legend>????</legend>\\n<div class=\"ulmwindowbd\">\\n<div class=\"ulmwindowCth\">??????????????????????<br />\\n???????????????????</div>\\n<div class=\"ulmwindowmds\">???1060032?????????????</div>\\n<div class=\"ulmwindowsearch\"><input type=\"text\" value=\"\" maxlength=\"100\" id=\"ulm-form-query2\" class=\"ulmwindowsrchtxt\" /><button class=\"ulmwindowsrchbtn\" id=\"ulm-form-button2\">??</button></div>\\n</div>\\n</fieldset>\\n</form>\\n</div>\\n<div id=\"localbd\">\\n<ul class=\"nonImg item\"><li><a href=\"f/local/20120228/13103/03/*-http://headlines.yahoo.co.jp/hl?a=20120224-00000053-minkei-l13\" style=\"color: rgb(153, 153, 153);\">??????????????????????</a></li><li><a href=\"f/local/20120228/13103/01/*-http://blogs.yahoo.co.jp/le_est_rose/66136561.html\" style=\"color: rgb(153, 153, 153);\">????????????????????500?</a></li><li><a href=\"f/local/20120228/13103/01/*-http://blogs.yahoo.co.jp/zen3des/37844303.html\" style=\"color: rgb(153, 153, 153);\">??????300???????????????</a></li><li><a href=\"f/local/20120228/13103/01/*-http://blogs.yahoo.co.jp/louiesato2000/33931023.html\" style=\"color: rgb(153, 153, 153);\">?????????????????????????</a></li><li><a href=\"f/local/20120228/13103/00/*-http://headlines.yahoo.co.jp/hl?a=20120227-00000018-minkei-l13\" style=\"color: rgb(153, 153, 153);\">????????????????????????</a></li></ul><p class=\"more bgC2\"><a href=\"f/local/20120228/13103/*-http://loco.yahoo.co.jp/city-13103/\" style=\"color: rgb(153, 153, 153);\">Yahoo!??:??????????</a></p>\\n</div>\\n<div class=\"overlay\" id=\"ulm-local-overlay\" style=\"width: 348px; height: 139px; margin-top: -139px;\"></div>\\n</div><div class=\"bx\" id=\"rightbox\">\\n<div class=\"hd\">\\n<h2>?????</h2>\\n</div>\\n<p id=\"rbimg\"><a href=\"http://ard.yahoo.co.jp/SIG=1590q93nc/M=300662572.301487629.302983868.301783927/D=jp_toppage/S=2077296265:TRB/Y=jp/EXP=1330368126/L=hxxU4HxT68zS0DJ4EoohDUNejVQIO09Lsl4ADuoR/B=7oWJAHxT6Aw-/J=1330360926983629/SIG=15qg6fmde/A=301529763/R=0/*http://www.peugeot.co.jp/308-6at-lineup/ya120227-01.html?utm_source=Yahoo&amp;utm_medium=Yahoo_Rightbox&amp;utm_term=308_0227_0304&amp;utm_content=Banner&amp;utm_campaign=308_0227_0304\"><img height=\"72\" width=\"72\" alt=\"????308??????\" src=\"http://ai.yimg.jp/bdv/2704/1025740/20120227/btibwyro3_fqjnk6zq2h-a.gif\" /></a></p>\\n<p id=\"rbdtl2\"><a href=\"http://ard.yahoo.co.jp/SIG=1590q93nc/M=300662572.301487629.302983868.301783927/D=jp_toppage/S=2077296265:TRB/Y=jp/EXP=1330368126/L=hxxU4HxT68zS0DJ4EoohDUNejVQIO09Lsl4ADuoR/B=7oWJAHxT6Aw-/J=1330360926983629/SIG=15qk0ur22/A=301529763/R=1/*http://www.peugeot.co.jp/308-6at-lineup/ya120227-01.html?utm_source=Yahoo&amp;utm_medium=Yahoo_Rightbox&amp;utm_term=308_0227_0304&amp;utm_content=Banner&amp;utm_campaign=308_0227_0304\">????????????????<br />\\n??????????308?<br />\\n3?3?(?)?4?(?)??????</a></p>\\n</div><script language=\"javascript\">\\nif(window.yzq_d==null)window.yzq_d=new Object();\\nwindow.yzq_d[\\'7oWJAHxT6Aw-\\']=\\'&amp;U=13jrhemoa%2fN%3d7oWJAHxT6Aw-%2fC%3d300662572.301487629.302983868.301783927%2fD%3dTRB%2fB%3d301529763\\';\\n</script><noscript>&lt;div style=\"position:absolute;\"&gt;&lt;img width=1 height=1 alt=\"\" src=\"http://b3.yahoo.co.jp/b?P=hxxU4HxT68zS0DJ4EoohDUNejVQIO09Lsl4ADuoR&amp;T=143nf90no%2fX%3d1330360926%2fE%3d2077296265%2fR%3djp_toppage%2fK%3d5%2fV%3d2.1%2fW%3dH%2fY%3djp%2fF%3d3501678277%2fQ%3d-1%2fS%3d1%2fJ%3dD5EA537C&amp;U=13jrhemoa%2fN%3d7oWJAHxT6Aw-%2fC%3d300662572.301487629.302983868.301783927%2fD%3dTRB%2fB%3d301529763\"&gt;&lt;/div&gt;</noscript><!-- SpaceID=2077296265 loc=TRAP noad-spid -->\\n<script language=\"javascript\">\\nif(window.yzq_d==null)window.yzq_d=new Object();\\nwindow.yzq_d[\\'8YWJAHxT6Aw-\\']=\\'&amp;U=1282i7vnd%2fN%3d8YWJAHxT6Aw-%2fC%3d-2%2fD%3dTRAP%2fB%3d-2\\';\\n</script><noscript>&lt;div style=\"position:absolute;\"&gt;&lt;img width=1 height=1 alt=\"\" src=\"http://b3.yahoo.co.jp/b?P=hxxU4HxT68zS0DJ4EoohDUNejVQIO09Lsl4ADuoR&amp;T=143f9usf7%2fX%3d1330360926%2fE%3d2077296265%2fR%3djp_toppage%2fK%3d5%2fV%3d2.1%2fW%3dH%2fY%3djp%2fF%3d4173967157%2fQ%3d-1%2fS%3d1%2fJ%3dD5EA537C&amp;U=1282i7vnd%2fN%3d8YWJAHxT6Aw-%2fC%3d-2%2fD%3dTRAP%2fB%3d-2\"&gt;&lt;/div&gt;</noscript><div class=\"bx\" id=\"everywhere\">\\n<div class=\"hd\">\\n<h2>????Yahoo! JAPAN</h2>\\n</div>\\n<p class=\"boxImg\"><a href=\"r/rew\"><img height=\"72\" width=\"72\" alt=\"Yahoo! JAPAN ?????\" src=\"http://k.yimg.jp/images/top/sp2/ew/smartapp.png\" /></a></p>\\n<ul class=\"imgItem\"><li><a href=\"s/109563\">????????????????</a></li><li><a href=\"s/115035\">??????????????????</a></li><li><a href=\"s/114388\">???Wi-Fi???? ???</a></li></ul>\\n</div>\\n<div class=\"bx\" id=\"partner\">\\n<div class=\"hd\">\\n<h2>???????????????</h2>\\n</div>\\n<ul class=\"item\">\\n<li><a href=\"s/115007\">??????â€¦â€¦??????????</a></li>\\n<li><a href=\"s/115008\">????????????????100???</a></li>\\n</ul>\\n</div>\\n</div>\\n</div>\\n</div>\\n<hr class=\"separate\" />\\n<div class=\"bx\" id=\"footer\">\\n<ul class=\"connect\"><li class=\"first\"><a href=\"r/fin\">????</a></li><li><a href=\"r/fiv\">?????</a></li><li><a href=\"r/fcsr\">?????</a></li><li><a href=\"r/fcgi\">??????</a></li><li><a href=\"r/fad\">????????</a></li><li><a href=\"r/fhr\">????</a></li></ul>\\n<ul class=\"connect\"><li class=\"first\"><a href=\"r/ftm\">????</a></li><li><a href=\"r/fsec\">???????????</a></li><li><a href=\"r/fpv\">??????????</a></li><li><a href=\"r/fdi\">????</a></li></ul>\\n<address>Copyright (C) 2012 Yahoo Japan Corporation. All Rights Reserved.</address>\\n</div>\\n \\n</div>\\n<noscript>&lt;style type=\"text/css\"&gt;&lt;!--\\n#contentbox .changepos h2{padding-left:5px;}#uhdsetstart,#srchAssist,#contentbox .hd .cbbtn,#favoriteservice .assist,#sub #localfw2,#local h2.json,.bkNum,#pbcPrev,#pbcNext{display:none;}#local h2.jsoff{display:block;}#srchMore a{background:none;}\\n--&gt;&lt;/style&gt;</noscript>\\n\\n<script type=\"text/javascript\">&lt;!--\\nvar searchTabs=new YAHOO.Fp.tabs(\"searchbox\");searchTabs.nTabMaxNum=7;searchTabs.sTxtTmp=$(\"srchtxt\").value;searchTabs.dPreTabNum=0;searchTabs.sEventName=\"\";searchTabs.changeAction(YAHOO.Fp.changeVert,{obj:searchTabs});searchTabs.setupTabs();var fpColor=new YAHOO.Fp.changeColor(\"clr\");fpColor.setup();if($(\"local\")){var localULM=new YAHOO.Fp.ulm(\"local\");if(!YAHOO.Fp._plcookie){var _localbd=$(\"localbd\");var oLocalBody=YUD.getRegion(_localbd);var oLocalBodyXY={X:oLocalBody.right-oLocalBody.left,Y:oLocalBody.bottom-oLocalBody.top};var oOverlay=$(\"ulm-local-overlay\");if(!(YAHOO.Fp._sf&amp;&amp;YAHOO.Fp._sfv&lt;500)){YUD.setStyle(oOverlay,\"width\",oLocalBodyXY.X+\"px\");YUD.setStyle(oOverlay,\"height\",oLocalBodyXY.Y+\"px\");YUD.setStyle(oOverlay,\"margin-top\",\"-\"+oLocalBodyXY.Y+\"px\")}var _link=_localbd.getElementsByTagName(\"a\");var _linkL=_link.length;for(var _i=0;_i&lt;_linkL;_i++){YUD.setStyle(_link[_i],\"color\",\"#999\")}if(typeof _localbd.getElementsByTagName(\"img\")[0]!=\"undefined\"){_localbd.getElementsByTagName(\"img\")[0].src=\"http://k.yimg.jp/images/top/sp/local_dummy.gif\"}if(typeof _localbd.getElementsByTagName(\"h3\")[0]!=\"undefined\"){_localbd.getElementsByTagName(\"h3\")[0].innerHTML=\"\\\\u6307\\\\u5b9a\\\\u3057\\\\u305f\\\\u5730\\\\u57df\\\\u306e\\\\u30a4\\\\u30d9\\\\u30f3\\\\u30c8\\\\u60c5\\\\u5831\\\\u304c\\\\u8868\\\\u793a\\\\u3055\\\\u308c\\\\u307e\\\\u3059\"}localULM.bDefLocal=1}localULM.setupULM()};var spotlight=new YAHOO.Fp.tabs(\"spotlight\");spotlight.changeAction(YAHOO.Fp.loadPanel,{type:\"tabs\",module:\"spotlight\",load:\"story\"});spotlight.sTabTag=\"dd\";spotlight.setupTabs();if($(\"pbdetailbg\")){var calendar=new YAHOO.Fp.calendar(\"pbcalendar\");calendar.init()};YAHOO.Fp.contentbox=new YAHOO.Fp.oContentBox();YUE.on(\"cbassistall\",\"click\",function(a){YUE.stopEvent(a);YAHOO.Fp.contentbox.toggleContentBox(0,{sAction:\"service\",sOption:\"normal\"})});YUE.on(\"cbassistedit\",\"click\",function(a){YUE.stopEvent(a);YAHOO.Fp.contentbox.toggleContentBox(0,{sAction:\"edit\",sOption:\"normal\"})});var fortunePanels=new YAHOO.Fp.panels(\"pbfortune\");fortunePanels.changeAction(YAHOO.Fp.changeFortune,{type:\"panel\",module:\"fortune\"});fortunePanels.sListTag=\"ul\";fortunePanels.dCurId=\"aries\";fortunePanels.oValue=eval(\"(\"+YAHOO.Fp._fortune_json+\")\");fortunePanels.setupPanels();var weatherULM=new YAHOO.Fp.ulm(\"pbweather\");weatherULM.setupULM();setTimeout(function(){$(\"srchtxt\").focus()},100);\\n//--&gt;</script>\\n\\n<script language=\"javascript\">\\nif(window.yzq_p==null)document.write(\"&lt;scr\"+\"ipt language=javascript src=http://ai.yimg.jp/bdv/yahoo/javascript/csc/20060824/lib2obf_b3.js&gt;&lt;/scr\"+\"ipt&gt;\");\\n</script><script src=\"http://ai.yimg.jp/bdv/yahoo/javascript/csc/20060824/lib2obf_b3.js\" language=\"javascript\"></script><script language=\"javascript\">\\nif(window.yzq_p)yzq_p(\\'P=hxxU4HxT68zS0DJ4EoohDUNejVQIO09Lsl4ADuoR&amp;T=13u43fp2m%2fX%3d1330360926%2fE%3d2077296265%2fR%3djp_toppage%2fK%3d5%2fV%3d1.1%2fW%3dJ%2fY%3djp%2fF%3d2608448656%2fS%3d1%2fJ%3dD5EA537C\\');\\nif(window.yzq_s)yzq_s();\\n</script><noscript>&lt;div style=\"position:absolute;\"&gt;&lt;img width=1 height=1 alt=\"\" src=\"http://b3.yahoo.co.jp/b?P=hxxU4HxT68zS0DJ4EoohDUNejVQIO09Lsl4ADuoR&amp;T=1432e3uf7%2fX%3d1330360926%2fE%3d2077296265%2fR%3djp_toppage%2fK%3d5%2fV%3d3.1%2fW%3dJ%2fY%3djp%2fF%3d4125659704%2fQ%3d-1%2fS%3d1%2fJ%3dD5EA537C\"&gt;&lt;/div&gt;</noscript>\\n<!-- p12.f9.top.ogk.yahoo.co.jp compressed/chunked Tue Feb 28 01:42:06 JST 2012 -->\\n</body></html>'"
      ]
     },
     "execution_count": 82,
     "metadata": {},
     "output_type": "execute_result"
    }
   ],
   "source": [
    "webpage_html"
   ]
  },
  {
   "cell_type": "code",
   "execution_count": 83,
   "metadata": {},
   "outputs": [
    {
     "data": {
      "text/plain": [
       "93650"
      ]
     },
     "execution_count": 83,
     "metadata": {},
     "output_type": "execute_result"
    }
   ],
   "source": [
    "len(webpage_html)"
   ]
  },
  {
   "cell_type": "code",
   "execution_count": 12,
   "metadata": {
    "colab": {
     "base_uri": "https://localhost:8080/"
    },
    "id": "GhZvp8XY9aaB",
    "outputId": "a1f5b3f0-bd92-4c96-83a6-741594557c0f"
   },
   "outputs": [],
   "source": [
    "from nltk.stem.wordnet import WordNetLemmatizer\n",
    "from nltk import pos_tag\n",
    "from nltk.corpus import wordnet\n",
    "from nltk.corpus import stopwords\n",
    "from nltk.stem.wordnet import WordNetLemmatizer\n",
    "from tensorflow.keras.preprocessing.text import Tokenizer\n",
    "from tensorflow.keras.preprocessing.sequence import pad_sequences\n",
    "import nltk\n",
    "# nltk.download('stopwords')\n",
    "# nltk.download('wordnet')\n",
    "# nltk.download('punkt')\n",
    "# nltk.download('averaged_perceptron_tagger')\n",
    "\n",
    "#Lemmatize Words\n",
    "\n",
    "def fetch_pos_tag(tag):\n",
    "    if tag.startswith('J'):\n",
    "        return wordnet.ADJ\n",
    "    elif tag.startswith('V'):\n",
    "        return wordnet.VERB\n",
    "    elif tag.startswith('N'):\n",
    "        return wordnet.NOUN\n",
    "    elif tag.startswith('R'):\n",
    "        return wordnet.ADV\n",
    "    else:\n",
    "        # As default pos in lemmatization is Noun\n",
    "        return wordnet.NOUN\n",
    "\n",
    "lemmatizer = WordNetLemmatizer()\n",
    "\n",
    "#cleaning the data now \n",
    "\n",
    "regex = [\n",
    "    r'<[^>]+>', #HTML tags\n",
    "    r'@(\\w+)', # @-mentions\n",
    "    r\"#(\\w+)\", # hashtags\n",
    "    r'http[s]?://(?:[a-z]|[0-9]|[$-_@.&+]|[!*\\(\\),]|(?:%[0-9a-f][0-9a-f]))+', # URLs\n",
    "    r'[^0-9a-z #+_\\\\r\\\\n\\\\t]', #BAD SYMBOLS\n",
    "]\n",
    "\n",
    "REPLACE_URLS = re.compile(r'http[s]?://(?:[a-z]|[0-9]|[$-_@.&+]|[!*\\(\\),]|(?:%[0-9a-f][0-9a-f]))+')\n",
    "REPLACE_HASH = re.compile(r'#(\\w+)')\n",
    "REPLACE_AT = re.compile(r'@(\\w+)')\n",
    "REPLACE_HTML_TAGS = re.compile(r'<[^>]+>')\n",
    "REPLACE_DIGITS = re.compile(r'\\d+')\n",
    "#REPLACE_BY = re.compile(r\"[/(){}\\[\\]\\|,;.:?\\-\\'\\\"$]\")\n",
    "REPLACE_BY = re.compile(r\"[^a-z0-9\\-]\")\n",
    "\n",
    "STOPWORDS = set(stopwords.words('english'))\n",
    "\n",
    "#tokens_re = re.compile(r'('+'|'.join(regex)+')', re.VERBOSE | re.IGNORECASE)\n",
    "\n",
    "# sentences = [] #for Word2Vec model\n",
    "\n",
    "def clean_text(text):\n",
    "    text = text.lower()\n",
    "    text = REPLACE_HTML_TAGS.sub(' ', text)\n",
    "    text = REPLACE_URLS.sub('', text)\n",
    "    text = REPLACE_HASH.sub('', text)\n",
    "    text = REPLACE_AT.sub('', text)\n",
    "    text = REPLACE_DIGITS.sub(' ', text)\n",
    "    text = REPLACE_BY.sub(' ', text)\n",
    "    \n",
    "    \n",
    "    text = \" \".join(lemmatizer.lemmatize(word.strip(), fetch_pos_tag(pos_tag([word.strip()])[0][1])) for word in text.split() if word not in STOPWORDS and len(word)>3)\n",
    "    \n",
    "    #sentences.append(text.split())\n",
    "    return text\n",
    "\n"
   ]
  },
  {
   "cell_type": "code",
   "execution_count": 84,
   "metadata": {},
   "outputs": [],
   "source": [
    "webpage_text = clean_text(webpage_html)"
   ]
  },
  {
   "cell_type": "code",
   "execution_count": 85,
   "metadata": {},
   "outputs": [
    {
     "data": {
      "text/plain": [
       "'yahoo japan body form fieldset input button blockquote margin pad fieldset border table border-collapse collapse border-spacing address caption cite code font-style normal font-weight normal list-style none separate floatingw legend display none button cursor pointer body font-family pgothic osaka arial sans-serif line-height font-size text-align center word-wrap break-word table font-size inherit font code samp font-family monospace line-height font-size contentbox font-size table font-size span assist cite cite font-size span font-weight normal visit color text-decoration none visit color hover text-decoration underline button cursor pointer position relative min-width width width margin auto position relative z-index padding-bottom zoom content display block clear text-align left float left position relative z-index width min-width float right position relative z-index min-width width float left min-width width float right min-width width item emphasis connect rank pldwn plup prev next iconnew iconphoto iconvideo iconnotice close ulmwindow ulmbg ulmwindow ulmwindowsearch button vdotmp changebtn changebtn span shortcut connect cbbtn background-image margin bxex position relative margin-bottom background-color border solid bxex margin-top bxna margin-bottom text-align center bxsl zoom pad bxsl margin-bottom float left clear left bxsl margin-bottom overflow hidden zoom bxsl float left margin padding-left bxsl float right bxsl padding-bottom bxpos text-align center bxsl margin-top bxsl float left margin-bottom bxsl margin-left zoom bxsl pad bxsl padding-top margin-left bxshp overflow hidden padding-bottom bxshp float left margin bxshp item margin bxshp item margin-top background-position background-position background-position background-position border-bottom solid background-color background-position overflow hidden zoom pad border solid border-width position absolute right font-weight normal clear pad border solid display inline margin-left first margin-left background-position background-repeat repeat-x background-color border solid close padding-right background-position color cursor pointer text-decoration underline srchbtn border solid background-position font-weight bold clfix zoom clfix content display block clear item padding-left background-position emphasis padding-left background-position connect display inline padding-left background-position connect first padding-left background none symbol display inline-block min-height padding-left background-repeat no-repeat background-position rank padding-left rank background-position rank background-position rank background-position rank background-position rank background-position rank background-position rank background-position rank background-position rank background-position rank background-position pldwn plup margin-right padding-right background-position background-repeat no-repeat color display inline-block min-height plup background-position pldwn visit plup visit color prev next display inline-block zoom width height background-position text-indent text-indent font-size overflow hidden next background-position content display block clear font-weight bold first border-left outline none visit color text-decoration none assist assist hover assist visit display block pad text-decoration none assist display inline-block border-style solid border-width assist assist visit border solid background color assist hover background-color imgfilter display block background no-repeat text-indent overflow hidden bknum pad bknum display none float left margin bknum float right bknum bknum float left line-height margin-left bknum padding-top bknum display block background-color pad outline none bknum hover text-decoration none background-color color bknum background-color color font-weight bold cursor default bknum hover background-color color overlay position absolute z-index background filter alpha opacity -ms-filter alpha opacity opacity iconnew iconphoto iconvideo iconnotice display inline-block margin-left text-indent outline none vertical-align middle iconnew height width background-position iconphoto height width margin background-position iconvideo height width margin background-position iconnotice background-position pad width height load background no-repeat boximg float left boximg outline none boximg border solid margin imgitem margin imgitem line-height imgitem margin position absolute z-index margin-top left width position relative z-index margin-top margin-top zoom position relative z-index width margin auto padding-top text-align center height margin deco margin position absolute left z-index position absolute left left left left left left width height margin-top display block text-indent overflow hidden background-position background-position background-position background-position background-position background-position position absolute z-index right text-align left padding-bottom changebtn position absolute left z-index border solid background-color background-position background-repeat repeat-x bottom changebtn display inline-block min-height pad min-width background-position border-bottom solid margin text-align center alert color margin auto text-align center line-height table margin auto table table margin-bottom display none background-position form background-position background-repeat no-repeat fieldset background-position background-repeat no-repeat position relative width min-height margin auto pad text-align left position relative z-index margin-bottom min-height overflow inherit display inline pad border-right solid first padding-left position absolute vertical-align border-right plup pldwn color position absolute right z-index pad background pad background border solid white-space nowrap display block pad border-right display block pad hover background-color color text-decoration none last margin-top border-top solid last margin-top clear overflow hidden line-height width min-width display block float left border solid border-width float left min-height width pad border solid background-color line-height box-sizing border-box -moz-box-sizing border-box float left width pad line-height min-height letter-spacing cursor pointer clear left width min-width position absolute border solid border-width background-color line-height color pad display block cursor pointer background-color color pad pad white-space nowrap color font-size text-align right line-height display inline line-height display inline line-height padding-left background-position font-weight bold color font-weight normal first background none span display block height background-repeat no-repeat cursor pointer overflow hidden line-height text-indent background-position background-position span margin background-repeat repeat-x background-position background-position background-position span background-position margin pad text-align left font-weight bold position relative min-height height border solid text-align center position absolute left padding-top position absolute right float left margin-top border-right solid float left margin-right border-style solid border-width line-height display block float left width height border-style solid border-width overflow hidden text-indent border-color background-color border-color border-color background-color border-color border-color background-color border-color border-color background-color border-color border-color background-color border-color border-color background-color border-color hover background-color hover background-color hover background-color hover background-color hover background-color hover background-color help float left margin-top help padding-left line-height position relative z-index margin text-align center display inline margin-left border-top border-top solid position static cbbtn float left margin pad border-right solid cbbtn span border-right solid cbbtn display block width height pad text-indent overflow hidden background-position background-position changepos padding-left span assist float right margin-top margin-right pad margin pad display inline-block min-height pad background-repeat no-repeat vertical-align middle cbysc background-position cbysc background-position cbysc background-position cbysc background-position cbysc background-position cbysc background-position cbysc background-position cbysc background-position cbysc background-position cbysc background-position cbysc background-position cbysc background-position cbysc background-position cbysc background-position cbysc background-position cbysc background-position cbysc background-position cbysc background-position cbysc background-position cbysc background-position cbysc background-position cbysc background-position background-position position absolute left left z-index border overflow hidden position absolute right min-width width border solid border-width background-color moreservice width ndhd min-height height checkmax moreservice changemode float left padding-left checknow moreservice float right padding-right moreservice height background-color moreservice changemode font-weight bold contentbox border solid color background-position background-color contentbox pad color contentbox strong color contentbox detail margin border solid background color allservice position relative z-index pad background overflow hidden zoom allservice background contentbox clear pad allservice position relative z-index display inline float left width margin-bottom allservice margin-top margin-bottom margin-bottom allservice margin-bottom allservice allservice input allservice label vertical-align middle allservice color font-weight bold letter-spacing allservice color allservice input visibility hidden pad moreservice clear contentbox span close position absolute right color detail margin-left height min-height input width position relative min-height height padding-top margin-bottom button width margin pad pad border border-top solid font-weight bold text-align center position absolute bottom right span display block float left position relative right span button background span border solid span button background span border solid span border-color span span button background color cursor default position absolute z-index padding-bottom border background transparent width margin letter-spacing pad border solid background color font-weight normal strong color font-weight bold span background no-repeat span position absolute right right display block width height text-indent cursor pointer margin padding-bottom background-position pad border-top solid pad border-top solid margin overflow hidden zoom first first border-top margin-top margin-bottom display inline margin-left first margin-left margin-bottom background no-repeat iedisp background no-repeat position relative padding-top cmpie position absolute width background-repeat no-repeat background-position display block width height margin auto overflow hidden text-indent border-top none margin border-bottom display none position relative z-index padding-bottom border solid background-position position relative float left width margin border-bottom solid border-top solid background-position text-align center span display block position relative z-index margin-bottom border-right solid background-position span display block position relative margin-right pad border solid span span span span span last span margin-right padding-right border-bottom-color border-right-color background-position background-color padding-bottom z-index pad margin-bottom background-position background-color span border-right solid border-bottom solid span border-right solid last border-bottom last span last span border-right span border-right padding-right overflow hidden min-height display none current display block topicsindex float left width topicsindex margin topicsindex emphasis margin topicsindex emphasis detail margin topicsindex emphasis detail -moz-any-link max-height topicsindex emphasis margin-left topicsindex margin topicsindex display inline padding-right topicscatch float right width padding-top topicsdetail pad margin topicsdetail border solid topicsimg margin padding-bottom text-align center margin auto topicscatch topicscatch margin padding-bottom topicscatch margin-bottom pad topicsdetail cite display block color topicsdetail cite margin-bottom topicscatch item pad margin-left topicscatch margin-bottom tpcdtlinfo position relative padding-bottom tpcdtlinfo tpcdtlinfo line-height tpcdtlinfo margin-top tpcdtlinfo text-align right margin-right tpcdtlinfo tpcdtlinfo last position absolute left tpcdtlinfo tpcdtlinfo last margin-top margin-left tpcdtlinfo color pad detail float left width clear padding-top overflow hidden float left padding-right margin-right font-weight normal notfound min-height notfound color line-height margin notfound strong margin-left notfound text-decoration underline display block width height background-position text-indent overflow hidden line-height pad background-position zoom float left width spltmp margin-bottom spltmp margin-bottom nonimg width auto margin line-height line-height float right width padding-bottom text-align center width height clear margin overflow hidden zoom float left width margin width auto margin clear margin-bottom pad text-align center margin pad overflow hidden zoom float left padding-right margin line-height position relative min-height overflow hidden slcimg pad margin zoom pad margin margin-bottom padding-right padding-top font-weight normal pad background-repeat no-repeat background-position slctmpr slctmpr padding-bottom slctmpr margin-left slctmpr padding-right slctmpr margin-top slctmpr padding-right slctmpr clear left slctmpr slcimg pad text-align center float left padding-right float right text-align center position absolute left width width float left width width float left float left width width width width float left width width float left margin-left margin-left overflow hidden imgfilter width height color line-height vdotmp position relative pad min-height vdotmp float left display block margin-top width vdotmp span vertical-align bottom vdotmp position absolute left border solid pad vdotmp symbol pad margin vdotmp position absolute right bottom line-height vdotmp vdosentence margin-left line-height vdotmp vdosentence margin vdotmp pad background-position background-repeat repeat-x vdotmp zoom margin-right vdotmp float left width margin-bottom vdotmp imgfilter margin auto vdotmp vdotmp vdotmp padding-right pad overflow hidden zoom margin padding-bottom line-height float left cgmtmpr margin cgmtmpr cgmtmpr cgmtmpr cgmtmpr float left width width margin overflow hidden zoom cgmtmpr cgmtmpr margin padding-bottom line-height line-height cgmtmpr margin-bottom cgmtmpr margin-left cgmtmpr cgmtmpr clear cgmtmpr cgmtmpr margin-bottom font-weight normal cgmtmpr detail cgmtmpr detail height min-height margin-left cgmtmpr margin-bottom cgmtmpr padding-bottom item margin position relative z-index border background-color transparent text-align center left background-image important border-color important border-bottom-color important background-color important background-repeat repeat-x background-position pad border solid background-repeat no-repeat background-position margin-top pad float left width line-height margin width auto margin-right clear left float none width auto z-index pad zoom display none connect span font-weight bold position relative zoom margin loginout position absolute info position absolute right info span position absolute right width text-align center margin-top border solid background zoom connect pad margin connect position absolute display block width height float left margin-top text-indent overflow hidden background-position connect background-position connect padding-left shortcut position absolute right margin-top shortcut float left padding-left margin shortcut display block overflow hidden text-indent width height background-position shortcut second background-position shortcut third background-position position relative z-index zoom margin high color color position relative z-index margin-top position relative margin-right margin-right margin-right pad zoom height background-color border-style solid border-width content display block clear pad border-top solid zoom clear left background-position pad text-align center position relative z-index grayout zoom line-height position absolute display block width height margin-top margin-top text-indent background-position grayout padding-top padding-top float left text-indent clear left float left display block width height float right margin-top padding-left border-left solid line-height margin-bottom pad text-align center grayout float none clear left text-align right position absolute float left pad float right z-index floatingw position absolute left z-index width margin-top pad border solid background zoom floatingw float left width pad position relative floatingw width auto floatingw padding-left background-image background-position background-position background-position background-position background-position background-position background-position background-position background-position background-position background-position background-position background-position position relative float right width margin-bottom background-color border-style solid border-width overflow hidden zoom load visibility hidden load display none position absolute left width text-align center color load load display block load pad display inline-block background-position table width table text-align center pad table float left table position absolute left margin-left right margin-right font-weight bold margin zoom position absolute margin-top right font-size color table text-align right table display block pad min-width white-space nowrap border solid table color table color table font-weight bold letter-spacing pad table border-color table color margin-top pad background border solid overflow hidden zoom background-position display block float left margin pad min-height margin-top pad pad background border solid overflow hidden zoom background-position display block float left margin pad min-height margin float left width padding-top background-position padding-left float right background-image padding-left border-left solid level background-position level background-position level background-position level background-position level background-position level background-position display block width text-indent overflow hidden background-position background-position margin border-top solid zoom padding-left border-top solid margin pad background-repeat no-repeat min-height display inline-block point float left width width border-right solid star float right width point background-position star background-position login background-position background-image display none position absolute left right z-index width width border-style solid border-width border-color background-color border-style solid border-width zoom pbdhr margin pad pad pbdhr border-top-style solid border-top-width font-weight bold text-align center float left position absolute prev left next right display none display inline-block margin-right vertical-align middle margin-top pad min-height height margin color line-height padding-top text-align right background-position pad pad text-align center background-position pad position relative zoom min-height pad float left margin-right background-position pad zoom text-align right position absolute left margin-top margin border none background none text-align center overflow hidden item margin margin text-align center pad overflow hidden zoom margin zoom float left outline none border solid margin margin-bottom margin margin line-height line-height border-top margin-top pad z-index zoom overflow hidden zoom item margin clear zoom margin padding-top display inline pad background-color color font-size display inline margin-left error pad color clear zoom text-align right pad item margin pad margin-bottom address margin auto ulmwindow ulmstart ulmwindowbd overflow hidden ulmwindow ulmstart ulmwindowsearch float right ulmwindow ulmstart ulmwindowcth float left ulmwindow ulmstart ulmwindowmds clear left margin width ulmwindow position absolute left z-index display block min-width width margin-top pad border solid background color ulmwindow form position relative zoom body ulmwindow alert color ulmwindowttl margin ulmwindowdtl height margin-top pad border solid background overflow auto ulmwindowdtl margin ulmwindowdtl display block margin pad ulmwindow ulmwindowbd pad border solid background ulmwindow label display block ulmwindow ulmwindowcth margin-bottom color line-height ulmwindow ulmwindowmds margin-bottom color ulmwindow ulmstart ulmwindowmds margin-bottom ulmwindowmds span display block margin ulmwindow ulmwindowarea position relative ulmwindow ulmwindowsearch vertical-align middle padding-bottom ulmwindow ulmwindowsearch input width min-height margin-right pad border solid vertical-align middle ulmwindow ulmwindowsearch button pad border solid background-repeat repeat-x background-position vertical-align middle ulmwindow ulmwindowsearch ulmwindowsrchbtn border-color background-color ulmwindow ulmwindowsearch ulmwindowsrchbtn border-color background-color background-position color ulmwindow ulmwindowevery margin ulmwindow ulmwindowevery input margin-right ulmwindowoption margin text-align right left position relative z-index left width auto margin border-width border-bottom-color ulmwindow ulmbg position absolute z-index left bottom display block height width margin background-repeat no-repeat background-position margin-top border-top pad margin margin-bottom padding-top overflow visible margin-left position relative z-index overflow hidden margin pad background-repeat repeat-x background-position position absolute left font-weight bold margin-left padding-left typeof yahoo undefined yahoo yahoo yahoo namespace function argument null length split yahoo yahoo length return yahoo function yahoo widget logger return else return false yahoo register function yahoo module version build version build yahoo listener name version build version push build push mainclass length version build else yahoo mainclass undefined module warn yahoo yahoo module listener yahoo getversion function return yahoo module null yahoo function function return parsefloat replace function return navigator opera gecko webkit mobile null caja cajaversion secure false null navigator navigator useragent window window location href secure tolowercase indexof http window test window else macintosh test macintosh khtml test webkit match applewebkit webkit mobile test mobile apple else match nokian mobile match adobeair webkit match opera opera match opera mini mobile else match msie else match gecko gecko match gecko return function yahoo namespace util widget example undefined typeof yahoo config yahoo config listener yahoo listener true length false break push yahoo lang yahoo lang function yahoo lang object prototype object array object function object object tostring valueof isarray function return tostring apply isboolean function return typeof boolean isfunction function return typeof function tostring apply isnull function return null isnumber function return typeof number isfinite isobject function return typeof object isfunction false isstring function return typeof string isundefined function return typeof undefined ieenumfix yahoo function length isfunction function extend function throw error extend fail please check dependency include function prototype prototype prototype prototype constructor superclass prototype prototype constructor constructor prototype constructor hasownproperty prototype ieenumfix prototype augmentobject function throw error absorb fail verify dependency argument true length else ieenumfix augmentproto function throw error augment fail verify dependency prototype prototype argument length push argument augmentobject apply dump function isobject return else instanceof date nodetype tagname return else isfunction return isnumber isarray push length isobject push dump else push push length push else push hasownproperty push isobject push dump else push push length push return join substitute function dump lastindexof break indexof break substring null indexof substring substring isobject isarray dump parseint else indexof substring tostring dump parseint else else isstring isnumber length length substring substring length- replace regexp return trim function return replace catch return merge function argument length augmentobject true return later function isstring throw typeerror method undefined isarray function apply setinterval settimeout return interval cancel function interval clearinterval else cleartimeout isvalue function return isobject isstring isnumber isboolean hasownproperty hasownproperty function return hasownproperty function return isundefined constructor prototype augmentobject true yahoo util lang augment augmentproto yahoo augment augmentproto yahoo extend extend yahoo register yahoo yahoo version build function image error escape escape escape return true window onerror string prototype function return replace a-za-z function return string fromcharcode charcodeat yahoo namespace yahoo namespace yahoo beacon function image date gettime settimeout function null yahoo stripchunk function lastindexof return return substring document function return typeof string getelementbyid false yahoo yahoo yahoo yahoo yahoo yahoo parsefloat yahoo yahoo parsefloat yahoo yahoo parsefloat yahoo yahoo yahoo hostname location hostname yahoo basetag document getelementsbytagname base href yahoo bcrumb yahoo plcookie yahoo yahoo jpadmin yahoo jpadmin yahoo jpadmin yahoo jpadmin yahoo jpadmin yahoo weatherjis yahoo firstblock yahoo ulmcrumb yahoo crumb yahoo false yahoo srcholdq yahoo earth false yahoo false yahoo fortune json aries taurus gemini cancer virgo libra scorpio sagittarius capricorn aquarius pisces nofortune yahoo yahoo yahoo yahoo addlistener document keydown yahoo keyaction addlistener srchtxt keydown function keycode keycode yahoo searchassist setinterval function yahoo srcholdq srchtxt value yahoo srcholdq srchtxt value yahoo searchassist addlistener srchassistclose click function yahoo ftogglesearchassist srchtxt setattribute autocomplete yahoo yahoo document getelementbyid uhdsetstart yahoo yahoo cookie yahoo yahoo yahoo innerhtml href header toolbarpromo title uhdsetstartpromo else yahoo innerhtml href esah title yahoo uhdsetstartpromo yahoo yahoo gyao yahoo yahoo yahoo window internet explorer yahoo japan wikileaks topicstabs yahoo tab topicsbox topicstabs changeaction yahoo loadpanel type tab module topicsbox load story topicstabs setuptabs yahoo selecttab function yahoo cookie getsub cookie settimeout function tabaction getelementbyid yahoo cookie cookie indexof yahoo crumb yahoo selecttab topicsbox topicstabs window null window object window owjahxt owjahxt dtcbx style position absolute width height window null window object window iwjahxt iwjahxt dtcbx style position absolute width height window null window object window wjahxt rruuh wjahxt dtpm style position absolute width height window null window object window iwjahxt jvmp iwjahxt dtct style position absolute width height yahoo youtube yahoo japan yfatr jtime yfacheckimgsize yfatarget yfalink yfaaltlink yfalink indexof window location href indexof http yfalink yfatarget yfalink yfalink escape yfalink yfatarget escape yfatarget yfadate date yfaimgparam yfadate getfullyear yfadate getmonth yfadate getdate yfadate gethours yfadate getminutes yfadate getseconds yfadate getmilliseconds yfavflash yfamflash yfaaltimg yfawidth yfaheight href target width height border window null window object window wjahxt wjahxt dtbp style position absolute width height yahoo yahoo yahoo yahoo yahoo localbtn class pldwn href span span yahoo window null window object window owjahxt jrhemoa owjahxt dtrb style position absolute width height window null window object window ywjahxt ywjahxt dtrap style position absolute width height yahoo japan wi-fi copyright yahoo japan corporation right reserve style type text changepos padding-left cbbtn assist json bknum display none jsoff display block background none style searchtabs yahoo tab searchbox searchtabs ntabmaxnum searchtabs stxttmp srchtxt value searchtabs dpretabnum searchtabs seventname searchtabs changeaction yahoo changevert searchtabs searchtabs setuptabs fpcolor yahoo changecolor fpcolor setup local localulm yahoo local yahoo plcookie localbd localbd olocalbody getregion localbd olocalbodyxy olocalbody right-olocalbody left olocalbody bottom-olocalbody ooverlay ulm-local-overlay yahoo yahoo setstyle ooverlay width olocalbodyxy setstyle ooverlay height olocalbodyxy setstyle ooverlay margin-top olocalbodyxy link localbd getelementsbytagname linkl link length linkl setstyle link color typeof localbd getelementsbytagname undefined localbd getelementsbytagname typeof localbd getelementsbytagname undefined localbd getelementsbytagname innerhtml localulm bdeflocal localulm setupulm spotlight yahoo tab spotlight spotlight changeaction yahoo loadpanel type tab module spotlight load story spotlight stabtag spotlight setuptabs pbdetailbg calendar yahoo calendar pbcalendar calendar init yahoo contentbox yahoo ocontentbox cbassistall click function stopevent yahoo contentbox togglecontentbox saction service soption normal cbassistedit click function stopevent yahoo contentbox togglecontentbox saction edit soption normal fortunepanels yahoo panel pbfortune fortunepanels changeaction yahoo changefortune type panel module fortune fortunepanels slisttag fortunepanels dcurid aries fortunepanels ovalue eval yahoo fortune json fortunepanels setuppanels weatherulm yahoo pbweather weatherulm setupulm settimeout function srchtxt focus window null document write language javascript window hxxu eoohdunejvqio aduor toppage window style position absolute width height'"
      ]
     },
     "execution_count": 85,
     "metadata": {},
     "output_type": "execute_result"
    }
   ],
   "source": [
    "webpage_text"
   ]
  },
  {
   "cell_type": "code",
   "execution_count": 75,
   "metadata": {
    "scrolled": true
   },
   "outputs": [
    {
     "data": {
      "text/plain": [
       "23685"
      ]
     },
     "execution_count": 75,
     "metadata": {},
     "output_type": "execute_result"
    }
   ],
   "source": [
    "len(webpage_text)"
   ]
  },
  {
   "cell_type": "code",
   "execution_count": 86,
   "metadata": {},
   "outputs": [],
   "source": [
    "tokenizer = Tokenizer(num_words=3000)\n",
    "tokenizer.fit_on_texts(webpage_text)\n",
    "webpage_text = tokenizer.texts_to_sequences(webpage_text)\n",
    "vocab_size = len(tokenizer.word_index) + 1\n",
    "maxlen = 200\n",
    "webpage_text = pad_sequences(webpage_text, padding='post', maxlen=maxlen)"
   ]
  },
  {
   "cell_type": "code",
   "execution_count": 87,
   "metadata": {},
   "outputs": [
    {
     "data": {
      "text/plain": [
       "(30152, 200)"
      ]
     },
     "execution_count": 87,
     "metadata": {},
     "output_type": "execute_result"
    }
   ],
   "source": [
    "webpage_text.shape"
   ]
  },
  {
   "cell_type": "markdown",
   "metadata": {},
   "source": [
    "# **Prediction**"
   ]
  },
  {
   "cell_type": "code",
   "execution_count": 88,
   "metadata": {},
   "outputs": [
    {
     "name": "stdout",
     "output_type": "stream",
     "text": [
      "Model: \"functional_1\"\n",
      "__________________________________________________________________________________________________\n",
      "Layer (type)                    Output Shape         Param #     Connected to                     \n",
      "==================================================================================================\n",
      "input_3 (InputLayer)            [(None, 200)]        0                                            \n",
      "__________________________________________________________________________________________________\n",
      "embedding_2 (Embedding)         (None, 200, 100)     14423600    input_3[0][0]                    \n",
      "__________________________________________________________________________________________________\n",
      "spatial_dropout1d_2 (SpatialDro (None, 200, 100)     0           embedding_2[0][0]                \n",
      "__________________________________________________________________________________________________\n",
      "bidirectional_2 (Bidirectional) (None, 200, 256)     176640      spatial_dropout1d_2[0][0]        \n",
      "__________________________________________________________________________________________________\n",
      "conv1d_1 (Conv1D)               (None, 198, 64)      49216       bidirectional_2[0][0]            \n",
      "__________________________________________________________________________________________________\n",
      "global_average_pooling1d_1 (Glo (None, 64)           0           conv1d_1[0][0]                   \n",
      "__________________________________________________________________________________________________\n",
      "global_max_pooling1d_1 (GlobalM (None, 64)           0           conv1d_1[0][0]                   \n",
      "__________________________________________________________________________________________________\n",
      "concatenate (Concatenate)       (None, 128)          0           global_average_pooling1d_1[0][0] \n",
      "                                                                 global_max_pooling1d_1[0][0]     \n",
      "__________________________________________________________________________________________________\n",
      "dense (Dense)                   (None, 2)            258         concatenate[0][0]                \n",
      "==================================================================================================\n",
      "Total params: 14,649,714\n",
      "Trainable params: 226,114\n",
      "Non-trainable params: 14,423,600\n",
      "__________________________________________________________________________________________________\n"
     ]
    }
   ],
   "source": [
    "# Load model\n",
    "from tensorflow.keras.models import load_model\n",
    "model1 = load_model('Bi_GRU_model.h5')\n",
    "model1.summary()"
   ]
  },
  {
   "cell_type": "code",
   "execution_count": 19,
   "metadata": {},
   "outputs": [
    {
     "ename": "ValueError",
     "evalue": "cannot reshape array of size 512200 into shape (1,200)",
     "output_type": "error",
     "traceback": [
      "\u001b[0;31m---------------------------------------------------------------------------\u001b[0m",
      "\u001b[0;31mValueError\u001b[0m                                Traceback (most recent call last)",
      "\u001b[0;32m<ipython-input-19-786a98bf7708>\u001b[0m in \u001b[0;36m<module>\u001b[0;34m\u001b[0m\n\u001b[0;32m----> 1\u001b[0;31m \u001b[0mnew_arr\u001b[0m \u001b[0;34m=\u001b[0m \u001b[0mwebpage_text\u001b[0m\u001b[0;34m.\u001b[0m\u001b[0mreshape\u001b[0m\u001b[0;34m(\u001b[0m\u001b[0;34m(\u001b[0m\u001b[0;36m1\u001b[0m\u001b[0;34m,\u001b[0m \u001b[0;36m200\u001b[0m\u001b[0;34m)\u001b[0m\u001b[0;34m)\u001b[0m\u001b[0;34m\u001b[0m\u001b[0m\n\u001b[0m",
      "\u001b[0;31mValueError\u001b[0m: cannot reshape array of size 512200 into shape (1,200)"
     ]
    }
   ],
   "source": [
    "new_arr = webpage_text.reshape((1, 200))"
   ]
  },
  {
   "cell_type": "code",
   "execution_count": 89,
   "metadata": {},
   "outputs": [],
   "source": [
    "results = model1.predict(webpage_text)"
   ]
  },
  {
   "cell_type": "code",
   "execution_count": 79,
   "metadata": {},
   "outputs": [
    {
     "data": {
      "text/plain": [
       "(23685, 2)"
      ]
     },
     "execution_count": 79,
     "metadata": {},
     "output_type": "execute_result"
    }
   ],
   "source": [
    "results.shape"
   ]
  },
  {
   "cell_type": "code",
   "execution_count": 90,
   "metadata": {},
   "outputs": [
    {
     "data": {
      "text/plain": [
       "array([[0.01587591, 0.9880921 ],\n",
       "       [0.01344311, 0.98929363],\n",
       "       [0.0149872 , 0.9880235 ],\n",
       "       ...,\n",
       "       [0.01324543, 0.9888278 ],\n",
       "       [0.0149872 , 0.9880235 ],\n",
       "       [0.0149872 , 0.9880235 ]], dtype=float32)"
      ]
     },
     "execution_count": 90,
     "metadata": {},
     "output_type": "execute_result"
    }
   ],
   "source": [
    "results"
   ]
  },
  {
   "cell_type": "code",
   "execution_count": 23,
   "metadata": {},
   "outputs": [
    {
     "data": {
      "text/plain": [
       "array([0.0149872 , 0.0149872 , 0.0149872 , ..., 0.01711884, 0.02047846,\n",
       "       0.02873099], dtype=float32)"
      ]
     },
     "execution_count": 23,
     "metadata": {},
     "output_type": "execute_result"
    }
   ],
   "source": [
    "results[:, 0]"
   ]
  },
  {
   "cell_type": "code",
   "execution_count": 24,
   "metadata": {},
   "outputs": [],
   "source": [
    "lista = results[:, 0]"
   ]
  },
  {
   "cell_type": "code",
   "execution_count": 25,
   "metadata": {},
   "outputs": [
    {
     "data": {
      "text/plain": [
       "array([0.0149872 , 0.0149872 , 0.0149872 , ..., 0.01711884, 0.02047846,\n",
       "       0.02873099], dtype=float32)"
      ]
     },
     "execution_count": 25,
     "metadata": {},
     "output_type": "execute_result"
    }
   ],
   "source": [
    "lista"
   ]
  },
  {
   "cell_type": "code",
   "execution_count": 26,
   "metadata": {},
   "outputs": [
    {
     "name": "stdout",
     "output_type": "stream",
     "text": [
      "2561\n",
      "0\n"
     ]
    }
   ],
   "source": [
    "n1 = 0\n",
    "n2 = 0\n",
    "\n",
    "for numero in lista:\n",
    "       if numero < 0.5:\n",
    "           n1 = n1 + 1\n",
    "       else:\n",
    "           n2 = n2 + 1\n",
    "print(n1)\n",
    "print(n2)\n"
   ]
  },
  {
   "cell_type": "code",
   "execution_count": 60,
   "metadata": {},
   "outputs": [
    {
     "ename": "AttributeError",
     "evalue": "'numpy.ndarray' object has no attribute 'index'",
     "output_type": "error",
     "traceback": [
      "\u001b[0;31m---------------------------------------------------------------------------\u001b[0m",
      "\u001b[0;31mAttributeError\u001b[0m                            Traceback (most recent call last)",
      "\u001b[0;32m<ipython-input-60-be94cb210159>\u001b[0m in \u001b[0;36m<module>\u001b[0;34m\u001b[0m\n\u001b[1;32m      1\u001b[0m \u001b[0mn1\u001b[0m\u001b[0;34m=\u001b[0m\u001b[0;36m0\u001b[0m\u001b[0;34m\u001b[0m\u001b[0m\n\u001b[1;32m      2\u001b[0m \u001b[0mn2\u001b[0m\u001b[0;34m=\u001b[0m\u001b[0;36m0\u001b[0m\u001b[0;34m\u001b[0m\u001b[0m\n\u001b[0;32m----> 3\u001b[0;31m \u001b[0;32mfor\u001b[0m \u001b[0mi\u001b[0m \u001b[0;32min\u001b[0m \u001b[0mlista\u001b[0m\u001b[0;34m.\u001b[0m\u001b[0mindex\u001b[0m\u001b[0;34m:\u001b[0m\u001b[0;34m\u001b[0m\u001b[0m\n\u001b[0m\u001b[1;32m      4\u001b[0m     \u001b[0;32mif\u001b[0m \u001b[0mresults\u001b[0m\u001b[0;34m.\u001b[0m\u001b[0mloc\u001b[0m\u001b[0;34m[\u001b[0m\u001b[0mi\u001b[0m\u001b[0;34m,\u001b[0m \u001b[0;36m0\u001b[0m\u001b[0;34m]\u001b[0m \u001b[0;34m==\u001b[0m \u001b[0;36m0\u001b[0m\u001b[0;34m:\u001b[0m\u001b[0;34m\u001b[0m\u001b[0m\n\u001b[1;32m      5\u001b[0m         \u001b[0mn1\u001b[0m \u001b[0;34m=\u001b[0m \u001b[0mn1\u001b[0m \u001b[0;34m+\u001b[0m \u001b[0;36m1\u001b[0m\u001b[0;34m\u001b[0m\u001b[0m\n",
      "\u001b[0;31mAttributeError\u001b[0m: 'numpy.ndarray' object has no attribute 'index'"
     ]
    }
   ],
   "source": [
    "n1=0\n",
    "n2=0\n",
    "for i in lista.index:\n",
    "    if results.loc[i, 0] == 0:\n",
    "        n1 = n1 + 1\n",
    "    #     n1 = len((train_df.loc[i, 'contexts']).split())\n",
    "#     train_df.loc[i, 'nwords'] = n1\n",
    "#     n2 = n2 + n1\n",
    "print (i)\n",
    "print (n1)"
   ]
  },
  {
   "cell_type": "markdown",
   "metadata": {
    "id": "6ziJEBbfDIR4"
   },
   "source": [
    "# **BI-GRU**"
   ]
  },
  {
   "cell_type": "code",
   "execution_count": 20,
   "metadata": {
    "colab": {
     "base_uri": "https://localhost:8080/"
    },
    "id": "KjdM66HqUvC7",
    "outputId": "967ec45d-f2ff-401b-e0f0-1d274774dcd6"
   },
   "outputs": [],
   "source": [
    "# from sklearn.metrics import roc_curve, auc, roc_auc_score\n",
    "import tensorflow as tf\n",
    "# from tensorflow.keras.layers import Conv1D, Bidirectional, GlobalMaxPool1D, MaxPooling1D, BatchNormalization, Add, Flatten\n",
    "\n",
    "\n",
    "# Copiado de GRU ************\n",
    "\n",
    "from tensorflow.keras import initializers, regularizers, constraints, optimizers, layers, callbacks\n",
    "from tensorflow.keras.callbacks import EarlyStopping,ModelCheckpoint\n",
    "from tensorflow.keras.preprocessing.text import Tokenizer\n",
    "from tensorflow.keras.preprocessing.sequence import pad_sequences\n",
    "from tensorflow.keras.preprocessing import text, sequence\n",
    "from tensorflow.keras import initializers, regularizers, constraints, optimizers, layers\n",
    "from tensorflow.keras import Model, Input, Sequential\n",
    "from tensorflow.keras.layers import Dense, Input, LSTM, SimpleRNN, Embedding, Dropout, SpatialDropout1D, Activation, Conv1D,GRU\n",
    "from tensorflow.keras.layers import Conv1D, Bidirectional, GlobalMaxPool1D, MaxPooling1D, BatchNormalization, Add, Flatten\n",
    "from tensorflow.keras.layers import GlobalMaxPooling1D, GlobalAveragePooling1D, concatenate, SpatialDropout1D\n",
    "\n",
    "# **********\n",
    "\n",
    "deep_inputs = Input(shape=(maxlen,))\n",
    "embedding_layer = Embedding(vocab_size, 100, weights=[embedding+_matrix], trainable=False)(deep_inputs)\n",
    "model = SpatialDropout1D(0.2)(embedding_layer)\n",
    "model = Bidirectional(GRU(128,return_sequences=True,dropout=0.1,recurrent_dropout=0.1 ))(model)\n",
    "model = Conv1D(64, kernel_size = 3, padding = \"valid\", kernel_initializer = \"glorot_uniform\")(model)\n",
    "avg_pool = GlobalAveragePooling1D()(model)\n",
    "max_pool = GlobalMaxPooling1D()(model)\n",
    "model = concatenate([avg_pool, max_pool])\n",
    "dense_layer1 = Dense(2, activation=\"sigmoid\")(model)\n",
    "Bi_GRU_glove = Model(deep_inputs, dense_layer1)\n",
    "Bi_GRU_glove.compile(loss='binary_crossentropy',optimizer='adam',metrics=[tf.keras.metrics.AUC()])"
   ]
  },
  {
   "cell_type": "code",
   "execution_count": 21,
   "metadata": {
    "colab": {
     "base_uri": "https://localhost:8080/"
    },
    "id": "8OGH90XZV97P",
    "outputId": "1a930ab2-1ec0-4261-8f89-e1641ad8f85e"
   },
   "outputs": [
    {
     "name": "stdout",
     "output_type": "stream",
     "text": [
      "Model: \"functional_1\"\n",
      "__________________________________________________________________________________________________\n",
      "Layer (type)                    Output Shape         Param #     Connected to                     \n",
      "==================================================================================================\n",
      "input_3 (InputLayer)            [(None, 200)]        0                                            \n",
      "__________________________________________________________________________________________________\n",
      "embedding_2 (Embedding)         (None, 200, 100)     14423600    input_3[0][0]                    \n",
      "__________________________________________________________________________________________________\n",
      "spatial_dropout1d_2 (SpatialDro (None, 200, 100)     0           embedding_2[0][0]                \n",
      "__________________________________________________________________________________________________\n",
      "bidirectional_2 (Bidirectional) (None, 200, 256)     176640      spatial_dropout1d_2[0][0]        \n",
      "__________________________________________________________________________________________________\n",
      "conv1d_1 (Conv1D)               (None, 198, 64)      49216       bidirectional_2[0][0]            \n",
      "__________________________________________________________________________________________________\n",
      "global_average_pooling1d_1 (Glo (None, 64)           0           conv1d_1[0][0]                   \n",
      "__________________________________________________________________________________________________\n",
      "global_max_pooling1d_1 (GlobalM (None, 64)           0           conv1d_1[0][0]                   \n",
      "__________________________________________________________________________________________________\n",
      "concatenate (Concatenate)       (None, 128)          0           global_average_pooling1d_1[0][0] \n",
      "                                                                 global_max_pooling1d_1[0][0]     \n",
      "__________________________________________________________________________________________________\n",
      "dense (Dense)                   (None, 2)            258         concatenate[0][0]                \n",
      "==================================================================================================\n",
      "Total params: 14,649,714\n",
      "Trainable params: 226,114\n",
      "Non-trainable params: 14,423,600\n",
      "__________________________________________________________________________________________________\n"
     ]
    }
   ],
   "source": [
    "Bi_GRU_glove.summary()"
   ]
  },
  {
   "cell_type": "code",
   "execution_count": 23,
   "metadata": {},
   "outputs": [],
   "source": [
    "from tensorflow.keras.models import load_model\n",
    "\n",
    "# Guardar el modelo en un archivo\n",
    "Bi_GRU_glove.save('Bi_GRU_model.h5')"
   ]
  },
  {
   "cell_type": "code",
   "execution_count": 29,
   "metadata": {},
   "outputs": [],
   "source": [
    "from tensorflow.keras.models import load_model\n",
    "\n",
    "# Cargar el modelo desde el archivo\n",
    "model1 = load_model('Bi_GRU_model.h5')"
   ]
  },
  {
   "cell_type": "code",
   "execution_count": 5,
   "metadata": {},
   "outputs": [
    {
     "ename": "NameError",
     "evalue": "name 'X_train' is not defined",
     "output_type": "error",
     "traceback": [
      "\u001b[0;31m---------------------------------------------------------------------------\u001b[0m",
      "\u001b[0;31mNameError\u001b[0m                                 Traceback (most recent call last)",
      "\u001b[0;32m<ipython-input-5-c3bc00a6b1d7>\u001b[0m in \u001b[0;36m<module>\u001b[0;34m\u001b[0m\n\u001b[0;32m----> 1\u001b[0;31m \u001b[0mX_train\u001b[0m\u001b[0;34m[\u001b[0m\u001b[0;36m506\u001b[0m\u001b[0;34m]\u001b[0m\u001b[0;34m\u001b[0m\u001b[0m\n\u001b[0m\u001b[1;32m      2\u001b[0m \u001b[0;31m# len(X_train[500])\u001b[0m\u001b[0;34m\u001b[0m\u001b[0;34m\u001b[0m\u001b[0m\n",
      "\u001b[0;31mNameError\u001b[0m: name 'X_train' is not defined"
     ]
    }
   ],
   "source": [
    "X_train[506]\n",
    "# len(X_train[500])"
   ]
  },
  {
   "cell_type": "code",
   "execution_count": 53,
   "metadata": {},
   "outputs": [],
   "source": [
    "# import numpy as np\n",
    "# Arreglo incialmente con forma (200,)\n",
    "# arr = np.array([1, 2, 3, ..., 200])\n",
    "# Cambiar la forma a (1, 200)\n",
    "new_arr = X_train[506].reshape((1, 200))"
   ]
  },
  {
   "cell_type": "code",
   "execution_count": null,
   "metadata": {},
   "outputs": [],
   "source": [
    "results = Bi_GRU_glove.predict(new_arr)"
   ]
  },
  {
   "cell_type": "code",
   "execution_count": 104,
   "metadata": {
    "id": "feOT5l_tAfJT"
   },
   "outputs": [],
   "source": [
    "pred_prob =  Bi_GRU_glove.predict_on_batch(X_test)"
   ]
  },
  {
   "cell_type": "code",
   "execution_count": 106,
   "metadata": {},
   "outputs": [
    {
     "name": "stdout",
     "output_type": "stream",
     "text": [
      "[[1787   45]\n",
      " [  71  172]]\n",
      "True positives (TP): 172\n",
      "False positives (FP): 45\n",
      "True negatives (TN): 1787\n",
      "False negatives (FN): 71\n",
      "[[ 173   70]\n",
      " [  43 1789]]\n",
      "True positives (TP): 1789\n",
      "False positives (FP): 70\n",
      "True negatives (TN): 173\n",
      "False negatives (FN): 43\n"
     ]
    }
   ],
   "source": [
    "y_truep = y_test[:, 0]\n",
    "y_truep = (y_truep>0.5)\n",
    "y_predp = y_pred[:, 0]\n",
    "y_predp = (y_predp>0.5)\n",
    "\n",
    "y_trueh = y_test[:, 1]\n",
    "y_trueh = (y_trueh>0.5)\n",
    "y_predh = y_pred[:, 1]\n",
    "y_predh = (y_predh>0.5)\n",
    "\n",
    "cm = confusion_matrix(y_truep, y_predp)\n",
    "print (cm)\n",
    "tnp, fpp, fnp, tpp = confusion_matrix(y_truep, y_predp).ravel()\n",
    "print(\"True positives (TP):\", tpp)\n",
    "print(\"False positives (FP):\", fpp)\n",
    "print(\"True negatives (TN):\", tnp)\n",
    "print(\"False negatives (FN):\", fnp)\n",
    "\n",
    "cm = confusion_matrix(y_trueh, y_predh)\n",
    "print (cm)\n",
    "tnh, fph, fnh, tph = confusion_matrix(y_trueh, y_predh).ravel()\n",
    "print(\"True positives (TP):\", tph)\n",
    "print(\"False positives (FP):\", fph)\n",
    "print(\"True negatives (TN):\", tnh)\n",
    "print(\"False negatives (FN):\", fnh)"
   ]
  },
  {
   "cell_type": "code",
   "execution_count": 107,
   "metadata": {},
   "outputs": [
    {
     "name": "stdout",
     "output_type": "stream",
     "text": [
      "Medidas con Phishing\n",
      "Recall: 0.7078189300411523\n",
      "F1 Score: 0.7478260869565218\n",
      "Precision: 0.7926267281105991\n",
      "Medidas con Ham\n",
      "Recall: 0.976528384279476\n",
      "F1 Score: 0.969384990517475\n",
      "Precision: 0.9623453469607316\n"
     ]
    }
   ],
   "source": [
    "from sklearn.metrics import f1_score\n",
    "from sklearn.metrics import precision_score\n",
    "\n",
    "print(\"Medidas con Phishing\")\n",
    "\n",
    "recall = tpp / (tpp + fnp)\n",
    "print(\"Recall:\", recall)\n",
    "\n",
    "f1 = f1_score(y_truep, y_predp)\n",
    "print(\"F1 Score:\", f1)\n",
    "\n",
    "precision = precision_score(y_truep, y_predp)\n",
    "print(\"Precision:\", precision)\n",
    "\n",
    "print(\"Medidas con Ham\")\n",
    "\n",
    "recall = tph / (tph + fnh)\n",
    "print(\"Recall:\", recall)\n",
    "\n",
    "f1 = f1_score(y_trueh, y_predh)\n",
    "print(\"F1 Score:\", f1)\n",
    "\n",
    "precision = precision_score(y_trueh, y_predh)\n",
    "print(\"Precision:\", precision)"
   ]
  },
  {
   "cell_type": "code",
   "execution_count": 109,
   "metadata": {},
   "outputs": [
    {
     "name": "stdout",
     "output_type": "stream",
     "text": [
      "[0 1 0 ... 1 0 1]\n"
     ]
    }
   ],
   "source": [
    "y_test_flattened = y_test.reshape(-1)\n",
    "print(y_test_flattened)"
   ]
  },
  {
   "cell_type": "code",
   "execution_count": 110,
   "metadata": {},
   "outputs": [
    {
     "name": "stdout",
     "output_type": "stream",
     "text": [
      "[3.7759706e-05 9.9996698e-01 1.6696781e-02 ... 9.9995679e-01 1.1086467e-01\n",
      " 9.2360020e-01]\n"
     ]
    }
   ],
   "source": [
    "y_pred_flattened = y_pred.reshape(-1)\n",
    "print(y_pred_flattened)"
   ]
  },
  {
   "cell_type": "code",
   "execution_count": 111,
   "metadata": {},
   "outputs": [
    {
     "data": {
      "text/plain": [
       "array([False,  True, False, ...,  True, False,  True])"
      ]
     },
     "execution_count": 111,
     "metadata": {},
     "output_type": "execute_result"
    }
   ],
   "source": [
    "y_pred_flattened = (y_pred_flattened>0.5)\n",
    "y_pred_flattened"
   ]
  },
  {
   "cell_type": "code",
   "execution_count": 114,
   "metadata": {},
   "outputs": [
    {
     "data": {
      "text/plain": [
       "dtype('bool')"
      ]
     },
     "execution_count": 114,
     "metadata": {},
     "output_type": "execute_result"
    }
   ],
   "source": [
    "y_test_flattened = (y_test_flattened > 0.5)\n",
    "y_test_flattened\n",
    "y_test_flattened.dtype"
   ]
  },
  {
   "cell_type": "code",
   "execution_count": 115,
   "metadata": {},
   "outputs": [
    {
     "name": "stdout",
     "output_type": "stream",
     "text": [
      "[[1960  115]\n",
      " [ 114 1961]]\n",
      "True positives (TP): 1961\n",
      "False positives (FP): 115\n",
      "True negatives (TN): 1960\n",
      "False negatives (FN): 114\n"
     ]
    }
   ],
   "source": [
    "cm = confusion_matrix(y_test_flattened, y_pred_flattened)\n",
    "print (cm)\n",
    "tnf, fpf, fnf, tpf = confusion_matrix(y_test_flattened, y_pred_flattened).ravel()\n",
    "print(\"True positives (TP):\", tpf)\n",
    "print(\"False positives (FP):\", fpf)\n",
    "print(\"True negatives (TN):\", tnf)\n",
    "print(\"False negatives (FN):\", fnf)\n"
   ]
  }
 ],
 "metadata": {
  "accelerator": "GPU",
  "colab": {
   "collapsed_sections": [],
   "include_colab_link": true,
   "name": "LSTM_Bi-LSTM_GRU_Bi-GRU.ipynb",
   "provenance": []
  },
  "kernelspec": {
   "display_name": "Python 3",
   "language": "python",
   "name": "python3"
  },
  "language_info": {
   "codemirror_mode": {
    "name": "ipython",
    "version": 3
   },
   "file_extension": ".py",
   "mimetype": "text/x-python",
   "name": "python",
   "nbconvert_exporter": "python",
   "pygments_lexer": "ipython3",
   "version": "3.5.2"
  }
 },
 "nbformat": 4,
 "nbformat_minor": 1
}
