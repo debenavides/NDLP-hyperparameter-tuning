{
 "cells": [
  {
   "cell_type": "markdown",
   "metadata": {
    "colab_type": "text",
    "id": "view-in-github"
   },
   "source": [
    "<a href=\"https://colab.research.google.com/github/akritidu/Multi-label-Classification-in-the-Home-Improvement/blob/main/LSTM_Bi_LSTM_GRU_Bi_GRU.ipynb\" target=\"_parent\"><img src=\"https://colab.research.google.com/assets/colab-badge.svg\" alt=\"Open In Colab\"/></a>"
   ]
  },
  {
   "cell_type": "markdown",
   "metadata": {},
   "source": [
    "# **Load and clean parameter**"
   ]
  },
  {
   "cell_type": "code",
   "execution_count": 1,
   "metadata": {},
   "outputs": [],
   "source": [
    "from numpy import array\n",
    "from tensorflow.keras import Sequential\n",
    "from tensorflow.keras.layers import Activation, Dropout, Dense\n",
    "from tensorflow.keras.layers import Flatten, LSTM, GRU, Bidirectional, GlobalAveragePooling1D\n",
    "from tensorflow.keras.layers import GlobalMaxPooling1D, SpatialDropout1D, GlobalMaxPool1D, BatchNormalization\n",
    "from tensorflow.keras.models import Model\n",
    "from tensorflow.keras.layers import Embedding\n",
    "# from sklearn.model_selection import train_test_split\n",
    "from tensorflow.keras.preprocessing.text import Tokenizer\n",
    "from tensorflow.keras.layers import Input\n",
    "from tensorflow.keras.layers import Concatenate\n",
    "\n",
    "import pandas as pd\n",
    "import numpy as np\n",
    "import re\n"
   ]
  },
  {
   "cell_type": "code",
   "execution_count": 2,
   "metadata": {},
   "outputs": [],
   "source": [
    "webpage_html = '<!DOCTYPE html>\\r\\n<html xmlns=\"http://www.w3.org/1999/xhtml\"><head><meta content=\"text/html;charset=gb2312\" http-equiv=\"Content-Type\" /><title>?????????      </title><style>html{overflow-y:auto}body{font:12px arial;text-align:center;background:#fff}body,p,form,ul,li{margin:0;padding:0;list-style:none}body,form,#fm{position:relative}td{text-align:left}img{border:0}a{color:#00c}a:active{color:#f60}#u{color:#999;padding:4px 10px 5px 0;text-align:right}#u a{margin:0 5px}#u .reg{margin:0}#m{width:680px;margin:0 auto;}#nv a,#nv b,.btn,#lk{font-size:14px}#fm{padding-left:90px;text-align:left}input{border:0;padding:0}#nv{height:19px;font-size:16px;margin:0 0 4px;text-align:left;text-indent:117px}.s_ipt_wr{width:418px;height:30px;display:inline-block;margin-right:5px;background:url(http://www.baidu.com/img/i-1.0.0.png) no-repeat -304px 0;border:1px solid #b6b6b6;border-color:#9a9a9a #cdcdcd #cdcdcd #9a9a9a;vertical-align:top}.s_ipt{width:405px;height:22px;font:16px/22px arial;margin:5px 0 0 7px;background:#fff;outline:none;-webkit-appearance:none}.s_btn{width:95px;height:32px;padding-top:2px\\\\9;font-size:14px;background:#ddd url(http://www.baidu.com/img/i-1.0.0.png);cursor:pointer}.s_btn_h{background-position:-100px 0}.s_btn_wr{width:97px;height:34px;display:inline-block;background:url(http://www.baidu.com/img/i-1.0.0.png) no-repeat -202px 0;*position:relative;z-index:0;vertical-align:top}#lg img{vertical-align:top;margin-bottom:3px}#lk{margin:33px 0}#lk span{font:14px \"??\"}#lm{height:60px}#lh{margin:16px 0 5px;word-spacing:3px}.tools{position:absolute;top:-4px;*top:10px;right:-13px;}#mHolder{width:62px;position:relative;z-index:296;display:none}#mCon{height:18px;line-height:18px;position:absolute;cursor:pointer;padding:0 18px 0 0;background:url(http://www.baidu.com/img/bg-1.0.0.gif) no-repeat right -134px;background-position:right -136px\\\\9}#mCon span{color:#00c;cursor:default;display:block}#mCon .hw{text-decoration:underline;cursor:pointer}#mMenu a{width:100%;height:100%;display:block;line-height:22px;text-indent:6px;text-decoration:none;filter:none\\\\9}#mMenu,#user ul{box-shadow:1px 1px 2px #ccc;-moz-box-shadow:1px 1px 2px #ccc;-webkit-box-shadow:1px 1px 2px #ccc;filter: progid:DXImageTransform.Microsoft.Shadow(Strength=2, Direction=135, Color=\"#cccccc\")\\\\9;}#mMenu{width:56px;border:1px solid #9b9b9b;list-style:none;position:absolute;right:7px;top:28px;display:none;background:#fff}#mMenu a:hover{background:#ebebeb}#mMenu .ln{height:1px;background:#ebebeb;overflow:hidden;font-size:1px;line-height:1px;margin-top:-1px}#cp,#cp a{color:#77c}#seth{display:none;behavior:url(#default#homepage)}#setf{display:none}</style>\\n<script type=\"text/javascript\">function h(obj){obj.style.behavior=\\'url(#default#homepage)\\';var a = obj.setHomePage(\\'http://www.baidu.com/\\');}</script></head>\\n\\n<body><div id=\"u\"><a name=\"tj_setting\" href=\"http://www.baidu.com/gaoji/preferences.html\">????</a>|<a name=\"tj_login\" href=\"http://passport.baidu.com/?login&amp;tpl=mn\">??</a><a class=\"reg\" name=\"tj_reg\" href=\"https://passport.baidu.com/?reg&amp;tpl=mn\">??</a></div>\\n<div id=\"m\"><p id=\"lg\"><img height=\"129\" width=\"270\" usemap=\"#mp\" src=\"http://www.baidu.com/img/baidu_sylogo1.gif\" /><map name=\"mp\"><area title=\"???? ?????\" target=\"_blank\" href=\"http://hi.baidu.com/baidu/\" coords=\"40,25,230,95\" shape=\"rect\" /></map></p><p id=\"nv\"><a href=\"http://news.baidu.com\" name=\"tj_news\">?Â\\xa0?</a>?<b>?Â\\xa0?</b>?<a href=\"http://tieba.baidu.com\" name=\"tj_tieba\">?Â\\xa0?</a>?<a href=\"http://zhidao.baidu.com\" name=\"tj_zhidao\">?Â\\xa0?</a>?<a href=\"http://mp3.baidu.com\" name=\"tj_mp3\">MP3</a>?<a href=\"http://image.baidu.com\" name=\"tj_img\">?Â\\xa0?</a>?<a href=\"http://video.baidu.com\" name=\"tj_video\">?Â\\xa0?</a>?<a href=\"http://map.baidu.com\" name=\"tj_map\">?Â\\xa0?</a></p><div id=\"fm\"><form action=\"/s\" name=\"f\"><span class=\"s_ipt_wr\"><input type=\"text\" class=\"s_ipt\" maxlength=\"100\" id=\"kw\" name=\"wd\" autocomplete=\"off\" /></span><input type=\"hidden\" value=\"0\" name=\"rsv_bp\" /><input type=\"hidden\" value=\"3\" name=\"rsv_spt\" /><span class=\"s_btn_wr\"><input type=\"submit\" onmouseout=\"this.className=\\'s_btn\\'\" onmousedown=\"this.className=\\'s_btn s_btn_h\\'\" class=\"s_btn\" id=\"su\" value=\"????\" /></span><div id=\"sd_1330360745032\" style=\"display: none;\"></div></form><span class=\"tools\"><span id=\"mHolder\"><div id=\"mCon\"><span>???</span></div></span></span><ul id=\"mMenu\"><li><a name=\"ime_hw\" href=\"#\">??</a></li><li><a name=\"ime_py\" href=\"#\">??</a></li><li class=\"ln\"></li><li><a name=\"ime_cl\" href=\"#\">??</a></li></ul></div>\\n<p id=\"lk\"><a href=\"http://hi.baidu.com\" name=\"tj_hi\">??</a>?<a href=\"http://baike.baidu.com\" name=\"tj_baike\">??</a>?<a href=\"http://www.hao123.com\" name=\"tj_hao123\">hao123</a><span> | <a href=\"/more/\" name=\"tj_more\">??&gt;&gt;</a></span></p><p id=\"lm\"></p><p><a onmousedown=\"return ns_c({\\'fm\\':\\'behs\\',\\'tab\\':\\'homepage\\',\\'pos\\':0})\" href=\"http://utility.baidu.com/traf/click.php?id=215&amp;url=http://www.baidu.com\" onclick=\"h(this)\" id=\"seth\">???????</a><a onmousedown=\"return ns_c({\\'fm\\':\\'behs\\',\\'tab\\':\\'favorites\\',\\'pos\\':0})\" href=\"javascript:void(0)\" onclick=\"fa(this)\" id=\"setf\" style=\"display: inline;\">???????</a></p>\\n<p id=\"lh\"><a href=\"http://e.baidu.com/?refer=888\">??????</a> | <a href=\"http://top.baidu.com\">?????</a> | <a href=\"http://home.baidu.com\">????</a> | <a href=\"http://ir.baidu.com\">About Baidu</a></p><p id=\"cp\">Â©2012 Baidu <a href=\"/duty/\">???????</a> <a target=\"_blank\" href=\"http://www.miibeian.gov.cn\">?ICP?030173?</a> <img src=\"http://gimg.baidu.com/img/gs.gif\" /></p></div>\\n\\n<script>var bdUser = null;var w=window,d=document,n=navigator,k=d.f.wd,a=d.getElementById(\"nv\").getElementsByTagName(\"a\"),isIE=n.userAgent.indexOf(\"MSIE\")!=-1&amp;&amp;!window.opera;for(var i=0;i&lt;a.length;i++){a[i].onclick=function(){if(k.value.length&gt;0){var o=this,h=o.href,q=encodeURIComponent(k.value);if(h.indexOf(\"q=\")!=-1){o.href=h.replace(/q=[^&amp;\\\\x24]*/,\"q=\"+q)}else{this.href+=\"?q=\"+q}}}};(function(){if(/q=([^&amp;]+)/.test(location.search)){k.value=decodeURIComponent(RegExp[\"\\\\x241\"])}})();if(n.cookieEnabled&amp;&amp;!/sug?=0/.test(d.cookie)){d.write(\\'&lt;script src=http://www.baidu.com/cache/sug/js/bdsug-1.1.js&gt;&lt;\\\\/script&gt;\\')};function addEV(o, e, f){if(w.attachEvent){o.attachEvent(\"on\" + e, f);}else if(w.addEventListener){ o.addEventListener(e, f, false);}}function G(id){return d.getElementById(id);}function ns_c(q){var p = encodeURIComponent(window.document.location.href), sQ = \\'\\', sV = \\'\\', mu=\\'\\', img = window[\"BD_PS_C\" + (new Date()).getTime()] = new Image();for (v in q) {sV = q[v];sQ += v + \"=\" + sV + \"&amp;\";} mu= \"&amp;mu=\" + p ;img.src = \"http://nsclick.baidu.com/v.gif?pid=201&amp;pj=www&amp;\" + sQ + \"path=\"+p+\"&amp;t=\"+new Date().getTime();return true;}if(/\\\\bbdime=[12]/.test(d.cookie)){document.write(\\'&lt;script src=http://www.baidu.com/cache/ime/js/openime-1.0.0.js&gt;&lt;\\\\/script&gt;\\');}(function(){var user = G(\"user\"), userMenu = G(\"userMenu\");if(user &amp;&amp; userMenu){user.onmouseover = function(){userMenu.style.display = \"block\"};user.onmouseout = function(){userMenu.style.display = \"none\"};}})();(function(){var u = G(\"u\").getElementsByTagName(\"a\"), nv = G(\"nv\").getElementsByTagName(\"a\"), lk = G(\"lk\").getElementsByTagName(\"a\"), un = \"\";var tj_nv = [\"news\",\"tieba\",\"zhidao\",\"mp3\",\"img\",\"video\",\"map\"];var tj_lk = [\"hi\",\"baike\",\"hao123\",\"more\"];un = bdUser == null ? \"\" : bdUser;function _addTJ(obj){addEV(obj, \"mousedown\", function(e){var e = e || window.event;var target = e.target || e.srcElement;ns_c({\\'fm\\':\\'behs\\',\\'tab\\':target.name||\\'tj_user\\',\\'un\\':encodeURIComponent(un)});});}for(var i = 0; i &lt; u.length; i++){_addTJ(u[i]);}for(var i = 0; i &lt; nv.length; i++){nv[i].name = \\'tj_\\' + tj_nv[i];_addTJ(nv[i]);}for(var i = 0; i &lt; lk.length; i++){lk[i].name = \\'tj_\\' + tj_lk[i];_addTJ(lk[i]);}})();addEV(w,\"load\",function(){k.focus()});w.onunload=function(){};</script><script src=\"http://www.baidu.com/cache/sug/js/bdsug-1.1.js\"></script>\\n\\n\\n\\n\\n\\n<script src=\"http://www.baidu.com/cache/hps/js/hps-1.4.js\" type=\"text/javascript\"></script>\\n\\n<!--d01a5ab4c0f73034--></body></html>'"
   ]
  },
  {
   "cell_type": "code",
   "execution_count": 25,
   "metadata": {
    "scrolled": true
   },
   "outputs": [
    {
     "data": {
      "text/plain": [
       "'<!DOCTYPE html>\\r\\n<html xmlns=\"http://www.w3.org/1999/xhtml\"><head><meta content=\"text/html;charset=gb2312\" http-equiv=\"Content-Type\" /><title>?????????      </title><style>html{overflow-y:auto}body{font:12px arial;text-align:center;background:#fff}body,p,form,ul,li{margin:0;padding:0;list-style:none}body,form,#fm{position:relative}td{text-align:left}img{border:0}a{color:#00c}a:active{color:#f60}#u{color:#999;padding:4px 10px 5px 0;text-align:right}#u a{margin:0 5px}#u .reg{margin:0}#m{width:680px;margin:0 auto;}#nv a,#nv b,.btn,#lk{font-size:14px}#fm{padding-left:90px;text-align:left}input{border:0;padding:0}#nv{height:19px;font-size:16px;margin:0 0 4px;text-align:left;text-indent:117px}.s_ipt_wr{width:418px;height:30px;display:inline-block;margin-right:5px;background:url(http://www.baidu.com/img/i-1.0.0.png) no-repeat -304px 0;border:1px solid #b6b6b6;border-color:#9a9a9a #cdcdcd #cdcdcd #9a9a9a;vertical-align:top}.s_ipt{width:405px;height:22px;font:16px/22px arial;margin:5px 0 0 7px;background:#fff;outline:none;-webkit-appearance:none}.s_btn{width:95px;height:32px;padding-top:2px\\\\9;font-size:14px;background:#ddd url(http://www.baidu.com/img/i-1.0.0.png);cursor:pointer}.s_btn_h{background-position:-100px 0}.s_btn_wr{width:97px;height:34px;display:inline-block;background:url(http://www.baidu.com/img/i-1.0.0.png) no-repeat -202px 0;*position:relative;z-index:0;vertical-align:top}#lg img{vertical-align:top;margin-bottom:3px}#lk{margin:33px 0}#lk span{font:14px \"??\"}#lm{height:60px}#lh{margin:16px 0 5px;word-spacing:3px}.tools{position:absolute;top:-4px;*top:10px;right:-13px;}#mHolder{width:62px;position:relative;z-index:296;display:none}#mCon{height:18px;line-height:18px;position:absolute;cursor:pointer;padding:0 18px 0 0;background:url(http://www.baidu.com/img/bg-1.0.0.gif) no-repeat right -134px;background-position:right -136px\\\\9}#mCon span{color:#00c;cursor:default;display:block}#mCon .hw{text-decoration:underline;cursor:pointer}#mMenu a{width:100%;height:100%;display:block;line-height:22px;text-indent:6px;text-decoration:none;filter:none\\\\9}#mMenu,#user ul{box-shadow:1px 1px 2px #ccc;-moz-box-shadow:1px 1px 2px #ccc;-webkit-box-shadow:1px 1px 2px #ccc;filter: progid:DXImageTransform.Microsoft.Shadow(Strength=2, Direction=135, Color=\"#cccccc\")\\\\9;}#mMenu{width:56px;border:1px solid #9b9b9b;list-style:none;position:absolute;right:7px;top:28px;display:none;background:#fff}#mMenu a:hover{background:#ebebeb}#mMenu .ln{height:1px;background:#ebebeb;overflow:hidden;font-size:1px;line-height:1px;margin-top:-1px}#cp,#cp a{color:#77c}#seth{display:none;behavior:url(#default#homepage)}#setf{display:none}</style>\\n<script type=\"text/javascript\">function h(obj){obj.style.behavior=\\'url(#default#homepage)\\';var a = obj.setHomePage(\\'http://www.baidu.com/\\');}</script></head>\\n\\n<body><div id=\"u\"><a name=\"tj_setting\" href=\"http://www.baidu.com/gaoji/preferences.html\">????</a>|<a name=\"tj_login\" href=\"http://passport.baidu.com/?login&amp;tpl=mn\">??</a><a class=\"reg\" name=\"tj_reg\" href=\"https://passport.baidu.com/?reg&amp;tpl=mn\">??</a></div>\\n<div id=\"m\"><p id=\"lg\"><img height=\"129\" width=\"270\" usemap=\"#mp\" src=\"http://www.baidu.com/img/baidu_sylogo1.gif\" /><map name=\"mp\"><area title=\"???? ?????\" target=\"_blank\" href=\"http://hi.baidu.com/baidu/\" coords=\"40,25,230,95\" shape=\"rect\" /></map></p><p id=\"nv\"><a href=\"http://news.baidu.com\" name=\"tj_news\">?Â\\xa0?</a>?<b>?Â\\xa0?</b>?<a href=\"http://tieba.baidu.com\" name=\"tj_tieba\">?Â\\xa0?</a>?<a href=\"http://zhidao.baidu.com\" name=\"tj_zhidao\">?Â\\xa0?</a>?<a href=\"http://mp3.baidu.com\" name=\"tj_mp3\">MP3</a>?<a href=\"http://image.baidu.com\" name=\"tj_img\">?Â\\xa0?</a>?<a href=\"http://video.baidu.com\" name=\"tj_video\">?Â\\xa0?</a>?<a href=\"http://map.baidu.com\" name=\"tj_map\">?Â\\xa0?</a></p><div id=\"fm\"><form action=\"/s\" name=\"f\"><span class=\"s_ipt_wr\"><input type=\"text\" class=\"s_ipt\" maxlength=\"100\" id=\"kw\" name=\"wd\" autocomplete=\"off\" /></span><input type=\"hidden\" value=\"0\" name=\"rsv_bp\" /><input type=\"hidden\" value=\"3\" name=\"rsv_spt\" /><span class=\"s_btn_wr\"><input type=\"submit\" onmouseout=\"this.className=\\'s_btn\\'\" onmousedown=\"this.className=\\'s_btn s_btn_h\\'\" class=\"s_btn\" id=\"su\" value=\"????\" /></span><div id=\"sd_1330360745032\" style=\"display: none;\"></div></form><span class=\"tools\"><span id=\"mHolder\"><div id=\"mCon\"><span>???</span></div></span></span><ul id=\"mMenu\"><li><a name=\"ime_hw\" href=\"#\">??</a></li><li><a name=\"ime_py\" href=\"#\">??</a></li><li class=\"ln\"></li><li><a name=\"ime_cl\" href=\"#\">??</a></li></ul></div>\\n<p id=\"lk\"><a href=\"http://hi.baidu.com\" name=\"tj_hi\">??</a>?<a href=\"http://baike.baidu.com\" name=\"tj_baike\">??</a>?<a href=\"http://www.hao123.com\" name=\"tj_hao123\">hao123</a><span> | <a href=\"/more/\" name=\"tj_more\">??&gt;&gt;</a></span></p><p id=\"lm\"></p><p><a onmousedown=\"return ns_c({\\'fm\\':\\'behs\\',\\'tab\\':\\'homepage\\',\\'pos\\':0})\" href=\"http://utility.baidu.com/traf/click.php?id=215&amp;url=http://www.baidu.com\" onclick=\"h(this)\" id=\"seth\">???????</a><a onmousedown=\"return ns_c({\\'fm\\':\\'behs\\',\\'tab\\':\\'favorites\\',\\'pos\\':0})\" href=\"javascript:void(0)\" onclick=\"fa(this)\" id=\"setf\" style=\"display: inline;\">???????</a></p>\\n<p id=\"lh\"><a href=\"http://e.baidu.com/?refer=888\">??????</a> | <a href=\"http://top.baidu.com\">?????</a> | <a href=\"http://home.baidu.com\">????</a> | <a href=\"http://ir.baidu.com\">About Baidu</a></p><p id=\"cp\">Â©2012 Baidu <a href=\"/duty/\">???????</a> <a target=\"_blank\" href=\"http://www.miibeian.gov.cn\">?ICP?030173?</a> <img src=\"http://gimg.baidu.com/img/gs.gif\" /></p></div>\\n\\n<script>var bdUser = null;var w=window,d=document,n=navigator,k=d.f.wd,a=d.getElementById(\"nv\").getElementsByTagName(\"a\"),isIE=n.userAgent.indexOf(\"MSIE\")!=-1&amp;&amp;!window.opera;for(var i=0;i&lt;a.length;i++){a[i].onclick=function(){if(k.value.length&gt;0){var o=this,h=o.href,q=encodeURIComponent(k.value);if(h.indexOf(\"q=\")!=-1){o.href=h.replace(/q=[^&amp;\\\\x24]*/,\"q=\"+q)}else{this.href+=\"?q=\"+q}}}};(function(){if(/q=([^&amp;]+)/.test(location.search)){k.value=decodeURIComponent(RegExp[\"\\\\x241\"])}})();if(n.cookieEnabled&amp;&amp;!/sug?=0/.test(d.cookie)){d.write(\\'&lt;script src=http://www.baidu.com/cache/sug/js/bdsug-1.1.js&gt;&lt;\\\\/script&gt;\\')};function addEV(o, e, f){if(w.attachEvent){o.attachEvent(\"on\" + e, f);}else if(w.addEventListener){ o.addEventListener(e, f, false);}}function G(id){return d.getElementById(id);}function ns_c(q){var p = encodeURIComponent(window.document.location.href), sQ = \\'\\', sV = \\'\\', mu=\\'\\', img = window[\"BD_PS_C\" + (new Date()).getTime()] = new Image();for (v in q) {sV = q[v];sQ += v + \"=\" + sV + \"&amp;\";} mu= \"&amp;mu=\" + p ;img.src = \"http://nsclick.baidu.com/v.gif?pid=201&amp;pj=www&amp;\" + sQ + \"path=\"+p+\"&amp;t=\"+new Date().getTime();return true;}if(/\\\\bbdime=[12]/.test(d.cookie)){document.write(\\'&lt;script src=http://www.baidu.com/cache/ime/js/openime-1.0.0.js&gt;&lt;\\\\/script&gt;\\');}(function(){var user = G(\"user\"), userMenu = G(\"userMenu\");if(user &amp;&amp; userMenu){user.onmouseover = function(){userMenu.style.display = \"block\"};user.onmouseout = function(){userMenu.style.display = \"none\"};}})();(function(){var u = G(\"u\").getElementsByTagName(\"a\"), nv = G(\"nv\").getElementsByTagName(\"a\"), lk = G(\"lk\").getElementsByTagName(\"a\"), un = \"\";var tj_nv = [\"news\",\"tieba\",\"zhidao\",\"mp3\",\"img\",\"video\",\"map\"];var tj_lk = [\"hi\",\"baike\",\"hao123\",\"more\"];un = bdUser == null ? \"\" : bdUser;function _addTJ(obj){addEV(obj, \"mousedown\", function(e){var e = e || window.event;var target = e.target || e.srcElement;ns_c({\\'fm\\':\\'behs\\',\\'tab\\':target.name||\\'tj_user\\',\\'un\\':encodeURIComponent(un)});});}for(var i = 0; i &lt; u.length; i++){_addTJ(u[i]);}for(var i = 0; i &lt; nv.length; i++){nv[i].name = \\'tj_\\' + tj_nv[i];_addTJ(nv[i]);}for(var i = 0; i &lt; lk.length; i++){lk[i].name = \\'tj_\\' + tj_lk[i];_addTJ(lk[i]);}})();addEV(w,\"load\",function(){k.focus()});w.onunload=function(){};</script><script src=\"http://www.baidu.com/cache/sug/js/bdsug-1.1.js\"></script>\\n\\n\\n\\n\\n\\n<script src=\"http://www.baidu.com/cache/hps/js/hps-1.4.js\" type=\"text/javascript\"></script>\\n\\n<!--d01a5ab4c0f73034--></body></html>'"
      ]
     },
     "execution_count": 25,
     "metadata": {},
     "output_type": "execute_result"
    }
   ],
   "source": [
    "webpage_html"
   ]
  },
  {
   "cell_type": "code",
   "execution_count": 4,
   "metadata": {},
   "outputs": [
    {
     "data": {
      "text/plain": [
       "8036"
      ]
     },
     "execution_count": 4,
     "metadata": {},
     "output_type": "execute_result"
    }
   ],
   "source": [
    "len(webpage_html)"
   ]
  },
  {
   "cell_type": "code",
   "execution_count": 5,
   "metadata": {
    "colab": {
     "base_uri": "https://localhost:8080/"
    },
    "id": "GhZvp8XY9aaB",
    "outputId": "a1f5b3f0-bd92-4c96-83a6-741594557c0f"
   },
   "outputs": [],
   "source": [
    "from nltk.stem.wordnet import WordNetLemmatizer\n",
    "from nltk import pos_tag\n",
    "from nltk.corpus import wordnet\n",
    "from nltk.corpus import stopwords\n",
    "from nltk.stem.wordnet import WordNetLemmatizer\n",
    "from tensorflow.keras.preprocessing.text import Tokenizer\n",
    "from tensorflow.keras.preprocessing.sequence import pad_sequences\n",
    "import nltk\n",
    "# nltk.download('stopwords')\n",
    "# nltk.download('wordnet')\n",
    "# nltk.download('punkt')\n",
    "# nltk.download('averaged_perceptron_tagger')\n",
    "\n",
    "#Lemmatize Words\n",
    "\n",
    "def fetch_pos_tag(tag):\n",
    "    if tag.startswith('J'):\n",
    "        return wordnet.ADJ\n",
    "    elif tag.startswith('V'):\n",
    "        return wordnet.VERB\n",
    "    elif tag.startswith('N'):\n",
    "        return wordnet.NOUN\n",
    "    elif tag.startswith('R'):\n",
    "        return wordnet.ADV\n",
    "    else:\n",
    "        # As default pos in lemmatization is Noun\n",
    "        return wordnet.NOUN\n",
    "\n",
    "lemmatizer = WordNetLemmatizer()\n",
    "\n",
    "#cleaning the data now \n",
    "\n",
    "regex = [\n",
    "    r'<[^>]+>', #HTML tags\n",
    "    r'@(\\w+)', # @-mentions\n",
    "    r\"#(\\w+)\", # hashtags\n",
    "    r'http[s]?://(?:[a-z]|[0-9]|[$-_@.&+]|[!*\\(\\),]|(?:%[0-9a-f][0-9a-f]))+', # URLs\n",
    "    r'[^0-9a-z #+_\\\\r\\\\n\\\\t]', #BAD SYMBOLS\n",
    "]\n",
    "\n",
    "REPLACE_URLS = re.compile(r'http[s]?://(?:[a-z]|[0-9]|[$-_@.&+]|[!*\\(\\),]|(?:%[0-9a-f][0-9a-f]))+')\n",
    "REPLACE_HASH = re.compile(r'#(\\w+)')\n",
    "REPLACE_AT = re.compile(r'@(\\w+)')\n",
    "REPLACE_HTML_TAGS = re.compile(r'<[^>]+>')\n",
    "REPLACE_DIGITS = re.compile(r'\\d+')\n",
    "#REPLACE_BY = re.compile(r\"[/(){}\\[\\]\\|,;.:?\\-\\'\\\"$]\")\n",
    "REPLACE_BY = re.compile(r\"[^a-z0-9\\-]\")\n",
    "\n",
    "STOPWORDS = set(stopwords.words('english'))\n",
    "\n",
    "#tokens_re = re.compile(r'('+'|'.join(regex)+')', re.VERBOSE | re.IGNORECASE)\n",
    "\n",
    "# sentences = [] #for Word2Vec model\n",
    "\n",
    "def clean_text(text):\n",
    "    text = text.lower()\n",
    "    text = REPLACE_HTML_TAGS.sub(' ', text)\n",
    "    text = REPLACE_URLS.sub('', text)\n",
    "    text = REPLACE_HASH.sub('', text)\n",
    "    text = REPLACE_AT.sub('', text)\n",
    "    text = REPLACE_DIGITS.sub(' ', text)\n",
    "    text = REPLACE_BY.sub(' ', text)\n",
    "    \n",
    "    \n",
    "    text = \" \".join(lemmatizer.lemmatize(word.strip(), fetch_pos_tag(pos_tag([word.strip()])[0][1])) for word in text.split() if word not in STOPWORDS and len(word)>3)\n",
    "    \n",
    "    #sentences.append(text.split())\n",
    "    return text\n",
    "\n"
   ]
  },
  {
   "cell_type": "code",
   "execution_count": 110,
   "metadata": {},
   "outputs": [],
   "source": [
    "webpage_text = clean_text(webpage_html)"
   ]
  },
  {
   "cell_type": "code",
   "execution_count": 177,
   "metadata": {},
   "outputs": [],
   "source": [
    "webpage_text1 = webpage_text"
   ]
  },
  {
   "cell_type": "code",
   "execution_count": 178,
   "metadata": {},
   "outputs": [
    {
     "data": {
      "text/plain": [
       "'html overflow-y auto body font arial text-align center background body form margin pad list-style none body form position relative text-align left border color active color color pad text-align right margin margin width margin auto font-size padding-left text-align left input border pad height font-size margin text-align left text-indent width height display inline-block margin-right background no-repeat border solid border-color vertical-align width height font arial margin background outline none -webkit-appearance none width height padding-top font-size background background-position width height display inline-block background no-repeat position relative z-index vertical-align vertical-align margin-bottom margin span font height margin word-spacing tool position absolute right width position relative z-index display none height line-height position absolute cursor pointer pad background no-repeat right background-position right span color cursor default display block text-decoration underline cursor pointer width height display block line-height text-indent text-decoration none filter none box-shadow -moz-box-shadow -webkit-box-shadow filter progid dximagetransform microsoft shadow strength direction color width border solid list-style none position absolute right display none background hover background height background overflow hidden font-size line-height margin-top color display none behavior display none function style behavior sethomepage baidu baidu bduser null window document navigator getelementbyid getelementsbytagname isie useragent indexof msie window opera length onclick function value length href encodeuricomponent value indexof href replace else href function test location search value decodeuricomponent regexp cookieenabled test cookie write script function addev attachevent attachevent else addeventlistener addeventlistener false function return getelementbyid function encodeuricomponent window document location href window date gettime image path date gettime return true bbdime test cookie document write script function user user usermenu usermenu user usermenu user onmouseover function usermenu style display block user onmouseout function usermenu style display none function getelementsbytagname getelementsbytagname getelementsbytagname news tieba zhidao video baike bduser null bduser function addtj addev mousedown function window event target target srcelement behs target name user encodeuricomponent length addtj length name addtj length name addtj addev load function focus onunload function'"
      ]
     },
     "execution_count": 178,
     "metadata": {},
     "output_type": "execute_result"
    }
   ],
   "source": [
    "webpage_text"
   ]
  },
  {
   "cell_type": "code",
   "execution_count": 180,
   "metadata": {},
   "outputs": [
    {
     "name": "stdout",
     "output_type": "stream",
     "text": [
      "['html overflow-y auto body font arial text-align center background body form margin pad list-style none body form position relative text-align left border color active color color pad text-align right margin margin width margin auto font-size padding-left text-align left input border pad height font-size margin text-align left text-indent width height display inline-block margin-right background no-repeat border solid border-color vertical-align width height font arial margin background outline none -webkit-appearance none width height padding-top font-size background background-position width height display inline-block background no-repeat position relative z-index vertical-align vertical-align margin-bottom margin span font height margin word-spacing tool position absolute right width position relative z-index display none height line-height position absolute cursor pointer pad background no-repeat right background-position right span color cursor default display block text-decoration underline cursor pointer width height display block line-height text-indent text-decoration none filter none box-shadow -moz-box-shadow -webkit-box-shadow filter progid dximagetransform microsoft shadow strength direction color width border solid list-style none position absolute right display none background hover background height background overflow hidden font-size line-height margin-top color display none behavior display none function style behavior sethomepage baidu baidu bduser null window document navigator getelementbyid getelementsbytagname isie useragent indexof msie window opera length onclick function value length href encodeuricomponent value indexof href replace else href function test location search value decodeuricomponent regexp cookieenabled test cookie write script function addev attachevent attachevent else addeventlistener addeventlistener false function return getelementbyid function encodeuricomponent window document location href window date gettime image path date gettime return true bbdime test cookie document write script function user user usermenu usermenu user usermenu user onmouseover function usermenu style display block user onmouseout function usermenu style display none function getelementsbytagname getelementsbytagname getelementsbytagname news tieba zhidao video baike bduser null bduser function addtj addev mousedown function window event target target srcelement behs target name user encodeuricomponent length addtj length name addtj length name addtj addev load function focus onunload function']\n"
     ]
    }
   ],
   "source": [
    "nueva_cadena = [webpage_text]\n",
    "print(nueva_cadena)\n",
    "webpage_text_v = nueva_cadena"
   ]
  },
  {
   "cell_type": "code",
   "execution_count": 181,
   "metadata": {},
   "outputs": [
    {
     "data": {
      "text/plain": [
       "array([[ 89,  35,  59,  10,   2,   6,  17,  34,   2,   7,  51,   7,  60,\n",
       "          5,  61,   5,  36,  24,  90,  36,  24,  54,  36,  24,  61,  91,\n",
       "         92,  93,  24,  94,  95,  12,  10,  16,  53,  49,  15,   5,   9,\n",
       "         33,  13,   6,   5,   3,  96,   3,   2,   3,  45,  97,  11,  23,\n",
       "         34,   2,   4,  55,  12,   6,   5,  62,   6,   5,   1,  15,  62,\n",
       "         98,  63,  63,  37,  64,  18,  38,  99,  65,  25, 100, 101,  66,\n",
       "        102,  18, 103,  19, 104,   1,  39,  19,  26,  40,  39,  66,  26,\n",
       "        105,  67,  26,   1,  41,  68, 106,  39, 107, 108, 109,  41,  69,\n",
       "         70,  71,   1,  42,  72,  72,  67,  73,  73, 110,   1,  74,  65,\n",
       "          1,  40,  18,  38,  68,  26,  18,  75,  76, 111, 112,  75,  76,\n",
       "         74, 113, 114,  41,  69,  38,  70,  71,   1,  14,  14,  20,  20,\n",
       "         14,  20,  14, 115,   1,  20,  15,   6,  17,  14, 116,   1,  20,\n",
       "         15,   6,   5,   1,  25,  25,  25, 117, 118, 119, 120, 121,  37,\n",
       "         64,  37,   1,  27,  42, 122,   1,  18, 123,  43,  43, 124, 125,\n",
       "         43,  44,  14,  40,  19,  27,  19,  44,  27,  19,  44,  27,  42,\n",
       "        126,   1, 127, 128,   1]], dtype=int32)"
      ]
     },
     "execution_count": 181,
     "metadata": {},
     "output_type": "execute_result"
    }
   ],
   "source": [
    "tokenizer = Tokenizer(num_words=3000)\n",
    "tokenizer.fit_on_texts(webpage_text_v)\n",
    "webpage_text_v = tokenizer.texts_to_sequences(webpage_text_v)\n",
    "vocab_size = len(tokenizer.word_index) + 1\n",
    "maxlen = 200\n",
    "webpage_text_v = pad_sequences(webpage_text_v, padding='post', maxlen=maxlen)\n",
    "webpage_text_v"
   ]
  },
  {
   "cell_type": "code",
   "execution_count": 182,
   "metadata": {},
   "outputs": [
    {
     "data": {
      "text/plain": [
       "(1, 200)"
      ]
     },
     "execution_count": 182,
     "metadata": {},
     "output_type": "execute_result"
    }
   ],
   "source": [
    "webpage_text_v.shape"
   ]
  },
  {
   "cell_type": "code",
   "execution_count": 183,
   "metadata": {},
   "outputs": [
    {
     "data": {
      "text/plain": [
       "129"
      ]
     },
     "execution_count": 183,
     "metadata": {},
     "output_type": "execute_result"
    }
   ],
   "source": [
    "vocab_size"
   ]
  },
  {
   "cell_type": "markdown",
   "metadata": {},
   "source": [
    "# **Prediction**"
   ]
  },
  {
   "cell_type": "code",
   "execution_count": 184,
   "metadata": {},
   "outputs": [
    {
     "name": "stdout",
     "output_type": "stream",
     "text": [
      "Model: \"functional_1\"\n",
      "__________________________________________________________________________________________________\n",
      "Layer (type)                    Output Shape         Param #     Connected to                     \n",
      "==================================================================================================\n",
      "input_3 (InputLayer)            [(None, 200)]        0                                            \n",
      "__________________________________________________________________________________________________\n",
      "embedding_2 (Embedding)         (None, 200, 100)     14423600    input_3[0][0]                    \n",
      "__________________________________________________________________________________________________\n",
      "spatial_dropout1d_2 (SpatialDro (None, 200, 100)     0           embedding_2[0][0]                \n",
      "__________________________________________________________________________________________________\n",
      "bidirectional_2 (Bidirectional) (None, 200, 256)     176640      spatial_dropout1d_2[0][0]        \n",
      "__________________________________________________________________________________________________\n",
      "conv1d_1 (Conv1D)               (None, 198, 64)      49216       bidirectional_2[0][0]            \n",
      "__________________________________________________________________________________________________\n",
      "global_average_pooling1d_1 (Glo (None, 64)           0           conv1d_1[0][0]                   \n",
      "__________________________________________________________________________________________________\n",
      "global_max_pooling1d_1 (GlobalM (None, 64)           0           conv1d_1[0][0]                   \n",
      "__________________________________________________________________________________________________\n",
      "concatenate (Concatenate)       (None, 128)          0           global_average_pooling1d_1[0][0] \n",
      "                                                                 global_max_pooling1d_1[0][0]     \n",
      "__________________________________________________________________________________________________\n",
      "dense (Dense)                   (None, 2)            258         concatenate[0][0]                \n",
      "==================================================================================================\n",
      "Total params: 14,649,714\n",
      "Trainable params: 226,114\n",
      "Non-trainable params: 14,423,600\n",
      "__________________________________________________________________________________________________\n"
     ]
    }
   ],
   "source": [
    "# Load model\n",
    "from tensorflow.keras.models import load_model\n",
    "model1 = load_model('Bi_GRU_model.h5')\n",
    "model1.summary()"
   ]
  },
  {
   "cell_type": "code",
   "execution_count": 185,
   "metadata": {},
   "outputs": [],
   "source": [
    "results = model1.predict(webpage_text_v)"
   ]
  },
  {
   "cell_type": "code",
   "execution_count": 187,
   "metadata": {},
   "outputs": [
    {
     "data": {
      "text/plain": [
       "(1, 2)"
      ]
     },
     "execution_count": 187,
     "metadata": {},
     "output_type": "execute_result"
    }
   ],
   "source": [
    "results.shape"
   ]
  },
  {
   "cell_type": "code",
   "execution_count": 186,
   "metadata": {},
   "outputs": [
    {
     "data": {
      "text/plain": [
       "array([[0.62020504, 0.512704  ]], dtype=float32)"
      ]
     },
     "execution_count": 186,
     "metadata": {},
     "output_type": "execute_result"
    }
   ],
   "source": [
    "results"
   ]
  }
 ],
 "metadata": {
  "accelerator": "GPU",
  "colab": {
   "collapsed_sections": [],
   "include_colab_link": true,
   "name": "LSTM_Bi-LSTM_GRU_Bi-GRU.ipynb",
   "provenance": []
  },
  "kernelspec": {
   "display_name": "Python 3",
   "language": "python",
   "name": "python3"
  },
  "language_info": {
   "codemirror_mode": {
    "name": "ipython",
    "version": 3
   },
   "file_extension": ".py",
   "mimetype": "text/x-python",
   "name": "python",
   "nbconvert_exporter": "python",
   "pygments_lexer": "ipython3",
   "version": "3.5.2"
  }
 },
 "nbformat": 4,
 "nbformat_minor": 1
}
